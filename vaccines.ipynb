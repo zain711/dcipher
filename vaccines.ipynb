{
  "nbformat": 4,
  "nbformat_minor": 0,
  "metadata": {
    "accelerator": "GPU",
    "colab": {
      "name": "vaccines.ipynb",
      "provenance": [],
      "collapsed_sections": [
        "_6HaRJ9xghaI",
        "lu57ziEmdCyw",
        "20wmDm3oqbgv",
        "CO4Wn0gicm3y",
        "7Abng4ZoqoGi",
        "l96LoczPpXJa"
      ],
      "mount_file_id": "1GPIbPwxPpxNGOUjko1LIK9kKwWbDH8j1",
      "authorship_tag": "ABX9TyMix/54aFZmUUwRwmXM9i+Q",
      "include_colab_link": true
    },
    "kernelspec": {
      "display_name": "Python 3",
      "name": "python3"
    },
    "widgets": {
      "application/vnd.jupyter.widget-state+json": {
        "02c6b833880e493d86fbbd2e552b2f36": {
          "model_module": "@jupyter-widgets/controls",
          "model_name": "HBoxModel",
          "state": {
            "_view_name": "HBoxView",
            "_dom_classes": [],
            "_model_name": "HBoxModel",
            "_view_module": "@jupyter-widgets/controls",
            "_model_module_version": "1.5.0",
            "_view_count": null,
            "_view_module_version": "1.5.0",
            "box_style": "",
            "layout": "IPY_MODEL_8c5d1ab9f4ba4d2786e38521af33523b",
            "_model_module": "@jupyter-widgets/controls",
            "children": [
              "IPY_MODEL_59529f396a3242e38abf506c9c2d1906",
              "IPY_MODEL_e36c19b65e574c9a98997e259a351300"
            ]
          }
        },
        "8c5d1ab9f4ba4d2786e38521af33523b": {
          "model_module": "@jupyter-widgets/base",
          "model_name": "LayoutModel",
          "state": {
            "_view_name": "LayoutView",
            "grid_template_rows": null,
            "right": null,
            "justify_content": null,
            "_view_module": "@jupyter-widgets/base",
            "overflow": null,
            "_model_module_version": "1.2.0",
            "_view_count": null,
            "flex_flow": null,
            "width": null,
            "min_width": null,
            "border": null,
            "align_items": null,
            "bottom": null,
            "_model_module": "@jupyter-widgets/base",
            "top": null,
            "grid_column": null,
            "overflow_y": null,
            "overflow_x": null,
            "grid_auto_flow": null,
            "grid_area": null,
            "grid_template_columns": null,
            "flex": null,
            "_model_name": "LayoutModel",
            "justify_items": null,
            "grid_row": null,
            "max_height": null,
            "align_content": null,
            "visibility": null,
            "align_self": null,
            "height": null,
            "min_height": null,
            "padding": null,
            "grid_auto_rows": null,
            "grid_gap": null,
            "max_width": null,
            "order": null,
            "_view_module_version": "1.2.0",
            "grid_template_areas": null,
            "object_position": null,
            "object_fit": null,
            "grid_auto_columns": null,
            "margin": null,
            "display": null,
            "left": null
          }
        },
        "59529f396a3242e38abf506c9c2d1906": {
          "model_module": "@jupyter-widgets/controls",
          "model_name": "FloatProgressModel",
          "state": {
            "_view_name": "ProgressView",
            "style": "IPY_MODEL_fa09efb4ecf14b09bc26890726ba902a",
            "_dom_classes": [],
            "description": "Batches: 100%",
            "_model_name": "FloatProgressModel",
            "bar_style": "success",
            "max": 374,
            "_view_module": "@jupyter-widgets/controls",
            "_model_module_version": "1.5.0",
            "value": 374,
            "_view_count": null,
            "_view_module_version": "1.5.0",
            "orientation": "horizontal",
            "min": 0,
            "description_tooltip": null,
            "_model_module": "@jupyter-widgets/controls",
            "layout": "IPY_MODEL_4f40e4e5a9d64a93a3799d3f837d08bd"
          }
        },
        "e36c19b65e574c9a98997e259a351300": {
          "model_module": "@jupyter-widgets/controls",
          "model_name": "HTMLModel",
          "state": {
            "_view_name": "HTMLView",
            "style": "IPY_MODEL_3c2ee95eca3441638a530bcb2db7ee37",
            "_dom_classes": [],
            "description": "",
            "_model_name": "HTMLModel",
            "placeholder": "​",
            "_view_module": "@jupyter-widgets/controls",
            "_model_module_version": "1.5.0",
            "value": " 374/374 [01:56&lt;00:00,  3.20it/s]",
            "_view_count": null,
            "_view_module_version": "1.5.0",
            "description_tooltip": null,
            "_model_module": "@jupyter-widgets/controls",
            "layout": "IPY_MODEL_5c710320328249a7a264d8bd1434dde4"
          }
        },
        "fa09efb4ecf14b09bc26890726ba902a": {
          "model_module": "@jupyter-widgets/controls",
          "model_name": "ProgressStyleModel",
          "state": {
            "_view_name": "StyleView",
            "_model_name": "ProgressStyleModel",
            "description_width": "initial",
            "_view_module": "@jupyter-widgets/base",
            "_model_module_version": "1.5.0",
            "_view_count": null,
            "_view_module_version": "1.2.0",
            "bar_color": null,
            "_model_module": "@jupyter-widgets/controls"
          }
        },
        "4f40e4e5a9d64a93a3799d3f837d08bd": {
          "model_module": "@jupyter-widgets/base",
          "model_name": "LayoutModel",
          "state": {
            "_view_name": "LayoutView",
            "grid_template_rows": null,
            "right": null,
            "justify_content": null,
            "_view_module": "@jupyter-widgets/base",
            "overflow": null,
            "_model_module_version": "1.2.0",
            "_view_count": null,
            "flex_flow": null,
            "width": null,
            "min_width": null,
            "border": null,
            "align_items": null,
            "bottom": null,
            "_model_module": "@jupyter-widgets/base",
            "top": null,
            "grid_column": null,
            "overflow_y": null,
            "overflow_x": null,
            "grid_auto_flow": null,
            "grid_area": null,
            "grid_template_columns": null,
            "flex": null,
            "_model_name": "LayoutModel",
            "justify_items": null,
            "grid_row": null,
            "max_height": null,
            "align_content": null,
            "visibility": null,
            "align_self": null,
            "height": null,
            "min_height": null,
            "padding": null,
            "grid_auto_rows": null,
            "grid_gap": null,
            "max_width": null,
            "order": null,
            "_view_module_version": "1.2.0",
            "grid_template_areas": null,
            "object_position": null,
            "object_fit": null,
            "grid_auto_columns": null,
            "margin": null,
            "display": null,
            "left": null
          }
        },
        "3c2ee95eca3441638a530bcb2db7ee37": {
          "model_module": "@jupyter-widgets/controls",
          "model_name": "DescriptionStyleModel",
          "state": {
            "_view_name": "StyleView",
            "_model_name": "DescriptionStyleModel",
            "description_width": "",
            "_view_module": "@jupyter-widgets/base",
            "_model_module_version": "1.5.0",
            "_view_count": null,
            "_view_module_version": "1.2.0",
            "_model_module": "@jupyter-widgets/controls"
          }
        },
        "5c710320328249a7a264d8bd1434dde4": {
          "model_module": "@jupyter-widgets/base",
          "model_name": "LayoutModel",
          "state": {
            "_view_name": "LayoutView",
            "grid_template_rows": null,
            "right": null,
            "justify_content": null,
            "_view_module": "@jupyter-widgets/base",
            "overflow": null,
            "_model_module_version": "1.2.0",
            "_view_count": null,
            "flex_flow": null,
            "width": null,
            "min_width": null,
            "border": null,
            "align_items": null,
            "bottom": null,
            "_model_module": "@jupyter-widgets/base",
            "top": null,
            "grid_column": null,
            "overflow_y": null,
            "overflow_x": null,
            "grid_auto_flow": null,
            "grid_area": null,
            "grid_template_columns": null,
            "flex": null,
            "_model_name": "LayoutModel",
            "justify_items": null,
            "grid_row": null,
            "max_height": null,
            "align_content": null,
            "visibility": null,
            "align_self": null,
            "height": null,
            "min_height": null,
            "padding": null,
            "grid_auto_rows": null,
            "grid_gap": null,
            "max_width": null,
            "order": null,
            "_view_module_version": "1.2.0",
            "grid_template_areas": null,
            "object_position": null,
            "object_fit": null,
            "grid_auto_columns": null,
            "margin": null,
            "display": null,
            "left": null
          }
        }
      }
    }
  },
  "cells": [
    {
      "cell_type": "markdown",
      "metadata": {
        "id": "view-in-github",
        "colab_type": "text"
      },
      "source": [
        "<a href=\"https://colab.research.google.com/github/zain711/dcipher/blob/main/vaccines.ipynb\" target=\"_parent\"><img src=\"https://colab.research.google.com/assets/colab-badge.svg\" alt=\"Open In Colab\"/></a>"
      ]
    },
    {
      "cell_type": "code",
      "metadata": {
        "id": "YlgziJOrUNF3"
      },
      "source": [
        "!pip install bertopic\n",
        "!pip install bertopic[visualization]\n",
        "!pip install bert-extractive-summarizer\n",
        "!pip install plotly\n",
        "!pip install torch\n",
        "!pip install tensorflow\n",
        "!pip install flair"
      ],
      "execution_count": null,
      "outputs": []
    },
    {
      "cell_type": "code",
      "metadata": {
        "colab": {
          "base_uri": "https://localhost:8080/"
        },
        "id": "UFjXvWeXuPtk",
        "outputId": "42e454ad-a57e-4c2a-a3fd-f64ace9038e3"
      },
      "source": [
        "import json\n",
        "import pandas as pd\n",
        "import torch\n",
        "from bertopic import BERTopic\n",
        "import os\n",
        "import nltk \n",
        "import numpy as np\n",
        "nltk.download('punkt')\n",
        "nltk.download('wordnet')\n",
        "from nltk.stem import PorterStemmer , WordNetLemmatizer\n",
        "from gensim.models import Word2Vec\n",
        "from gensim.models import KeyedVectors\n",
        "from nltk.tokenize import word_tokenize "
      ],
      "execution_count": 1,
      "outputs": [
        {
          "output_type": "stream",
          "text": [
            "[nltk_data] Downloading package punkt to /root/nltk_data...\n",
            "[nltk_data]   Package punkt is already up-to-date!\n",
            "[nltk_data] Downloading package wordnet to /root/nltk_data...\n",
            "[nltk_data]   Package wordnet is already up-to-date!\n"
          ],
          "name": "stdout"
        }
      ]
    },
    {
      "cell_type": "code",
      "metadata": {
        "colab": {
          "base_uri": "https://localhost:8080/"
        },
        "id": "_WNVrF84cK6Q",
        "outputId": "0a6ad5b8-6285-4eb7-b44d-31f8770bd41e"
      },
      "source": [
        "from google.colab import drive\n",
        "drive.mount('/content/drive')"
      ],
      "execution_count": 2,
      "outputs": [
        {
          "output_type": "stream",
          "text": [
            "Drive already mounted at /content/drive; to attempt to forcibly remount, call drive.mount(\"/content/drive\", force_remount=True).\n"
          ],
          "name": "stdout"
        }
      ]
    },
    {
      "cell_type": "markdown",
      "metadata": {
        "id": "_6HaRJ9xghaI"
      },
      "source": [
        "## **Preprocessing Text**"
      ]
    },
    {
      "cell_type": "code",
      "metadata": {
        "id": "CiP18aK0vJNN"
      },
      "source": [
        "#previous vaccine forums\n",
        "datas = pd.read_json('/content/drive/MyDrive/vaccine-forums-tokenized.json')\n",
        "docss = list(datas.loc[:, \"cleaned_post_text\"].values)\n",
        "timess = list(datas.loc[:, \"post_published_at\"].values)"
      ],
      "execution_count": 3,
      "outputs": []
    },
    {
      "cell_type": "code",
      "metadata": {
        "id": "BrgQM74lVkO9"
      },
      "source": [
        "data = pd.read_json('/content/drive/MyDrive/vaccine-merged-segmented.json')\n",
        "docs = list(data.loc[:, \"text\"].values)\n",
        "times = list(data.loc[:, \"date\"].values)"
      ],
      "execution_count": 4,
      "outputs": []
    },
    {
      "cell_type": "code",
      "metadata": {
        "id": "BYpVgnR7AwPm"
      },
      "source": [
        "new_data = data.groupby(['date']).sum()\n",
        "#new_data.head(3)"
      ],
      "execution_count": 5,
      "outputs": []
    },
    {
      "cell_type": "code",
      "metadata": {
        "id": "1rXnLxBR7GOY"
      },
      "source": [
        "new_times = new_data.index.values"
      ],
      "execution_count": 6,
      "outputs": []
    },
    {
      "cell_type": "code",
      "metadata": {
        "id": "1dofZi0qvO3o"
      },
      "source": [
        "import re\n",
        "tokens = list(new_data.loc[:, \"tokens\"].values)\n",
        "\n",
        "new_tokens = []\n",
        "for_embed = []\n",
        "rem_num = []\n",
        "my_tokens = []\n",
        "count = 0\n",
        "for i in tokens:\n",
        "  new_tokens.append(\" \".join([a.get('value') for a in i]))\n",
        "\n",
        "#remove numbers and symbols from token list\n",
        "for b in new_tokens:\n",
        "  rem_num.append(re.sub('[0-9]+', '', b)) #remove numerical tokens\n",
        "\n",
        "for a in rem_num:\n",
        "  my_tokens.append(re.sub(r'[^\\w]', ' ', a))\n",
        "\n",
        "#split tokens for word embeddings\n",
        "for x in my_tokens:\n",
        "    for_embed.append(x.split())\n",
        "\n",
        "#for f in for_embed:\n",
        "  #count+=len(f)"
      ],
      "execution_count": 7,
      "outputs": []
    },
    {
      "cell_type": "code",
      "metadata": {
        "colab": {
          "base_uri": "https://localhost:8080/"
        },
        "id": "pEFKyLHKZY7_",
        "outputId": "68c3ace4-d427-4723-a4dd-8e48c318c53c"
      },
      "source": [
        "len(my_tokens)"
      ],
      "execution_count": 8,
      "outputs": [
        {
          "output_type": "execute_result",
          "data": {
            "text/plain": [
              "11963"
            ]
          },
          "metadata": {
            "tags": []
          },
          "execution_count": 8
        }
      ]
    },
    {
      "cell_type": "code",
      "metadata": {
        "id": "trCNZV8_w2Tc"
      },
      "source": [
        "#lowercase all sentences\n",
        "moredocs = list(new_data.loc[:, \"text\"].values)\n",
        "docs_lower = [k.lower() for k in moredocs]"
      ],
      "execution_count": 9,
      "outputs": []
    },
    {
      "cell_type": "code",
      "metadata": {
        "id": "DDDw7uSXEXiw"
      },
      "source": [
        "#cleaning the text for new_data\n",
        "wnl = WordNetLemmatizer()\n",
        "ps = PorterStemmer()\n",
        "docs_c = []\n",
        "docs_clean = []\n",
        "\n",
        "for text in docs_lower:\n",
        "    docs_c.append(\" \".join([re.sub(r'[^\\w]', '', i) for i in text.split()]))\n",
        "\n",
        "for w in docs_c:\n",
        "      docs_clean.append(\" \".join([re.sub('[0-9]+', '', word) for word in w.split() if len(word) > 1]))"
      ],
      "execution_count": 10,
      "outputs": []
    },
    {
      "cell_type": "code",
      "metadata": {
        "id": "JDIOhyA80V_g"
      },
      "source": [
        "#clean the text for old_data\n",
        "docs_stem = []\n",
        "\n",
        "docs_lower_o = [k.lower() for k in docss]\n",
        "\n",
        "wnl = WordNetLemmatizer()\n",
        "ps = PorterStemmer()\n",
        "docs_c_old = []\n",
        "docs_clean_old = []\n",
        "\n",
        "for text in docs_lower_o:\n",
        "    docs_c_old.append(\" \".join([re.sub(r'[^\\w]', '', i) for i in text.split()]))\n",
        "\n",
        "for x in docs_c_old:\n",
        "    docs_stem.append(\" \".join([ps.stem(i) for i in x.split()]))\n",
        "\n",
        "for w in docs_c_old:\n",
        "      docs_clean_old.append(\" \".join([re.sub('[0-9]+', '', word) for word in w.split() if len(word) > 1]))"
      ],
      "execution_count": 11,
      "outputs": []
    },
    {
      "cell_type": "code",
      "metadata": {
        "id": "cvks5p15zgha",
        "colab": {
          "base_uri": "https://localhost:8080/"
        },
        "outputId": "32cd9197-2f1b-4491-8360-2c2fa006bd71"
      },
      "source": [
        "len(docs_clean_old)"
      ],
      "execution_count": 12,
      "outputs": [
        {
          "output_type": "execute_result",
          "data": {
            "text/plain": [
              "26040"
            ]
          },
          "metadata": {
            "tags": []
          },
          "execution_count": 12
        }
      ]
    },
    {
      "cell_type": "code",
      "metadata": {
        "id": "CUlhtzSUQNww"
      },
      "source": [
        "#clean times for topic evolution visualization\n",
        "clean_times = []\n",
        "for a in new_times:\n",
        "  ts = pd.to_datetime(str(a)) \n",
        "  d = ts.strftime('%Y.%m.%d')\n",
        "  clean_times.append(d)"
      ],
      "execution_count": 13,
      "outputs": []
    },
    {
      "cell_type": "code",
      "metadata": {
        "id": "WTK5fa2Br83u"
      },
      "source": [
        "clean_times_o = []\n",
        "for a in timess:\n",
        "  ts = pd.to_datetime(str(a)) \n",
        "  d = ts.strftime('%Y.%m.%d')\n",
        "  clean_times_o.append(d)"
      ],
      "execution_count": 14,
      "outputs": []
    },
    {
      "cell_type": "markdown",
      "metadata": {
        "id": "lu57ziEmdCyw"
      },
      "source": [
        "# **Word2Vec Embeddings**"
      ]
    },
    {
      "cell_type": "code",
      "metadata": {
        "id": "-A2-RFjeAhn9"
      },
      "source": [
        "from gensim.models.callbacks import CallbackAny2Vec\n",
        "import matplotlib.pyplot as plt \n",
        "\n",
        "#calculate and graph loss of embeddings\n",
        "class callback(CallbackAny2Vec):\n",
        "    '''Callback to print loss after each epoch.'''\n",
        "    def __init__(self):\n",
        "        self.epoch = 0\n",
        "        self.loss_to_be_subed = 0\n",
        "        self.epochs = []\n",
        "        self.losses = []\n",
        "\n",
        "    def on_epoch_end(self, model):\n",
        "        plt.axis([0, 100, 0, 3000000])\n",
        "        loss = model.get_latest_training_loss()\n",
        "        loss_now = loss - self.loss_to_be_subed\n",
        "        self.loss_to_be_subed = loss\n",
        "        print('Loss after epoch {}: {}'.format(self.epoch, loss_now))\n",
        "        epochs = self.epoch\n",
        "        losses = loss_now\n",
        "        plt.plot(self.epoch, loss_now, '.r-')\n",
        "        self.epoch += 1\n",
        "        if (self.epoch == 100):\n",
        "           plt.show()"
      ],
      "execution_count": null,
      "outputs": []
    },
    {
      "cell_type": "code",
      "metadata": {
        "colab": {
          "base_uri": "https://localhost:8080/",
          "height": 1000
        },
        "id": "h_hkFbVwhHB7",
        "outputId": "c7f6661c-41b1-4404-db5f-b9a754d4cf4c"
      },
      "source": [
        "model = Word2Vec(window = 5, min_count = 10) #increase min_count\n",
        "model.build_vocab(for_embed)  # prepare the model vocabulary\n",
        "model.train(for_embed, total_examples=model.corpus_count, epochs=100, compute_loss = True, callbacks=[callback()])"
      ],
      "execution_count": null,
      "outputs": [
        {
          "output_type": "stream",
          "text": [
            "Loss after epoch 0: 1024118.875\n",
            "Loss after epoch 1: 789470.5\n",
            "Loss after epoch 2: 724313.625\n",
            "Loss after epoch 3: 715789.75\n",
            "Loss after epoch 4: 660315.75\n",
            "Loss after epoch 5: 629555.0\n",
            "Loss after epoch 6: 594089.5\n",
            "Loss after epoch 7: 573920.0\n",
            "Loss after epoch 8: 577162.5\n",
            "Loss after epoch 9: 533714.5\n",
            "Loss after epoch 10: 539633.5\n",
            "Loss after epoch 11: 536863.5\n",
            "Loss after epoch 12: 507414.0\n",
            "Loss after epoch 13: 490156.0\n",
            "Loss after epoch 14: 466968.0\n",
            "Loss after epoch 15: 475468.0\n",
            "Loss after epoch 16: 472959.0\n",
            "Loss after epoch 17: 451128.0\n",
            "Loss after epoch 18: 484111.0\n",
            "Loss after epoch 19: 498118.0\n",
            "Loss after epoch 20: 468912.0\n",
            "Loss after epoch 21: 462928.0\n",
            "Loss after epoch 22: 494735.0\n",
            "Loss after epoch 23: 469117.0\n",
            "Loss after epoch 24: 477525.0\n",
            "Loss after epoch 25: 482312.0\n",
            "Loss after epoch 26: 447374.0\n",
            "Loss after epoch 27: 513969.0\n",
            "Loss after epoch 28: 489659.0\n",
            "Loss after epoch 29: 475421.0\n",
            "Loss after epoch 30: 431607.0\n",
            "Loss after epoch 31: 358098.0\n",
            "Loss after epoch 32: 377286.0\n",
            "Loss after epoch 33: 382848.0\n",
            "Loss after epoch 34: 384850.0\n",
            "Loss after epoch 35: 385416.0\n",
            "Loss after epoch 36: 382794.0\n",
            "Loss after epoch 37: 382074.0\n",
            "Loss after epoch 38: 370460.0\n",
            "Loss after epoch 39: 400286.0\n",
            "Loss after epoch 40: 388306.0\n",
            "Loss after epoch 41: 360696.0\n",
            "Loss after epoch 42: 379434.0\n",
            "Loss after epoch 43: 358416.0\n",
            "Loss after epoch 44: 377002.0\n",
            "Loss after epoch 45: 387408.0\n",
            "Loss after epoch 46: 388366.0\n",
            "Loss after epoch 47: 378428.0\n",
            "Loss after epoch 48: 374450.0\n",
            "Loss after epoch 49: 374990.0\n",
            "Loss after epoch 50: 392666.0\n",
            "Loss after epoch 51: 354932.0\n",
            "Loss after epoch 52: 370296.0\n",
            "Loss after epoch 53: 380624.0\n",
            "Loss after epoch 54: 371872.0\n",
            "Loss after epoch 55: 362838.0\n",
            "Loss after epoch 56: 358914.0\n",
            "Loss after epoch 57: 394990.0\n",
            "Loss after epoch 58: 375536.0\n",
            "Loss after epoch 59: 375134.0\n",
            "Loss after epoch 60: 362776.0\n",
            "Loss after epoch 61: 346342.0\n",
            "Loss after epoch 62: 370022.0\n",
            "Loss after epoch 63: 369236.0\n",
            "Loss after epoch 64: 350960.0\n",
            "Loss after epoch 65: 351046.0\n",
            "Loss after epoch 66: 349062.0\n",
            "Loss after epoch 67: 358544.0\n",
            "Loss after epoch 68: 357114.0\n",
            "Loss after epoch 69: 345936.0\n",
            "Loss after epoch 70: 344872.0\n",
            "Loss after epoch 71: 371248.0\n",
            "Loss after epoch 72: 371042.0\n",
            "Loss after epoch 73: 353392.0\n",
            "Loss after epoch 74: 349694.0\n",
            "Loss after epoch 75: 327912.0\n",
            "Loss after epoch 76: 208564.0\n",
            "Loss after epoch 77: 190920.0\n",
            "Loss after epoch 78: 193992.0\n",
            "Loss after epoch 79: 173636.0\n",
            "Loss after epoch 80: 191256.0\n",
            "Loss after epoch 81: 174264.0\n",
            "Loss after epoch 82: 189980.0\n",
            "Loss after epoch 83: 181656.0\n",
            "Loss after epoch 84: 198272.0\n",
            "Loss after epoch 85: 177920.0\n",
            "Loss after epoch 86: 176316.0\n",
            "Loss after epoch 87: 180116.0\n",
            "Loss after epoch 88: 182556.0\n",
            "Loss after epoch 89: 174420.0\n",
            "Loss after epoch 90: 186344.0\n",
            "Loss after epoch 91: 179728.0\n",
            "Loss after epoch 92: 171000.0\n",
            "Loss after epoch 93: 175632.0\n",
            "Loss after epoch 94: 158996.0\n",
            "Loss after epoch 95: 160688.0\n",
            "Loss after epoch 96: 160404.0\n",
            "Loss after epoch 97: 160300.0\n",
            "Loss after epoch 98: 155556.0\n",
            "Loss after epoch 99: 153160.0\n"
          ],
          "name": "stdout"
        },
        {
          "output_type": "display_data",
          "data": {
            "image/png": "[encoded data removed]",
            "text/plain": [
              "<Figure size 432x288 with 1 Axes>"
            ]
          },
          "metadata": {
            "tags": [],
            "needs_background": "light"
          }
        },
        {
          "output_type": "execute_result",
          "data": {
            "text/plain": [
              "(104597630, 120091400)"
            ]
          },
          "metadata": {
            "tags": []
          },
          "execution_count": 373
        }
      ]
    },
    {
      "cell_type": "code",
      "metadata": {
        "id": "NUNIGjWLep_t"
      },
      "source": [
        "#word2vec_tokenup 100 epochs with sentences (only token embeddings) min_count = 5\n",
        "#word2vec_update 100 epochs with sentences (only token embeddings) min_count = 10\n",
        "#word2vec_100e 100 epochs with with_sw (with stop words)"
      ],
      "execution_count": null,
      "outputs": []
    },
    {
      "cell_type": "code",
      "metadata": {
        "id": "5ukWtw0D071A"
      },
      "source": [
        "#save word2vec embeddings for model training\n",
        "word_vectors = model.wv\n",
        "word_vectors.save(\"/content/drive/My Drive/word2vec_update\")"
      ],
      "execution_count": null,
      "outputs": []
    },
    {
      "cell_type": "code",
      "metadata": {
        "id": "rbFR3ilO1PKQ"
      },
      "source": [
        "from flair.embeddings import WordEmbeddings, DocumentPoolEmbeddings\n",
        "\n",
        "glove_embedding = WordEmbeddings(\"/content/drive/My Drive/word2vec_update\")\n",
        "document_glove_embeddings = DocumentPoolEmbeddings([glove_embedding])"
      ],
      "execution_count": null,
      "outputs": []
    },
    {
      "cell_type": "code",
      "metadata": {
        "colab": {
          "base_uri": "https://localhost:8080/"
        },
        "id": "UCUkCJc-idgB",
        "outputId": "f7f11254-4f82-446e-ecdc-433bca975f25"
      },
      "source": [
        "len(docs_clean_old)"
      ],
      "execution_count": null,
      "outputs": [
        {
          "output_type": "execute_result",
          "data": {
            "text/plain": [
              "26040"
            ]
          },
          "metadata": {
            "tags": []
          },
          "execution_count": 40
        }
      ]
    },
    {
      "cell_type": "code",
      "metadata": {
        "id": "s0GjAuJmiici"
      },
      "source": [
        "#this model recommends training with 50 topics or above\n",
        "topic_model = BERTopic(nr_topics = 10, calculate_probabilities = True, embedding_model = document_glove_embeddings)"
      ],
      "execution_count": null,
      "outputs": []
    },
    {
      "cell_type": "code",
      "metadata": {
        "id": "rYg3lsg1JUlB",
        "colab": {
          "base_uri": "https://localhost:8080/"
        },
        "outputId": "92360353-721e-44d7-c3f4-05218e5ed1fb"
      },
      "source": [
        "topics, prob = topic_model.fit_transform(docs_clean_old)"
      ],
      "execution_count": null,
      "outputs": [
        {
          "output_type": "stream",
          "text": [
            "/usr/local/lib/python3.7/dist-packages/umap/umap_.py:126: UserWarning:\n",
            "\n",
            "A few of your vertices were disconnected from the manifold.  This shouldn't cause problems.\n",
            "Disconnection_distance = 1 has removed 54 edges.\n",
            "It has only fully disconnected 2 vertices.\n",
            "Use umap.utils.disconnected_vertices() to identify them.\n",
            "\n"
          ],
          "name": "stderr"
        }
      ]
    },
    {
      "cell_type": "code",
      "metadata": {
        "id": "eVf0ILuNg2GW"
      },
      "source": [
        "#remove stop words and change n-gram range\n",
        "from sklearn.feature_extraction.text import CountVectorizer\n",
        "cv = CountVectorizer(ngram_range=(1, 1), stop_words=\"english\")\n",
        "\n",
        "topic_model.update_topics(docs_clean_old, topics, vectorizer_model=cv)"
      ],
      "execution_count": null,
      "outputs": []
    },
    {
      "cell_type": "code",
      "metadata": {
        "id": "AtoqHl5ZfHyz",
        "colab": {
          "base_uri": "https://localhost:8080/",
          "height": 343
        },
        "outputId": "9df8bce6-9b97-40a0-d5b0-04d0264b925c"
      },
      "source": [
        "topic_model.get_topic_freq().head(10)"
      ],
      "execution_count": null,
      "outputs": [
        {
          "output_type": "execute_result",
          "data": {
            "text/html": [
              "<div>\n",
              "<style scoped>\n",
              "    .dataframe tbody tr th:only-of-type {\n",
              "        vertical-align: middle;\n",
              "    }\n",
              "\n",
              "    .dataframe tbody tr th {\n",
              "        vertical-align: top;\n",
              "    }\n",
              "\n",
              "    .dataframe thead th {\n",
              "        text-align: right;\n",
              "    }\n",
              "</style>\n",
              "<table border=\"1\" class=\"dataframe\">\n",
              "  <thead>\n",
              "    <tr style=\"text-align: right;\">\n",
              "      <th></th>\n",
              "      <th>Topic</th>\n",
              "      <th>Count</th>\n",
              "    </tr>\n",
              "  </thead>\n",
              "  <tbody>\n",
              "    <tr>\n",
              "      <th>0</th>\n",
              "      <td>-1</td>\n",
              "      <td>19753</td>\n",
              "    </tr>\n",
              "    <tr>\n",
              "      <th>1</th>\n",
              "      <td>337</td>\n",
              "      <td>1425</td>\n",
              "    </tr>\n",
              "    <tr>\n",
              "      <th>2</th>\n",
              "      <td>269</td>\n",
              "      <td>942</td>\n",
              "    </tr>\n",
              "    <tr>\n",
              "      <th>3</th>\n",
              "      <td>138</td>\n",
              "      <td>802</td>\n",
              "    </tr>\n",
              "    <tr>\n",
              "      <th>4</th>\n",
              "      <td>335</td>\n",
              "      <td>543</td>\n",
              "    </tr>\n",
              "    <tr>\n",
              "      <th>5</th>\n",
              "      <td>116</td>\n",
              "      <td>518</td>\n",
              "    </tr>\n",
              "    <tr>\n",
              "      <th>6</th>\n",
              "      <td>258</td>\n",
              "      <td>478</td>\n",
              "    </tr>\n",
              "    <tr>\n",
              "      <th>7</th>\n",
              "      <td>185</td>\n",
              "      <td>456</td>\n",
              "    </tr>\n",
              "    <tr>\n",
              "      <th>8</th>\n",
              "      <td>124</td>\n",
              "      <td>406</td>\n",
              "    </tr>\n",
              "    <tr>\n",
              "      <th>9</th>\n",
              "      <td>342</td>\n",
              "      <td>380</td>\n",
              "    </tr>\n",
              "  </tbody>\n",
              "</table>\n",
              "</div>"
            ],
            "text/plain": [
              "   Topic  Count\n",
              "0     -1  19753\n",
              "1    337   1425\n",
              "2    269    942\n",
              "3    138    802\n",
              "4    335    543\n",
              "5    116    518\n",
              "6    258    478\n",
              "7    185    456\n",
              "8    124    406\n",
              "9    342    380"
            ]
          },
          "metadata": {
            "tags": []
          },
          "execution_count": 116
        }
      ]
    },
    {
      "cell_type": "code",
      "metadata": {
        "colab": {
          "base_uri": "https://localhost:8080/"
        },
        "id": "1FDYQkf_0vAZ",
        "outputId": "c769b9c4-516b-41fc-9a38-75f13a4dd164"
      },
      "source": [
        "topic_model.get_topic(337)"
      ],
      "execution_count": null,
      "outputs": [
        {
          "output_type": "execute_result",
          "data": {
            "text/plain": [
              "[('vaccine', 0.05306182172158677),\n",
              " ('moderna', 0.025925927785513236),\n",
              " ('trial', 0.023643447498230604),\n",
              " ('pfizer', 0.02083904913795084),\n",
              " ('phase', 0.020403494816968765),\n",
              " ('astrazeneca', 0.016065322480299984),\n",
              " ('novavax', 0.015401731427830882),\n",
              " ('candidate', 0.013664946447545788),\n",
              " ('approval', 0.013657635167971622),\n",
              " ('manufacturing', 0.013414844429094056)]"
            ]
          },
          "metadata": {
            "tags": []
          },
          "execution_count": 121
        }
      ]
    },
    {
      "cell_type": "code",
      "metadata": {
        "id": "GrmnuZP0Z6_G",
        "colab": {
          "base_uri": "https://localhost:8080/"
        },
        "outputId": "17b80818-1434-407c-c539-e7557e27b0b5"
      },
      "source": [
        "topic_model.save('/content/drive/My Drive/word2vec_90dcold')"
      ],
      "execution_count": null,
      "outputs": [
        {
          "output_type": "stream",
          "text": [
            "/usr/local/lib/python3.7/dist-packages/scipy/sparse/_index.py:126: SparseEfficiencyWarning:\n",
            "\n",
            "Changing the sparsity structure of a csr_matrix is expensive. lil_matrix is more efficient.\n",
            "\n"
          ],
          "name": "stderr"
        }
      ]
    },
    {
      "cell_type": "code",
      "metadata": {
        "id": "BtU-iNuGXsvt"
      },
      "source": [
        "np.save('/content/drive/My Drive/topic_90dcold', topics)\n",
        "np.save('/content/drive/My Drive/prob_90dcold', prob)"
      ],
      "execution_count": null,
      "outputs": []
    },
    {
      "cell_type": "code",
      "metadata": {
        "id": "7lzKXGVujTjn"
      },
      "source": [
        "# ALL FITTED TO DOCS_CLEAN\n",
        "#word2vec_tokenmodel50topic without stopwords and n-gram 1,1\n",
        "   #topic_w2v_1ng\n",
        "   #prob_w2v_1ng\n",
        "\n",
        "#word2vec_token_ngram2 without stopwards and n-gram 1,3 also 50 topics\n",
        "   #prob_w2v_2ng\n",
        "   #topic_w2v_2ng\n",
        "\n",
        "#word2vec_10 is without stopwards and n-gram 1, 2 with 10 topics\n",
        "   #prob_10\n",
        "   #topic_10\n",
        "\n",
        "# FITTED TO NEW_TOKENS\n",
        "# word2vec_token_15 n-gram 1,2 with 15 topics\n",
        "  #topic_w2v_15\n",
        "  #prob_w2v_15\n",
        "\n",
        "# word2vec_token_10 n-gram 1,2 with 10 topics\n",
        "  #topic_w2v_10\n",
        "  #prob_w2v_10\n",
        "\n",
        "#SENTENCES TEXT\n",
        "#word2vec_90dcold\n",
        "  #topic_90dcold\n",
        "  #prob_90dcold\n",
        "\n",
        "#word2vec_90token fitted on my_tokens with min_count = 10 \n",
        "  #topic_90token \n",
        "  #prob_90token"
      ],
      "execution_count": null,
      "outputs": []
    },
    {
      "cell_type": "markdown",
      "metadata": {
        "id": "20wmDm3oqbgv"
      },
      "source": [
        "# **W2V ANALYSIS**"
      ]
    },
    {
      "cell_type": "code",
      "metadata": {
        "id": "7QzZyDtLceUx"
      },
      "source": [
        "topics_over_tim = topic_model.topics_over_time(docs_clean_old, topics, clean_times, evolution_tuning = True,\n",
        "                         global_tuning = False)"
      ],
      "execution_count": null,
      "outputs": []
    },
    {
      "cell_type": "code",
      "metadata": {
        "colab": {
          "base_uri": "https://localhost:8080/",
          "height": 467
        },
        "id": "jAVvoJ5lci0v",
        "outputId": "a6c5b320-860b-4607-8d36-ef4c0bbfbb82"
      },
      "source": [
        "topic_model.visualize_topics_over_time(topics_over_tim, top_n=5) #fitted to docs_clean"
      ],
      "execution_count": null,
      "outputs": [
        {
          "output_type": "display_data",
          "data": {
            "text/html": [
              "<html>\n",
              "<head><meta charset=\"utf-8\" /></head>\n",
              "<body>\n",
              "    <div>            <script src=\"https://cdnjs.cloudflare.com/ajax/libs/mathjax/2.7.5/MathJax.js?config=TeX-AMS-MML_SVG\"></script><script type=\"text/javascript\">if (window.MathJax) {MathJax.Hub.Config({SVG: {font: \"STIX-Web\"}});}</script>                <script type=\"text/javascript\">window.PlotlyConfig = {MathJaxConfig: 'local'};</script>\n",
              "        <script src=\"https://cdn.plot.ly/plotly-latest.min.js\"></script>                <div id=\"75cfbc38-b6b0-47f4-a0ef-9493573b0b68\" class=\"plotly-graph-div\" style=\"height:450px; width:1250px;\"></div>            <script type=\"text/javascript\">                                    window.PLOTLYENV=window.PLOTLYENV || {};                                    if (document.getElementById(\"75cfbc38-b6b0-47f4-a0ef-9493573b0b68\")) {                    Plotly.newPlot(                        \"75cfbc38-b6b0-47f4-a0ef-9493573b0b68\",                        [{\"hoverinfo\": \"text\", \"hovertext\": [\"<b>Topic 91</b><br>Words: sharks, shark, species, squalene, ocean\", \"<b>Topic 91</b><br>Words: sharks, shark, ocean, animal, squalene\", \"<b>Topic 91</b><br>Words: sharks, shark, ecosystem, species, squalene\", \"<b>Topic 91</b><br>Words: gona, oasis, ia, \\uf92e\\uf92e\\uf92e, foxfire_\", \"<b>Topic 91</b><br>Words: gta, toxic, community, non, \\uf92e\\uf92e\\uf92e\", \"<b>Topic 91</b><br>Words: emission, coal, carbon, excessive, selection\", \"<b>Topic 91</b><br>Words: sterilization, depopulation, poison, step, fox\", \"<b>Topic 91</b><br>Words: human, philosophy, dubious, extinction, sacrifice\", \"<b>Topic 91</b><br>Words: fascism, democracy, extinction, jail, stupidity\", \"<b>Topic 91</b><br>Words: dysfunction, soul, dozens, equipment, desperate\", \"<b>Topic 91</b><br>Words: safe, care, need, deserve, queue\"], \"marker\": {\"color\": \"#E69F00\"}, \"mode\": \"lines\", \"name\": \"91_sharks_shark_species_ocean\", \"type\": \"scatter\", \"x\": [\"2020-09-28T00:00:00\", \"2020-09-29T00:00:00\", \"2020-09-30T00:00:00\", \"2020-10-29T00:00:00\", \"2020-10-30T00:00:00\", \"2020-10-31T00:00:00\", \"2020-11-29T00:00:00\", \"2020-11-30T00:00:00\", \"2020-12-31T00:00:00\", \"2021-01-31T00:00:00\", \"2021-02-28T00:00:00\"], \"y\": [134, 260, 170, 1, 1, 2, 1, 4, 5, 4, 6]}, {\"hoverinfo\": \"text\", \"hovertext\": [\"<b>Topic 164</b><br>Words: shot, flu, fever, usually, chills\", \"<b>Topic 164</b><br>Words: shot, shingrix, flu, fever, second\", \"<b>Topic 164</b><br>Words: muscle, headache, fever, runny, sore\", \"<b>Topic 164</b><br>Words: cat, nose, weak, bed, days\", \"<b>Topic 164</b><br>Words: runny, unwell, nasal, nose, temperature\", \"<b>Topic 164</b><br>Words: household, minutes, st, november, expect\", \"<b>Topic 164</b><br>Words: shot, tdap, redness, fever, swelling\", \"<b>Topic 164</b><br>Words: arm, sore, shot, day, injection\", \"<b>Topic 164</b><br>Words: soreness, chills, headache, pain, injection\", \"<b>Topic 164</b><br>Words: arm, sore, jab, day, days\", \"<b>Topic 164</b><br>Words: sore, arm, shot, hours, weeks\", \"<b>Topic 164</b><br>Words: arm, sore, shot, day, weeks\"], \"marker\": {\"color\": \"#56B4E9\"}, \"mode\": \"lines\", \"name\": \"164_arm_sore_shot_day\", \"type\": \"scatter\", \"x\": [\"2020-09-28T00:00:00\", \"2020-09-29T00:00:00\", \"2020-09-30T00:00:00\", \"2020-10-29T00:00:00\", \"2020-10-30T00:00:00\", \"2020-10-31T00:00:00\", \"2020-11-30T00:00:00\", \"2020-12-31T00:00:00\", \"2021-01-30T00:00:00\", \"2021-01-31T00:00:00\", \"2021-02-27T00:00:00\", \"2021-02-28T00:00:00\"], \"y\": [4, 4, 2, 6, 3, 1, 23, 70, 4, 145, 92, 234]}, {\"hoverinfo\": \"text\", \"hovertext\": [\"<b>Topic 192</b><br>Words: slavs, elon, anglo, chinese, russians\", \"<b>Topic 192</b><br>Words: lockdown, trump, mask, president, wear\", \"<b>Topic 192</b><br>Words: fuck, coward, quoting, anonymous, nano\", \"<b>Topic 192</b><br>Words: mask, wear, people, wearing, flu\", \"<b>Topic 192</b><br>Words: mask, covid, wear, people, just\", \"<b>Topic 192</b><br>Words: live, people, life, lockdown, just\", \"<b>Topic 192</b><br>Words: ill, catch, asthma, lung, people\", \"<b>Topic 192</b><br>Words: don, bacteria, tolerate, viruses, quoting\", \"<b>Topic 192</b><br>Words: trump, world, way, bombing, dems\", \"<b>Topic 192</b><br>Words: propaganda, muh, trolls, list, msm\", \"<b>Topic 192</b><br>Words: people, like, don, think, want\", \"<b>Topic 192</b><br>Words: fear, healthy, want, don, fearful\", \"<b>Topic 192</b><br>Words: people, vaccinated, pass, want, life\"], \"marker\": {\"color\": \"#009E73\"}, \"mode\": \"lines\", \"name\": \"192_people_mask_life_think\", \"type\": \"scatter\", \"x\": [\"2020-09-28T00:00:00\", \"2020-09-29T00:00:00\", \"2020-09-30T00:00:00\", \"2020-10-29T00:00:00\", \"2020-10-30T00:00:00\", \"2020-10-31T00:00:00\", \"2020-11-29T00:00:00\", \"2020-11-30T00:00:00\", \"2020-12-31T00:00:00\", \"2021-01-30T00:00:00\", \"2021-01-31T00:00:00\", \"2021-02-27T00:00:00\", \"2021-02-28T00:00:00\"], \"y\": [20, 80, 43, 45, 65, 62, 17, 125, 130, 4, 88, 32, 94]}, {\"hoverinfo\": \"text\", \"hovertext\": [\"<b>Topic 212</b><br>Words: months, live, people, normal, majority\", \"<b>Topic 212</b><br>Words: people, need, quarantine, right, time\", \"<b>Topic 212</b><br>Words: don, people, think, want, stay\", \"<b>Topic 212</b><br>Words: family, help, halloween, bloody, want\", \"<b>Topic 212</b><br>Words: help, people, family, need, want\", \"<b>Topic 212</b><br>Words: people, vulnerable, normal, lock, want\", \"<b>Topic 212</b><br>Words: open, border, allow, community, vaccinated\", \"<b>Topic 212</b><br>Words: people, want, vaccinated, think, able\", \"<b>Topic 212</b><br>Words: learning, people, work, think, actually\", \"<b>Topic 212</b><br>Words: dcps, work, working, home, people\", \"<b>Topic 212</b><br>Words: vaccinated, old, sense, pass, choose\", \"<b>Topic 212</b><br>Words: vaccinated, don, want, think, people\"], \"marker\": {\"color\": \"#F0E442\"}, \"mode\": \"lines\", \"name\": \"212_people_vaccinated_work_want\", \"type\": \"scatter\", \"x\": [\"2020-09-28T00:00:00\", \"2020-09-29T00:00:00\", \"2020-09-30T00:00:00\", \"2020-10-29T00:00:00\", \"2020-10-30T00:00:00\", \"2020-10-31T00:00:00\", \"2020-11-29T00:00:00\", \"2020-11-30T00:00:00\", \"2020-12-31T00:00:00\", \"2021-01-31T00:00:00\", \"2021-02-27T00:00:00\", \"2021-02-28T00:00:00\"], \"y\": [33, 24, 36, 49, 30, 40, 18, 97, 129, 92, 50, 98]}, {\"hoverinfo\": \"text\", \"hovertext\": [\"<b>Topic 293</b><br>Words: early, let, ne, vaccine, flue\", \"<b>Topic 293</b><br>Words: til, main, leave, mass, neuralink\", \"<b>Topic 293</b><br>Words: october, vaccine, phase, moderna, speed\", \"<b>Topic 293</b><br>Words: game, cyberpunk, fucking, mans, shit\", \"<b>Topic 293</b><br>Words: game, cyberpunk, years, forever, good\", \"<b>Topic 293</b><br>Words: vaccine, participant, testing, version, placebo\", \"<b>Topic 293</b><br>Words: vaccine, term, lung, corner, rushed\", \"<b>Topic 293</b><br>Words: vaccine, data, sputnik, fda, oxford\", \"<b>Topic 293</b><br>Words: pfizer, benefit, dose, mhra, data\", \"<b>Topic 293</b><br>Words: dose, second, data, indicate, reach\", \"<b>Topic 293</b><br>Words: percent, pfizer, effectiveness, vaccine, covid\", \"<b>Topic 293</b><br>Words: effective, vaccine, study, pfizer, covid\", \"<b>Topic 293</b><br>Words: johnson, pfizer, available, vaccine, effective\"], \"marker\": {\"color\": \"#D55E00\"}, \"mode\": \"lines\", \"name\": \"293_pfizer_vaccine_dose_data\", \"type\": \"scatter\", \"x\": [\"2020-09-28T00:00:00\", \"2020-09-29T00:00:00\", \"2020-09-30T00:00:00\", \"2020-10-29T00:00:00\", \"2020-10-30T00:00:00\", \"2020-10-31T00:00:00\", \"2020-11-29T00:00:00\", \"2020-11-30T00:00:00\", \"2020-12-31T00:00:00\", \"2021-01-30T00:00:00\", \"2021-01-31T00:00:00\", \"2021-02-27T00:00:00\", \"2021-02-28T00:00:00\"], \"y\": [6, 12, 13, 70, 37, 7, 8, 28, 85, 1, 82, 14, 34]}],                        {\"height\": 450, \"hoverlabel\": {\"bgcolor\": \"white\", \"font\": {\"family\": \"Rockwell\", \"size\": 16}}, \"legend\": {\"title\": {\"text\": \"<b>Global Topic Representation\"}}, \"template\": {\"data\": {\"bar\": [{\"error_x\": {\"color\": \"rgb(36,36,36)\"}, \"error_y\": {\"color\": \"rgb(36,36,36)\"}, \"marker\": {\"line\": {\"color\": \"white\", \"width\": 0.5}}, \"type\": \"bar\"}], \"barpolar\": [{\"marker\": {\"line\": {\"color\": \"white\", \"width\": 0.5}}, \"type\": \"barpolar\"}], \"carpet\": [{\"aaxis\": {\"endlinecolor\": \"rgb(36,36,36)\", \"gridcolor\": \"white\", \"linecolor\": \"white\", \"minorgridcolor\": \"white\", \"startlinecolor\": \"rgb(36,36,36)\"}, \"baxis\": {\"endlinecolor\": \"rgb(36,36,36)\", \"gridcolor\": \"white\", \"linecolor\": \"white\", \"minorgridcolor\": \"white\", \"startlinecolor\": \"rgb(36,36,36)\"}, \"type\": \"carpet\"}], \"choropleth\": [{\"colorbar\": {\"outlinewidth\": 1, \"tickcolor\": \"rgb(36,36,36)\", \"ticks\": \"outside\"}, \"type\": \"choropleth\"}], \"contour\": [{\"colorbar\": {\"outlinewidth\": 1, \"tickcolor\": \"rgb(36,36,36)\", \"ticks\": \"outside\"}, \"colorscale\": [[0.0, \"#440154\"], [0.1111111111111111, \"#482878\"], [0.2222222222222222, \"#3e4989\"], [0.3333333333333333, \"#31688e\"], [0.4444444444444444, \"#26828e\"], [0.5555555555555556, \"#1f9e89\"], [0.6666666666666666, \"#35b779\"], [0.7777777777777778, \"#6ece58\"], [0.8888888888888888, \"#b5de2b\"], [1.0, \"#fde725\"]], \"type\": \"contour\"}], \"contourcarpet\": [{\"colorbar\": {\"outlinewidth\": 1, \"tickcolor\": \"rgb(36,36,36)\", \"ticks\": \"outside\"}, \"type\": \"contourcarpet\"}], \"heatmap\": [{\"colorbar\": {\"outlinewidth\": 1, \"tickcolor\": \"rgb(36,36,36)\", \"ticks\": \"outside\"}, \"colorscale\": [[0.0, \"#440154\"], [0.1111111111111111, \"#482878\"], [0.2222222222222222, \"#3e4989\"], [0.3333333333333333, \"#31688e\"], [0.4444444444444444, \"#26828e\"], [0.5555555555555556, \"#1f9e89\"], [0.6666666666666666, \"#35b779\"], [0.7777777777777778, \"#6ece58\"], [0.8888888888888888, \"#b5de2b\"], [1.0, \"#fde725\"]], \"type\": \"heatmap\"}], \"heatmapgl\": [{\"colorbar\": {\"outlinewidth\": 1, \"tickcolor\": \"rgb(36,36,36)\", \"ticks\": \"outside\"}, \"colorscale\": [[0.0, \"#440154\"], [0.1111111111111111, \"#482878\"], [0.2222222222222222, \"#3e4989\"], [0.3333333333333333, \"#31688e\"], [0.4444444444444444, \"#26828e\"], [0.5555555555555556, \"#1f9e89\"], [0.6666666666666666, \"#35b779\"], [0.7777777777777778, \"#6ece58\"], [0.8888888888888888, \"#b5de2b\"], [1.0, \"#fde725\"]], \"type\": \"heatmapgl\"}], \"histogram\": [{\"marker\": {\"line\": {\"color\": \"white\", \"width\": 0.6}}, \"type\": \"histogram\"}], \"histogram2d\": [{\"colorbar\": {\"outlinewidth\": 1, \"tickcolor\": \"rgb(36,36,36)\", \"ticks\": \"outside\"}, \"colorscale\": [[0.0, \"#440154\"], [0.1111111111111111, \"#482878\"], [0.2222222222222222, \"#3e4989\"], [0.3333333333333333, \"#31688e\"], [0.4444444444444444, \"#26828e\"], [0.5555555555555556, \"#1f9e89\"], [0.6666666666666666, \"#35b779\"], [0.7777777777777778, \"#6ece58\"], [0.8888888888888888, \"#b5de2b\"], [1.0, \"#fde725\"]], \"type\": \"histogram2d\"}], \"histogram2dcontour\": [{\"colorbar\": {\"outlinewidth\": 1, \"tickcolor\": \"rgb(36,36,36)\", \"ticks\": \"outside\"}, \"colorscale\": [[0.0, \"#440154\"], [0.1111111111111111, \"#482878\"], [0.2222222222222222, \"#3e4989\"], [0.3333333333333333, \"#31688e\"], [0.4444444444444444, \"#26828e\"], [0.5555555555555556, \"#1f9e89\"], [0.6666666666666666, \"#35b779\"], [0.7777777777777778, \"#6ece58\"], [0.8888888888888888, \"#b5de2b\"], [1.0, \"#fde725\"]], \"type\": \"histogram2dcontour\"}], \"mesh3d\": [{\"colorbar\": {\"outlinewidth\": 1, \"tickcolor\": \"rgb(36,36,36)\", \"ticks\": \"outside\"}, \"type\": \"mesh3d\"}], \"parcoords\": [{\"line\": {\"colorbar\": {\"outlinewidth\": 1, \"tickcolor\": \"rgb(36,36,36)\", \"ticks\": \"outside\"}}, \"type\": \"parcoords\"}], \"pie\": [{\"automargin\": true, \"type\": \"pie\"}], \"scatter\": [{\"marker\": {\"colorbar\": {\"outlinewidth\": 1, \"tickcolor\": \"rgb(36,36,36)\", \"ticks\": \"outside\"}}, \"type\": \"scatter\"}], \"scatter3d\": [{\"line\": {\"colorbar\": {\"outlinewidth\": 1, \"tickcolor\": \"rgb(36,36,36)\", \"ticks\": \"outside\"}}, \"marker\": {\"colorbar\": {\"outlinewidth\": 1, \"tickcolor\": \"rgb(36,36,36)\", \"ticks\": \"outside\"}}, \"type\": \"scatter3d\"}], \"scattercarpet\": [{\"marker\": {\"colorbar\": {\"outlinewidth\": 1, \"tickcolor\": \"rgb(36,36,36)\", \"ticks\": \"outside\"}}, \"type\": \"scattercarpet\"}], \"scattergeo\": [{\"marker\": {\"colorbar\": {\"outlinewidth\": 1, \"tickcolor\": \"rgb(36,36,36)\", \"ticks\": \"outside\"}}, \"type\": \"scattergeo\"}], \"scattergl\": [{\"marker\": {\"colorbar\": {\"outlinewidth\": 1, \"tickcolor\": \"rgb(36,36,36)\", \"ticks\": \"outside\"}}, \"type\": \"scattergl\"}], \"scattermapbox\": [{\"marker\": {\"colorbar\": {\"outlinewidth\": 1, \"tickcolor\": \"rgb(36,36,36)\", \"ticks\": \"outside\"}}, \"type\": \"scattermapbox\"}], \"scatterpolar\": [{\"marker\": {\"colorbar\": {\"outlinewidth\": 1, \"tickcolor\": \"rgb(36,36,36)\", \"ticks\": \"outside\"}}, \"type\": \"scatterpolar\"}], \"scatterpolargl\": [{\"marker\": {\"colorbar\": {\"outlinewidth\": 1, \"tickcolor\": \"rgb(36,36,36)\", \"ticks\": \"outside\"}}, \"type\": \"scatterpolargl\"}], \"scatterternary\": [{\"marker\": {\"colorbar\": {\"outlinewidth\": 1, \"tickcolor\": \"rgb(36,36,36)\", \"ticks\": \"outside\"}}, \"type\": \"scatterternary\"}], \"surface\": [{\"colorbar\": {\"outlinewidth\": 1, \"tickcolor\": \"rgb(36,36,36)\", \"ticks\": \"outside\"}, \"colorscale\": [[0.0, \"#440154\"], [0.1111111111111111, \"#482878\"], [0.2222222222222222, \"#3e4989\"], [0.3333333333333333, \"#31688e\"], [0.4444444444444444, \"#26828e\"], [0.5555555555555556, \"#1f9e89\"], [0.6666666666666666, \"#35b779\"], [0.7777777777777778, \"#6ece58\"], [0.8888888888888888, \"#b5de2b\"], [1.0, \"#fde725\"]], \"type\": \"surface\"}], \"table\": [{\"cells\": {\"fill\": {\"color\": \"rgb(237,237,237)\"}, \"line\": {\"color\": \"white\"}}, \"header\": {\"fill\": {\"color\": \"rgb(217,217,217)\"}, \"line\": {\"color\": \"white\"}}, \"type\": \"table\"}]}, \"layout\": {\"annotationdefaults\": {\"arrowhead\": 0, \"arrowwidth\": 1}, \"autotypenumbers\": \"strict\", \"coloraxis\": {\"colorbar\": {\"outlinewidth\": 1, \"tickcolor\": \"rgb(36,36,36)\", \"ticks\": \"outside\"}}, \"colorscale\": {\"diverging\": [[0.0, \"rgb(103,0,31)\"], [0.1, \"rgb(178,24,43)\"], [0.2, \"rgb(214,96,77)\"], [0.3, \"rgb(244,165,130)\"], [0.4, \"rgb(253,219,199)\"], [0.5, \"rgb(247,247,247)\"], [0.6, \"rgb(209,229,240)\"], [0.7, \"rgb(146,197,222)\"], [0.8, \"rgb(67,147,195)\"], [0.9, \"rgb(33,102,172)\"], [1.0, \"rgb(5,48,97)\"]], \"sequential\": [[0.0, \"#440154\"], [0.1111111111111111, \"#482878\"], [0.2222222222222222, \"#3e4989\"], [0.3333333333333333, \"#31688e\"], [0.4444444444444444, \"#26828e\"], [0.5555555555555556, \"#1f9e89\"], [0.6666666666666666, \"#35b779\"], [0.7777777777777778, \"#6ece58\"], [0.8888888888888888, \"#b5de2b\"], [1.0, \"#fde725\"]], \"sequentialminus\": [[0.0, \"#440154\"], [0.1111111111111111, \"#482878\"], [0.2222222222222222, \"#3e4989\"], [0.3333333333333333, \"#31688e\"], [0.4444444444444444, \"#26828e\"], [0.5555555555555556, \"#1f9e89\"], [0.6666666666666666, \"#35b779\"], [0.7777777777777778, \"#6ece58\"], [0.8888888888888888, \"#b5de2b\"], [1.0, \"#fde725\"]]}, \"colorway\": [\"#1F77B4\", \"#FF7F0E\", \"#2CA02C\", \"#D62728\", \"#9467BD\", \"#8C564B\", \"#E377C2\", \"#7F7F7F\", \"#BCBD22\", \"#17BECF\"], \"font\": {\"color\": \"rgb(36,36,36)\"}, \"geo\": {\"bgcolor\": \"white\", \"lakecolor\": \"white\", \"landcolor\": \"white\", \"showlakes\": true, \"showland\": true, \"subunitcolor\": \"white\"}, \"hoverlabel\": {\"align\": \"left\"}, \"hovermode\": \"closest\", \"mapbox\": {\"style\": \"light\"}, \"paper_bgcolor\": \"white\", \"plot_bgcolor\": \"white\", \"polar\": {\"angularaxis\": {\"gridcolor\": \"rgb(232,232,232)\", \"linecolor\": \"rgb(36,36,36)\", \"showgrid\": false, \"showline\": true, \"ticks\": \"outside\"}, \"bgcolor\": \"white\", \"radialaxis\": {\"gridcolor\": \"rgb(232,232,232)\", \"linecolor\": \"rgb(36,36,36)\", \"showgrid\": false, \"showline\": true, \"ticks\": \"outside\"}}, \"scene\": {\"xaxis\": {\"backgroundcolor\": \"white\", \"gridcolor\": \"rgb(232,232,232)\", \"gridwidth\": 2, \"linecolor\": \"rgb(36,36,36)\", \"showbackground\": true, \"showgrid\": false, \"showline\": true, \"ticks\": \"outside\", \"zeroline\": false, \"zerolinecolor\": \"rgb(36,36,36)\"}, \"yaxis\": {\"backgroundcolor\": \"white\", \"gridcolor\": \"rgb(232,232,232)\", \"gridwidth\": 2, \"linecolor\": \"rgb(36,36,36)\", \"showbackground\": true, \"showgrid\": false, \"showline\": true, \"ticks\": \"outside\", \"zeroline\": false, \"zerolinecolor\": \"rgb(36,36,36)\"}, \"zaxis\": {\"backgroundcolor\": \"white\", \"gridcolor\": \"rgb(232,232,232)\", \"gridwidth\": 2, \"linecolor\": \"rgb(36,36,36)\", \"showbackground\": true, \"showgrid\": false, \"showline\": true, \"ticks\": \"outside\", \"zeroline\": false, \"zerolinecolor\": \"rgb(36,36,36)\"}}, \"shapedefaults\": {\"fillcolor\": \"black\", \"line\": {\"width\": 0}, \"opacity\": 0.3}, \"ternary\": {\"aaxis\": {\"gridcolor\": \"rgb(232,232,232)\", \"linecolor\": \"rgb(36,36,36)\", \"showgrid\": false, \"showline\": true, \"ticks\": \"outside\"}, \"baxis\": {\"gridcolor\": \"rgb(232,232,232)\", \"linecolor\": \"rgb(36,36,36)\", \"showgrid\": false, \"showline\": true, \"ticks\": \"outside\"}, \"bgcolor\": \"white\", \"caxis\": {\"gridcolor\": \"rgb(232,232,232)\", \"linecolor\": \"rgb(36,36,36)\", \"showgrid\": false, \"showline\": true, \"ticks\": \"outside\"}}, \"title\": {\"x\": 0.05}, \"xaxis\": {\"automargin\": true, \"gridcolor\": \"rgb(232,232,232)\", \"linecolor\": \"rgb(36,36,36)\", \"showgrid\": false, \"showline\": true, \"ticks\": \"outside\", \"title\": {\"standoff\": 15}, \"zeroline\": false, \"zerolinecolor\": \"rgb(36,36,36)\"}, \"yaxis\": {\"automargin\": true, \"gridcolor\": \"rgb(232,232,232)\", \"linecolor\": \"rgb(36,36,36)\", \"showgrid\": false, \"showline\": true, \"ticks\": \"outside\", \"title\": {\"standoff\": 15}, \"zeroline\": false, \"zerolinecolor\": \"rgb(36,36,36)\"}}}, \"title\": {\"font\": {\"color\": \"Black\", \"size\": 22}, \"text\": \"<b>Topics over Time\", \"x\": 0.4, \"xanchor\": \"center\", \"y\": 0.95, \"yanchor\": \"top\"}, \"width\": 1250, \"xaxis\": {\"showgrid\": true}, \"yaxis\": {\"showgrid\": true, \"title\": {\"text\": \"Frequency\"}}},                        {\"responsive\": true}                    ).then(function(){\n",
              "                            \n",
              "var gd = document.getElementById('75cfbc38-b6b0-47f4-a0ef-9493573b0b68');\n",
              "var x = new MutationObserver(function (mutations, observer) {{\n",
              "        var display = window.getComputedStyle(gd).display;\n",
              "        if (!display || display === 'none') {{\n",
              "            console.log([gd, 'removed!']);\n",
              "            Plotly.purge(gd);\n",
              "            observer.disconnect();\n",
              "        }}\n",
              "}});\n",
              "\n",
              "// Listen for the removal of the full notebook cells\n",
              "var notebookContainer = gd.closest('#notebook-container');\n",
              "if (notebookContainer) {{\n",
              "    x.observe(notebookContainer, {childList: true});\n",
              "}}\n",
              "\n",
              "// Listen for the clearing of the current output cell\n",
              "var outputEl = gd.closest('.output');\n",
              "if (outputEl) {{\n",
              "    x.observe(outputEl, {childList: true});\n",
              "}}\n",
              "\n",
              "                        })                };                            </script>        </div>\n",
              "</body>\n",
              "</html>"
            ]
          },
          "metadata": {
            "tags": []
          }
        }
      ]
    },
    {
      "cell_type": "code",
      "metadata": {
        "id": "JFyS8YHRVACr"
      },
      "source": [
        "best = BERTopic.load('/content/drive/My Drive/word2vec_10')"
      ],
      "execution_count": null,
      "outputs": []
    },
    {
      "cell_type": "code",
      "metadata": {
        "id": "c4iiD-ukVKhv"
      },
      "source": [
        "top = np.load('/content/drive/My Drive/topic_10.npy')\n",
        "pro = np.load('/content/drive/My Drive/prob_10.npy')"
      ],
      "execution_count": null,
      "outputs": []
    },
    {
      "cell_type": "code",
      "metadata": {
        "colab": {
          "base_uri": "https://localhost:8080/",
          "height": 373
        },
        "id": "c-_2KZ2lpbBV",
        "outputId": "e3881912-ebbe-4079-963b-d58585c1532a"
      },
      "source": [
        "best.get_topic_info()"
      ],
      "execution_count": null,
      "outputs": [
        {
          "output_type": "execute_result",
          "data": {
            "text/html": [
              "<div>\n",
              "<style scoped>\n",
              "    .dataframe tbody tr th:only-of-type {\n",
              "        vertical-align: middle;\n",
              "    }\n",
              "\n",
              "    .dataframe tbody tr th {\n",
              "        vertical-align: top;\n",
              "    }\n",
              "\n",
              "    .dataframe thead th {\n",
              "        text-align: right;\n",
              "    }\n",
              "</style>\n",
              "<table border=\"1\" class=\"dataframe\">\n",
              "  <thead>\n",
              "    <tr style=\"text-align: right;\">\n",
              "      <th></th>\n",
              "      <th>Topic</th>\n",
              "      <th>Count</th>\n",
              "      <th>Name</th>\n",
              "    </tr>\n",
              "  </thead>\n",
              "  <tbody>\n",
              "    <tr>\n",
              "      <th>0</th>\n",
              "      <td>-1</td>\n",
              "      <td>18790</td>\n",
              "      <td>-1_vaccine_people_covid_think</td>\n",
              "    </tr>\n",
              "    <tr>\n",
              "      <th>1</th>\n",
              "      <td>198</td>\n",
              "      <td>1756</td>\n",
              "      <td>198_vaccine_dose_pfizer_covid</td>\n",
              "    </tr>\n",
              "    <tr>\n",
              "      <th>2</th>\n",
              "      <td>236</td>\n",
              "      <td>1188</td>\n",
              "      <td>236_people_know_covid_like</td>\n",
              "    </tr>\n",
              "    <tr>\n",
              "      <th>3</th>\n",
              "      <td>142</td>\n",
              "      <td>784</td>\n",
              "      <td>142_covid_people_work_time</td>\n",
              "    </tr>\n",
              "    <tr>\n",
              "      <th>4</th>\n",
              "      <td>260</td>\n",
              "      <td>725</td>\n",
              "      <td>260_trump_biden_president_administration</td>\n",
              "    </tr>\n",
              "    <tr>\n",
              "      <th>5</th>\n",
              "      <td>328</td>\n",
              "      <td>632</td>\n",
              "      <td>328_arm_sore_sore arm_shot</td>\n",
              "    </tr>\n",
              "    <tr>\n",
              "      <th>6</th>\n",
              "      <td>271</td>\n",
              "      <td>519</td>\n",
              "      <td>271_president_trump_president trump_herd immunity</td>\n",
              "    </tr>\n",
              "    <tr>\n",
              "      <th>7</th>\n",
              "      <td>220</td>\n",
              "      <td>515</td>\n",
              "      <td>220_death_case_000_number</td>\n",
              "    </tr>\n",
              "    <tr>\n",
              "      <th>8</th>\n",
              "      <td>276</td>\n",
              "      <td>395</td>\n",
              "      <td>276_people_vaccinate_vaccinated_people old</td>\n",
              "    </tr>\n",
              "    <tr>\n",
              "      <th>9</th>\n",
              "      <td>121</td>\n",
              "      <td>377</td>\n",
              "      <td>121_vaccine_covid_people_covid vaccine</td>\n",
              "    </tr>\n",
              "    <tr>\n",
              "      <th>10</th>\n",
              "      <td>311</td>\n",
              "      <td>359</td>\n",
              "      <td>311_game_cyberpunk_delay game_good</td>\n",
              "    </tr>\n",
              "  </tbody>\n",
              "</table>\n",
              "</div>"
            ],
            "text/plain": [
              "    Topic  Count                                               Name\n",
              "0      -1  18790                      -1_vaccine_people_covid_think\n",
              "1     198   1756                      198_vaccine_dose_pfizer_covid\n",
              "2     236   1188                         236_people_know_covid_like\n",
              "3     142    784                         142_covid_people_work_time\n",
              "4     260    725           260_trump_biden_president_administration\n",
              "5     328    632                         328_arm_sore_sore arm_shot\n",
              "6     271    519  271_president_trump_president trump_herd immunity\n",
              "7     220    515                          220_death_case_000_number\n",
              "8     276    395         276_people_vaccinate_vaccinated_people old\n",
              "9     121    377             121_vaccine_covid_people_covid vaccine\n",
              "10    311    359                 311_game_cyberpunk_delay game_good"
            ]
          },
          "metadata": {
            "tags": []
          },
          "execution_count": 15
        }
      ]
    },
    {
      "cell_type": "code",
      "metadata": {
        "id": "7r2MLei8Bv-a"
      },
      "source": [
        "topics_over_time = best.topics_over_time(docs_clean, top, clean_times, evolution_tuning = True,\n",
        "                         global_tuning = False)"
      ],
      "execution_count": null,
      "outputs": []
    },
    {
      "cell_type": "code",
      "metadata": {
        "colab": {
          "base_uri": "https://localhost:8080/",
          "height": 467
        },
        "id": "PIiGk-T0BzMd",
        "outputId": "533050ac-3fdf-421e-bdce-8f28305b3e85"
      },
      "source": [
        "best.visualize_topics_over_time(topics_over_time, top_n=5) #fitted to docs_clean"
      ],
      "execution_count": null,
      "outputs": [
        {
          "output_type": "display_data",
          "data": {
            "text/html": [
              "<html>\n",
              "<head><meta charset=\"utf-8\" /></head>\n",
              "<body>\n",
              "    <div>            <script src=\"https://cdnjs.cloudflare.com/ajax/libs/mathjax/2.7.5/MathJax.js?config=TeX-AMS-MML_SVG\"></script><script type=\"text/javascript\">if (window.MathJax) {MathJax.Hub.Config({SVG: {font: \"STIX-Web\"}});}</script>                <script type=\"text/javascript\">window.PlotlyConfig = {MathJaxConfig: 'local'};</script>\n",
              "        <script src=\"https://cdn.plot.ly/plotly-latest.min.js\"></script>                <div id=\"cc58e508-5b78-4b5e-a7b2-d3753c5a93b1\" class=\"plotly-graph-div\" style=\"height:450px; width:1250px;\"></div>            <script type=\"text/javascript\">                                    window.PLOTLYENV=window.PLOTLYENV || {};                                    if (document.getElementById(\"cc58e508-5b78-4b5e-a7b2-d3753c5a93b1\")) {                    Plotly.newPlot(                        \"cc58e508-5b78-4b5e-a7b2-d3753c5a93b1\",                        [{\"hoverinfo\": \"text\", \"hovertext\": [\"<b>Topic 142</b><br>Words: dan, vaccin, wrote, hi, wrote yesterday\", \"<b>Topic 142</b><br>Words: thi, disney, covid, mask, world\", \"<b>Topic 142</b><br>Words: wa, florida, tri, hi, home\", \"<b>Topic 142</b><br>Words: son, hi, covid, want, game\", \"<b>Topic 142</b><br>Words: travel, ship, think, nz, like\", \"<b>Topic 142</b><br>Words: time, normal, lock, year, hope\", \"<b>Topic 142</b><br>Words: pregnant, mask, just, student, start rest\", \"<b>Topic 142</b><br>Words: just, lock, covid, want, hi\", \"<b>Topic 142</b><br>Words: thi, covid, work, day, pregnant\", \"<b>Topic 142</b><br>Words: ppe, pt come, swab anyways, ppe pt, ed swab\", \"<b>Topic 142</b><br>Words: ha, got, hi, feel, work\", \"<b>Topic 142</b><br>Words: thi, covid, friend, work, want\", \"<b>Topic 142</b><br>Words: covid, got, think, work, pregnant\"], \"marker\": {\"color\": \"#E69F00\"}, \"mode\": \"lines\", \"name\": \"142_covid_people_work_time\", \"type\": \"scatter\", \"x\": [\"2020-09-28T00:00:00\", \"2020-09-29T00:00:00\", \"2020-09-30T00:00:00\", \"2020-10-29T00:00:00\", \"2020-10-30T00:00:00\", \"2020-10-31T00:00:00\", \"2020-11-29T00:00:00\", \"2020-11-30T00:00:00\", \"2020-12-31T00:00:00\", \"2021-01-30T00:00:00\", \"2021-01-31T00:00:00\", \"2021-02-27T00:00:00\", \"2021-02-28T00:00:00\"], \"y\": [22, 78, 35, 48, 29, 39, 17, 93, 151, 3, 114, 54, 101]}, {\"hoverinfo\": \"text\", \"hovertext\": [\"<b>Topic 198</b><br>Words: musk, hi, covid 19, 19, hysteria\", \"<b>Topic 198</b><br>Words: musk, hi, covid 19, 19, gate\", \"<b>Topic 198</b><br>Words: musk, elon, elon musk, swisher, kara swisher\", \"<b>Topic 198</b><br>Words: rogan, infect, podcast, number, year\", \"<b>Topic 198</b><br>Words: vaccin, flu, covid, covid 19, 19\", \"<b>Topic 198</b><br>Words: covid, trial, data, infections, effect\", \"<b>Topic 198</b><br>Words: covid 19, covid, 19, group, placebo\", \"<b>Topic 198</b><br>Words: covid, case, covid 19, trial, placebo\", \"<b>Topic 198</b><br>Words: dose, pfizer, 12 week, week, 12\", \"<b>Topic 198</b><br>Words: size, lynch, test, 19, covid 19\", \"<b>Topic 198</b><br>Words: eu, covid 19, covid, 19, uk\", \"<b>Topic 198</b><br>Words: effect, covid 19, variant, 19, pfizer\", \"<b>Topic 198</b><br>Words: covid, covid 19, 19, variant, dose\"], \"marker\": {\"color\": \"#56B4E9\"}, \"mode\": \"lines\", \"name\": \"198_vaccine_dose_pfizer_covid\", \"type\": \"scatter\", \"x\": [\"2020-09-28T00:00:00\", \"2020-09-29T00:00:00\", \"2020-09-30T00:00:00\", \"2020-10-29T00:00:00\", \"2020-10-30T00:00:00\", \"2020-10-31T00:00:00\", \"2020-11-29T00:00:00\", \"2020-11-30T00:00:00\", \"2020-12-31T00:00:00\", \"2021-01-30T00:00:00\", \"2021-01-31T00:00:00\", \"2021-02-27T00:00:00\", \"2021-02-28T00:00:00\"], \"y\": [48, 92, 65, 44, 48, 44, 33, 237, 434, 26, 401, 75, 209]}, {\"hoverinfo\": \"text\", \"hovertext\": [\"<b>Topic 236</b><br>Words: kid, kid 15, kids, just, stay\", \"<b>Topic 236</b><br>Words: lockdown, mask, wear, wear mask, want\", \"<b>Topic 236</b><br>Words: know, covid 19, post, covid, 19\", \"<b>Topic 236</b><br>Words: mask, wear, wear mask, cdc, flu\", \"<b>Topic 236</b><br>Words: covid, covid 19, 30 2020, 19, infect\", \"<b>Topic 236</b><br>Words: live, lockdown, life, covid, 80\", \"<b>Topic 236</b><br>Words: school, public school, viewpoint, public, covid\", \"<b>Topic 236</b><br>Words: covid, like, quoting, covid 19, 19\", \"<b>Topic 236</b><br>Words: thi, mask, wear, hi, wear mask\", \"<b>Topic 236</b><br>Words: district, nm, school, thi, friend\", \"<b>Topic 236</b><br>Words: mask, ha, dont, wear, read\", \"<b>Topic 236</b><br>Words: hate, jewish, ram, ram fan, la ram\", \"<b>Topic 236</b><br>Words: ha, covid, idea, like, quote\"], \"marker\": {\"color\": \"#009E73\"}, \"mode\": \"lines\", \"name\": \"236_people_know_covid_like\", \"type\": \"scatter\", \"x\": [\"2020-09-28T00:00:00\", \"2020-09-29T00:00:00\", \"2020-09-30T00:00:00\", \"2020-10-29T00:00:00\", \"2020-10-30T00:00:00\", \"2020-10-31T00:00:00\", \"2020-11-29T00:00:00\", \"2020-11-30T00:00:00\", \"2020-12-31T00:00:00\", \"2021-01-30T00:00:00\", \"2021-01-31T00:00:00\", \"2021-02-27T00:00:00\", \"2021-02-28T00:00:00\"], \"y\": [77, 95, 71, 110, 74, 83, 24, 153, 203, 5, 116, 47, 130]}, {\"hoverinfo\": \"text\", \"hovertext\": [\"<b>Topic 260</b><br>Words: redfield, nbc, nbc news, dr, news\", \"<b>Topic 260</b><br>Words: trump, biden, white race, democrat, white\", \"<b>Topic 260</b><br>Words: trump, biden, said, don, fuck\", \"<b>Topic 260</b><br>Words: trump, quoting, coward, link secure, donald trump\", \"<b>Topic 260</b><br>Words: trump, american, democrat, tax, biden\", \"<b>Topic 260</b><br>Words: trump, white, buffoon white, buffoon, quoting\", \"<b>Topic 260</b><br>Words: trump, bartiromo, fraud, suggest fbi, fbi\", \"<b>Topic 260</b><br>Words: trump, market, biden, elect, stand\", \"<b>Topic 260</b><br>Words: trump, state, biden, republican, statement action\", \"<b>Topic 260</b><br>Words: biden, trump, covid 19, 19, biden ha\", \"<b>Topic 260</b><br>Words: biden, million, state, dose, just\", \"<b>Topic 260</b><br>Words: trump, american, biden, america, republican\", \"<b>Topic 260</b><br>Words: biden, trump, warp speed, warp, speed\"], \"marker\": {\"color\": \"#F0E442\"}, \"mode\": \"lines\", \"name\": \"260_trump_biden_president_administration\", \"type\": \"scatter\", \"x\": [\"2020-09-28T00:00:00\", \"2020-09-29T00:00:00\", \"2020-09-30T00:00:00\", \"2020-10-29T00:00:00\", \"2020-10-30T00:00:00\", \"2020-10-31T00:00:00\", \"2020-11-29T00:00:00\", \"2020-11-30T00:00:00\", \"2020-12-31T00:00:00\", \"2021-01-30T00:00:00\", \"2021-01-31T00:00:00\", \"2021-02-27T00:00:00\", \"2021-02-28T00:00:00\"], \"y\": [21, 49, 54, 73, 38, 58, 13, 61, 91, 6, 178, 22, 61]}, {\"hoverinfo\": \"text\", \"hovertext\": [\"<b>Topic 328</b><br>Words: flu shot, shot flu, flu, covid test, fever\", \"<b>Topic 328</b><br>Words: flu, flu jab, jab, shot, shot flu\", \"<b>Topic 328</b><br>Words: fever, sore, usual sore, lchoro effect, effect nasal\", \"<b>Topic 328</b><br>Words: day, meme day, hear buzz, cough hope, dev day\", \"<b>Topic 328</b><br>Words: titer, child vax, ask titer, shock fever, polio hib\", \"<b>Topic 328</b><br>Words: shingrix, got, day, minutes expect, pneumonia week\", \"<b>Topic 328</b><br>Words: shot, fever, effect, feel, sore\", \"<b>Topic 328</b><br>Words: arm, sore, day, sore arm, shot\", \"<b>Topic 328</b><br>Words: sore, pfizer, shot, second, arm\", \"<b>Topic 328</b><br>Words: arm, sore, jab, day, shot\", \"<b>Topic 328</b><br>Words: sore, arm, second, dose, shot\", \"<b>Topic 328</b><br>Words: arm, sore, dose, sore arm, second\"], \"marker\": {\"color\": \"#D55E00\"}, \"mode\": \"lines\", \"name\": \"328_arm_sore_sore arm_shot\", \"type\": \"scatter\", \"x\": [\"2020-09-28T00:00:00\", \"2020-09-29T00:00:00\", \"2020-09-30T00:00:00\", \"2020-10-29T00:00:00\", \"2020-10-30T00:00:00\", \"2020-10-31T00:00:00\", \"2020-11-30T00:00:00\", \"2020-12-31T00:00:00\", \"2021-01-30T00:00:00\", \"2021-01-31T00:00:00\", \"2021-02-27T00:00:00\", \"2021-02-28T00:00:00\"], \"y\": [6, 5, 3, 9, 8, 3, 25, 86, 7, 162, 91, 227]}],                        {\"height\": 450, \"hoverlabel\": {\"bgcolor\": \"white\", \"font\": {\"family\": \"Rockwell\", \"size\": 16}}, \"legend\": {\"title\": {\"text\": \"<b>Global Topic Representation\"}}, \"template\": {\"data\": {\"bar\": [{\"error_x\": {\"color\": \"rgb(36,36,36)\"}, \"error_y\": {\"color\": \"rgb(36,36,36)\"}, \"marker\": {\"line\": {\"color\": \"white\", \"width\": 0.5}}, \"type\": \"bar\"}], \"barpolar\": [{\"marker\": {\"line\": {\"color\": \"white\", \"width\": 0.5}}, \"type\": \"barpolar\"}], \"carpet\": [{\"aaxis\": {\"endlinecolor\": \"rgb(36,36,36)\", \"gridcolor\": \"white\", \"linecolor\": \"white\", \"minorgridcolor\": \"white\", \"startlinecolor\": \"rgb(36,36,36)\"}, \"baxis\": {\"endlinecolor\": \"rgb(36,36,36)\", \"gridcolor\": \"white\", \"linecolor\": \"white\", \"minorgridcolor\": \"white\", \"startlinecolor\": \"rgb(36,36,36)\"}, \"type\": \"carpet\"}], \"choropleth\": [{\"colorbar\": {\"outlinewidth\": 1, \"tickcolor\": \"rgb(36,36,36)\", \"ticks\": \"outside\"}, \"type\": \"choropleth\"}], \"contour\": [{\"colorbar\": {\"outlinewidth\": 1, \"tickcolor\": \"rgb(36,36,36)\", \"ticks\": \"outside\"}, \"colorscale\": [[0.0, \"#440154\"], [0.1111111111111111, \"#482878\"], [0.2222222222222222, \"#3e4989\"], [0.3333333333333333, \"#31688e\"], [0.4444444444444444, \"#26828e\"], [0.5555555555555556, \"#1f9e89\"], [0.6666666666666666, \"#35b779\"], [0.7777777777777778, \"#6ece58\"], [0.8888888888888888, \"#b5de2b\"], [1.0, \"#fde725\"]], \"type\": \"contour\"}], \"contourcarpet\": [{\"colorbar\": {\"outlinewidth\": 1, \"tickcolor\": \"rgb(36,36,36)\", \"ticks\": \"outside\"}, \"type\": \"contourcarpet\"}], \"heatmap\": [{\"colorbar\": {\"outlinewidth\": 1, \"tickcolor\": \"rgb(36,36,36)\", \"ticks\": \"outside\"}, \"colorscale\": [[0.0, \"#440154\"], [0.1111111111111111, \"#482878\"], [0.2222222222222222, \"#3e4989\"], [0.3333333333333333, \"#31688e\"], [0.4444444444444444, \"#26828e\"], [0.5555555555555556, \"#1f9e89\"], [0.6666666666666666, \"#35b779\"], [0.7777777777777778, \"#6ece58\"], [0.8888888888888888, \"#b5de2b\"], [1.0, \"#fde725\"]], \"type\": \"heatmap\"}], \"heatmapgl\": [{\"colorbar\": {\"outlinewidth\": 1, \"tickcolor\": \"rgb(36,36,36)\", \"ticks\": \"outside\"}, \"colorscale\": [[0.0, \"#440154\"], [0.1111111111111111, \"#482878\"], [0.2222222222222222, \"#3e4989\"], [0.3333333333333333, \"#31688e\"], [0.4444444444444444, \"#26828e\"], [0.5555555555555556, \"#1f9e89\"], [0.6666666666666666, \"#35b779\"], [0.7777777777777778, \"#6ece58\"], [0.8888888888888888, \"#b5de2b\"], [1.0, \"#fde725\"]], \"type\": \"heatmapgl\"}], \"histogram\": [{\"marker\": {\"line\": {\"color\": \"white\", \"width\": 0.6}}, \"type\": \"histogram\"}], \"histogram2d\": [{\"colorbar\": {\"outlinewidth\": 1, \"tickcolor\": \"rgb(36,36,36)\", \"ticks\": \"outside\"}, \"colorscale\": [[0.0, \"#440154\"], [0.1111111111111111, \"#482878\"], [0.2222222222222222, \"#3e4989\"], [0.3333333333333333, \"#31688e\"], [0.4444444444444444, \"#26828e\"], [0.5555555555555556, \"#1f9e89\"], [0.6666666666666666, \"#35b779\"], [0.7777777777777778, \"#6ece58\"], [0.8888888888888888, \"#b5de2b\"], [1.0, \"#fde725\"]], \"type\": \"histogram2d\"}], \"histogram2dcontour\": [{\"colorbar\": {\"outlinewidth\": 1, \"tickcolor\": \"rgb(36,36,36)\", \"ticks\": \"outside\"}, \"colorscale\": [[0.0, \"#440154\"], [0.1111111111111111, \"#482878\"], [0.2222222222222222, \"#3e4989\"], [0.3333333333333333, \"#31688e\"], [0.4444444444444444, \"#26828e\"], [0.5555555555555556, \"#1f9e89\"], [0.6666666666666666, \"#35b779\"], [0.7777777777777778, \"#6ece58\"], [0.8888888888888888, \"#b5de2b\"], [1.0, \"#fde725\"]], \"type\": \"histogram2dcontour\"}], \"mesh3d\": [{\"colorbar\": {\"outlinewidth\": 1, \"tickcolor\": \"rgb(36,36,36)\", \"ticks\": \"outside\"}, \"type\": \"mesh3d\"}], \"parcoords\": [{\"line\": {\"colorbar\": {\"outlinewidth\": 1, \"tickcolor\": \"rgb(36,36,36)\", \"ticks\": \"outside\"}}, \"type\": \"parcoords\"}], \"pie\": [{\"automargin\": true, \"type\": \"pie\"}], \"scatter\": [{\"marker\": {\"colorbar\": {\"outlinewidth\": 1, \"tickcolor\": \"rgb(36,36,36)\", \"ticks\": \"outside\"}}, \"type\": \"scatter\"}], \"scatter3d\": [{\"line\": {\"colorbar\": {\"outlinewidth\": 1, \"tickcolor\": \"rgb(36,36,36)\", \"ticks\": \"outside\"}}, \"marker\": {\"colorbar\": {\"outlinewidth\": 1, \"tickcolor\": \"rgb(36,36,36)\", \"ticks\": \"outside\"}}, \"type\": \"scatter3d\"}], \"scattercarpet\": [{\"marker\": {\"colorbar\": {\"outlinewidth\": 1, \"tickcolor\": \"rgb(36,36,36)\", \"ticks\": \"outside\"}}, \"type\": \"scattercarpet\"}], \"scattergeo\": [{\"marker\": {\"colorbar\": {\"outlinewidth\": 1, \"tickcolor\": \"rgb(36,36,36)\", \"ticks\": \"outside\"}}, \"type\": \"scattergeo\"}], \"scattergl\": [{\"marker\": {\"colorbar\": {\"outlinewidth\": 1, \"tickcolor\": \"rgb(36,36,36)\", \"ticks\": \"outside\"}}, \"type\": \"scattergl\"}], \"scattermapbox\": [{\"marker\": {\"colorbar\": {\"outlinewidth\": 1, \"tickcolor\": \"rgb(36,36,36)\", \"ticks\": \"outside\"}}, \"type\": \"scattermapbox\"}], \"scatterpolar\": [{\"marker\": {\"colorbar\": {\"outlinewidth\": 1, \"tickcolor\": \"rgb(36,36,36)\", \"ticks\": \"outside\"}}, \"type\": \"scatterpolar\"}], \"scatterpolargl\": [{\"marker\": {\"colorbar\": {\"outlinewidth\": 1, \"tickcolor\": \"rgb(36,36,36)\", \"ticks\": \"outside\"}}, \"type\": \"scatterpolargl\"}], \"scatterternary\": [{\"marker\": {\"colorbar\": {\"outlinewidth\": 1, \"tickcolor\": \"rgb(36,36,36)\", \"ticks\": \"outside\"}}, \"type\": \"scatterternary\"}], \"surface\": [{\"colorbar\": {\"outlinewidth\": 1, \"tickcolor\": \"rgb(36,36,36)\", \"ticks\": \"outside\"}, \"colorscale\": [[0.0, \"#440154\"], [0.1111111111111111, \"#482878\"], [0.2222222222222222, \"#3e4989\"], [0.3333333333333333, \"#31688e\"], [0.4444444444444444, \"#26828e\"], [0.5555555555555556, \"#1f9e89\"], [0.6666666666666666, \"#35b779\"], [0.7777777777777778, \"#6ece58\"], [0.8888888888888888, \"#b5de2b\"], [1.0, \"#fde725\"]], \"type\": \"surface\"}], \"table\": [{\"cells\": {\"fill\": {\"color\": \"rgb(237,237,237)\"}, \"line\": {\"color\": \"white\"}}, \"header\": {\"fill\": {\"color\": \"rgb(217,217,217)\"}, \"line\": {\"color\": \"white\"}}, \"type\": \"table\"}]}, \"layout\": {\"annotationdefaults\": {\"arrowhead\": 0, \"arrowwidth\": 1}, \"autotypenumbers\": \"strict\", \"coloraxis\": {\"colorbar\": {\"outlinewidth\": 1, \"tickcolor\": \"rgb(36,36,36)\", \"ticks\": \"outside\"}}, \"colorscale\": {\"diverging\": [[0.0, \"rgb(103,0,31)\"], [0.1, \"rgb(178,24,43)\"], [0.2, \"rgb(214,96,77)\"], [0.3, \"rgb(244,165,130)\"], [0.4, \"rgb(253,219,199)\"], [0.5, \"rgb(247,247,247)\"], [0.6, \"rgb(209,229,240)\"], [0.7, \"rgb(146,197,222)\"], [0.8, \"rgb(67,147,195)\"], [0.9, \"rgb(33,102,172)\"], [1.0, \"rgb(5,48,97)\"]], \"sequential\": [[0.0, \"#440154\"], [0.1111111111111111, \"#482878\"], [0.2222222222222222, \"#3e4989\"], [0.3333333333333333, \"#31688e\"], [0.4444444444444444, \"#26828e\"], [0.5555555555555556, \"#1f9e89\"], [0.6666666666666666, \"#35b779\"], [0.7777777777777778, \"#6ece58\"], [0.8888888888888888, \"#b5de2b\"], [1.0, \"#fde725\"]], \"sequentialminus\": [[0.0, \"#440154\"], [0.1111111111111111, \"#482878\"], [0.2222222222222222, \"#3e4989\"], [0.3333333333333333, \"#31688e\"], [0.4444444444444444, \"#26828e\"], [0.5555555555555556, \"#1f9e89\"], [0.6666666666666666, \"#35b779\"], [0.7777777777777778, \"#6ece58\"], [0.8888888888888888, \"#b5de2b\"], [1.0, \"#fde725\"]]}, \"colorway\": [\"#1F77B4\", \"#FF7F0E\", \"#2CA02C\", \"#D62728\", \"#9467BD\", \"#8C564B\", \"#E377C2\", \"#7F7F7F\", \"#BCBD22\", \"#17BECF\"], \"font\": {\"color\": \"rgb(36,36,36)\"}, \"geo\": {\"bgcolor\": \"white\", \"lakecolor\": \"white\", \"landcolor\": \"white\", \"showlakes\": true, \"showland\": true, \"subunitcolor\": \"white\"}, \"hoverlabel\": {\"align\": \"left\"}, \"hovermode\": \"closest\", \"mapbox\": {\"style\": \"light\"}, \"paper_bgcolor\": \"white\", \"plot_bgcolor\": \"white\", \"polar\": {\"angularaxis\": {\"gridcolor\": \"rgb(232,232,232)\", \"linecolor\": \"rgb(36,36,36)\", \"showgrid\": false, \"showline\": true, \"ticks\": \"outside\"}, \"bgcolor\": \"white\", \"radialaxis\": {\"gridcolor\": \"rgb(232,232,232)\", \"linecolor\": \"rgb(36,36,36)\", \"showgrid\": false, \"showline\": true, \"ticks\": \"outside\"}}, \"scene\": {\"xaxis\": {\"backgroundcolor\": \"white\", \"gridcolor\": \"rgb(232,232,232)\", \"gridwidth\": 2, \"linecolor\": \"rgb(36,36,36)\", \"showbackground\": true, \"showgrid\": false, \"showline\": true, \"ticks\": \"outside\", \"zeroline\": false, \"zerolinecolor\": \"rgb(36,36,36)\"}, \"yaxis\": {\"backgroundcolor\": \"white\", \"gridcolor\": \"rgb(232,232,232)\", \"gridwidth\": 2, \"linecolor\": \"rgb(36,36,36)\", \"showbackground\": true, \"showgrid\": false, \"showline\": true, \"ticks\": \"outside\", \"zeroline\": false, \"zerolinecolor\": \"rgb(36,36,36)\"}, \"zaxis\": {\"backgroundcolor\": \"white\", \"gridcolor\": \"rgb(232,232,232)\", \"gridwidth\": 2, \"linecolor\": \"rgb(36,36,36)\", \"showbackground\": true, \"showgrid\": false, \"showline\": true, \"ticks\": \"outside\", \"zeroline\": false, \"zerolinecolor\": \"rgb(36,36,36)\"}}, \"shapedefaults\": {\"fillcolor\": \"black\", \"line\": {\"width\": 0}, \"opacity\": 0.3}, \"ternary\": {\"aaxis\": {\"gridcolor\": \"rgb(232,232,232)\", \"linecolor\": \"rgb(36,36,36)\", \"showgrid\": false, \"showline\": true, \"ticks\": \"outside\"}, \"baxis\": {\"gridcolor\": \"rgb(232,232,232)\", \"linecolor\": \"rgb(36,36,36)\", \"showgrid\": false, \"showline\": true, \"ticks\": \"outside\"}, \"bgcolor\": \"white\", \"caxis\": {\"gridcolor\": \"rgb(232,232,232)\", \"linecolor\": \"rgb(36,36,36)\", \"showgrid\": false, \"showline\": true, \"ticks\": \"outside\"}}, \"title\": {\"x\": 0.05}, \"xaxis\": {\"automargin\": true, \"gridcolor\": \"rgb(232,232,232)\", \"linecolor\": \"rgb(36,36,36)\", \"showgrid\": false, \"showline\": true, \"ticks\": \"outside\", \"title\": {\"standoff\": 15}, \"zeroline\": false, \"zerolinecolor\": \"rgb(36,36,36)\"}, \"yaxis\": {\"automargin\": true, \"gridcolor\": \"rgb(232,232,232)\", \"linecolor\": \"rgb(36,36,36)\", \"showgrid\": false, \"showline\": true, \"ticks\": \"outside\", \"title\": {\"standoff\": 15}, \"zeroline\": false, \"zerolinecolor\": \"rgb(36,36,36)\"}}}, \"title\": {\"font\": {\"color\": \"Black\", \"size\": 22}, \"text\": \"<b>Topics over Time\", \"x\": 0.4, \"xanchor\": \"center\", \"y\": 0.95, \"yanchor\": \"top\"}, \"width\": 1250, \"xaxis\": {\"showgrid\": true}, \"yaxis\": {\"showgrid\": true, \"title\": {\"text\": \"Frequency\"}}},                        {\"responsive\": true}                    ).then(function(){\n",
              "                            \n",
              "var gd = document.getElementById('cc58e508-5b78-4b5e-a7b2-d3753c5a93b1');\n",
              "var x = new MutationObserver(function (mutations, observer) {{\n",
              "        var display = window.getComputedStyle(gd).display;\n",
              "        if (!display || display === 'none') {{\n",
              "            console.log([gd, 'removed!']);\n",
              "            Plotly.purge(gd);\n",
              "            observer.disconnect();\n",
              "        }}\n",
              "}});\n",
              "\n",
              "// Listen for the removal of the full notebook cells\n",
              "var notebookContainer = gd.closest('#notebook-container');\n",
              "if (notebookContainer) {{\n",
              "    x.observe(notebookContainer, {childList: true});\n",
              "}}\n",
              "\n",
              "// Listen for the clearing of the current output cell\n",
              "var outputEl = gd.closest('.output');\n",
              "if (outputEl) {{\n",
              "    x.observe(outputEl, {childList: true});\n",
              "}}\n",
              "\n",
              "                        })                };                            </script>        </div>\n",
              "</body>\n",
              "</html>"
            ]
          },
          "metadata": {
            "tags": []
          }
        }
      ]
    },
    {
      "cell_type": "code",
      "metadata": {
        "colab": {
          "base_uri": "https://localhost:8080/",
          "height": 393
        },
        "id": "soai9K0Unp09",
        "outputId": "f3a252d9-1f75-485d-be46-5fe8ffe7f952"
      },
      "source": [
        "best.visualize_distribution(pro[3])"
      ],
      "execution_count": null,
      "outputs": [
        {
          "output_type": "display_data",
          "data": {
            "image/png": "[encoded data removed]",
            "text/plain": [
              "<Figure size 720x360 with 1 Axes>"
            ]
          },
          "metadata": {
            "tags": [],
            "needs_background": "light"
          }
        }
      ]
    },
    {
      "cell_type": "code",
      "metadata": {
        "colab": {
          "base_uri": "https://localhost:8080/",
          "height": 137
        },
        "id": "Uj9ejgpGrSQd",
        "outputId": "3611625a-fafd-4a9a-9abc-263081372bf6"
      },
      "source": [
        "docs_clean[3]"
      ],
      "execution_count": null,
      "outputs": [
        {
          "output_type": "execute_result",
          "data": {
            "application/vnd.google.colaboratory.intrinsic+json": {
              "type": "string"
            },
            "text/plain": [
              "\"quot from: nelson4lov on septemb 25 2020 pm whi are bitcoin and altcoin market drop lately? here are a coupl of reasons: 1. second wave of covid-19 fears: there' fud current go round that we might possibl see anoth market sell-off due to the increas number of covid-19 case and death throughout august and september. if it turn out to be true we'll see a sell off but not as bad as the one in that happen in march. 2. covid-19 vaccines: it' no longer news that financi market (includ the crypto market) would take the neg turn if a vaccin get approv as a cure for the virus. the problem with these kind of rumor is that they usual turn our to be safe fulfil prophecies. as they say \\x96buy the rumor sell the news. 3. a regular market correction: crypto market peak in august with bitcoin increas more than 3x sinc the atl in march. other altcoin have also seen signific gains. like went from as low as $2 to $19. so the market wa long overdu for a correction. these point are realli point to the reason bitcoin ha wit decreas in price. if not for covid-19 i believ with the halv in last may bitcoin price could have gone high by thi time. peopl are not have money and fear on health challeng is a big issu at the moment around the world.\""
            ]
          },
          "metadata": {
            "tags": []
          },
          "execution_count": 9
        }
      ]
    },
    {
      "cell_type": "code",
      "metadata": {
        "colab": {
          "base_uri": "https://localhost:8080/"
        },
        "id": "9DOmfX2Rsb0w",
        "outputId": "004c80cc-b7b4-48cc-e1b5-8c2c54eec60e"
      },
      "source": [
        "best.find_topics('covid')"
      ],
      "execution_count": null,
      "outputs": [
        {
          "output_type": "execute_result",
          "data": {
            "text/plain": [
              "([-1, 121, 142, 236, 220],\n",
              " [0.8566866950395018,\n",
              "  0.7826718560311308,\n",
              "  0.6796910112700134,\n",
              "  0.5570599476131947,\n",
              "  0.3903457854109401])"
            ]
          },
          "metadata": {
            "tags": []
          },
          "execution_count": 202
        }
      ]
    },
    {
      "cell_type": "code",
      "metadata": {
        "id": "SCdBJDlMcLfq"
      },
      "source": [
        "best2 = BERTopic.load('/content/drive/My Drive/word2vec_token_10')"
      ],
      "execution_count": null,
      "outputs": []
    },
    {
      "cell_type": "code",
      "metadata": {
        "id": "w2PJSSDtcR4_"
      },
      "source": [
        "top2 = np.load('/content/drive/My Drive/topic_w2v_10.npy')\n",
        "pro2 = np.load('/content/drive/My Drive/prob_w2v_10.npy')"
      ],
      "execution_count": null,
      "outputs": []
    },
    {
      "cell_type": "code",
      "metadata": {
        "id": "gEHx7LE3cT1c"
      },
      "source": [
        "topics_over_time = best2.topics_over_time(new_tokens, top2, clean_times, evolution_tuning = True,\n",
        "                         global_tuning = False)"
      ],
      "execution_count": null,
      "outputs": []
    },
    {
      "cell_type": "code",
      "metadata": {
        "colab": {
          "base_uri": "https://localhost:8080/",
          "height": 467
        },
        "id": "edIaR3hleT_9",
        "outputId": "f4ff4e07-507c-4a86-cd4a-f71e642ae6a8"
      },
      "source": [
        "best2.visualize_topics_over_time(topics_over_time, top_n=5) #fitted to tokens"
      ],
      "execution_count": null,
      "outputs": [
        {
          "output_type": "display_data",
          "data": {
            "text/html": [
              "<html>\n",
              "<head><meta charset=\"utf-8\" /></head>\n",
              "<body>\n",
              "    <div>            <script src=\"https://cdnjs.cloudflare.com/ajax/libs/mathjax/2.7.5/MathJax.js?config=TeX-AMS-MML_SVG\"></script><script type=\"text/javascript\">if (window.MathJax) {MathJax.Hub.Config({SVG: {font: \"STIX-Web\"}});}</script>                <script type=\"text/javascript\">window.PlotlyConfig = {MathJaxConfig: 'local'};</script>\n",
              "        <script src=\"https://cdn.plot.ly/plotly-latest.min.js\"></script>                <div id=\"383f1f51-fdc5-477e-958f-9e5b1dccb6ed\" class=\"plotly-graph-div\" style=\"height:450px; width:1250px;\"></div>            <script type=\"text/javascript\">                                    window.PLOTLYENV=window.PLOTLYENV || {};                                    if (document.getElementById(\"383f1f51-fdc5-477e-958f-9e5b1dccb6ed\")) {                    Plotly.newPlot(                        \"383f1f51-fdc5-477e-958f-9e5b1dccb6ed\",                        [{\"hoverinfo\": \"text\", \"hovertext\": [\"<b>Topic 3</b><br>Words: shark, specie, ecosystem, sharks, use shark\", \"<b>Topic 3</b><br>Words: shark, animal, sharks, ocean, sustainable\", \"<b>Topic 3</b><br>Words: shark, animal, sharks, ecosystem, specie\", \"<b>Topic 3</b><br>Words: life beta, wield use, literally life, revert able, able dual\", \"<b>Topic 3</b><br>Words: reservoir nature, let fauci, fauci irresponsible, crisis let, ebola crisis\", \"<b>Topic 3</b><br>Words: fit let, course survival, let natural, selection course, survival fit\", \"<b>Topic 3</b><br>Words: farm oregon, farm vaccine, farm uruguay, farm remember, farm pedigree\", \"<b>Topic 3</b><br>Words: human, philosophy human, human extinction, probability nature, catastrophe humanity\", \"<b>Topic 3</b><br>Words: murder, hundreds, save, extinction, disgusting\", \"<b>Topic 3</b><br>Words: tdtd, tdtd tdtd, tr, tdtd tr, tr tdtd\", \"<b>Topic 3</b><br>Words: farm farm, farm brazil, farm oregon, farm pedigree, farm animal\", \"<b>Topic 3</b><br>Words: kill, alec kill, kill shot, kill protein, protein poisoning\"], \"marker\": {\"color\": \"#E69F00\"}, \"mode\": \"lines\", \"name\": \"3_shark_animal_sharks_ocean\", \"type\": \"scatter\", \"x\": [\"2020-09-28T00:00:00\", \"2020-09-29T00:00:00\", \"2020-09-30T00:00:00\", \"2020-10-29T00:00:00\", \"2020-10-30T00:00:00\", \"2020-10-31T00:00:00\", \"2020-11-29T00:00:00\", \"2020-11-30T00:00:00\", \"2020-12-31T00:00:00\", \"2021-01-31T00:00:00\", \"2021-02-27T00:00:00\", \"2021-02-28T00:00:00\"], \"y\": [248, 535, 343, 3, 4, 1, 1, 14, 24, 8, 1, 11]}, {\"hoverinfo\": \"text\", \"hovertext\": [\"<b>Topic 157</b><br>Words: market, investor, price, stock, demand\", \"<b>Topic 157</b><br>Words: market, stock, sp, sp 500, price\", \"<b>Topic 157</b><br>Words: market, stock, price, buy, time\", \"<b>Topic 157</b><br>Words: stock, market, price, share, cash\", \"<b>Topic 157</b><br>Words: stock, market, price, gain, earning\", \"<b>Topic 157</b><br>Words: stock, price, stock big, market, buy\", \"<b>Topic 157</b><br>Words: market, price, nov, think market, market know\", \"<b>Topic 157</b><br>Words: market, stock, dollar, investor, price\", \"<b>Topic 157</b><br>Words: net worth, success, china net, stock, moderate success\", \"<b>Topic 157</b><br>Words: nvax, news minute, mrna submit, read nvax, result year\", \"<b>Topic 157</b><br>Words: market, nvax, price, stock, buy\", \"<b>Topic 157</b><br>Words: price, stock, sale, stock price, quarter\", \"<b>Topic 157</b><br>Words: market, company, cash, coles, growth\"], \"marker\": {\"color\": \"#56B4E9\"}, \"mode\": \"lines\", \"name\": \"157_market_stock_price_investor\", \"type\": \"scatter\", \"x\": [\"2020-09-28T00:00:00\", \"2020-09-29T00:00:00\", \"2020-09-30T00:00:00\", \"2020-10-29T00:00:00\", \"2020-10-30T00:00:00\", \"2020-10-31T00:00:00\", \"2020-11-29T00:00:00\", \"2020-11-30T00:00:00\", \"2020-12-31T00:00:00\", \"2021-01-30T00:00:00\", \"2021-01-31T00:00:00\", \"2021-02-27T00:00:00\", \"2021-02-28T00:00:00\"], \"y\": [34, 38, 36, 32, 40, 13, 12, 102, 50, 1, 51, 16, 24]}, {\"hoverinfo\": \"text\", \"hovertext\": [\"<b>Topic 165</b><br>Words: flu, shoot, flu shoot, shingle shoot, shoot flu\", \"<b>Topic 165</b><br>Words: shingle, shoot, shingrix, flu shoot, shingle shoot\", \"<b>Topic 165</b><br>Words: muscle ache, cough problem, wheeze headache, effect nasal, vomiting muscle\", \"<b>Topic 165</b><br>Words: cough, injection flu, flu jab, jab, covid injection\", \"<b>Topic 165</b><br>Words: fever, flu, kid, flu jab, headache\", \"<b>Topic 165</b><br>Words: pneumonia, shingrix, site, shingrix site, brightdoglover pneumonia\", \"<b>Topic 165</b><br>Words: wife, days, throat days, days weird, wife scatchy\", \"<b>Topic 165</b><br>Words: headache, fever, ache, muscle ache, arm\", \"<b>Topic 165</b><br>Words: arm, sore, day, sore arm, hours\", \"<b>Topic 165</b><br>Words: shot, sore, soreness, arm, muscle\", \"<b>Topic 165</b><br>Words: arm, sore, sore arm, day, days\", \"<b>Topic 165</b><br>Words: arm, sore, sore arm, hours, headache\", \"<b>Topic 165</b><br>Words: arm, sore, sore arm, second, weeks\"], \"marker\": {\"color\": \"#009E73\"}, \"mode\": \"lines\", \"name\": \"165_arm_sore_sore arm_shot\", \"type\": \"scatter\", \"x\": [\"2020-09-28T00:00:00\", \"2020-09-29T00:00:00\", \"2020-09-30T00:00:00\", \"2020-10-29T00:00:00\", \"2020-10-30T00:00:00\", \"2020-10-31T00:00:00\", \"2020-11-29T00:00:00\", \"2020-11-30T00:00:00\", \"2020-12-31T00:00:00\", \"2021-01-30T00:00:00\", \"2021-01-31T00:00:00\", \"2021-02-27T00:00:00\", \"2021-02-28T00:00:00\"], \"y\": [5, 7, 5, 12, 9, 3, 4, 48, 106, 9, 194, 125, 316]}, {\"hoverinfo\": \"text\", \"hovertext\": [\"<b>Topic 257</b><br>Words: lockdown, people, restriction, like, think\", \"<b>Topic 257</b><br>Words: lockdown, virus, think, people, time\", \"<b>Topic 257</b><br>Words: care, way, care home, rate, death rate\", \"<b>Topic 257</b><br>Words: sweden, lockdown, vulnerable, stallion write, stallion\", \"<b>Topic 257</b><br>Words: herd immunity, president trump, sweden, president, covid19\", \"<b>Topic 257</b><br>Words: lockdown, think, immunity, herd immunity, herd\", \"<b>Topic 257</b><br>Words: ride, christmas, nerve march, ground travel, behave summer\", \"<b>Topic 257</b><br>Words: restriction, lockdown, covid, vaccine, people\", \"<b>Topic 257</b><br>Words: lockdown, need, restriction, people, virus\", \"<b>Topic 257</b><br>Words: case lift, deem acceptable, order society, acceptable term, want low\", \"<b>Topic 257</b><br>Words: covid, risk, people, spread, case\", \"<b>Topic 257</b><br>Words: outdoor, beach, weather, outdoor stuff, hospitality\", \"<b>Topic 257</b><br>Words: lockdown, outside, nice public, beach, restriction\"], \"marker\": {\"color\": \"#F0E442\"}, \"mode\": \"lines\", \"name\": \"257_lockdown_herd immunity_herd_immunity\", \"type\": \"scatter\", \"x\": [\"2020-09-28T00:00:00\", \"2020-09-29T00:00:00\", \"2020-09-30T00:00:00\", \"2020-10-29T00:00:00\", \"2020-10-30T00:00:00\", \"2020-10-31T00:00:00\", \"2020-11-29T00:00:00\", \"2020-11-30T00:00:00\", \"2020-12-31T00:00:00\", \"2021-01-30T00:00:00\", \"2021-01-31T00:00:00\", \"2021-02-27T00:00:00\", \"2021-02-28T00:00:00\"], \"y\": [49, 27, 45, 33, 74, 56, 1, 31, 28, 1, 42, 12, 30]}, {\"hoverinfo\": \"text\", \"hovertext\": [\"<b>Topic 81</b><br>Words: farm vaccine, farm uruguay, farm remember, farm pedigree, farm oregon\", \"<b>Topic 81</b><br>Words: farm pedigree, farm vaccine, farm uruguay, farm remember, farm freeze\", \"<b>Topic 81</b><br>Words: game, cyberpunk, console, 2077, sky\", \"<b>Topic 81</b><br>Words: game, release, cyberpunk, 2077, original release\", \"<b>Topic 81</b><br>Words: game, cyberpunk, appreciate projekt, okay cyberpunk, release basically\", \"<b>Topic 81</b><br>Words: look title, inch dong, title kek, dong video, 13 inch\", \"<b>Topic 81</b><br>Words: covid years, years ago, release approve, release, anymore nvax\", \"<b>Topic 81</b><br>Words: game, post, years, cuomo game, mad cuomo\", \"<b>Topic 81</b><br>Words: game, game roll, changer tptw, game win, vaccination game\", \"<b>Topic 81</b><br>Words: farm oregon, farm vaccine, farm uruguay, farm remember, farm pedigree\", \"<b>Topic 81</b><br>Words: game, probably, hurt game, game 50s, game 1980s\"], \"marker\": {\"color\": \"#D55E00\"}, \"mode\": \"lines\", \"name\": \"81_game_release_cyberpunk_2077\", \"type\": \"scatter\", \"x\": [\"2020-09-29T00:00:00\", \"2020-09-30T00:00:00\", \"2020-10-29T00:00:00\", \"2020-10-30T00:00:00\", \"2020-10-31T00:00:00\", \"2020-11-29T00:00:00\", \"2020-11-30T00:00:00\", \"2020-12-31T00:00:00\", \"2021-01-31T00:00:00\", \"2021-02-27T00:00:00\", \"2021-02-28T00:00:00\"], \"y\": [2, 1, 277, 121, 6, 2, 8, 8, 7, 1, 1]}],                        {\"height\": 450, \"hoverlabel\": {\"bgcolor\": \"white\", \"font\": {\"family\": \"Rockwell\", \"size\": 16}}, \"legend\": {\"title\": {\"text\": \"<b>Global Topic Representation\"}}, \"template\": {\"data\": {\"bar\": [{\"error_x\": {\"color\": \"rgb(36,36,36)\"}, \"error_y\": {\"color\": \"rgb(36,36,36)\"}, \"marker\": {\"line\": {\"color\": \"white\", \"width\": 0.5}}, \"type\": \"bar\"}], \"barpolar\": [{\"marker\": {\"line\": {\"color\": \"white\", \"width\": 0.5}}, \"type\": \"barpolar\"}], \"carpet\": [{\"aaxis\": {\"endlinecolor\": \"rgb(36,36,36)\", \"gridcolor\": \"white\", \"linecolor\": \"white\", \"minorgridcolor\": \"white\", \"startlinecolor\": \"rgb(36,36,36)\"}, \"baxis\": {\"endlinecolor\": \"rgb(36,36,36)\", \"gridcolor\": \"white\", \"linecolor\": \"white\", \"minorgridcolor\": \"white\", \"startlinecolor\": \"rgb(36,36,36)\"}, \"type\": \"carpet\"}], \"choropleth\": [{\"colorbar\": {\"outlinewidth\": 1, \"tickcolor\": \"rgb(36,36,36)\", \"ticks\": \"outside\"}, \"type\": \"choropleth\"}], \"contour\": [{\"colorbar\": {\"outlinewidth\": 1, \"tickcolor\": \"rgb(36,36,36)\", \"ticks\": \"outside\"}, \"colorscale\": [[0.0, \"#440154\"], [0.1111111111111111, \"#482878\"], [0.2222222222222222, \"#3e4989\"], [0.3333333333333333, \"#31688e\"], [0.4444444444444444, \"#26828e\"], [0.5555555555555556, \"#1f9e89\"], [0.6666666666666666, \"#35b779\"], [0.7777777777777778, \"#6ece58\"], [0.8888888888888888, \"#b5de2b\"], [1.0, \"#fde725\"]], \"type\": \"contour\"}], \"contourcarpet\": [{\"colorbar\": {\"outlinewidth\": 1, \"tickcolor\": \"rgb(36,36,36)\", \"ticks\": \"outside\"}, \"type\": \"contourcarpet\"}], \"heatmap\": [{\"colorbar\": {\"outlinewidth\": 1, \"tickcolor\": \"rgb(36,36,36)\", \"ticks\": \"outside\"}, \"colorscale\": [[0.0, \"#440154\"], [0.1111111111111111, \"#482878\"], [0.2222222222222222, \"#3e4989\"], [0.3333333333333333, \"#31688e\"], [0.4444444444444444, \"#26828e\"], [0.5555555555555556, \"#1f9e89\"], [0.6666666666666666, \"#35b779\"], [0.7777777777777778, \"#6ece58\"], [0.8888888888888888, \"#b5de2b\"], [1.0, \"#fde725\"]], \"type\": \"heatmap\"}], \"heatmapgl\": [{\"colorbar\": {\"outlinewidth\": 1, \"tickcolor\": \"rgb(36,36,36)\", \"ticks\": \"outside\"}, \"colorscale\": [[0.0, \"#440154\"], [0.1111111111111111, \"#482878\"], [0.2222222222222222, \"#3e4989\"], [0.3333333333333333, \"#31688e\"], [0.4444444444444444, \"#26828e\"], [0.5555555555555556, \"#1f9e89\"], [0.6666666666666666, \"#35b779\"], [0.7777777777777778, \"#6ece58\"], [0.8888888888888888, \"#b5de2b\"], [1.0, \"#fde725\"]], \"type\": \"heatmapgl\"}], \"histogram\": [{\"marker\": {\"line\": {\"color\": \"white\", \"width\": 0.6}}, \"type\": \"histogram\"}], \"histogram2d\": [{\"colorbar\": {\"outlinewidth\": 1, \"tickcolor\": \"rgb(36,36,36)\", \"ticks\": \"outside\"}, \"colorscale\": [[0.0, \"#440154\"], [0.1111111111111111, \"#482878\"], [0.2222222222222222, \"#3e4989\"], [0.3333333333333333, \"#31688e\"], [0.4444444444444444, \"#26828e\"], [0.5555555555555556, \"#1f9e89\"], [0.6666666666666666, \"#35b779\"], [0.7777777777777778, \"#6ece58\"], [0.8888888888888888, \"#b5de2b\"], [1.0, \"#fde725\"]], \"type\": \"histogram2d\"}], \"histogram2dcontour\": [{\"colorbar\": {\"outlinewidth\": 1, \"tickcolor\": \"rgb(36,36,36)\", \"ticks\": \"outside\"}, \"colorscale\": [[0.0, \"#440154\"], [0.1111111111111111, \"#482878\"], [0.2222222222222222, \"#3e4989\"], [0.3333333333333333, \"#31688e\"], [0.4444444444444444, \"#26828e\"], [0.5555555555555556, \"#1f9e89\"], [0.6666666666666666, \"#35b779\"], [0.7777777777777778, \"#6ece58\"], [0.8888888888888888, \"#b5de2b\"], [1.0, \"#fde725\"]], \"type\": \"histogram2dcontour\"}], \"mesh3d\": [{\"colorbar\": {\"outlinewidth\": 1, \"tickcolor\": \"rgb(36,36,36)\", \"ticks\": \"outside\"}, \"type\": \"mesh3d\"}], \"parcoords\": [{\"line\": {\"colorbar\": {\"outlinewidth\": 1, \"tickcolor\": \"rgb(36,36,36)\", \"ticks\": \"outside\"}}, \"type\": \"parcoords\"}], \"pie\": [{\"automargin\": true, \"type\": \"pie\"}], \"scatter\": [{\"marker\": {\"colorbar\": {\"outlinewidth\": 1, \"tickcolor\": \"rgb(36,36,36)\", \"ticks\": \"outside\"}}, \"type\": \"scatter\"}], \"scatter3d\": [{\"line\": {\"colorbar\": {\"outlinewidth\": 1, \"tickcolor\": \"rgb(36,36,36)\", \"ticks\": \"outside\"}}, \"marker\": {\"colorbar\": {\"outlinewidth\": 1, \"tickcolor\": \"rgb(36,36,36)\", \"ticks\": \"outside\"}}, \"type\": \"scatter3d\"}], \"scattercarpet\": [{\"marker\": {\"colorbar\": {\"outlinewidth\": 1, \"tickcolor\": \"rgb(36,36,36)\", \"ticks\": \"outside\"}}, \"type\": \"scattercarpet\"}], \"scattergeo\": [{\"marker\": {\"colorbar\": {\"outlinewidth\": 1, \"tickcolor\": \"rgb(36,36,36)\", \"ticks\": \"outside\"}}, \"type\": \"scattergeo\"}], \"scattergl\": [{\"marker\": {\"colorbar\": {\"outlinewidth\": 1, \"tickcolor\": \"rgb(36,36,36)\", \"ticks\": \"outside\"}}, \"type\": \"scattergl\"}], \"scattermapbox\": [{\"marker\": {\"colorbar\": {\"outlinewidth\": 1, \"tickcolor\": \"rgb(36,36,36)\", \"ticks\": \"outside\"}}, \"type\": \"scattermapbox\"}], \"scatterpolar\": [{\"marker\": {\"colorbar\": {\"outlinewidth\": 1, \"tickcolor\": \"rgb(36,36,36)\", \"ticks\": \"outside\"}}, \"type\": \"scatterpolar\"}], \"scatterpolargl\": [{\"marker\": {\"colorbar\": {\"outlinewidth\": 1, \"tickcolor\": \"rgb(36,36,36)\", \"ticks\": \"outside\"}}, \"type\": \"scatterpolargl\"}], \"scatterternary\": [{\"marker\": {\"colorbar\": {\"outlinewidth\": 1, \"tickcolor\": \"rgb(36,36,36)\", \"ticks\": \"outside\"}}, \"type\": \"scatterternary\"}], \"surface\": [{\"colorbar\": {\"outlinewidth\": 1, \"tickcolor\": \"rgb(36,36,36)\", \"ticks\": \"outside\"}, \"colorscale\": [[0.0, \"#440154\"], [0.1111111111111111, \"#482878\"], [0.2222222222222222, \"#3e4989\"], [0.3333333333333333, \"#31688e\"], [0.4444444444444444, \"#26828e\"], [0.5555555555555556, \"#1f9e89\"], [0.6666666666666666, \"#35b779\"], [0.7777777777777778, \"#6ece58\"], [0.8888888888888888, \"#b5de2b\"], [1.0, \"#fde725\"]], \"type\": \"surface\"}], \"table\": [{\"cells\": {\"fill\": {\"color\": \"rgb(237,237,237)\"}, \"line\": {\"color\": \"white\"}}, \"header\": {\"fill\": {\"color\": \"rgb(217,217,217)\"}, \"line\": {\"color\": \"white\"}}, \"type\": \"table\"}]}, \"layout\": {\"annotationdefaults\": {\"arrowhead\": 0, \"arrowwidth\": 1}, \"autotypenumbers\": \"strict\", \"coloraxis\": {\"colorbar\": {\"outlinewidth\": 1, \"tickcolor\": \"rgb(36,36,36)\", \"ticks\": \"outside\"}}, \"colorscale\": {\"diverging\": [[0.0, \"rgb(103,0,31)\"], [0.1, \"rgb(178,24,43)\"], [0.2, \"rgb(214,96,77)\"], [0.3, \"rgb(244,165,130)\"], [0.4, \"rgb(253,219,199)\"], [0.5, \"rgb(247,247,247)\"], [0.6, \"rgb(209,229,240)\"], [0.7, \"rgb(146,197,222)\"], [0.8, \"rgb(67,147,195)\"], [0.9, \"rgb(33,102,172)\"], [1.0, \"rgb(5,48,97)\"]], \"sequential\": [[0.0, \"#440154\"], [0.1111111111111111, \"#482878\"], [0.2222222222222222, \"#3e4989\"], [0.3333333333333333, \"#31688e\"], [0.4444444444444444, \"#26828e\"], [0.5555555555555556, \"#1f9e89\"], [0.6666666666666666, \"#35b779\"], [0.7777777777777778, \"#6ece58\"], [0.8888888888888888, \"#b5de2b\"], [1.0, \"#fde725\"]], \"sequentialminus\": [[0.0, \"#440154\"], [0.1111111111111111, \"#482878\"], [0.2222222222222222, \"#3e4989\"], [0.3333333333333333, \"#31688e\"], [0.4444444444444444, \"#26828e\"], [0.5555555555555556, \"#1f9e89\"], [0.6666666666666666, \"#35b779\"], [0.7777777777777778, \"#6ece58\"], [0.8888888888888888, \"#b5de2b\"], [1.0, \"#fde725\"]]}, \"colorway\": [\"#1F77B4\", \"#FF7F0E\", \"#2CA02C\", \"#D62728\", \"#9467BD\", \"#8C564B\", \"#E377C2\", \"#7F7F7F\", \"#BCBD22\", \"#17BECF\"], \"font\": {\"color\": \"rgb(36,36,36)\"}, \"geo\": {\"bgcolor\": \"white\", \"lakecolor\": \"white\", \"landcolor\": \"white\", \"showlakes\": true, \"showland\": true, \"subunitcolor\": \"white\"}, \"hoverlabel\": {\"align\": \"left\"}, \"hovermode\": \"closest\", \"mapbox\": {\"style\": \"light\"}, \"paper_bgcolor\": \"white\", \"plot_bgcolor\": \"white\", \"polar\": {\"angularaxis\": {\"gridcolor\": \"rgb(232,232,232)\", \"linecolor\": \"rgb(36,36,36)\", \"showgrid\": false, \"showline\": true, \"ticks\": \"outside\"}, \"bgcolor\": \"white\", \"radialaxis\": {\"gridcolor\": \"rgb(232,232,232)\", \"linecolor\": \"rgb(36,36,36)\", \"showgrid\": false, \"showline\": true, \"ticks\": \"outside\"}}, \"scene\": {\"xaxis\": {\"backgroundcolor\": \"white\", \"gridcolor\": \"rgb(232,232,232)\", \"gridwidth\": 2, \"linecolor\": \"rgb(36,36,36)\", \"showbackground\": true, \"showgrid\": false, \"showline\": true, \"ticks\": \"outside\", \"zeroline\": false, \"zerolinecolor\": \"rgb(36,36,36)\"}, \"yaxis\": {\"backgroundcolor\": \"white\", \"gridcolor\": \"rgb(232,232,232)\", \"gridwidth\": 2, \"linecolor\": \"rgb(36,36,36)\", \"showbackground\": true, \"showgrid\": false, \"showline\": true, \"ticks\": \"outside\", \"zeroline\": false, \"zerolinecolor\": \"rgb(36,36,36)\"}, \"zaxis\": {\"backgroundcolor\": \"white\", \"gridcolor\": \"rgb(232,232,232)\", \"gridwidth\": 2, \"linecolor\": \"rgb(36,36,36)\", \"showbackground\": true, \"showgrid\": false, \"showline\": true, \"ticks\": \"outside\", \"zeroline\": false, \"zerolinecolor\": \"rgb(36,36,36)\"}}, \"shapedefaults\": {\"fillcolor\": \"black\", \"line\": {\"width\": 0}, \"opacity\": 0.3}, \"ternary\": {\"aaxis\": {\"gridcolor\": \"rgb(232,232,232)\", \"linecolor\": \"rgb(36,36,36)\", \"showgrid\": false, \"showline\": true, \"ticks\": \"outside\"}, \"baxis\": {\"gridcolor\": \"rgb(232,232,232)\", \"linecolor\": \"rgb(36,36,36)\", \"showgrid\": false, \"showline\": true, \"ticks\": \"outside\"}, \"bgcolor\": \"white\", \"caxis\": {\"gridcolor\": \"rgb(232,232,232)\", \"linecolor\": \"rgb(36,36,36)\", \"showgrid\": false, \"showline\": true, \"ticks\": \"outside\"}}, \"title\": {\"x\": 0.05}, \"xaxis\": {\"automargin\": true, \"gridcolor\": \"rgb(232,232,232)\", \"linecolor\": \"rgb(36,36,36)\", \"showgrid\": false, \"showline\": true, \"ticks\": \"outside\", \"title\": {\"standoff\": 15}, \"zeroline\": false, \"zerolinecolor\": \"rgb(36,36,36)\"}, \"yaxis\": {\"automargin\": true, \"gridcolor\": \"rgb(232,232,232)\", \"linecolor\": \"rgb(36,36,36)\", \"showgrid\": false, \"showline\": true, \"ticks\": \"outside\", \"title\": {\"standoff\": 15}, \"zeroline\": false, \"zerolinecolor\": \"rgb(36,36,36)\"}}}, \"title\": {\"font\": {\"color\": \"Black\", \"size\": 22}, \"text\": \"<b>Topics over Time\", \"x\": 0.4, \"xanchor\": \"center\", \"y\": 0.95, \"yanchor\": \"top\"}, \"width\": 1250, \"xaxis\": {\"showgrid\": true}, \"yaxis\": {\"showgrid\": true, \"title\": {\"text\": \"Frequency\"}}},                        {\"responsive\": true}                    ).then(function(){\n",
              "                            \n",
              "var gd = document.getElementById('383f1f51-fdc5-477e-958f-9e5b1dccb6ed');\n",
              "var x = new MutationObserver(function (mutations, observer) {{\n",
              "        var display = window.getComputedStyle(gd).display;\n",
              "        if (!display || display === 'none') {{\n",
              "            console.log([gd, 'removed!']);\n",
              "            Plotly.purge(gd);\n",
              "            observer.disconnect();\n",
              "        }}\n",
              "}});\n",
              "\n",
              "// Listen for the removal of the full notebook cells\n",
              "var notebookContainer = gd.closest('#notebook-container');\n",
              "if (notebookContainer) {{\n",
              "    x.observe(notebookContainer, {childList: true});\n",
              "}}\n",
              "\n",
              "// Listen for the clearing of the current output cell\n",
              "var outputEl = gd.closest('.output');\n",
              "if (outputEl) {{\n",
              "    x.observe(outputEl, {childList: true});\n",
              "}}\n",
              "\n",
              "                        })                };                            </script>        </div>\n",
              "</body>\n",
              "</html>"
            ]
          },
          "metadata": {
            "tags": []
          }
        }
      ]
    },
    {
      "cell_type": "code",
      "metadata": {
        "colab": {
          "base_uri": "https://localhost:8080/",
          "height": 393
        },
        "id": "jZO9TC01r2DK",
        "outputId": "6483521c-b0ef-40f4-e2d3-449cf5f6fe9f"
      },
      "source": [
        "best2.visualize_distribution(pro2[3])"
      ],
      "execution_count": null,
      "outputs": [
        {
          "output_type": "display_data",
          "data": {
            "image/png": "[encoded data removed]",
            "text/plain": [
              "<Figure size 720x360 with 1 Axes>"
            ]
          },
          "metadata": {
            "tags": [],
            "needs_background": "light"
          }
        }
      ]
    },
    {
      "cell_type": "code",
      "metadata": {
        "colab": {
          "base_uri": "https://localhost:8080/"
        },
        "id": "3dhAQrzJsUNH",
        "outputId": "100ee63d-a03e-46b4-8273-b8196797665e"
      },
      "source": [
        "best2.find_topics('covid')"
      ],
      "execution_count": null,
      "outputs": [
        {
          "output_type": "execute_result",
          "data": {
            "text/plain": [
              "([-1, 184, 173, 81, 257],\n",
              " [0.7505358366044297,\n",
              "  0.6673080931468828,\n",
              "  0.3943508153389468,\n",
              "  0.21426454718058077,\n",
              "  0.16730388968703938])"
            ]
          },
          "metadata": {
            "tags": []
          },
          "execution_count": 201
        }
      ]
    },
    {
      "cell_type": "markdown",
      "metadata": {
        "id": "CO4Wn0gicm3y"
      },
      "source": [
        "# **FastText Embeddings** \n",
        "\n"
      ]
    },
    {
      "cell_type": "code",
      "metadata": {
        "id": "KZPkj6Tt2xXk"
      },
      "source": [
        "from gensim.models import FastText \n",
        "\n",
        "modeling = FastText(size=100, window=5, min_count=10) \n",
        "modeling.build_vocab(sentences=my_tokens)\n",
        "modeling.train(my_tokens, total_examples=len(my_tokens), epochs=100, sg = 1, compute_loss=True)  # set sg = 1"
      ],
      "execution_count": null,
      "outputs": []
    },
    {
      "cell_type": "code",
      "metadata": {
        "id": "rtHNH1sE0dc3"
      },
      "source": [
        "word_vectorss = modeling.wv\n",
        "word_vectorss.save(\"/content/drive/My Drive/fasttext90dco\")"
      ],
      "execution_count": 184,
      "outputs": []
    },
    {
      "cell_type": "code",
      "metadata": {
        "id": "QVQVjuKf15me"
      },
      "source": [
        "#fasttext trained with 100e on tokens\n",
        "#fasttext_sw trained with 100e with stop words in sentences\n",
        "#fasttext90\n",
        "#fasttext90dco fitted on new sentences"
      ],
      "execution_count": null,
      "outputs": []
    },
    {
      "cell_type": "code",
      "metadata": {
        "id": "d5Dh_Gvf0fxl"
      },
      "source": [
        "from flair.embeddings import WordEmbeddings, DocumentPoolEmbeddings\n",
        "\n",
        "glove_embedding = WordEmbeddings(\"/content/drive/My Drive/fasttext90\")\n",
        "document_glove_embeddings = DocumentPoolEmbeddings([glove_embedding])"
      ],
      "execution_count": 39,
      "outputs": []
    },
    {
      "cell_type": "code",
      "metadata": {
        "id": "KQTLm3cqFtiD"
      },
      "source": [
        "topic_modeling = BERTopic(nr_topics = 10, calculate_probabilities = True, embedding_model=document_glove_embeddings)"
      ],
      "execution_count": 40,
      "outputs": []
    },
    {
      "cell_type": "code",
      "metadata": {
        "colab": {
          "base_uri": "https://localhost:8080/"
        },
        "id": "bEMpkBBJFKfH",
        "outputId": "a99bf58c-2b24-4564-e07c-e2bd0870205b"
      },
      "source": [
        "len(docs_clean_old)"
      ],
      "execution_count": 47,
      "outputs": [
        {
          "output_type": "execute_result",
          "data": {
            "text/plain": [
              "26040"
            ]
          },
          "metadata": {
            "tags": []
          },
          "execution_count": 47
        }
      ]
    },
    {
      "cell_type": "code",
      "metadata": {
        "id": "AVbOzReq5xQ4"
      },
      "source": [
        "topics, probabilities = topic_modeling.fit_transform(docs_clean_old)"
      ],
      "execution_count": 41,
      "outputs": []
    },
    {
      "cell_type": "code",
      "metadata": {
        "id": "GejxKVljMzWt"
      },
      "source": [
        "#remove stop words and change n-gram range\n",
        "from sklearn.feature_extraction.text import CountVectorizer\n",
        "cv = CountVectorizer(ngram_range=(1, 1), stop_words=\"english\")\n",
        "topic_modeling.update_topics(docs_clean_old, topics, vectorizer_model=cv)"
      ],
      "execution_count": 42,
      "outputs": []
    },
    {
      "cell_type": "code",
      "metadata": {
        "id": "gks-hHYKx-Sb",
        "colab": {
          "base_uri": "https://localhost:8080/",
          "height": 343
        },
        "outputId": "6942f674-9281-4930-bacd-cb5b1962c276"
      },
      "source": [
        "topic_modeling.get_topic_freq().head(10)"
      ],
      "execution_count": 43,
      "outputs": [
        {
          "output_type": "execute_result",
          "data": {
            "text/html": [
              "<div>\n",
              "<style scoped>\n",
              "    .dataframe tbody tr th:only-of-type {\n",
              "        vertical-align: middle;\n",
              "    }\n",
              "\n",
              "    .dataframe tbody tr th {\n",
              "        vertical-align: top;\n",
              "    }\n",
              "\n",
              "    .dataframe thead th {\n",
              "        text-align: right;\n",
              "    }\n",
              "</style>\n",
              "<table border=\"1\" class=\"dataframe\">\n",
              "  <thead>\n",
              "    <tr style=\"text-align: right;\">\n",
              "      <th></th>\n",
              "      <th>Topic</th>\n",
              "      <th>Count</th>\n",
              "    </tr>\n",
              "  </thead>\n",
              "  <tbody>\n",
              "    <tr>\n",
              "      <th>0</th>\n",
              "      <td>-1</td>\n",
              "      <td>18552</td>\n",
              "    </tr>\n",
              "    <tr>\n",
              "      <th>1</th>\n",
              "      <td>319</td>\n",
              "      <td>1511</td>\n",
              "    </tr>\n",
              "    <tr>\n",
              "      <th>2</th>\n",
              "      <td>285</td>\n",
              "      <td>872</td>\n",
              "    </tr>\n",
              "    <tr>\n",
              "      <th>3</th>\n",
              "      <td>212</td>\n",
              "      <td>837</td>\n",
              "    </tr>\n",
              "    <tr>\n",
              "      <th>4</th>\n",
              "      <td>162</td>\n",
              "      <td>788</td>\n",
              "    </tr>\n",
              "    <tr>\n",
              "      <th>5</th>\n",
              "      <td>277</td>\n",
              "      <td>680</td>\n",
              "    </tr>\n",
              "    <tr>\n",
              "      <th>6</th>\n",
              "      <td>257</td>\n",
              "      <td>676</td>\n",
              "    </tr>\n",
              "    <tr>\n",
              "      <th>7</th>\n",
              "      <td>208</td>\n",
              "      <td>662</td>\n",
              "    </tr>\n",
              "    <tr>\n",
              "      <th>8</th>\n",
              "      <td>243</td>\n",
              "      <td>537</td>\n",
              "    </tr>\n",
              "    <tr>\n",
              "      <th>9</th>\n",
              "      <td>267</td>\n",
              "      <td>464</td>\n",
              "    </tr>\n",
              "  </tbody>\n",
              "</table>\n",
              "</div>"
            ],
            "text/plain": [
              "   Topic  Count\n",
              "0     -1  18552\n",
              "1    319   1511\n",
              "2    285    872\n",
              "3    212    837\n",
              "4    162    788\n",
              "5    277    680\n",
              "6    257    676\n",
              "7    208    662\n",
              "8    243    537\n",
              "9    267    464"
            ]
          },
          "metadata": {
            "tags": []
          },
          "execution_count": 43
        }
      ]
    },
    {
      "cell_type": "code",
      "metadata": {
        "id": "DOCmBi04jVHz",
        "colab": {
          "base_uri": "https://localhost:8080/"
        },
        "outputId": "1422050c-05ea-49bb-dce7-b30ee4c2cfd7"
      },
      "source": [
        "topic_modeling.get_topic(277)"
      ],
      "execution_count": 48,
      "outputs": [
        {
          "output_type": "execute_result",
          "data": {
            "text/plain": [
              "[('people', 0.033561258302637995),\n",
              " ('stay', 0.01803519747442652),\n",
              " ('mask', 0.015356195418227246),\n",
              " ('time', 0.015155829908182417),\n",
              " ('think', 0.014685913575405078),\n",
              " ('want', 0.013677121975247638),\n",
              " ('year', 0.012235871020765269),\n",
              " ('flu', 0.011626164311300244),\n",
              " ('really', 0.011446306765915916),\n",
              " ('masks', 0.01126021673207513)]"
            ]
          },
          "metadata": {
            "tags": []
          },
          "execution_count": 48
        }
      ]
    },
    {
      "cell_type": "code",
      "metadata": {
        "id": "Y0kRqzKlUc2X"
      },
      "source": [
        "np.save('/content/drive/My Drive/array_topics_90dco', topics)\n",
        "np.save('/content/drive/My Drive/array_probabilities_90dco', probabilities)"
      ],
      "execution_count": 50,
      "outputs": []
    },
    {
      "cell_type": "code",
      "metadata": {
        "colab": {
          "base_uri": "https://localhost:8080/"
        },
        "id": "4iGTWLAa2F_V",
        "outputId": "52b24ace-c75e-463c-d315-f170f7790336"
      },
      "source": [
        "topic_modeling.save('/content/drive/My Drive/fasttext90_dc')"
      ],
      "execution_count": 51,
      "outputs": [
        {
          "output_type": "stream",
          "text": [
            "/usr/local/lib/python3.7/dist-packages/scipy/sparse/_index.py:126: SparseEfficiencyWarning:\n",
            "\n",
            "Changing the sparsity structure of a csr_matrix is expensive. lil_matrix is more efficient.\n",
            "\n"
          ],
          "name": "stderr"
        }
      ]
    },
    {
      "cell_type": "code",
      "metadata": {
        "id": "GMxT9J522TpZ"
      },
      "source": [
        "#FITTED WITH NEW_TOKENS\n",
        "\n",
        "#fasttext_50 model with topic reduction to 50\n",
        "    #array_topics_ftno fitted with new_tokens, 50 topics, cv, n-gram 1,1\n",
        "    #array_probabilities_ftno fitted with new_tokens, 50 topics, cv, n-gram 1, 1\n",
        "\n",
        "#fasttext_15_ng2 model with n-gram changed to 1,2 and topic size is 15\n",
        "    #array_topics_ft15 fitted with new_tokens\n",
        "    #array_probabilities_ft15\n",
        "\n",
        "#fasttext_10_ng2 model with n-gram changed to 1,2 and topic size is 10\n",
        "    #array_topics_ft10 fitted with new_tokens\n",
        "    #array_probabilities_ft10\n",
        "\n",
        "#SENTENCES TEXT FITTED\n",
        "#fasttext90tok model with n-gram changed to 1,1 and topic size is 10\n",
        "    #array_topics_90tok fitted with new_tokens\n",
        "    #array_probabilities_90tok\n",
        "\n",
        "#fasttext90_dc model with n-gram changed to 1,1 and topic size is 10 on dc old\n",
        "    #array_topics_90dco fitted with new_tokens\n",
        "    #array_probabilities_90dco"
      ],
      "execution_count": null,
      "outputs": []
    },
    {
      "cell_type": "markdown",
      "metadata": {
        "id": "7Abng4ZoqoGi"
      },
      "source": [
        "# **FASTTEXT ANALYSIS**"
      ]
    },
    {
      "cell_type": "code",
      "metadata": {
        "id": "C3gYZggefXoV"
      },
      "source": [
        "bestf = BERTopic.load('/content/drive/My Drive/fasttext_10_ng2')\n",
        "topf = np.load('/content/drive/My Drive/array_topics_ft10.npy')\n",
        "prof = np.load('/content/drive/My Drive/array_probabilities_ft10.npy')"
      ],
      "execution_count": 4,
      "outputs": []
    },
    {
      "cell_type": "code",
      "metadata": {
        "id": "NjXSp4hqgLaE"
      },
      "source": [
        "bestf.get_topic_freq().head(6)"
      ],
      "execution_count": null,
      "outputs": []
    },
    {
      "cell_type": "code",
      "metadata": {
        "id": "B_M3jKIZgFp1"
      },
      "source": [
        "topics_over_time = bestf.topics_over_time(new_tokens, topf, clean_times, evolution_tuning = True,\n",
        "                         global_tuning = False)"
      ],
      "execution_count": null,
      "outputs": []
    },
    {
      "cell_type": "code",
      "metadata": {
        "colab": {
          "base_uri": "https://localhost:8080/",
          "height": 467
        },
        "id": "Erb5z4jbhLOX",
        "outputId": "a3d66757-0abb-40f7-f2b6-6c62215d40df"
      },
      "source": [
        "bestf.visualize_topics_over_time(topics_over_time, topics = [70,176,290,368,378])"
      ],
      "execution_count": null,
      "outputs": [
        {
          "output_type": "display_data",
          "data": {
            "text/html": [
              "<html>\n",
              "<head><meta charset=\"utf-8\" /></head>\n",
              "<body>\n",
              "    <div>            <script src=\"https://cdnjs.cloudflare.com/ajax/libs/mathjax/2.7.5/MathJax.js?config=TeX-AMS-MML_SVG\"></script><script type=\"text/javascript\">if (window.MathJax) {MathJax.Hub.Config({SVG: {font: \"STIX-Web\"}});}</script>                <script type=\"text/javascript\">window.PlotlyConfig = {MathJaxConfig: 'local'};</script>\n",
              "        <script src=\"https://cdn.plot.ly/plotly-latest.min.js\"></script>                <div id=\"791f96af-cf77-48a9-8fd9-ceb7d0891524\" class=\"plotly-graph-div\" style=\"height:450px; width:1250px;\"></div>            <script type=\"text/javascript\">                                    window.PLOTLYENV=window.PLOTLYENV || {};                                    if (document.getElementById(\"791f96af-cf77-48a9-8fd9-ceb7d0891524\")) {                    Plotly.newPlot(                        \"791f96af-cf77-48a9-8fd9-ceb7d0891524\",                        [{\"hoverinfo\": \"text\", \"hovertext\": [\"<b>Topic 70</b><br>Words: shark, animal, ecosystem, specie, shark population\", \"<b>Topic 70</b><br>Words: shark, animal, sharks, ecosystem, sustainable\", \"<b>Topic 70</b><br>Words: shark, sharks, ecosystem, specie, kill shark\", \"<b>Topic 70</b><br>Words: save male, die comeback, save pretty, leave shitstain, male save\", \"<b>Topic 70</b><br>Words: plant collective, wrong abitch, version plant, retard prove, image retard\", \"<b>Topic 70</b><br>Words: imagine world, world like, farming healthcare, fart american, farming exist\", \"<b>Topic 70</b><br>Words: philosophy human, blow universe, human extinction, extinction, human\", \"<b>Topic 70</b><br>Words: save, continue kill, life save, kill, kill people\", \"<b>Topic 70</b><br>Words: fart, farrakhan nation, fart american, farmland essentially, farmland\", \"<b>Topic 70</b><br>Words: animal, want ai, robot human, versus humanity, human global\", \"<b>Topic 70</b><br>Words: advice stop, fart medical, fart like, fart attempt, fart american\", \"<b>Topic 70</b><br>Words: leave screenshot20210228190503jpg, save kill, come save, save, farmland starve\"], \"marker\": {\"color\": \"#E69F00\"}, \"mode\": \"lines\", \"name\": \"70_shark_animal_sharks_ecosystem\", \"type\": \"scatter\", \"x\": [\"2020-09-28T00:00:00\", \"2020-09-29T00:00:00\", \"2020-09-30T00:00:00\", \"2020-10-29T00:00:00\", \"2020-10-30T00:00:00\", \"2020-10-31T00:00:00\", \"2020-11-30T00:00:00\", \"2020-12-31T00:00:00\", \"2021-01-30T00:00:00\", \"2021-01-31T00:00:00\", \"2021-02-27T00:00:00\", \"2021-02-28T00:00:00\"], \"y\": [113, 261, 166, 3, 4, 1, 6, 17, 1, 4, 1, 3]}, {\"hoverinfo\": \"text\", \"hovertext\": [\"<b>Topic 176</b><br>Words: flu, covid, southern hemisphere, hemisphere, prevent regular\", \"<b>Topic 176</b><br>Words: flu, flu vaccine, covid, virus, flu season\", \"<b>Topic 176</b><br>Words: flu, flu vaccine, covid, flu covid, virus\", \"<b>Topic 176</b><br>Words: flu, seasonal, mutate, hemisphere, seasonal flu\", \"<b>Topic 176</b><br>Words: flu, flu vaccine, vaccine, virus, covid\", \"<b>Topic 176</b><br>Words: flu, 1918, 1918 flu, flu vaccine, covid\", \"<b>Topic 176</b><br>Words: flu, cold, cold flu, common cold, virus\", \"<b>Topic 176</b><br>Words: flu, kid, covid, flu shot, flu vaccine\", \"<b>Topic 176</b><br>Words: flu, covid, flu vaccine, people, flu shot\", \"<b>Topic 176</b><br>Words: flu, yale know, flu china, virus hey, covid kung\", \"<b>Topic 176</b><br>Words: flu, flu vaccine, covid, flu shot, like flu\", \"<b>Topic 176</b><br>Words: flu, covid, number year, flu number, reset flu\", \"<b>Topic 176</b><br>Words: flu, covid, flu shot, people, vaccinate\"], \"marker\": {\"color\": \"#56B4E9\"}, \"mode\": \"lines\", \"name\": \"176_flu_covid_flu vaccine_flu shot\", \"type\": \"scatter\", \"x\": [\"2020-09-28T00:00:00\", \"2020-09-29T00:00:00\", \"2020-09-30T00:00:00\", \"2020-10-29T00:00:00\", \"2020-10-30T00:00:00\", \"2020-10-31T00:00:00\", \"2020-11-29T00:00:00\", \"2020-11-30T00:00:00\", \"2020-12-31T00:00:00\", \"2021-01-30T00:00:00\", \"2021-01-31T00:00:00\", \"2021-02-27T00:00:00\", \"2021-02-28T00:00:00\"], \"y\": [47, 51, 23, 52, 42, 17, 28, 140, 67, 3, 61, 12, 42]}, {\"hoverinfo\": \"text\", \"hovertext\": [\"<b>Topic 290</b><br>Words: trial, phase, covid19 vaccine, prevention moderate, phase iii\", \"<b>Topic 290</b><br>Words: india, serum institute, foundation, institute india, million covid19\", \"<b>Topic 290</b><br>Words: abec, serum institute, serum, bioreactor, manufacturing\", \"<b>Topic 290</b><br>Words: trial, conduct, phase, interim, conduct interim\", \"<b>Topic 290</b><br>Words: coronavirus vaccine, request emergency, use authorization, covid19, authorization\", \"<b>Topic 290</b><br>Words: event, vaccine, joe biden, infection event, joe\", \"<b>Topic 290</b><br>Words: vaccine, trial, candidate, vaccine candidate, placebo group\", \"<b>Topic 290</b><br>Words: moderna, covid19, efficacy, authorization, severe\", \"<b>Topic 290</b><br>Words: mrna1273, trial, vaccine, participant, covid19\", \"<b>Topic 290</b><br>Words: csl, vaccine gsl, buy csl, biopharma company, expand csl\", \"<b>Topic 290</b><br>Words: million, covax, covax amc, gavi covax, vaccine summit\", \"<b>Topic 290</b><br>Words: johnson, covid19, johnson johnson, day 28, severe case\", \"<b>Topic 290</b><br>Words: johnson, vaccine, johnson johnson, covid19 vaccine, approve\"], \"marker\": {\"color\": \"#009E73\"}, \"mode\": \"lines\", \"name\": \"290_vaccine_covid19_moderna_covid19 vacc...\", \"type\": \"scatter\", \"x\": [\"2020-09-28T00:00:00\", \"2020-09-29T00:00:00\", \"2020-09-30T00:00:00\", \"2020-10-29T00:00:00\", \"2020-10-30T00:00:00\", \"2020-10-31T00:00:00\", \"2020-11-29T00:00:00\", \"2020-11-30T00:00:00\", \"2020-12-31T00:00:00\", \"2021-01-30T00:00:00\", \"2021-01-31T00:00:00\", \"2021-02-27T00:00:00\", \"2021-02-28T00:00:00\"], \"y\": [15, 15, 21, 16, 29, 11, 4, 131, 25, 2, 28, 27, 51]}, {\"hoverinfo\": \"text\", \"hovertext\": [\"<b>Topic 368</b><br>Words: taxis, trump, win, taxis trump, vaccine taxis\", \"<b>Topic 368</b><br>Words: trump, election, biden, swing state, tax\", \"<b>Topic 368</b><br>Words: trump, biden, wallace, joe, chris wallace\", \"<b>Topic 368</b><br>Words: trump, biden, joe biden, warp speed, warp\", \"<b>Topic 368</b><br>Words: american, president trump, tax, wage, wage growth\", \"<b>Topic 368</b><br>Words: lie, trump, biden, lie trump, biden virus\", \"<b>Topic 368</b><br>Words: trump, bartiromo, fraud, involve steal, fbi involve\", \"<b>Topic 368</b><br>Words: trump, win, fail, biden, credit\", \"<b>Topic 368</b><br>Words: trump, statement action, treasonous statement, talk dems, treasonous\", \"<b>Topic 368</b><br>Words: president, government, mention pushback, suddenly resent, resent mention\", \"<b>Topic 368</b><br>Words: plan, distribution, administration, trump administration, warp speed\", \"<b>Topic 368</b><br>Words: trump, president, american, america, biden\", \"<b>Topic 368</b><br>Words: operation warp, warp speed, warp, operation, biden\"], \"marker\": {\"color\": \"#F0E442\"}, \"mode\": \"lines\", \"name\": \"368_trump_biden_president_joe\", \"type\": \"scatter\", \"x\": [\"2020-09-28T00:00:00\", \"2020-09-29T00:00:00\", \"2020-09-30T00:00:00\", \"2020-10-29T00:00:00\", \"2020-10-30T00:00:00\", \"2020-10-31T00:00:00\", \"2020-11-29T00:00:00\", \"2020-11-30T00:00:00\", \"2020-12-31T00:00:00\", \"2021-01-30T00:00:00\", \"2021-01-31T00:00:00\", \"2021-02-27T00:00:00\", \"2021-02-28T00:00:00\"], \"y\": [5, 24, 33, 16, 17, 20, 6, 24, 51, 3, 68, 13, 33]}, {\"hoverinfo\": \"text\", \"hovertext\": [\"<b>Topic 378</b><br>Words: player camera, ball natural, bite serve, serve player, tennis bite\", \"<b>Topic 378</b><br>Words: walk, guy believer, walk cloud, shit faced, eager walk\", \"<b>Topic 378</b><br>Words: guy, guy pedo, guy borderline, elon guy, shitty idea\", \"<b>Topic 378</b><br>Words: game, cyberpunk, sky, console, play\", \"<b>Topic 378</b><br>Words: game, cyberpunk, play, original release, game come\", \"<b>Topic 378</b><br>Words: release basically, perfect appreciate, appreciate projekt, covid rn, push reason\", \"<b>Topic 378</b><br>Words: win game, dark shit, crap cancel, cash damnit, build fix\", \"<b>Topic 378</b><br>Words: guy, feel big, guy fuck, gag mean, agree big\", \"<b>Topic 378</b><br>Words: sit ass, ass, let game, ward big, investigator guy\", \"<b>Topic 378</b><br>Words: crutch need, history badly, wait pobra, ankle boot, pobra send\"], \"marker\": {\"color\": \"#D55E00\"}, \"mode\": \"lines\", \"name\": \"378_game_cyberpunk_play_sky\", \"type\": \"scatter\", \"x\": [\"2020-09-28T00:00:00\", \"2020-09-29T00:00:00\", \"2020-09-30T00:00:00\", \"2020-10-29T00:00:00\", \"2020-10-30T00:00:00\", \"2020-10-31T00:00:00\", \"2020-11-30T00:00:00\", \"2020-12-31T00:00:00\", \"2021-01-31T00:00:00\", \"2021-02-28T00:00:00\"], \"y\": [5, 5, 8, 243, 99, 5, 6, 12, 5, 2]}],                        {\"height\": 450, \"hoverlabel\": {\"bgcolor\": \"white\", \"font\": {\"family\": \"Rockwell\", \"size\": 16}}, \"legend\": {\"title\": {\"text\": \"<b>Global Topic Representation\"}}, \"template\": {\"data\": {\"bar\": [{\"error_x\": {\"color\": \"rgb(36,36,36)\"}, \"error_y\": {\"color\": \"rgb(36,36,36)\"}, \"marker\": {\"line\": {\"color\": \"white\", \"width\": 0.5}}, \"type\": \"bar\"}], \"barpolar\": [{\"marker\": {\"line\": {\"color\": \"white\", \"width\": 0.5}}, \"type\": \"barpolar\"}], \"carpet\": [{\"aaxis\": {\"endlinecolor\": \"rgb(36,36,36)\", \"gridcolor\": \"white\", \"linecolor\": \"white\", \"minorgridcolor\": \"white\", \"startlinecolor\": \"rgb(36,36,36)\"}, \"baxis\": {\"endlinecolor\": \"rgb(36,36,36)\", \"gridcolor\": \"white\", \"linecolor\": \"white\", \"minorgridcolor\": \"white\", \"startlinecolor\": \"rgb(36,36,36)\"}, \"type\": \"carpet\"}], \"choropleth\": [{\"colorbar\": {\"outlinewidth\": 1, \"tickcolor\": \"rgb(36,36,36)\", \"ticks\": \"outside\"}, \"type\": \"choropleth\"}], \"contour\": [{\"colorbar\": {\"outlinewidth\": 1, \"tickcolor\": \"rgb(36,36,36)\", \"ticks\": \"outside\"}, \"colorscale\": [[0.0, \"#440154\"], [0.1111111111111111, \"#482878\"], [0.2222222222222222, \"#3e4989\"], [0.3333333333333333, \"#31688e\"], [0.4444444444444444, \"#26828e\"], [0.5555555555555556, \"#1f9e89\"], [0.6666666666666666, \"#35b779\"], [0.7777777777777778, \"#6ece58\"], [0.8888888888888888, \"#b5de2b\"], [1.0, \"#fde725\"]], \"type\": \"contour\"}], \"contourcarpet\": [{\"colorbar\": {\"outlinewidth\": 1, \"tickcolor\": \"rgb(36,36,36)\", \"ticks\": \"outside\"}, \"type\": \"contourcarpet\"}], \"heatmap\": [{\"colorbar\": {\"outlinewidth\": 1, \"tickcolor\": \"rgb(36,36,36)\", \"ticks\": \"outside\"}, \"colorscale\": [[0.0, \"#440154\"], [0.1111111111111111, \"#482878\"], [0.2222222222222222, \"#3e4989\"], [0.3333333333333333, \"#31688e\"], [0.4444444444444444, \"#26828e\"], [0.5555555555555556, \"#1f9e89\"], [0.6666666666666666, \"#35b779\"], [0.7777777777777778, \"#6ece58\"], [0.8888888888888888, \"#b5de2b\"], [1.0, \"#fde725\"]], \"type\": \"heatmap\"}], \"heatmapgl\": [{\"colorbar\": {\"outlinewidth\": 1, \"tickcolor\": \"rgb(36,36,36)\", \"ticks\": \"outside\"}, \"colorscale\": [[0.0, \"#440154\"], [0.1111111111111111, \"#482878\"], [0.2222222222222222, \"#3e4989\"], [0.3333333333333333, \"#31688e\"], [0.4444444444444444, \"#26828e\"], [0.5555555555555556, \"#1f9e89\"], [0.6666666666666666, \"#35b779\"], [0.7777777777777778, \"#6ece58\"], [0.8888888888888888, \"#b5de2b\"], [1.0, \"#fde725\"]], \"type\": \"heatmapgl\"}], \"histogram\": [{\"marker\": {\"line\": {\"color\": \"white\", \"width\": 0.6}}, \"type\": \"histogram\"}], \"histogram2d\": [{\"colorbar\": {\"outlinewidth\": 1, \"tickcolor\": \"rgb(36,36,36)\", \"ticks\": \"outside\"}, \"colorscale\": [[0.0, \"#440154\"], [0.1111111111111111, \"#482878\"], [0.2222222222222222, \"#3e4989\"], [0.3333333333333333, \"#31688e\"], [0.4444444444444444, \"#26828e\"], [0.5555555555555556, \"#1f9e89\"], [0.6666666666666666, \"#35b779\"], [0.7777777777777778, \"#6ece58\"], [0.8888888888888888, \"#b5de2b\"], [1.0, \"#fde725\"]], \"type\": \"histogram2d\"}], \"histogram2dcontour\": [{\"colorbar\": {\"outlinewidth\": 1, \"tickcolor\": \"rgb(36,36,36)\", \"ticks\": \"outside\"}, \"colorscale\": [[0.0, \"#440154\"], [0.1111111111111111, \"#482878\"], [0.2222222222222222, \"#3e4989\"], [0.3333333333333333, \"#31688e\"], [0.4444444444444444, \"#26828e\"], [0.5555555555555556, \"#1f9e89\"], [0.6666666666666666, \"#35b779\"], [0.7777777777777778, \"#6ece58\"], [0.8888888888888888, \"#b5de2b\"], [1.0, \"#fde725\"]], \"type\": \"histogram2dcontour\"}], \"mesh3d\": [{\"colorbar\": {\"outlinewidth\": 1, \"tickcolor\": \"rgb(36,36,36)\", \"ticks\": \"outside\"}, \"type\": \"mesh3d\"}], \"parcoords\": [{\"line\": {\"colorbar\": {\"outlinewidth\": 1, \"tickcolor\": \"rgb(36,36,36)\", \"ticks\": \"outside\"}}, \"type\": \"parcoords\"}], \"pie\": [{\"automargin\": true, \"type\": \"pie\"}], \"scatter\": [{\"marker\": {\"colorbar\": {\"outlinewidth\": 1, \"tickcolor\": \"rgb(36,36,36)\", \"ticks\": \"outside\"}}, \"type\": \"scatter\"}], \"scatter3d\": [{\"line\": {\"colorbar\": {\"outlinewidth\": 1, \"tickcolor\": \"rgb(36,36,36)\", \"ticks\": \"outside\"}}, \"marker\": {\"colorbar\": {\"outlinewidth\": 1, \"tickcolor\": \"rgb(36,36,36)\", \"ticks\": \"outside\"}}, \"type\": \"scatter3d\"}], \"scattercarpet\": [{\"marker\": {\"colorbar\": {\"outlinewidth\": 1, \"tickcolor\": \"rgb(36,36,36)\", \"ticks\": \"outside\"}}, \"type\": \"scattercarpet\"}], \"scattergeo\": [{\"marker\": {\"colorbar\": {\"outlinewidth\": 1, \"tickcolor\": \"rgb(36,36,36)\", \"ticks\": \"outside\"}}, \"type\": \"scattergeo\"}], \"scattergl\": [{\"marker\": {\"colorbar\": {\"outlinewidth\": 1, \"tickcolor\": \"rgb(36,36,36)\", \"ticks\": \"outside\"}}, \"type\": \"scattergl\"}], \"scattermapbox\": [{\"marker\": {\"colorbar\": {\"outlinewidth\": 1, \"tickcolor\": \"rgb(36,36,36)\", \"ticks\": \"outside\"}}, \"type\": \"scattermapbox\"}], \"scatterpolar\": [{\"marker\": {\"colorbar\": {\"outlinewidth\": 1, \"tickcolor\": \"rgb(36,36,36)\", \"ticks\": \"outside\"}}, \"type\": \"scatterpolar\"}], \"scatterpolargl\": [{\"marker\": {\"colorbar\": {\"outlinewidth\": 1, \"tickcolor\": \"rgb(36,36,36)\", \"ticks\": \"outside\"}}, \"type\": \"scatterpolargl\"}], \"scatterternary\": [{\"marker\": {\"colorbar\": {\"outlinewidth\": 1, \"tickcolor\": \"rgb(36,36,36)\", \"ticks\": \"outside\"}}, \"type\": \"scatterternary\"}], \"surface\": [{\"colorbar\": {\"outlinewidth\": 1, \"tickcolor\": \"rgb(36,36,36)\", \"ticks\": \"outside\"}, \"colorscale\": [[0.0, \"#440154\"], [0.1111111111111111, \"#482878\"], [0.2222222222222222, \"#3e4989\"], [0.3333333333333333, \"#31688e\"], [0.4444444444444444, \"#26828e\"], [0.5555555555555556, \"#1f9e89\"], [0.6666666666666666, \"#35b779\"], [0.7777777777777778, \"#6ece58\"], [0.8888888888888888, \"#b5de2b\"], [1.0, \"#fde725\"]], \"type\": \"surface\"}], \"table\": [{\"cells\": {\"fill\": {\"color\": \"rgb(237,237,237)\"}, \"line\": {\"color\": \"white\"}}, \"header\": {\"fill\": {\"color\": \"rgb(217,217,217)\"}, \"line\": {\"color\": \"white\"}}, \"type\": \"table\"}]}, \"layout\": {\"annotationdefaults\": {\"arrowhead\": 0, \"arrowwidth\": 1}, \"autotypenumbers\": \"strict\", \"coloraxis\": {\"colorbar\": {\"outlinewidth\": 1, \"tickcolor\": \"rgb(36,36,36)\", \"ticks\": \"outside\"}}, \"colorscale\": {\"diverging\": [[0.0, \"rgb(103,0,31)\"], [0.1, \"rgb(178,24,43)\"], [0.2, \"rgb(214,96,77)\"], [0.3, \"rgb(244,165,130)\"], [0.4, \"rgb(253,219,199)\"], [0.5, \"rgb(247,247,247)\"], [0.6, \"rgb(209,229,240)\"], [0.7, \"rgb(146,197,222)\"], [0.8, \"rgb(67,147,195)\"], [0.9, \"rgb(33,102,172)\"], [1.0, \"rgb(5,48,97)\"]], \"sequential\": [[0.0, \"#440154\"], [0.1111111111111111, \"#482878\"], [0.2222222222222222, \"#3e4989\"], [0.3333333333333333, \"#31688e\"], [0.4444444444444444, \"#26828e\"], [0.5555555555555556, \"#1f9e89\"], [0.6666666666666666, \"#35b779\"], [0.7777777777777778, \"#6ece58\"], [0.8888888888888888, \"#b5de2b\"], [1.0, \"#fde725\"]], \"sequentialminus\": [[0.0, \"#440154\"], [0.1111111111111111, \"#482878\"], [0.2222222222222222, \"#3e4989\"], [0.3333333333333333, \"#31688e\"], [0.4444444444444444, \"#26828e\"], [0.5555555555555556, \"#1f9e89\"], [0.6666666666666666, \"#35b779\"], [0.7777777777777778, \"#6ece58\"], [0.8888888888888888, \"#b5de2b\"], [1.0, \"#fde725\"]]}, \"colorway\": [\"#1F77B4\", \"#FF7F0E\", \"#2CA02C\", \"#D62728\", \"#9467BD\", \"#8C564B\", \"#E377C2\", \"#7F7F7F\", \"#BCBD22\", \"#17BECF\"], \"font\": {\"color\": \"rgb(36,36,36)\"}, \"geo\": {\"bgcolor\": \"white\", \"lakecolor\": \"white\", \"landcolor\": \"white\", \"showlakes\": true, \"showland\": true, \"subunitcolor\": \"white\"}, \"hoverlabel\": {\"align\": \"left\"}, \"hovermode\": \"closest\", \"mapbox\": {\"style\": \"light\"}, \"paper_bgcolor\": \"white\", \"plot_bgcolor\": \"white\", \"polar\": {\"angularaxis\": {\"gridcolor\": \"rgb(232,232,232)\", \"linecolor\": \"rgb(36,36,36)\", \"showgrid\": false, \"showline\": true, \"ticks\": \"outside\"}, \"bgcolor\": \"white\", \"radialaxis\": {\"gridcolor\": \"rgb(232,232,232)\", \"linecolor\": \"rgb(36,36,36)\", \"showgrid\": false, \"showline\": true, \"ticks\": \"outside\"}}, \"scene\": {\"xaxis\": {\"backgroundcolor\": \"white\", \"gridcolor\": \"rgb(232,232,232)\", \"gridwidth\": 2, \"linecolor\": \"rgb(36,36,36)\", \"showbackground\": true, \"showgrid\": false, \"showline\": true, \"ticks\": \"outside\", \"zeroline\": false, \"zerolinecolor\": \"rgb(36,36,36)\"}, \"yaxis\": {\"backgroundcolor\": \"white\", \"gridcolor\": \"rgb(232,232,232)\", \"gridwidth\": 2, \"linecolor\": \"rgb(36,36,36)\", \"showbackground\": true, \"showgrid\": false, \"showline\": true, \"ticks\": \"outside\", \"zeroline\": false, \"zerolinecolor\": \"rgb(36,36,36)\"}, \"zaxis\": {\"backgroundcolor\": \"white\", \"gridcolor\": \"rgb(232,232,232)\", \"gridwidth\": 2, \"linecolor\": \"rgb(36,36,36)\", \"showbackground\": true, \"showgrid\": false, \"showline\": true, \"ticks\": \"outside\", \"zeroline\": false, \"zerolinecolor\": \"rgb(36,36,36)\"}}, \"shapedefaults\": {\"fillcolor\": \"black\", \"line\": {\"width\": 0}, \"opacity\": 0.3}, \"ternary\": {\"aaxis\": {\"gridcolor\": \"rgb(232,232,232)\", \"linecolor\": \"rgb(36,36,36)\", \"showgrid\": false, \"showline\": true, \"ticks\": \"outside\"}, \"baxis\": {\"gridcolor\": \"rgb(232,232,232)\", \"linecolor\": \"rgb(36,36,36)\", \"showgrid\": false, \"showline\": true, \"ticks\": \"outside\"}, \"bgcolor\": \"white\", \"caxis\": {\"gridcolor\": \"rgb(232,232,232)\", \"linecolor\": \"rgb(36,36,36)\", \"showgrid\": false, \"showline\": true, \"ticks\": \"outside\"}}, \"title\": {\"x\": 0.05}, \"xaxis\": {\"automargin\": true, \"gridcolor\": \"rgb(232,232,232)\", \"linecolor\": \"rgb(36,36,36)\", \"showgrid\": false, \"showline\": true, \"ticks\": \"outside\", \"title\": {\"standoff\": 15}, \"zeroline\": false, \"zerolinecolor\": \"rgb(36,36,36)\"}, \"yaxis\": {\"automargin\": true, \"gridcolor\": \"rgb(232,232,232)\", \"linecolor\": \"rgb(36,36,36)\", \"showgrid\": false, \"showline\": true, \"ticks\": \"outside\", \"title\": {\"standoff\": 15}, \"zeroline\": false, \"zerolinecolor\": \"rgb(36,36,36)\"}}}, \"title\": {\"font\": {\"color\": \"Black\", \"size\": 22}, \"text\": \"<b>Topics over Time\", \"x\": 0.4, \"xanchor\": \"center\", \"y\": 0.95, \"yanchor\": \"top\"}, \"width\": 1250, \"xaxis\": {\"showgrid\": true}, \"yaxis\": {\"showgrid\": true, \"title\": {\"text\": \"Frequency\"}}},                        {\"responsive\": true}                    ).then(function(){\n",
              "                            \n",
              "var gd = document.getElementById('791f96af-cf77-48a9-8fd9-ceb7d0891524');\n",
              "var x = new MutationObserver(function (mutations, observer) {{\n",
              "        var display = window.getComputedStyle(gd).display;\n",
              "        if (!display || display === 'none') {{\n",
              "            console.log([gd, 'removed!']);\n",
              "            Plotly.purge(gd);\n",
              "            observer.disconnect();\n",
              "        }}\n",
              "}});\n",
              "\n",
              "// Listen for the removal of the full notebook cells\n",
              "var notebookContainer = gd.closest('#notebook-container');\n",
              "if (notebookContainer) {{\n",
              "    x.observe(notebookContainer, {childList: true});\n",
              "}}\n",
              "\n",
              "// Listen for the clearing of the current output cell\n",
              "var outputEl = gd.closest('.output');\n",
              "if (outputEl) {{\n",
              "    x.observe(outputEl, {childList: true});\n",
              "}}\n",
              "\n",
              "                        })                };                            </script>        </div>\n",
              "</body>\n",
              "</html>"
            ]
          },
          "metadata": {
            "tags": []
          }
        }
      ]
    },
    {
      "cell_type": "code",
      "metadata": {
        "colab": {
          "base_uri": "https://localhost:8080/",
          "height": 393
        },
        "id": "rVigk8eZsrJt",
        "outputId": "121d3d52-c800-4bd7-8329-919cb2f2b0c9"
      },
      "source": [
        "bestf.visualize_distribution(prof[3])"
      ],
      "execution_count": null,
      "outputs": [
        {
          "output_type": "display_data",
          "data": {
            "image/png": "[encoded data removed]",
            "text/plain": [
              "<Figure size 720x360 with 1 Axes>"
            ]
          },
          "metadata": {
            "tags": [],
            "needs_background": "light"
          }
        }
      ]
    },
    {
      "cell_type": "code",
      "metadata": {
        "colab": {
          "base_uri": "https://localhost:8080/"
        },
        "id": "uGkAtcTUtTs2",
        "outputId": "bd952711-9730-4718-9234-4a1d9dcc99c1"
      },
      "source": [
        "bestf.find_topics(\"covid\")"
      ],
      "execution_count": null,
      "outputs": [
        {
          "output_type": "execute_result",
          "data": {
            "text/plain": [
              "([-1, 176, 290, 264, 156],\n",
              " [0.7619295578389759,\n",
              "  0.5224152148982532,\n",
              "  0.3816241651274538,\n",
              "  0.3634569509126971,\n",
              "  0.26850584838515357])"
            ]
          },
          "metadata": {
            "tags": []
          },
          "execution_count": 210
        }
      ]
    },
    {
      "cell_type": "code",
      "metadata": {
        "id": "bp6SVB4Bjz4z"
      },
      "source": [
        "bestf2 = BERTopic.load('/content/drive/My Drive/fasttext_15_ng2')\n",
        "topf2 = np.load('/content/drive/My Drive/array_topics_ft15.npy')\n",
        "prof2 = np.load('/content/drive/My Drive/array_probabilities_ft15.npy')"
      ],
      "execution_count": null,
      "outputs": []
    },
    {
      "cell_type": "code",
      "metadata": {
        "id": "FbvQxieKiy3P"
      },
      "source": [
        "topics_over_time = bestf2.topics_over_time(new_tokens, topf2, clean_times, evolution_tuning = True,\n",
        "                         global_tuning = False)"
      ],
      "execution_count": null,
      "outputs": []
    },
    {
      "cell_type": "code",
      "metadata": {
        "colab": {
          "base_uri": "https://localhost:8080/",
          "height": 467
        },
        "id": "Q-bRaUgzizBY",
        "outputId": "a40ba689-98e0-40df-fa9a-99921d347ec5"
      },
      "source": [
        "bestf2.visualize_topics_over_time(topics_over_time, topics=[63,102,105,264,331])"
      ],
      "execution_count": null,
      "outputs": [
        {
          "output_type": "display_data",
          "data": {
            "text/html": [
              "<html>\n",
              "<head><meta charset=\"utf-8\" /></head>\n",
              "<body>\n",
              "    <div>            <script src=\"https://cdnjs.cloudflare.com/ajax/libs/mathjax/2.7.5/MathJax.js?config=TeX-AMS-MML_SVG\"></script><script type=\"text/javascript\">if (window.MathJax) {MathJax.Hub.Config({SVG: {font: \"STIX-Web\"}});}</script>                <script type=\"text/javascript\">window.PlotlyConfig = {MathJaxConfig: 'local'};</script>\n",
              "        <script src=\"https://cdn.plot.ly/plotly-latest.min.js\"></script>                <div id=\"823ea613-d335-457c-ae1a-aa97a38369ff\" class=\"plotly-graph-div\" style=\"height:450px; width:1250px;\"></div>            <script type=\"text/javascript\">                                    window.PLOTLYENV=window.PLOTLYENV || {};                                    if (document.getElementById(\"823ea613-d335-457c-ae1a-aa97a38369ff\")) {                    Plotly.newPlot(                        \"823ea613-d335-457c-ae1a-aa97a38369ff\",                        [{\"hoverinfo\": \"text\", \"hovertext\": [\"<b>Topic 63</b><br>Words: shark, animal, ecosystem, specie, alternative\", \"<b>Topic 63</b><br>Words: shark, animal, alternative, sustainable, ecosystem\", \"<b>Topic 63</b><br>Words: shark, animal, specie, ecosystem, sustainable\", \"<b>Topic 63</b><br>Words: half life, life, literally life, forever folklore, second human\", \"<b>Topic 63</b><br>Words: version plant, plant collective, life bet, collective mind, happen life\", \"<b>Topic 63</b><br>Words: life dodgy, money damn, antibody life, damn people, people kill\", \"<b>Topic 63</b><br>Words: blow universe, philosophy human, human extinction, extinction, solve suffering\", \"<b>Topic 63</b><br>Words: extinction, argument proabort, use destruction, stupidity lead, instrument instead\", \"<b>Topic 63</b><br>Words: wear anglo, life revolve, clothe people, imagine life, people wear\", \"<b>Topic 63</b><br>Words: animal, chemical, human, copious plastic, botox chemical\", \"<b>Topic 63</b><br>Words: creedence clearwater, creedence, fart, farmland essentially, farmland\"], \"marker\": {\"color\": \"#E69F00\"}, \"mode\": \"lines\", \"name\": \"63_shark_animal_sharks_ecosystem\", \"type\": \"scatter\", \"x\": [\"2020-09-28T00:00:00\", \"2020-09-29T00:00:00\", \"2020-09-30T00:00:00\", \"2020-10-29T00:00:00\", \"2020-10-30T00:00:00\", \"2020-11-29T00:00:00\", \"2020-11-30T00:00:00\", \"2020-12-31T00:00:00\", \"2021-01-30T00:00:00\", \"2021-01-31T00:00:00\", \"2021-02-28T00:00:00\"], \"y\": [115, 282, 168, 6, 3, 2, 9, 10, 1, 5, 1]}, {\"hoverinfo\": \"text\", \"hovertext\": [\"<b>Topic 102</b><br>Words: flu, covid, southern hemisphere, hemisphere, regular flu\", \"<b>Topic 102</b><br>Words: flu, flu vaccine, covid, flu season, virus\", \"<b>Topic 102</b><br>Words: flu, flu vaccine, covid, virus, flu covid\", \"<b>Topic 102</b><br>Words: flu, seasonal, mutate, hemisphere, seasonal flu\", \"<b>Topic 102</b><br>Words: flu, flu vaccine, vaccine, flu shot, influenza\", \"<b>Topic 102</b><br>Words: flu, flu vaccine, influenza, virus, inactivate influenza\", \"<b>Topic 102</b><br>Words: flu, cold, cold flu, common cold, virus\", \"<b>Topic 102</b><br>Words: flu, flu shot, covid, flu vaccine, cold\", \"<b>Topic 102</b><br>Words: flu, covid, flu vaccine, flu shot, vaccine flu\", \"<b>Topic 102</b><br>Words: covid kung, flu china, yale know, search learn, virus hey\", \"<b>Topic 102</b><br>Words: flu, flu vaccine, covid, flu shot, symptom\", \"<b>Topic 102</b><br>Words: flu, flu number, covid, reset number, covid reset\", \"<b>Topic 102</b><br>Words: flu, covid, flu vaccine, flu shot, seasonal\"], \"marker\": {\"color\": \"#56B4E9\"}, \"mode\": \"lines\", \"name\": \"102_flu_flu vaccine_flu shot_strain\", \"type\": \"scatter\", \"x\": [\"2020-09-28T00:00:00\", \"2020-09-29T00:00:00\", \"2020-09-30T00:00:00\", \"2020-10-29T00:00:00\", \"2020-10-30T00:00:00\", \"2020-10-31T00:00:00\", \"2020-11-29T00:00:00\", \"2020-11-30T00:00:00\", \"2020-12-31T00:00:00\", \"2021-01-30T00:00:00\", \"2021-01-31T00:00:00\", \"2021-02-27T00:00:00\", \"2021-02-28T00:00:00\"], \"y\": [48, 49, 25, 40, 37, 18, 26, 79, 55, 2, 58, 8, 30]}, {\"hoverinfo\": \"text\", \"hovertext\": [\"<b>Topic 105</b><br>Words: people, flu, think, anonymous coward, quoting anonymous\", \"<b>Topic 105</b><br>Words: think, happen, way, know happen, know\", \"<b>Topic 105</b><br>Words: year, covid, flu, million shark, half million\", \"<b>Topic 105</b><br>Words: short bloody, bloody short, life short, look forward, time\", \"<b>Topic 105</b><br>Words: months, year, die, years, hospital months\", \"<b>Topic 105</b><br>Words: vaccine, year, think, covid, years\", \"<b>Topic 105</b><br>Words: poo, love, know, work, long\", \"<b>Topic 105</b><br>Words: year, poo, months, time, day\", \"<b>Topic 105</b><br>Words: year, pregnant, weeks, time, week\", \"<b>Topic 105</b><br>Words: covid, maskless, attend maskless, husband greg, feel\", \"<b>Topic 105</b><br>Words: jab, weeks, week, shot, baby\", \"<b>Topic 105</b><br>Words: feel, weeks, think, shot, know\", \"<b>Topic 105</b><br>Words: day, week, shot, second, arm\"], \"marker\": {\"color\": \"#009E73\"}, \"mode\": \"lines\", \"name\": \"105_year_time_weeks_day\", \"type\": \"scatter\", \"x\": [\"2020-09-28T00:00:00\", \"2020-09-29T00:00:00\", \"2020-09-30T00:00:00\", \"2020-10-29T00:00:00\", \"2020-10-30T00:00:00\", \"2020-10-31T00:00:00\", \"2020-11-29T00:00:00\", \"2020-11-30T00:00:00\", \"2020-12-31T00:00:00\", \"2021-01-30T00:00:00\", \"2021-01-31T00:00:00\", \"2021-02-27T00:00:00\", \"2021-02-28T00:00:00\"], \"y\": [58, 78, 67, 99, 92, 66, 46, 252, 343, 9, 359, 136, 338]}, {\"hoverinfo\": \"text\", \"hovertext\": [\"<b>Topic 264</b><br>Words: 000, population, death, 203 000, million\", \"<b>Topic 264</b><br>Words: death, die, toll, rate, risk poor\", \"<b>Topic 264</b><br>Words: 000, estimate, death, million, flu\", \"<b>Topic 264</b><br>Words: death, apple, winker frogen, jake winker, covid death\", \"<b>Topic 264</b><br>Words: death, frogen, jake winker, winker frogen, jake\", \"<b>Topic 264</b><br>Words: 000, million, death, 236 000, 94 million\", \"<b>Topic 264</b><br>Words: death, death rate, rate 300, rate, 300 000\", \"<b>Topic 264</b><br>Words: death, 000, 000 people, risk death, 50\", \"<b>Topic 264</b><br>Words: 000, day, 000 test, million day, 700 000\", \"<b>Topic 264</b><br>Words: 000, death, number, million, 600\", \"<b>Topic 264</b><br>Words: death, age, 000, age death, case\", \"<b>Topic 264</b><br>Words: death, 000, uk death, 000 000, death rate\"], \"marker\": {\"color\": \"#F0E442\"}, \"mode\": \"lines\", \"name\": \"264_death_000_covid_rate\", \"type\": \"scatter\", \"x\": [\"2020-09-28T00:00:00\", \"2020-09-29T00:00:00\", \"2020-09-30T00:00:00\", \"2020-10-29T00:00:00\", \"2020-10-30T00:00:00\", \"2020-10-31T00:00:00\", \"2020-11-29T00:00:00\", \"2020-11-30T00:00:00\", \"2020-12-31T00:00:00\", \"2021-01-31T00:00:00\", \"2021-02-27T00:00:00\", \"2021-02-28T00:00:00\"], \"y\": [10, 14, 12, 22, 17, 13, 4, 54, 43, 45, 12, 22]}, {\"hoverinfo\": \"text\", \"hovertext\": [\"<b>Topic 331</b><br>Words: like, game, crazy, decent guy, damn know\", \"<b>Topic 331</b><br>Words: walk, day eager, drink time, bod nvax, eager walk\", \"<b>Topic 331</b><br>Words: rise oil, gas 2030, come bull, shill shitty, shitty idea\", \"<b>Topic 331</b><br>Words: game, cyberpunk, sky, console, play\", \"<b>Topic 331</b><br>Words: game, release, cyberpunk, play, original release\", \"<b>Topic 331</b><br>Words: appreciate projekt, push reason, release basically, covid rn, perfect appreciate\", \"<b>Topic 331</b><br>Words: die covid, coward, die, fucking, epic dumb\", \"<b>Topic 331</b><br>Words: damnit, month buy, stan win, win game, fix 911\", \"<b>Topic 331</b><br>Words: technician wot, strong ass, gutte know, pj yeah, gag mean\", \"<b>Topic 331</b><br>Words: pump feed, yes pump, pump yes, farmland essentially, fart american\", \"<b>Topic 331</b><br>Words: sit ass, lol huge, big mind, game roll, ward big\", \"<b>Topic 331</b><br>Words: wait pobra, life game, pobra send, ankle boot, crutch need\"], \"marker\": {\"color\": \"#D55E00\"}, \"mode\": \"lines\", \"name\": \"331_game_cyberpunk_play_sky\", \"type\": \"scatter\", \"x\": [\"2020-09-28T00:00:00\", \"2020-09-29T00:00:00\", \"2020-09-30T00:00:00\", \"2020-10-29T00:00:00\", \"2020-10-30T00:00:00\", \"2020-10-31T00:00:00\", \"2020-11-29T00:00:00\", \"2020-11-30T00:00:00\", \"2020-12-31T00:00:00\", \"2021-01-30T00:00:00\", \"2021-01-31T00:00:00\", \"2021-02-28T00:00:00\"], \"y\": [4, 3, 2, 255, 102, 5, 1, 6, 8, 1, 3, 3]}],                        {\"height\": 450, \"hoverlabel\": {\"bgcolor\": \"white\", \"font\": {\"family\": \"Rockwell\", \"size\": 16}}, \"legend\": {\"title\": {\"text\": \"<b>Global Topic Representation\"}}, \"template\": {\"data\": {\"bar\": [{\"error_x\": {\"color\": \"rgb(36,36,36)\"}, \"error_y\": {\"color\": \"rgb(36,36,36)\"}, \"marker\": {\"line\": {\"color\": \"white\", \"width\": 0.5}}, \"type\": \"bar\"}], \"barpolar\": [{\"marker\": {\"line\": {\"color\": \"white\", \"width\": 0.5}}, \"type\": \"barpolar\"}], \"carpet\": [{\"aaxis\": {\"endlinecolor\": \"rgb(36,36,36)\", \"gridcolor\": \"white\", \"linecolor\": \"white\", \"minorgridcolor\": \"white\", \"startlinecolor\": \"rgb(36,36,36)\"}, \"baxis\": {\"endlinecolor\": \"rgb(36,36,36)\", \"gridcolor\": \"white\", \"linecolor\": \"white\", \"minorgridcolor\": \"white\", \"startlinecolor\": \"rgb(36,36,36)\"}, \"type\": \"carpet\"}], \"choropleth\": [{\"colorbar\": {\"outlinewidth\": 1, \"tickcolor\": \"rgb(36,36,36)\", \"ticks\": \"outside\"}, \"type\": \"choropleth\"}], \"contour\": [{\"colorbar\": {\"outlinewidth\": 1, \"tickcolor\": \"rgb(36,36,36)\", \"ticks\": \"outside\"}, \"colorscale\": [[0.0, \"#440154\"], [0.1111111111111111, \"#482878\"], [0.2222222222222222, \"#3e4989\"], [0.3333333333333333, \"#31688e\"], [0.4444444444444444, \"#26828e\"], [0.5555555555555556, \"#1f9e89\"], [0.6666666666666666, \"#35b779\"], [0.7777777777777778, \"#6ece58\"], [0.8888888888888888, \"#b5de2b\"], [1.0, \"#fde725\"]], \"type\": \"contour\"}], \"contourcarpet\": [{\"colorbar\": {\"outlinewidth\": 1, \"tickcolor\": \"rgb(36,36,36)\", \"ticks\": \"outside\"}, \"type\": \"contourcarpet\"}], \"heatmap\": [{\"colorbar\": {\"outlinewidth\": 1, \"tickcolor\": \"rgb(36,36,36)\", \"ticks\": \"outside\"}, \"colorscale\": [[0.0, \"#440154\"], [0.1111111111111111, \"#482878\"], [0.2222222222222222, \"#3e4989\"], [0.3333333333333333, \"#31688e\"], [0.4444444444444444, \"#26828e\"], [0.5555555555555556, \"#1f9e89\"], [0.6666666666666666, \"#35b779\"], [0.7777777777777778, \"#6ece58\"], [0.8888888888888888, \"#b5de2b\"], [1.0, \"#fde725\"]], \"type\": \"heatmap\"}], \"heatmapgl\": [{\"colorbar\": {\"outlinewidth\": 1, \"tickcolor\": \"rgb(36,36,36)\", \"ticks\": \"outside\"}, \"colorscale\": [[0.0, \"#440154\"], [0.1111111111111111, \"#482878\"], [0.2222222222222222, \"#3e4989\"], [0.3333333333333333, \"#31688e\"], [0.4444444444444444, \"#26828e\"], [0.5555555555555556, \"#1f9e89\"], [0.6666666666666666, \"#35b779\"], [0.7777777777777778, \"#6ece58\"], [0.8888888888888888, \"#b5de2b\"], [1.0, \"#fde725\"]], \"type\": \"heatmapgl\"}], \"histogram\": [{\"marker\": {\"line\": {\"color\": \"white\", \"width\": 0.6}}, \"type\": \"histogram\"}], \"histogram2d\": [{\"colorbar\": {\"outlinewidth\": 1, \"tickcolor\": \"rgb(36,36,36)\", \"ticks\": \"outside\"}, \"colorscale\": [[0.0, \"#440154\"], [0.1111111111111111, \"#482878\"], [0.2222222222222222, \"#3e4989\"], [0.3333333333333333, \"#31688e\"], [0.4444444444444444, \"#26828e\"], [0.5555555555555556, \"#1f9e89\"], [0.6666666666666666, \"#35b779\"], [0.7777777777777778, \"#6ece58\"], [0.8888888888888888, \"#b5de2b\"], [1.0, \"#fde725\"]], \"type\": \"histogram2d\"}], \"histogram2dcontour\": [{\"colorbar\": {\"outlinewidth\": 1, \"tickcolor\": \"rgb(36,36,36)\", \"ticks\": \"outside\"}, \"colorscale\": [[0.0, \"#440154\"], [0.1111111111111111, \"#482878\"], [0.2222222222222222, \"#3e4989\"], [0.3333333333333333, \"#31688e\"], [0.4444444444444444, \"#26828e\"], [0.5555555555555556, \"#1f9e89\"], [0.6666666666666666, \"#35b779\"], [0.7777777777777778, \"#6ece58\"], [0.8888888888888888, \"#b5de2b\"], [1.0, \"#fde725\"]], \"type\": \"histogram2dcontour\"}], \"mesh3d\": [{\"colorbar\": {\"outlinewidth\": 1, \"tickcolor\": \"rgb(36,36,36)\", \"ticks\": \"outside\"}, \"type\": \"mesh3d\"}], \"parcoords\": [{\"line\": {\"colorbar\": {\"outlinewidth\": 1, \"tickcolor\": \"rgb(36,36,36)\", \"ticks\": \"outside\"}}, \"type\": \"parcoords\"}], \"pie\": [{\"automargin\": true, \"type\": \"pie\"}], \"scatter\": [{\"marker\": {\"colorbar\": {\"outlinewidth\": 1, \"tickcolor\": \"rgb(36,36,36)\", \"ticks\": \"outside\"}}, \"type\": \"scatter\"}], \"scatter3d\": [{\"line\": {\"colorbar\": {\"outlinewidth\": 1, \"tickcolor\": \"rgb(36,36,36)\", \"ticks\": \"outside\"}}, \"marker\": {\"colorbar\": {\"outlinewidth\": 1, \"tickcolor\": \"rgb(36,36,36)\", \"ticks\": \"outside\"}}, \"type\": \"scatter3d\"}], \"scattercarpet\": [{\"marker\": {\"colorbar\": {\"outlinewidth\": 1, \"tickcolor\": \"rgb(36,36,36)\", \"ticks\": \"outside\"}}, \"type\": \"scattercarpet\"}], \"scattergeo\": [{\"marker\": {\"colorbar\": {\"outlinewidth\": 1, \"tickcolor\": \"rgb(36,36,36)\", \"ticks\": \"outside\"}}, \"type\": \"scattergeo\"}], \"scattergl\": [{\"marker\": {\"colorbar\": {\"outlinewidth\": 1, \"tickcolor\": \"rgb(36,36,36)\", \"ticks\": \"outside\"}}, \"type\": \"scattergl\"}], \"scattermapbox\": [{\"marker\": {\"colorbar\": {\"outlinewidth\": 1, \"tickcolor\": \"rgb(36,36,36)\", \"ticks\": \"outside\"}}, \"type\": \"scattermapbox\"}], \"scatterpolar\": [{\"marker\": {\"colorbar\": {\"outlinewidth\": 1, \"tickcolor\": \"rgb(36,36,36)\", \"ticks\": \"outside\"}}, \"type\": \"scatterpolar\"}], \"scatterpolargl\": [{\"marker\": {\"colorbar\": {\"outlinewidth\": 1, \"tickcolor\": \"rgb(36,36,36)\", \"ticks\": \"outside\"}}, \"type\": \"scatterpolargl\"}], \"scatterternary\": [{\"marker\": {\"colorbar\": {\"outlinewidth\": 1, \"tickcolor\": \"rgb(36,36,36)\", \"ticks\": \"outside\"}}, \"type\": \"scatterternary\"}], \"surface\": [{\"colorbar\": {\"outlinewidth\": 1, \"tickcolor\": \"rgb(36,36,36)\", \"ticks\": \"outside\"}, \"colorscale\": [[0.0, \"#440154\"], [0.1111111111111111, \"#482878\"], [0.2222222222222222, \"#3e4989\"], [0.3333333333333333, \"#31688e\"], [0.4444444444444444, \"#26828e\"], [0.5555555555555556, \"#1f9e89\"], [0.6666666666666666, \"#35b779\"], [0.7777777777777778, \"#6ece58\"], [0.8888888888888888, \"#b5de2b\"], [1.0, \"#fde725\"]], \"type\": \"surface\"}], \"table\": [{\"cells\": {\"fill\": {\"color\": \"rgb(237,237,237)\"}, \"line\": {\"color\": \"white\"}}, \"header\": {\"fill\": {\"color\": \"rgb(217,217,217)\"}, \"line\": {\"color\": \"white\"}}, \"type\": \"table\"}]}, \"layout\": {\"annotationdefaults\": {\"arrowhead\": 0, \"arrowwidth\": 1}, \"autotypenumbers\": \"strict\", \"coloraxis\": {\"colorbar\": {\"outlinewidth\": 1, \"tickcolor\": \"rgb(36,36,36)\", \"ticks\": \"outside\"}}, \"colorscale\": {\"diverging\": [[0.0, \"rgb(103,0,31)\"], [0.1, \"rgb(178,24,43)\"], [0.2, \"rgb(214,96,77)\"], [0.3, \"rgb(244,165,130)\"], [0.4, \"rgb(253,219,199)\"], [0.5, \"rgb(247,247,247)\"], [0.6, \"rgb(209,229,240)\"], [0.7, \"rgb(146,197,222)\"], [0.8, \"rgb(67,147,195)\"], [0.9, \"rgb(33,102,172)\"], [1.0, \"rgb(5,48,97)\"]], \"sequential\": [[0.0, \"#440154\"], [0.1111111111111111, \"#482878\"], [0.2222222222222222, \"#3e4989\"], [0.3333333333333333, \"#31688e\"], [0.4444444444444444, \"#26828e\"], [0.5555555555555556, \"#1f9e89\"], [0.6666666666666666, \"#35b779\"], [0.7777777777777778, \"#6ece58\"], [0.8888888888888888, \"#b5de2b\"], [1.0, \"#fde725\"]], \"sequentialminus\": [[0.0, \"#440154\"], [0.1111111111111111, \"#482878\"], [0.2222222222222222, \"#3e4989\"], [0.3333333333333333, \"#31688e\"], [0.4444444444444444, \"#26828e\"], [0.5555555555555556, \"#1f9e89\"], [0.6666666666666666, \"#35b779\"], [0.7777777777777778, \"#6ece58\"], [0.8888888888888888, \"#b5de2b\"], [1.0, \"#fde725\"]]}, \"colorway\": [\"#1F77B4\", \"#FF7F0E\", \"#2CA02C\", \"#D62728\", \"#9467BD\", \"#8C564B\", \"#E377C2\", \"#7F7F7F\", \"#BCBD22\", \"#17BECF\"], \"font\": {\"color\": \"rgb(36,36,36)\"}, \"geo\": {\"bgcolor\": \"white\", \"lakecolor\": \"white\", \"landcolor\": \"white\", \"showlakes\": true, \"showland\": true, \"subunitcolor\": \"white\"}, \"hoverlabel\": {\"align\": \"left\"}, \"hovermode\": \"closest\", \"mapbox\": {\"style\": \"light\"}, \"paper_bgcolor\": \"white\", \"plot_bgcolor\": \"white\", \"polar\": {\"angularaxis\": {\"gridcolor\": \"rgb(232,232,232)\", \"linecolor\": \"rgb(36,36,36)\", \"showgrid\": false, \"showline\": true, \"ticks\": \"outside\"}, \"bgcolor\": \"white\", \"radialaxis\": {\"gridcolor\": \"rgb(232,232,232)\", \"linecolor\": \"rgb(36,36,36)\", \"showgrid\": false, \"showline\": true, \"ticks\": \"outside\"}}, \"scene\": {\"xaxis\": {\"backgroundcolor\": \"white\", \"gridcolor\": \"rgb(232,232,232)\", \"gridwidth\": 2, \"linecolor\": \"rgb(36,36,36)\", \"showbackground\": true, \"showgrid\": false, \"showline\": true, \"ticks\": \"outside\", \"zeroline\": false, \"zerolinecolor\": \"rgb(36,36,36)\"}, \"yaxis\": {\"backgroundcolor\": \"white\", \"gridcolor\": \"rgb(232,232,232)\", \"gridwidth\": 2, \"linecolor\": \"rgb(36,36,36)\", \"showbackground\": true, \"showgrid\": false, \"showline\": true, \"ticks\": \"outside\", \"zeroline\": false, \"zerolinecolor\": \"rgb(36,36,36)\"}, \"zaxis\": {\"backgroundcolor\": \"white\", \"gridcolor\": \"rgb(232,232,232)\", \"gridwidth\": 2, \"linecolor\": \"rgb(36,36,36)\", \"showbackground\": true, \"showgrid\": false, \"showline\": true, \"ticks\": \"outside\", \"zeroline\": false, \"zerolinecolor\": \"rgb(36,36,36)\"}}, \"shapedefaults\": {\"fillcolor\": \"black\", \"line\": {\"width\": 0}, \"opacity\": 0.3}, \"ternary\": {\"aaxis\": {\"gridcolor\": \"rgb(232,232,232)\", \"linecolor\": \"rgb(36,36,36)\", \"showgrid\": false, \"showline\": true, \"ticks\": \"outside\"}, \"baxis\": {\"gridcolor\": \"rgb(232,232,232)\", \"linecolor\": \"rgb(36,36,36)\", \"showgrid\": false, \"showline\": true, \"ticks\": \"outside\"}, \"bgcolor\": \"white\", \"caxis\": {\"gridcolor\": \"rgb(232,232,232)\", \"linecolor\": \"rgb(36,36,36)\", \"showgrid\": false, \"showline\": true, \"ticks\": \"outside\"}}, \"title\": {\"x\": 0.05}, \"xaxis\": {\"automargin\": true, \"gridcolor\": \"rgb(232,232,232)\", \"linecolor\": \"rgb(36,36,36)\", \"showgrid\": false, \"showline\": true, \"ticks\": \"outside\", \"title\": {\"standoff\": 15}, \"zeroline\": false, \"zerolinecolor\": \"rgb(36,36,36)\"}, \"yaxis\": {\"automargin\": true, \"gridcolor\": \"rgb(232,232,232)\", \"linecolor\": \"rgb(36,36,36)\", \"showgrid\": false, \"showline\": true, \"ticks\": \"outside\", \"title\": {\"standoff\": 15}, \"zeroline\": false, \"zerolinecolor\": \"rgb(36,36,36)\"}}}, \"title\": {\"font\": {\"color\": \"Black\", \"size\": 22}, \"text\": \"<b>Topics over Time\", \"x\": 0.4, \"xanchor\": \"center\", \"y\": 0.95, \"yanchor\": \"top\"}, \"width\": 1250, \"xaxis\": {\"showgrid\": true}, \"yaxis\": {\"showgrid\": true, \"title\": {\"text\": \"Frequency\"}}},                        {\"responsive\": true}                    ).then(function(){\n",
              "                            \n",
              "var gd = document.getElementById('823ea613-d335-457c-ae1a-aa97a38369ff');\n",
              "var x = new MutationObserver(function (mutations, observer) {{\n",
              "        var display = window.getComputedStyle(gd).display;\n",
              "        if (!display || display === 'none') {{\n",
              "            console.log([gd, 'removed!']);\n",
              "            Plotly.purge(gd);\n",
              "            observer.disconnect();\n",
              "        }}\n",
              "}});\n",
              "\n",
              "// Listen for the removal of the full notebook cells\n",
              "var notebookContainer = gd.closest('#notebook-container');\n",
              "if (notebookContainer) {{\n",
              "    x.observe(notebookContainer, {childList: true});\n",
              "}}\n",
              "\n",
              "// Listen for the clearing of the current output cell\n",
              "var outputEl = gd.closest('.output');\n",
              "if (outputEl) {{\n",
              "    x.observe(outputEl, {childList: true});\n",
              "}}\n",
              "\n",
              "                        })                };                            </script>        </div>\n",
              "</body>\n",
              "</html>"
            ]
          },
          "metadata": {
            "tags": []
          }
        }
      ]
    },
    {
      "cell_type": "code",
      "metadata": {
        "colab": {
          "base_uri": "https://localhost:8080/",
          "height": 393
        },
        "id": "RuT7w0bdtDmJ",
        "outputId": "51e7dedc-c4cf-4400-d5a7-6317c36984c8"
      },
      "source": [
        "bestf2.visualize_distribution(prof2[3])"
      ],
      "execution_count": null,
      "outputs": [
        {
          "output_type": "display_data",
          "data": {
            "image/png": "[encoded data removed]",
            "text/plain": [
              "<Figure size 720x360 with 1 Axes>"
            ]
          },
          "metadata": {
            "tags": [],
            "needs_background": "light"
          }
        }
      ]
    },
    {
      "cell_type": "code",
      "metadata": {
        "colab": {
          "base_uri": "https://localhost:8080/"
        },
        "id": "2GEEYABptJDQ",
        "outputId": "908d0735-7ba1-4f41-b4d4-aff083e25c14"
      },
      "source": [
        "bestf2.find_topics(\"covid\")"
      ],
      "execution_count": null,
      "outputs": [
        {
          "output_type": "execute_result",
          "data": {
            "text/plain": [
              "([-1, 102, 312, 264, 340],\n",
              " [0.7601078047263611,\n",
              "  0.46351903996075755,\n",
              "  0.38604884589988525,\n",
              "  0.37059165961729584,\n",
              "  0.3632601630284634])"
            ]
          },
          "metadata": {
            "tags": []
          },
          "execution_count": 209
        }
      ]
    },
    {
      "cell_type": "markdown",
      "metadata": {
        "id": "-JumcZBpjqTK"
      },
      "source": [
        "# **Sentence Transformers**"
      ]
    },
    {
      "cell_type": "markdown",
      "metadata": {
        "id": "qL51Ir0jyh_L"
      },
      "source": [
        "1.   perplexity\n",
        "1.   play more with embedding\n",
        "2.   try bert and change min_counts for word2vec"
      ]
    },
    {
      "cell_type": "code",
      "metadata": {
        "id": "GiF915sp4kKs",
        "colab": {
          "base_uri": "https://localhost:8080/",
          "height": 66,
          "referenced_widgets": [
            "02c6b833880e493d86fbbd2e552b2f36",
            "8c5d1ab9f4ba4d2786e38521af33523b",
            "59529f396a3242e38abf506c9c2d1906",
            "e36c19b65e574c9a98997e259a351300",
            "fa09efb4ecf14b09bc26890726ba902a",
            "4f40e4e5a9d64a93a3799d3f837d08bd",
            "3c2ee95eca3441638a530bcb2db7ee37",
            "5c710320328249a7a264d8bd1434dde4"
          ]
        },
        "outputId": "7df4278c-490f-4128-a8b5-9ca691de8dc3"
      },
      "source": [
        "from sentence_transformers import SentenceTransformer, InputExample, losses\n",
        "from torch.utils.data import DataLoader\n",
        "from torch import nn\n",
        "\n",
        "# Use BERT for mapping tokens to embeddings\n",
        "word_model = SentenceTransformer('bert-base-uncased')\n",
        "embeddings = word_model.encode(my_tokens, show_progress_bar=True)"
      ],
      "execution_count": 57,
      "outputs": [
        {
          "output_type": "display_data",
          "data": {
            "application/vnd.jupyter.widget-view+json": {
              "model_id": "02c6b833880e493d86fbbd2e552b2f36",
              "version_minor": 0,
              "version_major": 2
            },
            "text/plain": [
              "HBox(children=(FloatProgress(value=0.0, description='Batches', max=374.0, style=ProgressStyle(description_widt…"
            ]
          },
          "metadata": {
            "tags": []
          }
        },
        {
          "output_type": "stream",
          "text": [
            "\n"
          ],
          "name": "stdout"
        }
      ]
    },
    {
      "cell_type": "code",
      "metadata": {
        "id": "2bzwuKYbqCdv"
      },
      "source": [
        "topic_model_st = BERTopic(nr_topics = 10, calculate_probabilities=True, embedding_model = [embeddings])"
      ],
      "execution_count": 58,
      "outputs": []
    },
    {
      "cell_type": "code",
      "metadata": {
        "colab": {
          "base_uri": "https://localhost:8080/"
        },
        "id": "OJZC__WMzuqq",
        "outputId": "0488cfdc-9d2e-455c-fb09-c9ddbbfaf7e8"
      },
      "source": [
        "len(docs_clean)"
      ],
      "execution_count": 96,
      "outputs": [
        {
          "output_type": "execute_result",
          "data": {
            "text/plain": [
              "11963"
            ]
          },
          "metadata": {
            "tags": []
          },
          "execution_count": 96
        }
      ]
    },
    {
      "cell_type": "code",
      "metadata": {
        "id": "tuZwnTvPWM5R"
      },
      "source": [
        "topics, probabilities = topic_model_st.fit_transform(docs_clean_old)"
      ],
      "execution_count": 59,
      "outputs": []
    },
    {
      "cell_type": "code",
      "metadata": {
        "id": "_8d2jesBrsMW"
      },
      "source": [
        "#remove stop words and change n-gram range\n",
        "from sklearn.feature_extraction.text import CountVectorizer\n",
        "cv = CountVectorizer(ngram_range=(1, 1), stop_words=\"english\")\n",
        "\n",
        "topic_model_st.update_topics(docs_clean_old, topics, vectorizer_model=cv)"
      ],
      "execution_count": 60,
      "outputs": []
    },
    {
      "cell_type": "code",
      "metadata": {
        "colab": {
          "base_uri": "https://localhost:8080/",
          "height": 343
        },
        "id": "kZznsmjgo5pT",
        "outputId": "277040e5-43e6-46c6-a62d-77800295d541"
      },
      "source": [
        "topic_model_st.get_topic_freq().head(10)"
      ],
      "execution_count": 61,
      "outputs": [
        {
          "output_type": "execute_result",
          "data": {
            "text/html": [
              "<div>\n",
              "<style scoped>\n",
              "    .dataframe tbody tr th:only-of-type {\n",
              "        vertical-align: middle;\n",
              "    }\n",
              "\n",
              "    .dataframe tbody tr th {\n",
              "        vertical-align: top;\n",
              "    }\n",
              "\n",
              "    .dataframe thead th {\n",
              "        text-align: right;\n",
              "    }\n",
              "</style>\n",
              "<table border=\"1\" class=\"dataframe\">\n",
              "  <thead>\n",
              "    <tr style=\"text-align: right;\">\n",
              "      <th></th>\n",
              "      <th>Topic</th>\n",
              "      <th>Count</th>\n",
              "    </tr>\n",
              "  </thead>\n",
              "  <tbody>\n",
              "    <tr>\n",
              "      <th>0</th>\n",
              "      <td>-1</td>\n",
              "      <td>19981</td>\n",
              "    </tr>\n",
              "    <tr>\n",
              "      <th>1</th>\n",
              "      <td>178</td>\n",
              "      <td>1421</td>\n",
              "    </tr>\n",
              "    <tr>\n",
              "      <th>2</th>\n",
              "      <td>36</td>\n",
              "      <td>1078</td>\n",
              "    </tr>\n",
              "    <tr>\n",
              "      <th>3</th>\n",
              "      <td>139</td>\n",
              "      <td>677</td>\n",
              "    </tr>\n",
              "    <tr>\n",
              "      <th>4</th>\n",
              "      <td>251</td>\n",
              "      <td>650</td>\n",
              "    </tr>\n",
              "    <tr>\n",
              "      <th>5</th>\n",
              "      <td>310</td>\n",
              "      <td>505</td>\n",
              "    </tr>\n",
              "    <tr>\n",
              "      <th>6</th>\n",
              "      <td>224</td>\n",
              "      <td>497</td>\n",
              "    </tr>\n",
              "    <tr>\n",
              "      <th>7</th>\n",
              "      <td>238</td>\n",
              "      <td>433</td>\n",
              "    </tr>\n",
              "    <tr>\n",
              "      <th>8</th>\n",
              "      <td>99</td>\n",
              "      <td>346</td>\n",
              "    </tr>\n",
              "    <tr>\n",
              "      <th>9</th>\n",
              "      <td>110</td>\n",
              "      <td>237</td>\n",
              "    </tr>\n",
              "  </tbody>\n",
              "</table>\n",
              "</div>"
            ],
            "text/plain": [
              "   Topic  Count\n",
              "0     -1  19981\n",
              "1    178   1421\n",
              "2     36   1078\n",
              "3    139    677\n",
              "4    251    650\n",
              "5    310    505\n",
              "6    224    497\n",
              "7    238    433\n",
              "8     99    346\n",
              "9    110    237"
            ]
          },
          "metadata": {
            "tags": []
          },
          "execution_count": 61
        }
      ]
    },
    {
      "cell_type": "code",
      "metadata": {
        "colab": {
          "base_uri": "https://localhost:8080/"
        },
        "id": "WRXei6kp1b48",
        "outputId": "f362ea33-3e9e-4db4-d863-56c181f0ebd0"
      },
      "source": [
        "topic_model_st.get_topic(99)"
      ],
      "execution_count": 69,
      "outputs": [
        {
          "output_type": "execute_result",
          "data": {
            "text/plain": [
              "[('china', 0.10735841980319728),\n",
              " ('chinese', 0.05263821791962766),\n",
              " ('vaccine', 0.03838338138275352),\n",
              " ('billion', 0.026377235842470925),\n",
              " ('vaccines', 0.02338105015072538),\n",
              " ('virus', 0.01975212631575056),\n",
              " ('chinas', 0.016452736541721517),\n",
              " ('coronavirus', 0.01564371364329874),\n",
              " ('sinopharm', 0.013004814439296665),\n",
              " ('wuhan', 0.011408123243938305)]"
            ]
          },
          "metadata": {
            "tags": []
          },
          "execution_count": 69
        }
      ]
    },
    {
      "cell_type": "code",
      "metadata": {
        "id": "zXsRkFB25KcU",
        "colab": {
          "base_uri": "https://localhost:8080/"
        },
        "outputId": "9d22348d-cd90-4e57-aa75-428ce0529516"
      },
      "source": [
        "topic_model_st.save('/content/drive/My Drive/sentencetrans_90dcold')"
      ],
      "execution_count": 70,
      "outputs": [
        {
          "output_type": "stream",
          "text": [
            "/usr/local/lib/python3.7/dist-packages/scipy/sparse/_index.py:126: SparseEfficiencyWarning:\n",
            "\n",
            "Changing the sparsity structure of a csr_matrix is expensive. lil_matrix is more efficient.\n",
            "\n"
          ],
          "name": "stderr"
        }
      ]
    },
    {
      "cell_type": "code",
      "metadata": {
        "id": "tc6XHluP5e-h"
      },
      "source": [
        "np.save('/content/drive/My Drive/topic_90stold', topics)\n",
        "np.save('/content/drive/My Drive/prob_90stold', probabilities)"
      ],
      "execution_count": 71,
      "outputs": []
    },
    {
      "cell_type": "code",
      "metadata": {
        "id": "9csoV9d1mU6H"
      },
      "source": [
        "st = BERTopic.load('/content/drive/My Drive/sentencetrans_90tok')\n",
        "topst = np.load('/content/drive/My Drive/topic_90stok.npy')\n",
        "prost = np.load('/content/drive/My Drive/prob_90stok.npy')"
      ],
      "execution_count": 84,
      "outputs": []
    },
    {
      "cell_type": "code",
      "metadata": {
        "colab": {
          "base_uri": "https://localhost:8080/",
          "height": 467
        },
        "id": "sCF6EI4UtHk4",
        "outputId": "1a28e4f3-46af-480e-9d67-4c72fcb5e3c6"
      },
      "source": [
        "topics_over_time = st.topics_over_time(my_tokens, topst, clean_times, evolution_tuning = True,\n",
        "                         global_tuning = False)\n",
        "st.visualize_topics_over_time(topics_over_time, top_n=5) #fitted to tokens"
      ],
      "execution_count": 58,
      "outputs": [
        {
          "output_type": "display_data",
          "data": {
            "text/html": [
              "<html>\n",
              "<head><meta charset=\"utf-8\" /></head>\n",
              "<body>\n",
              "    <div>            <script src=\"https://cdnjs.cloudflare.com/ajax/libs/mathjax/2.7.5/MathJax.js?config=TeX-AMS-MML_SVG\"></script><script type=\"text/javascript\">if (window.MathJax) {MathJax.Hub.Config({SVG: {font: \"STIX-Web\"}});}</script>                <script type=\"text/javascript\">window.PlotlyConfig = {MathJaxConfig: 'local'};</script>\n",
              "        <script src=\"https://cdn.plot.ly/plotly-latest.min.js\"></script>                <div id=\"79e1c777-f9db-4eef-a00d-7ef2a0c49194\" class=\"plotly-graph-div\" style=\"height:450px; width:1250px;\"></div>            <script type=\"text/javascript\">                                    window.PLOTLYENV=window.PLOTLYENV || {};                                    if (document.getElementById(\"79e1c777-f9db-4eef-a00d-7ef2a0c49194\")) {                    Plotly.newPlot(                        \"79e1c777-f9db-4eef-a00d-7ef2a0c49194\",                        [{\"hoverinfo\": \"text\", \"hovertext\": [\"<b>Topic 5</b><br>Words: china, chinese, plague, slavs, russians\", \"<b>Topic 5</b><br>Words: china, thank, virus, chinese, vaccine\", \"<b>Topic 5</b><br>Words: china, malaysia, hydrogel, vaccine, virus\", \"<b>Topic 5</b><br>Words: china, wag, country, chinese, vaccine\", \"<b>Topic 5</b><br>Words: china, calcifediol, vaccine, chinese, coronavirus\", \"<b>Topic 5</b><br>Words: china, lockdown, vaccine, virus, want\", \"<b>Topic 5</b><br>Words: sputnik, inoculation, medic, china, sinopharm\", \"<b>Topic 5</b><br>Words: china, chinese, vaccine, thank, vaccination\", \"<b>Topic 5</b><br>Words: billion, china, vaccine, family, trump\", \"<b>Topic 5</b><br>Words: yale, wilfully, china, stanford, flu\", \"<b>Topic 5</b><br>Words: china, vaccine, chinese, virus, vaccination\", \"<b>Topic 5</b><br>Words: greece, vaccine, fake, invasion, china\", \"<b>Topic 5</b><br>Words: china, vaccine, chinese, vaccinate, wuhan\"], \"marker\": {\"color\": \"#E69F00\"}, \"mode\": \"lines\", \"name\": \"5_china_vaccine_chinese_virus\", \"type\": \"scatter\", \"x\": [\"2020-09-28T00:00:00\", \"2020-09-29T00:00:00\", \"2020-09-30T00:00:00\", \"2020-10-29T00:00:00\", \"2020-10-30T00:00:00\", \"2020-10-31T00:00:00\", \"2020-11-29T00:00:00\", \"2020-11-30T00:00:00\", \"2020-12-31T00:00:00\", \"2021-01-30T00:00:00\", \"2021-01-31T00:00:00\", \"2021-02-27T00:00:00\", \"2021-02-28T00:00:00\"], \"y\": [12, 32, 21, 20, 25, 27, 3, 42, 44, 3, 38, 8, 49]}, {\"hoverinfo\": \"text\", \"hovertext\": [\"<b>Topic 8</b><br>Words: shark, kill, ocean, squalene, vaccine\", \"<b>Topic 8</b><br>Words: shark, sharks, ocean, vaccine, ecosystem\", \"<b>Topic 8</b><br>Words: shark, sharks, ocean, ecosystem, alternative\", \"<b>Topic 8</b><br>Words: birx, visit, sharks, frankfurt, meetings\", \"<b>Topic 8</b><br>Words: aquascoot, virus, thebarnacle, biologist, sniffle\", \"<b>Topic 8</b><br>Words: gameplay, gamejam, gamefaqs, gamechanger, gamea\", \"<b>Topic 8</b><br>Words: beast, tigermommy, cost, superman, concern\", \"<b>Topic 8</b><br>Words: prevent, punishment, severely, expensive, death\", \"<b>Topic 8</b><br>Words: shark, marlins, quoterattlinjack, kidneys, whip\", \"<b>Topic 8</b><br>Words: gamers, gamer, gamequote, gameplayer, gaming\", \"<b>Topic 8</b><br>Words: beast, vaxxx, juice, plague, deception\"], \"marker\": {\"color\": \"#56B4E9\"}, \"mode\": \"lines\", \"name\": \"8_shark_sharks_ocean_ecosystem\", \"type\": \"scatter\", \"x\": [\"2020-09-28T00:00:00\", \"2020-09-29T00:00:00\", \"2020-09-30T00:00:00\", \"2020-10-29T00:00:00\", \"2020-10-30T00:00:00\", \"2020-10-31T00:00:00\", \"2020-11-30T00:00:00\", \"2020-12-31T00:00:00\", \"2021-01-31T00:00:00\", \"2021-02-27T00:00:00\", \"2021-02-28T00:00:00\"], \"y\": [171, 331, 236, 5, 8, 1, 3, 7, 4, 1, 4]}, {\"hoverinfo\": \"text\", \"hovertext\": [\"<b>Topic 55</b><br>Words: kid, school, parent, flu, write\", \"<b>Topic 55</b><br>Words: school, child, kid, student, cdc\", \"<b>Topic 55</b><br>Words: school, musk, kid, flu, education\", \"<b>Topic 55</b><br>Words: anonymous, hydroxychloroquine, schooler, liverpool, zinc\", \"<b>Topic 55</b><br>Words: anonymous, trick, treat, virus, uninsured\", \"<b>Topic 55</b><br>Words: school, parent, write, learning, lockdown\", \"<b>Topic 55</b><br>Words: kid, student, school, vaccine, flu\", \"<b>Topic 55</b><br>Words: teacher, school, vaccine, health, vaccinate\", \"<b>Topic 55</b><br>Words: write, teacher, vaccine, child, vaccinate\", \"<b>Topic 55</b><br>Words: teacher, write, school, vaccine, teach\", \"<b>Topic 55</b><br>Words: teacher, school, doctor, republican, education\", \"<b>Topic 55</b><br>Words: teacher, school, vaccinate, write, vaccine\"], \"marker\": {\"color\": \"#009E73\"}, \"mode\": \"lines\", \"name\": \"55_teacher_school_kid_vaccine\", \"type\": \"scatter\", \"x\": [\"2020-09-28T00:00:00\", \"2020-09-29T00:00:00\", \"2020-09-30T00:00:00\", \"2020-10-29T00:00:00\", \"2020-10-30T00:00:00\", \"2020-10-31T00:00:00\", \"2020-11-29T00:00:00\", \"2020-11-30T00:00:00\", \"2020-12-31T00:00:00\", \"2021-01-31T00:00:00\", \"2021-02-27T00:00:00\", \"2021-02-28T00:00:00\"], \"y\": [23, 7, 14, 10, 10, 19, 7, 23, 24, 49, 14, 39]}, {\"hoverinfo\": \"text\", \"hovertext\": [\"<b>Topic 122</b><br>Words: price, vaccine, buy, investment, money\", \"<b>Topic 122</b><br>Words: stock, mg, debt, price, buy\", \"<b>Topic 122</b><br>Words: stock, price, gold, bitcoin, economy\", \"<b>Topic 122</b><br>Words: novavax, takeda, antibody, vaccine, japan\", \"<b>Topic 122</b><br>Words: stock, share, billion, cash, vaccine\", \"<b>Topic 122</b><br>Words: stock, hyperinflation, economic, vaccine, big\", \"<b>Topic 122</b><br>Words: vaccine, signal, halal, begin, britain\", \"<b>Topic 122</b><br>Words: stock, dollar, vaccine, investor, oil\", \"<b>Topic 122</b><br>Words: price, stock, success, dollar, vaccine\", \"<b>Topic 122</b><br>Words: billion, vaccine, dose, novavax, flu\", \"<b>Topic 122</b><br>Words: oil, houston, stock, texas, share\", \"<b>Topic 122</b><br>Words: mrna, iphone, apple, vaccine, billion\"], \"marker\": {\"color\": \"#F0E442\"}, \"mode\": \"lines\", \"name\": \"122_stock_vaccine_dollar_billion\", \"type\": \"scatter\", \"x\": [\"2020-09-28T00:00:00\", \"2020-09-29T00:00:00\", \"2020-09-30T00:00:00\", \"2020-10-29T00:00:00\", \"2020-10-30T00:00:00\", \"2020-10-31T00:00:00\", \"2020-11-29T00:00:00\", \"2020-11-30T00:00:00\", \"2020-12-31T00:00:00\", \"2021-01-31T00:00:00\", \"2021-02-27T00:00:00\", \"2021-02-28T00:00:00\"], \"y\": [21, 25, 23, 19, 34, 12, 5, 40, 20, 37, 4, 21]}, {\"hoverinfo\": \"text\", \"hovertext\": [\"<b>Topic 124</b><br>Words: phase, trial, inovio, clinical, plan\", \"<b>Topic 124</b><br>Words: trial, cellectra, clinical, vaccine, plan\", \"<b>Topic 124</b><br>Words: pulse, clinical, vaccine, development, cellectra\", \"<b>Topic 124</b><br>Words: dr, cdc, vaccine, fauci, novavax\", \"<b>Topic 124</b><br>Words: dr, novavax, vaccine, iii, cdc\", \"<b>Topic 124</b><br>Words: carrageenan, ivermectin, infection, feb, mexico\", \"<b>Topic 124</b><br>Words: dose, vaccine, nursing, mcclatchy, mrna\", \"<b>Topic 124</b><br>Words: vaccine, phase, emergency, monday, patient\", \"<b>Topic 124</b><br>Words: vaccine, dose, clinical, health, mrna\", \"<b>Topic 124</b><br>Words: supply, global, refrigerated, country, centre\", \"<b>Topic 124</b><br>Words: dose, vaccine, sars, vaccination, administer\", \"<b>Topic 124</b><br>Words: johnson, vaccine, telegraph, catalent, reuters\", \"<b>Topic 124</b><br>Words: vaccine, dose, coronavirus, mexico, authorize\"], \"marker\": {\"color\": \"#D55E00\"}, \"mode\": \"lines\", \"name\": \"124_vaccine_dose_inovio_novavax\", \"type\": \"scatter\", \"x\": [\"2020-09-28T00:00:00\", \"2020-09-29T00:00:00\", \"2020-09-30T00:00:00\", \"2020-10-29T00:00:00\", \"2020-10-30T00:00:00\", \"2020-10-31T00:00:00\", \"2020-11-29T00:00:00\", \"2020-11-30T00:00:00\", \"2020-12-31T00:00:00\", \"2021-01-30T00:00:00\", \"2021-01-31T00:00:00\", \"2021-02-27T00:00:00\", \"2021-02-28T00:00:00\"], \"y\": [25, 18, 17, 17, 23, 17, 12, 41, 26, 1, 21, 10, 43]}],                        {\"height\": 450, \"hoverlabel\": {\"bgcolor\": \"white\", \"font\": {\"family\": \"Rockwell\", \"size\": 16}}, \"legend\": {\"title\": {\"text\": \"<b>Global Topic Representation\"}}, \"template\": {\"data\": {\"bar\": [{\"error_x\": {\"color\": \"rgb(36,36,36)\"}, \"error_y\": {\"color\": \"rgb(36,36,36)\"}, \"marker\": {\"line\": {\"color\": \"white\", \"width\": 0.5}}, \"type\": \"bar\"}], \"barpolar\": [{\"marker\": {\"line\": {\"color\": \"white\", \"width\": 0.5}}, \"type\": \"barpolar\"}], \"carpet\": [{\"aaxis\": {\"endlinecolor\": \"rgb(36,36,36)\", \"gridcolor\": \"white\", \"linecolor\": \"white\", \"minorgridcolor\": \"white\", \"startlinecolor\": \"rgb(36,36,36)\"}, \"baxis\": {\"endlinecolor\": \"rgb(36,36,36)\", \"gridcolor\": \"white\", \"linecolor\": \"white\", \"minorgridcolor\": \"white\", \"startlinecolor\": \"rgb(36,36,36)\"}, \"type\": \"carpet\"}], \"choropleth\": [{\"colorbar\": {\"outlinewidth\": 1, \"tickcolor\": \"rgb(36,36,36)\", \"ticks\": \"outside\"}, \"type\": \"choropleth\"}], \"contour\": [{\"colorbar\": {\"outlinewidth\": 1, \"tickcolor\": \"rgb(36,36,36)\", \"ticks\": \"outside\"}, \"colorscale\": [[0.0, \"#440154\"], [0.1111111111111111, \"#482878\"], [0.2222222222222222, \"#3e4989\"], [0.3333333333333333, \"#31688e\"], [0.4444444444444444, \"#26828e\"], [0.5555555555555556, \"#1f9e89\"], [0.6666666666666666, \"#35b779\"], [0.7777777777777778, \"#6ece58\"], [0.8888888888888888, \"#b5de2b\"], [1.0, \"#fde725\"]], \"type\": \"contour\"}], \"contourcarpet\": [{\"colorbar\": {\"outlinewidth\": 1, \"tickcolor\": \"rgb(36,36,36)\", \"ticks\": \"outside\"}, \"type\": \"contourcarpet\"}], \"heatmap\": [{\"colorbar\": {\"outlinewidth\": 1, \"tickcolor\": \"rgb(36,36,36)\", \"ticks\": \"outside\"}, \"colorscale\": [[0.0, \"#440154\"], [0.1111111111111111, \"#482878\"], [0.2222222222222222, \"#3e4989\"], [0.3333333333333333, \"#31688e\"], [0.4444444444444444, \"#26828e\"], [0.5555555555555556, \"#1f9e89\"], [0.6666666666666666, \"#35b779\"], [0.7777777777777778, \"#6ece58\"], [0.8888888888888888, \"#b5de2b\"], [1.0, \"#fde725\"]], \"type\": \"heatmap\"}], \"heatmapgl\": [{\"colorbar\": {\"outlinewidth\": 1, \"tickcolor\": \"rgb(36,36,36)\", \"ticks\": \"outside\"}, \"colorscale\": [[0.0, \"#440154\"], [0.1111111111111111, \"#482878\"], [0.2222222222222222, \"#3e4989\"], [0.3333333333333333, \"#31688e\"], [0.4444444444444444, \"#26828e\"], [0.5555555555555556, \"#1f9e89\"], [0.6666666666666666, \"#35b779\"], [0.7777777777777778, \"#6ece58\"], [0.8888888888888888, \"#b5de2b\"], [1.0, \"#fde725\"]], \"type\": \"heatmapgl\"}], \"histogram\": [{\"marker\": {\"line\": {\"color\": \"white\", \"width\": 0.6}}, \"type\": \"histogram\"}], \"histogram2d\": [{\"colorbar\": {\"outlinewidth\": 1, \"tickcolor\": \"rgb(36,36,36)\", \"ticks\": \"outside\"}, \"colorscale\": [[0.0, \"#440154\"], [0.1111111111111111, \"#482878\"], [0.2222222222222222, \"#3e4989\"], [0.3333333333333333, \"#31688e\"], [0.4444444444444444, \"#26828e\"], [0.5555555555555556, \"#1f9e89\"], [0.6666666666666666, \"#35b779\"], [0.7777777777777778, \"#6ece58\"], [0.8888888888888888, \"#b5de2b\"], [1.0, \"#fde725\"]], \"type\": \"histogram2d\"}], \"histogram2dcontour\": [{\"colorbar\": {\"outlinewidth\": 1, \"tickcolor\": \"rgb(36,36,36)\", \"ticks\": \"outside\"}, \"colorscale\": [[0.0, \"#440154\"], [0.1111111111111111, \"#482878\"], [0.2222222222222222, \"#3e4989\"], [0.3333333333333333, \"#31688e\"], [0.4444444444444444, \"#26828e\"], [0.5555555555555556, \"#1f9e89\"], [0.6666666666666666, \"#35b779\"], [0.7777777777777778, \"#6ece58\"], [0.8888888888888888, \"#b5de2b\"], [1.0, \"#fde725\"]], \"type\": \"histogram2dcontour\"}], \"mesh3d\": [{\"colorbar\": {\"outlinewidth\": 1, \"tickcolor\": \"rgb(36,36,36)\", \"ticks\": \"outside\"}, \"type\": \"mesh3d\"}], \"parcoords\": [{\"line\": {\"colorbar\": {\"outlinewidth\": 1, \"tickcolor\": \"rgb(36,36,36)\", \"ticks\": \"outside\"}}, \"type\": \"parcoords\"}], \"pie\": [{\"automargin\": true, \"type\": \"pie\"}], \"scatter\": [{\"marker\": {\"colorbar\": {\"outlinewidth\": 1, \"tickcolor\": \"rgb(36,36,36)\", \"ticks\": \"outside\"}}, \"type\": \"scatter\"}], \"scatter3d\": [{\"line\": {\"colorbar\": {\"outlinewidth\": 1, \"tickcolor\": \"rgb(36,36,36)\", \"ticks\": \"outside\"}}, \"marker\": {\"colorbar\": {\"outlinewidth\": 1, \"tickcolor\": \"rgb(36,36,36)\", \"ticks\": \"outside\"}}, \"type\": \"scatter3d\"}], \"scattercarpet\": [{\"marker\": {\"colorbar\": {\"outlinewidth\": 1, \"tickcolor\": \"rgb(36,36,36)\", \"ticks\": \"outside\"}}, \"type\": \"scattercarpet\"}], \"scattergeo\": [{\"marker\": {\"colorbar\": {\"outlinewidth\": 1, \"tickcolor\": \"rgb(36,36,36)\", \"ticks\": \"outside\"}}, \"type\": \"scattergeo\"}], \"scattergl\": [{\"marker\": {\"colorbar\": {\"outlinewidth\": 1, \"tickcolor\": \"rgb(36,36,36)\", \"ticks\": \"outside\"}}, \"type\": \"scattergl\"}], \"scattermapbox\": [{\"marker\": {\"colorbar\": {\"outlinewidth\": 1, \"tickcolor\": \"rgb(36,36,36)\", \"ticks\": \"outside\"}}, \"type\": \"scattermapbox\"}], \"scatterpolar\": [{\"marker\": {\"colorbar\": {\"outlinewidth\": 1, \"tickcolor\": \"rgb(36,36,36)\", \"ticks\": \"outside\"}}, \"type\": \"scatterpolar\"}], \"scatterpolargl\": [{\"marker\": {\"colorbar\": {\"outlinewidth\": 1, \"tickcolor\": \"rgb(36,36,36)\", \"ticks\": \"outside\"}}, \"type\": \"scatterpolargl\"}], \"scatterternary\": [{\"marker\": {\"colorbar\": {\"outlinewidth\": 1, \"tickcolor\": \"rgb(36,36,36)\", \"ticks\": \"outside\"}}, \"type\": \"scatterternary\"}], \"surface\": [{\"colorbar\": {\"outlinewidth\": 1, \"tickcolor\": \"rgb(36,36,36)\", \"ticks\": \"outside\"}, \"colorscale\": [[0.0, \"#440154\"], [0.1111111111111111, \"#482878\"], [0.2222222222222222, \"#3e4989\"], [0.3333333333333333, \"#31688e\"], [0.4444444444444444, \"#26828e\"], [0.5555555555555556, \"#1f9e89\"], [0.6666666666666666, \"#35b779\"], [0.7777777777777778, \"#6ece58\"], [0.8888888888888888, \"#b5de2b\"], [1.0, \"#fde725\"]], \"type\": \"surface\"}], \"table\": [{\"cells\": {\"fill\": {\"color\": \"rgb(237,237,237)\"}, \"line\": {\"color\": \"white\"}}, \"header\": {\"fill\": {\"color\": \"rgb(217,217,217)\"}, \"line\": {\"color\": \"white\"}}, \"type\": \"table\"}]}, \"layout\": {\"annotationdefaults\": {\"arrowhead\": 0, \"arrowwidth\": 1}, \"autotypenumbers\": \"strict\", \"coloraxis\": {\"colorbar\": {\"outlinewidth\": 1, \"tickcolor\": \"rgb(36,36,36)\", \"ticks\": \"outside\"}}, \"colorscale\": {\"diverging\": [[0.0, \"rgb(103,0,31)\"], [0.1, \"rgb(178,24,43)\"], [0.2, \"rgb(214,96,77)\"], [0.3, \"rgb(244,165,130)\"], [0.4, \"rgb(253,219,199)\"], [0.5, \"rgb(247,247,247)\"], [0.6, \"rgb(209,229,240)\"], [0.7, \"rgb(146,197,222)\"], [0.8, \"rgb(67,147,195)\"], [0.9, \"rgb(33,102,172)\"], [1.0, \"rgb(5,48,97)\"]], \"sequential\": [[0.0, \"#440154\"], [0.1111111111111111, \"#482878\"], [0.2222222222222222, \"#3e4989\"], [0.3333333333333333, \"#31688e\"], [0.4444444444444444, \"#26828e\"], [0.5555555555555556, \"#1f9e89\"], [0.6666666666666666, \"#35b779\"], [0.7777777777777778, \"#6ece58\"], [0.8888888888888888, \"#b5de2b\"], [1.0, \"#fde725\"]], \"sequentialminus\": [[0.0, \"#440154\"], [0.1111111111111111, \"#482878\"], [0.2222222222222222, \"#3e4989\"], [0.3333333333333333, \"#31688e\"], [0.4444444444444444, \"#26828e\"], [0.5555555555555556, \"#1f9e89\"], [0.6666666666666666, \"#35b779\"], [0.7777777777777778, \"#6ece58\"], [0.8888888888888888, \"#b5de2b\"], [1.0, \"#fde725\"]]}, \"colorway\": [\"#1F77B4\", \"#FF7F0E\", \"#2CA02C\", \"#D62728\", \"#9467BD\", \"#8C564B\", \"#E377C2\", \"#7F7F7F\", \"#BCBD22\", \"#17BECF\"], \"font\": {\"color\": \"rgb(36,36,36)\"}, \"geo\": {\"bgcolor\": \"white\", \"lakecolor\": \"white\", \"landcolor\": \"white\", \"showlakes\": true, \"showland\": true, \"subunitcolor\": \"white\"}, \"hoverlabel\": {\"align\": \"left\"}, \"hovermode\": \"closest\", \"mapbox\": {\"style\": \"light\"}, \"paper_bgcolor\": \"white\", \"plot_bgcolor\": \"white\", \"polar\": {\"angularaxis\": {\"gridcolor\": \"rgb(232,232,232)\", \"linecolor\": \"rgb(36,36,36)\", \"showgrid\": false, \"showline\": true, \"ticks\": \"outside\"}, \"bgcolor\": \"white\", \"radialaxis\": {\"gridcolor\": \"rgb(232,232,232)\", \"linecolor\": \"rgb(36,36,36)\", \"showgrid\": false, \"showline\": true, \"ticks\": \"outside\"}}, \"scene\": {\"xaxis\": {\"backgroundcolor\": \"white\", \"gridcolor\": \"rgb(232,232,232)\", \"gridwidth\": 2, \"linecolor\": \"rgb(36,36,36)\", \"showbackground\": true, \"showgrid\": false, \"showline\": true, \"ticks\": \"outside\", \"zeroline\": false, \"zerolinecolor\": \"rgb(36,36,36)\"}, \"yaxis\": {\"backgroundcolor\": \"white\", \"gridcolor\": \"rgb(232,232,232)\", \"gridwidth\": 2, \"linecolor\": \"rgb(36,36,36)\", \"showbackground\": true, \"showgrid\": false, \"showline\": true, \"ticks\": \"outside\", \"zeroline\": false, \"zerolinecolor\": \"rgb(36,36,36)\"}, \"zaxis\": {\"backgroundcolor\": \"white\", \"gridcolor\": \"rgb(232,232,232)\", \"gridwidth\": 2, \"linecolor\": \"rgb(36,36,36)\", \"showbackground\": true, \"showgrid\": false, \"showline\": true, \"ticks\": \"outside\", \"zeroline\": false, \"zerolinecolor\": \"rgb(36,36,36)\"}}, \"shapedefaults\": {\"fillcolor\": \"black\", \"line\": {\"width\": 0}, \"opacity\": 0.3}, \"ternary\": {\"aaxis\": {\"gridcolor\": \"rgb(232,232,232)\", \"linecolor\": \"rgb(36,36,36)\", \"showgrid\": false, \"showline\": true, \"ticks\": \"outside\"}, \"baxis\": {\"gridcolor\": \"rgb(232,232,232)\", \"linecolor\": \"rgb(36,36,36)\", \"showgrid\": false, \"showline\": true, \"ticks\": \"outside\"}, \"bgcolor\": \"white\", \"caxis\": {\"gridcolor\": \"rgb(232,232,232)\", \"linecolor\": \"rgb(36,36,36)\", \"showgrid\": false, \"showline\": true, \"ticks\": \"outside\"}}, \"title\": {\"x\": 0.05}, \"xaxis\": {\"automargin\": true, \"gridcolor\": \"rgb(232,232,232)\", \"linecolor\": \"rgb(36,36,36)\", \"showgrid\": false, \"showline\": true, \"ticks\": \"outside\", \"title\": {\"standoff\": 15}, \"zeroline\": false, \"zerolinecolor\": \"rgb(36,36,36)\"}, \"yaxis\": {\"automargin\": true, \"gridcolor\": \"rgb(232,232,232)\", \"linecolor\": \"rgb(36,36,36)\", \"showgrid\": false, \"showline\": true, \"ticks\": \"outside\", \"title\": {\"standoff\": 15}, \"zeroline\": false, \"zerolinecolor\": \"rgb(36,36,36)\"}}}, \"title\": {\"font\": {\"color\": \"Black\", \"size\": 22}, \"text\": \"<b>Topics over Time\", \"x\": 0.4, \"xanchor\": \"center\", \"y\": 0.95, \"yanchor\": \"top\"}, \"width\": 1250, \"xaxis\": {\"showgrid\": true}, \"yaxis\": {\"showgrid\": true, \"title\": {\"text\": \"Frequency\"}}},                        {\"responsive\": true}                    ).then(function(){\n",
              "                            \n",
              "var gd = document.getElementById('79e1c777-f9db-4eef-a00d-7ef2a0c49194');\n",
              "var x = new MutationObserver(function (mutations, observer) {{\n",
              "        var display = window.getComputedStyle(gd).display;\n",
              "        if (!display || display === 'none') {{\n",
              "            console.log([gd, 'removed!']);\n",
              "            Plotly.purge(gd);\n",
              "            observer.disconnect();\n",
              "        }}\n",
              "}});\n",
              "\n",
              "// Listen for the removal of the full notebook cells\n",
              "var notebookContainer = gd.closest('#notebook-container');\n",
              "if (notebookContainer) {{\n",
              "    x.observe(notebookContainer, {childList: true});\n",
              "}}\n",
              "\n",
              "// Listen for the clearing of the current output cell\n",
              "var outputEl = gd.closest('.output');\n",
              "if (outputEl) {{\n",
              "    x.observe(outputEl, {childList: true});\n",
              "}}\n",
              "\n",
              "                        })                };                            </script>        </div>\n",
              "</body>\n",
              "</html>"
            ]
          },
          "metadata": {
            "tags": []
          }
        }
      ]
    },
    {
      "cell_type": "code",
      "metadata": {
        "id": "mzKfy9d2mUOY"
      },
      "source": [
        "st2 = BERTopic.load('/content/drive/My Drive/sentencetrans_90dcold')\n",
        "topst2 = np.load('/content/drive/My Drive/topic_90stold.npy')\n",
        "prost2 = np.load('/content/drive/My Drive/prob_90stold.npy')"
      ],
      "execution_count": 72,
      "outputs": []
    },
    {
      "cell_type": "code",
      "metadata": {
        "colab": {
          "base_uri": "https://localhost:8080/",
          "height": 467
        },
        "id": "3duehHVQtJLB",
        "outputId": "1f36e129-8053-4fca-c0ed-fa4f8e0498fb"
      },
      "source": [
        "topics_over_time = st2.topics_over_time(docs_clean_old, topst2, clean_times_o, evolution_tuning = True,\n",
        "                         global_tuning = False)\n",
        "st2.visualize_topics_over_time(topics_over_time, top_n=5) #fitted to docs_clean"
      ],
      "execution_count": 73,
      "outputs": [
        {
          "output_type": "display_data",
          "data": {
            "text/html": [
              "<html>\n",
              "<head><meta charset=\"utf-8\" /></head>\n",
              "<body>\n",
              "    <div>            <script src=\"https://cdnjs.cloudflare.com/ajax/libs/mathjax/2.7.5/MathJax.js?config=TeX-AMS-MML_SVG\"></script><script type=\"text/javascript\">if (window.MathJax) {MathJax.Hub.Config({SVG: {font: \"STIX-Web\"}});}</script>                <script type=\"text/javascript\">window.PlotlyConfig = {MathJaxConfig: 'local'};</script>\n",
              "        <script src=\"https://cdn.plot.ly/plotly-latest.min.js\"></script>                <div id=\"8193ce69-4a34-4f9c-a309-8a1a0e69a399\" class=\"plotly-graph-div\" style=\"height:450px; width:1250px;\"></div>            <script type=\"text/javascript\">                                    window.PLOTLYENV=window.PLOTLYENV || {};                                    if (document.getElementById(\"8193ce69-4a34-4f9c-a309-8a1a0e69a399\")) {                    Plotly.newPlot(                        \"8193ce69-4a34-4f9c-a309-8a1a0e69a399\",                        [{\"hoverinfo\": \"text\", \"hovertext\": [\"<b>Topic 36</b><br>Words: sharks, shark, squalene, kill, oceans\", \"<b>Topic 36</b><br>Words: sharks, shark, ocean, oceans, species\", \"<b>Topic 36</b><br>Words: sharks, shark, killing, oceans, squalene\", \"<b>Topic 36</b><br>Words: steak, southpark, game, pasta, watchdogs\", \"<b>Topic 36</b><br>Words: turtle, hare, missing, fundingchina, functionsdinner\", \"<b>Topic 36</b><br>Words: emission, carbon, fukwads, fundraising, fujitx\", \"<b>Topic 36</b><br>Words: research, fundraiser, fundings, fundingchina, funding\", \"<b>Topic 36</b><br>Words: slavery, pods, zoolander, servitude, hose\", \"<b>Topic 36</b><br>Words: vegan, admiral, ray, biological, koalas\", \"<b>Topic 36</b><br>Words: beast, vaxxx, juice, plagues, deception\", \"<b>Topic 36</b><br>Words: shark, death, bled, quoterattlinjack, marlins\", \"<b>Topic 36</b><br>Words: fools, selling, oil, vaccine, fundraiser\", \"<b>Topic 36</b><br>Words: beast, vaxxx, juice, plagues, deception\"], \"marker\": {\"color\": \"#E69F00\"}, \"mode\": \"lines\", \"name\": \"36_sharks_shark_oceans_killing\", \"type\": \"scatter\", \"x\": [\"2020-09-28T00:00:00\", \"2020-09-29T00:00:00\", \"2020-09-30T00:00:00\", \"2020-10-29T00:00:00\", \"2020-10-30T00:00:00\", \"2020-10-31T00:00:00\", \"2020-11-29T00:00:00\", \"2020-11-30T00:00:00\", \"2020-12-31T00:00:00\", \"2021-01-30T00:00:00\", \"2021-01-31T00:00:00\", \"2021-02-27T00:00:00\", \"2021-02-28T00:00:00\"], \"y\": [239, 478, 318, 5, 1, 1, 1, 9, 15, 1, 4, 1, 5]}, {\"hoverinfo\": \"text\", \"hovertext\": [\"<b>Topic 139</b><br>Words: parents, school, closed, quarantine, supervision\", \"<b>Topic 139</b><br>Words: college, quarantine, anonymous, flu, vaccine\", \"<b>Topic 139</b><br>Words: risk, household, house, economy, dining\", \"<b>Topic 139</b><br>Words: family, christmas, halloween, bloody, movies\", \"<b>Topic 139</b><br>Words: flu, restaurants, masks, mask, vaccine\", \"<b>Topic 139</b><br>Words: wrote, lockdown, patients, hospitals, closing\", \"<b>Topic 139</b><br>Words: risk, vaccines, vaccine, kids, friends\", \"<b>Topic 139</b><br>Words: restaurants, vaccine, venues, vaccinated, pubs\", \"<b>Topic 139</b><br>Words: kids, preparing, grocery, workers, province\", \"<b>Topic 139</b><br>Words: moderate, asymptomatic, effective, vaccinating, mild\", \"<b>Topic 139</b><br>Words: anonymous, need, vaccine, vaccinated, protect\", \"<b>Topic 139</b><br>Words: inmyarms, vaccinated, rules, grouty, socialising\", \"<b>Topic 139</b><br>Words: vaccinated, kids, anonymous, protected, travel\"], \"marker\": {\"color\": \"#56B4E9\"}, \"mode\": \"lines\", \"name\": \"139_wrote_kids_vaccinated_vaccine\", \"type\": \"scatter\", \"x\": [\"2020-09-28T00:00:00\", \"2020-09-29T00:00:00\", \"2020-09-30T00:00:00\", \"2020-10-29T00:00:00\", \"2020-10-30T00:00:00\", \"2020-10-31T00:00:00\", \"2020-11-29T00:00:00\", \"2020-11-30T00:00:00\", \"2020-12-31T00:00:00\", \"2021-01-30T00:00:00\", \"2021-01-31T00:00:00\", \"2021-02-27T00:00:00\", \"2021-02-28T00:00:00\"], \"y\": [35, 41, 25, 31, 25, 45, 18, 139, 74, 7, 51, 73, 113]}, {\"hoverinfo\": \"text\", \"hovertext\": [\"<b>Topic 178</b><br>Words: phase, trial, vaccine, inovio, clinical\", \"<b>Topic 178</b><br>Words: vaccine, serum, trial, manufacturing, doses\", \"<b>Topic 178</b><br>Words: vaccine, coronavirus, diagnostic, serum, vaccines\", \"<b>Topic 178</b><br>Words: vaccine, launch, plans, coronavirus, biontech\", \"<b>Topic 178</b><br>Words: vaccine, dr, coronavirus, authorization, emergency\", \"<b>Topic 178</b><br>Words: vaccine, start, sarscov, coronavirus, ready\", \"<b>Topic 178</b><br>Words: vaccine, doses, vijayabaskar, patients, million\", \"<b>Topic 178</b><br>Words: moderna, vaccine, authorization, vaccines, effective\", \"<b>Topic 178</b><br>Words: vaccine, mrna, pfizerbiontech, antibody, vaccines\", \"<b>Topic 178</b><br>Words: preclinical, plasmid, vaccine, rep, pharmajet\", \"<b>Topic 178</b><br>Words: vaccine, dose, uk, india, tested\", \"<b>Topic 178</b><br>Words: vaccine, johnsons, vaccines, novavax, doses\", \"<b>Topic 178</b><br>Words: johnson, vaccine, doses, vaccines, johnsons\"], \"marker\": {\"color\": \"#009E73\"}, \"mode\": \"lines\", \"name\": \"178_vaccine_vaccines_coronavirus_doses\", \"type\": \"scatter\", \"x\": [\"2020-09-28T00:00:00\", \"2020-09-29T00:00:00\", \"2020-09-30T00:00:00\", \"2020-10-29T00:00:00\", \"2020-10-30T00:00:00\", \"2020-10-31T00:00:00\", \"2020-11-29T00:00:00\", \"2020-11-30T00:00:00\", \"2020-12-31T00:00:00\", \"2021-01-30T00:00:00\", \"2021-01-31T00:00:00\", \"2021-02-27T00:00:00\", \"2021-02-28T00:00:00\"], \"y\": [56, 68, 98, 103, 100, 52, 35, 237, 183, 18, 221, 75, 175]}, {\"hoverinfo\": \"text\", \"hovertext\": [\"<b>Topic 251</b><br>Words: sweetislandgirl, vegan, funders, fundraising, fundraiser\", \"<b>Topic 251</b><br>Words: shortness, anxiety, breath, adenoids, inflammed\", \"<b>Topic 251</b><br>Words: coughing, excersise, accoring, infact, surgerys\", \"<b>Topic 251</b><br>Words: stella, cat, nose, weak, cough\", \"<b>Topic 251</b><br>Words: precautions, ftmstmstm, crossfitlifting, smarts, rantsraves\", \"<b>Topic 251</b><br>Words: volunteers, vaccine, vitamins, immune, russia\", \"<b>Topic 251</b><br>Words: nursing, mothers, pumping, milk, saved\", \"<b>Topic 251</b><br>Words: radiotherapy, sweating, fever, hoodie, headache\", \"<b>Topic 251</b><br>Words: sore, hurt, pain, vaccine, tastes\", \"<b>Topic 251</b><br>Words: soreness, headache, pill, dose, flu\", \"<b>Topic 251</b><br>Words: arm, sore, dose, yesterday, vaccine\", \"<b>Topic 251</b><br>Words: sore, second, dose, yesterday, weeks\", \"<b>Topic 251</b><br>Words: sore, dose, second, day, moderna\"], \"marker\": {\"color\": \"#F0E442\"}, \"mode\": \"lines\", \"name\": \"251_arm_sore_dose_moderna\", \"type\": \"scatter\", \"x\": [\"2020-09-28T00:00:00\", \"2020-09-29T00:00:00\", \"2020-09-30T00:00:00\", \"2020-10-29T00:00:00\", \"2020-10-30T00:00:00\", \"2020-10-31T00:00:00\", \"2020-11-29T00:00:00\", \"2020-11-30T00:00:00\", \"2020-12-31T00:00:00\", \"2021-01-30T00:00:00\", \"2021-01-31T00:00:00\", \"2021-02-27T00:00:00\", \"2021-02-28T00:00:00\"], \"y\": [2, 4, 2, 8, 7, 5, 3, 22, 88, 7, 147, 107, 248]}, {\"hoverinfo\": \"text\", \"hovertext\": [\"<b>Topic 310</b><br>Words: gecs, in_newengland, happen, steer, retard\", \"<b>Topic 310</b><br>Words: doe, error, solve, computer, creating\", \"<b>Topic 310</b><br>Words: stoplight, murderna, demon, tesla, launch\", \"<b>Topic 310</b><br>Words: game, cyberpunk, delayed, consoles, delay\", \"<b>Topic 310</b><br>Words: game, cyberpunk, date, games, delayed\", \"<b>Topic 310</b><br>Words: game, cyberpunk, delayed, commanderinchief, projekt\", \"<b>Topic 310</b><br>Words: whewee, trudeau, longer, need, funkmiller\", \"<b>Topic 310</b><br>Words: seafreight, laptops, problem, delay, demand\", \"<b>Topic 310</b><br>Words: decide, poor, redhanded, deplorablesgoptrumps, colchicine\", \"<b>Topic 310</b><br>Words: april, josip, pintohoo, pcwx, nebraska\", \"<b>Topic 310</b><br>Words: hours, starts, schedule, latest, saturday\", \"<b>Topic 310</b><br>Words: game, gaming, eligible, startreks, simburian\"], \"marker\": {\"color\": \"#D55E00\"}, \"mode\": \"lines\", \"name\": \"310_game_cyberpunk_delayed_games\", \"type\": \"scatter\", \"x\": [\"2020-09-28T00:00:00\", \"2020-09-29T00:00:00\", \"2020-09-30T00:00:00\", \"2020-10-29T00:00:00\", \"2020-10-30T00:00:00\", \"2020-10-31T00:00:00\", \"2020-11-29T00:00:00\", \"2020-11-30T00:00:00\", \"2020-12-31T00:00:00\", \"2021-01-31T00:00:00\", \"2021-02-27T00:00:00\", \"2021-02-28T00:00:00\"], \"y\": [5, 5, 7, 265, 113, 11, 4, 22, 27, 16, 15, 15]}],                        {\"height\": 450, \"hoverlabel\": {\"bgcolor\": \"white\", \"font\": {\"family\": \"Rockwell\", \"size\": 16}}, \"legend\": {\"title\": {\"text\": \"<b>Global Topic Representation\"}}, \"template\": {\"data\": {\"bar\": [{\"error_x\": {\"color\": \"rgb(36,36,36)\"}, \"error_y\": {\"color\": \"rgb(36,36,36)\"}, \"marker\": {\"line\": {\"color\": \"white\", \"width\": 0.5}}, \"type\": \"bar\"}], \"barpolar\": [{\"marker\": {\"line\": {\"color\": \"white\", \"width\": 0.5}}, \"type\": \"barpolar\"}], \"carpet\": [{\"aaxis\": {\"endlinecolor\": \"rgb(36,36,36)\", \"gridcolor\": \"white\", \"linecolor\": \"white\", \"minorgridcolor\": \"white\", \"startlinecolor\": \"rgb(36,36,36)\"}, \"baxis\": {\"endlinecolor\": \"rgb(36,36,36)\", \"gridcolor\": \"white\", \"linecolor\": \"white\", \"minorgridcolor\": \"white\", \"startlinecolor\": \"rgb(36,36,36)\"}, \"type\": \"carpet\"}], \"choropleth\": [{\"colorbar\": {\"outlinewidth\": 1, \"tickcolor\": \"rgb(36,36,36)\", \"ticks\": \"outside\"}, \"type\": \"choropleth\"}], \"contour\": [{\"colorbar\": {\"outlinewidth\": 1, \"tickcolor\": \"rgb(36,36,36)\", \"ticks\": \"outside\"}, \"colorscale\": [[0.0, \"#440154\"], [0.1111111111111111, \"#482878\"], [0.2222222222222222, \"#3e4989\"], [0.3333333333333333, \"#31688e\"], [0.4444444444444444, \"#26828e\"], [0.5555555555555556, \"#1f9e89\"], [0.6666666666666666, \"#35b779\"], [0.7777777777777778, \"#6ece58\"], [0.8888888888888888, \"#b5de2b\"], [1.0, \"#fde725\"]], \"type\": \"contour\"}], \"contourcarpet\": [{\"colorbar\": {\"outlinewidth\": 1, \"tickcolor\": \"rgb(36,36,36)\", \"ticks\": \"outside\"}, \"type\": \"contourcarpet\"}], \"heatmap\": [{\"colorbar\": {\"outlinewidth\": 1, \"tickcolor\": \"rgb(36,36,36)\", \"ticks\": \"outside\"}, \"colorscale\": [[0.0, \"#440154\"], [0.1111111111111111, \"#482878\"], [0.2222222222222222, \"#3e4989\"], [0.3333333333333333, \"#31688e\"], [0.4444444444444444, \"#26828e\"], [0.5555555555555556, \"#1f9e89\"], [0.6666666666666666, \"#35b779\"], [0.7777777777777778, \"#6ece58\"], [0.8888888888888888, \"#b5de2b\"], [1.0, \"#fde725\"]], \"type\": \"heatmap\"}], \"heatmapgl\": [{\"colorbar\": {\"outlinewidth\": 1, \"tickcolor\": \"rgb(36,36,36)\", \"ticks\": \"outside\"}, \"colorscale\": [[0.0, \"#440154\"], [0.1111111111111111, \"#482878\"], [0.2222222222222222, \"#3e4989\"], [0.3333333333333333, \"#31688e\"], [0.4444444444444444, \"#26828e\"], [0.5555555555555556, \"#1f9e89\"], [0.6666666666666666, \"#35b779\"], [0.7777777777777778, \"#6ece58\"], [0.8888888888888888, \"#b5de2b\"], [1.0, \"#fde725\"]], \"type\": \"heatmapgl\"}], \"histogram\": [{\"marker\": {\"line\": {\"color\": \"white\", \"width\": 0.6}}, \"type\": \"histogram\"}], \"histogram2d\": [{\"colorbar\": {\"outlinewidth\": 1, \"tickcolor\": \"rgb(36,36,36)\", \"ticks\": \"outside\"}, \"colorscale\": [[0.0, \"#440154\"], [0.1111111111111111, \"#482878\"], [0.2222222222222222, \"#3e4989\"], [0.3333333333333333, \"#31688e\"], [0.4444444444444444, \"#26828e\"], [0.5555555555555556, \"#1f9e89\"], [0.6666666666666666, \"#35b779\"], [0.7777777777777778, \"#6ece58\"], [0.8888888888888888, \"#b5de2b\"], [1.0, \"#fde725\"]], \"type\": \"histogram2d\"}], \"histogram2dcontour\": [{\"colorbar\": {\"outlinewidth\": 1, \"tickcolor\": \"rgb(36,36,36)\", \"ticks\": \"outside\"}, \"colorscale\": [[0.0, \"#440154\"], [0.1111111111111111, \"#482878\"], [0.2222222222222222, \"#3e4989\"], [0.3333333333333333, \"#31688e\"], [0.4444444444444444, \"#26828e\"], [0.5555555555555556, \"#1f9e89\"], [0.6666666666666666, \"#35b779\"], [0.7777777777777778, \"#6ece58\"], [0.8888888888888888, \"#b5de2b\"], [1.0, \"#fde725\"]], \"type\": \"histogram2dcontour\"}], \"mesh3d\": [{\"colorbar\": {\"outlinewidth\": 1, \"tickcolor\": \"rgb(36,36,36)\", \"ticks\": \"outside\"}, \"type\": \"mesh3d\"}], \"parcoords\": [{\"line\": {\"colorbar\": {\"outlinewidth\": 1, \"tickcolor\": \"rgb(36,36,36)\", \"ticks\": \"outside\"}}, \"type\": \"parcoords\"}], \"pie\": [{\"automargin\": true, \"type\": \"pie\"}], \"scatter\": [{\"marker\": {\"colorbar\": {\"outlinewidth\": 1, \"tickcolor\": \"rgb(36,36,36)\", \"ticks\": \"outside\"}}, \"type\": \"scatter\"}], \"scatter3d\": [{\"line\": {\"colorbar\": {\"outlinewidth\": 1, \"tickcolor\": \"rgb(36,36,36)\", \"ticks\": \"outside\"}}, \"marker\": {\"colorbar\": {\"outlinewidth\": 1, \"tickcolor\": \"rgb(36,36,36)\", \"ticks\": \"outside\"}}, \"type\": \"scatter3d\"}], \"scattercarpet\": [{\"marker\": {\"colorbar\": {\"outlinewidth\": 1, \"tickcolor\": \"rgb(36,36,36)\", \"ticks\": \"outside\"}}, \"type\": \"scattercarpet\"}], \"scattergeo\": [{\"marker\": {\"colorbar\": {\"outlinewidth\": 1, \"tickcolor\": \"rgb(36,36,36)\", \"ticks\": \"outside\"}}, \"type\": \"scattergeo\"}], \"scattergl\": [{\"marker\": {\"colorbar\": {\"outlinewidth\": 1, \"tickcolor\": \"rgb(36,36,36)\", \"ticks\": \"outside\"}}, \"type\": \"scattergl\"}], \"scattermapbox\": [{\"marker\": {\"colorbar\": {\"outlinewidth\": 1, \"tickcolor\": \"rgb(36,36,36)\", \"ticks\": \"outside\"}}, \"type\": \"scattermapbox\"}], \"scatterpolar\": [{\"marker\": {\"colorbar\": {\"outlinewidth\": 1, \"tickcolor\": \"rgb(36,36,36)\", \"ticks\": \"outside\"}}, \"type\": \"scatterpolar\"}], \"scatterpolargl\": [{\"marker\": {\"colorbar\": {\"outlinewidth\": 1, \"tickcolor\": \"rgb(36,36,36)\", \"ticks\": \"outside\"}}, \"type\": \"scatterpolargl\"}], \"scatterternary\": [{\"marker\": {\"colorbar\": {\"outlinewidth\": 1, \"tickcolor\": \"rgb(36,36,36)\", \"ticks\": \"outside\"}}, \"type\": \"scatterternary\"}], \"surface\": [{\"colorbar\": {\"outlinewidth\": 1, \"tickcolor\": \"rgb(36,36,36)\", \"ticks\": \"outside\"}, \"colorscale\": [[0.0, \"#440154\"], [0.1111111111111111, \"#482878\"], [0.2222222222222222, \"#3e4989\"], [0.3333333333333333, \"#31688e\"], [0.4444444444444444, \"#26828e\"], [0.5555555555555556, \"#1f9e89\"], [0.6666666666666666, \"#35b779\"], [0.7777777777777778, \"#6ece58\"], [0.8888888888888888, \"#b5de2b\"], [1.0, \"#fde725\"]], \"type\": \"surface\"}], \"table\": [{\"cells\": {\"fill\": {\"color\": \"rgb(237,237,237)\"}, \"line\": {\"color\": \"white\"}}, \"header\": {\"fill\": {\"color\": \"rgb(217,217,217)\"}, \"line\": {\"color\": \"white\"}}, \"type\": \"table\"}]}, \"layout\": {\"annotationdefaults\": {\"arrowhead\": 0, \"arrowwidth\": 1}, \"autotypenumbers\": \"strict\", \"coloraxis\": {\"colorbar\": {\"outlinewidth\": 1, \"tickcolor\": \"rgb(36,36,36)\", \"ticks\": \"outside\"}}, \"colorscale\": {\"diverging\": [[0.0, \"rgb(103,0,31)\"], [0.1, \"rgb(178,24,43)\"], [0.2, \"rgb(214,96,77)\"], [0.3, \"rgb(244,165,130)\"], [0.4, \"rgb(253,219,199)\"], [0.5, \"rgb(247,247,247)\"], [0.6, \"rgb(209,229,240)\"], [0.7, \"rgb(146,197,222)\"], [0.8, \"rgb(67,147,195)\"], [0.9, \"rgb(33,102,172)\"], [1.0, \"rgb(5,48,97)\"]], \"sequential\": [[0.0, \"#440154\"], [0.1111111111111111, \"#482878\"], [0.2222222222222222, \"#3e4989\"], [0.3333333333333333, \"#31688e\"], [0.4444444444444444, \"#26828e\"], [0.5555555555555556, \"#1f9e89\"], [0.6666666666666666, \"#35b779\"], [0.7777777777777778, \"#6ece58\"], [0.8888888888888888, \"#b5de2b\"], [1.0, \"#fde725\"]], \"sequentialminus\": [[0.0, \"#440154\"], [0.1111111111111111, \"#482878\"], [0.2222222222222222, \"#3e4989\"], [0.3333333333333333, \"#31688e\"], [0.4444444444444444, \"#26828e\"], [0.5555555555555556, \"#1f9e89\"], [0.6666666666666666, \"#35b779\"], [0.7777777777777778, \"#6ece58\"], [0.8888888888888888, \"#b5de2b\"], [1.0, \"#fde725\"]]}, \"colorway\": [\"#1F77B4\", \"#FF7F0E\", \"#2CA02C\", \"#D62728\", \"#9467BD\", \"#8C564B\", \"#E377C2\", \"#7F7F7F\", \"#BCBD22\", \"#17BECF\"], \"font\": {\"color\": \"rgb(36,36,36)\"}, \"geo\": {\"bgcolor\": \"white\", \"lakecolor\": \"white\", \"landcolor\": \"white\", \"showlakes\": true, \"showland\": true, \"subunitcolor\": \"white\"}, \"hoverlabel\": {\"align\": \"left\"}, \"hovermode\": \"closest\", \"mapbox\": {\"style\": \"light\"}, \"paper_bgcolor\": \"white\", \"plot_bgcolor\": \"white\", \"polar\": {\"angularaxis\": {\"gridcolor\": \"rgb(232,232,232)\", \"linecolor\": \"rgb(36,36,36)\", \"showgrid\": false, \"showline\": true, \"ticks\": \"outside\"}, \"bgcolor\": \"white\", \"radialaxis\": {\"gridcolor\": \"rgb(232,232,232)\", \"linecolor\": \"rgb(36,36,36)\", \"showgrid\": false, \"showline\": true, \"ticks\": \"outside\"}}, \"scene\": {\"xaxis\": {\"backgroundcolor\": \"white\", \"gridcolor\": \"rgb(232,232,232)\", \"gridwidth\": 2, \"linecolor\": \"rgb(36,36,36)\", \"showbackground\": true, \"showgrid\": false, \"showline\": true, \"ticks\": \"outside\", \"zeroline\": false, \"zerolinecolor\": \"rgb(36,36,36)\"}, \"yaxis\": {\"backgroundcolor\": \"white\", \"gridcolor\": \"rgb(232,232,232)\", \"gridwidth\": 2, \"linecolor\": \"rgb(36,36,36)\", \"showbackground\": true, \"showgrid\": false, \"showline\": true, \"ticks\": \"outside\", \"zeroline\": false, \"zerolinecolor\": \"rgb(36,36,36)\"}, \"zaxis\": {\"backgroundcolor\": \"white\", \"gridcolor\": \"rgb(232,232,232)\", \"gridwidth\": 2, \"linecolor\": \"rgb(36,36,36)\", \"showbackground\": true, \"showgrid\": false, \"showline\": true, \"ticks\": \"outside\", \"zeroline\": false, \"zerolinecolor\": \"rgb(36,36,36)\"}}, \"shapedefaults\": {\"fillcolor\": \"black\", \"line\": {\"width\": 0}, \"opacity\": 0.3}, \"ternary\": {\"aaxis\": {\"gridcolor\": \"rgb(232,232,232)\", \"linecolor\": \"rgb(36,36,36)\", \"showgrid\": false, \"showline\": true, \"ticks\": \"outside\"}, \"baxis\": {\"gridcolor\": \"rgb(232,232,232)\", \"linecolor\": \"rgb(36,36,36)\", \"showgrid\": false, \"showline\": true, \"ticks\": \"outside\"}, \"bgcolor\": \"white\", \"caxis\": {\"gridcolor\": \"rgb(232,232,232)\", \"linecolor\": \"rgb(36,36,36)\", \"showgrid\": false, \"showline\": true, \"ticks\": \"outside\"}}, \"title\": {\"x\": 0.05}, \"xaxis\": {\"automargin\": true, \"gridcolor\": \"rgb(232,232,232)\", \"linecolor\": \"rgb(36,36,36)\", \"showgrid\": false, \"showline\": true, \"ticks\": \"outside\", \"title\": {\"standoff\": 15}, \"zeroline\": false, \"zerolinecolor\": \"rgb(36,36,36)\"}, \"yaxis\": {\"automargin\": true, \"gridcolor\": \"rgb(232,232,232)\", \"linecolor\": \"rgb(36,36,36)\", \"showgrid\": false, \"showline\": true, \"ticks\": \"outside\", \"title\": {\"standoff\": 15}, \"zeroline\": false, \"zerolinecolor\": \"rgb(36,36,36)\"}}}, \"title\": {\"font\": {\"color\": \"Black\", \"size\": 22}, \"text\": \"<b>Topics over Time\", \"x\": 0.4, \"xanchor\": \"center\", \"y\": 0.95, \"yanchor\": \"top\"}, \"width\": 1250, \"xaxis\": {\"showgrid\": true}, \"yaxis\": {\"showgrid\": true, \"title\": {\"text\": \"Frequency\"}}},                        {\"responsive\": true}                    ).then(function(){\n",
              "                            \n",
              "var gd = document.getElementById('8193ce69-4a34-4f9c-a309-8a1a0e69a399');\n",
              "var x = new MutationObserver(function (mutations, observer) {{\n",
              "        var display = window.getComputedStyle(gd).display;\n",
              "        if (!display || display === 'none') {{\n",
              "            console.log([gd, 'removed!']);\n",
              "            Plotly.purge(gd);\n",
              "            observer.disconnect();\n",
              "        }}\n",
              "}});\n",
              "\n",
              "// Listen for the removal of the full notebook cells\n",
              "var notebookContainer = gd.closest('#notebook-container');\n",
              "if (notebookContainer) {{\n",
              "    x.observe(notebookContainer, {childList: true});\n",
              "}}\n",
              "\n",
              "// Listen for the clearing of the current output cell\n",
              "var outputEl = gd.closest('.output');\n",
              "if (outputEl) {{\n",
              "    x.observe(outputEl, {childList: true});\n",
              "}}\n",
              "\n",
              "                        })                };                            </script>        </div>\n",
              "</body>\n",
              "</html>"
            ]
          },
          "metadata": {
            "tags": []
          }
        }
      ]
    },
    {
      "cell_type": "code",
      "metadata": {
        "id": "-axQUc1fbt7u"
      },
      "source": [
        "st3 = BERTopic.load('/content/drive/My Drive/sentencetrans_90dc')\n",
        "topst3 = np.load('/content/drive/My Drive/topic_90st.npy')\n",
        "prost3 = np.load('/content/drive/My Drive/prob_90st.npy')"
      ],
      "execution_count": 90,
      "outputs": []
    },
    {
      "cell_type": "code",
      "metadata": {
        "colab": {
          "base_uri": "https://localhost:8080/",
          "height": 467
        },
        "id": "SUNbqiO5b8wa",
        "outputId": "5acf4619-5ae2-47bd-898f-23b19b2d3578"
      },
      "source": [
        "topics_over_time = st3.topics_over_time(my_tokens, topst3, clean_times, evolution_tuning = True,\n",
        "                         global_tuning = False)\n",
        "st3.visualize_topics_over_time(topics_over_time, top_n=5) #fitted to docs_clean"
      ],
      "execution_count": 93,
      "outputs": [
        {
          "output_type": "display_data",
          "data": {
            "text/html": [
              "<html>\n",
              "<head><meta charset=\"utf-8\" /></head>\n",
              "<body>\n",
              "    <div>            <script src=\"https://cdnjs.cloudflare.com/ajax/libs/mathjax/2.7.5/MathJax.js?config=TeX-AMS-MML_SVG\"></script><script type=\"text/javascript\">if (window.MathJax) {MathJax.Hub.Config({SVG: {font: \"STIX-Web\"}});}</script>                <script type=\"text/javascript\">window.PlotlyConfig = {MathJaxConfig: 'local'};</script>\n",
              "        <script src=\"https://cdn.plot.ly/plotly-latest.min.js\"></script>                <div id=\"dce7a13e-ee52-41dc-b715-338c7a520b0f\" class=\"plotly-graph-div\" style=\"height:450px; width:1250px;\"></div>            <script type=\"text/javascript\">                                    window.PLOTLYENV=window.PLOTLYENV || {};                                    if (document.getElementById(\"dce7a13e-ee52-41dc-b715-338c7a520b0f\")) {                    Plotly.newPlot(                        \"dce7a13e-ee52-41dc-b715-338c7a520b0f\",                        [{\"hoverinfo\": \"text\", \"hovertext\": [\"<b>Topic 0</b><br>Words: shark, kill, ocean, vaccine, ecosystem\", \"<b>Topic 0</b><br>Words: shark, ocean, sharks, vaccine, ecosystem\", \"<b>Topic 0</b><br>Words: shark, kill, sharks, ocean, ecosystem\", \"<b>Topic 0</b><br>Words: reportedly, atlas, workplace, visit, participate\", \"<b>Topic 0</b><br>Words: death, excess, cruise, outbreak, azogthedefiler\", \"<b>Topic 0</b><br>Words: cruise, trump, florida, election, ballot\", \"<b>Topic 0</b><br>Words: outdoor, summer, ggeek, gfas, gfaso\", \"<b>Topic 0</b><br>Words: dinamik, revenue, oil, grow, earning\", \"<b>Topic 0</b><br>Words: spanish, spain, wife, letterman, marlow\", \"<b>Topic 0</b><br>Words: share, shark, stock, dog, death\", \"<b>Topic 0</b><br>Words: huntsfurfish, pregnant, jab, sucker, penalty\", \"<b>Topic 0</b><br>Words: beast, want, plague, doctor, create\"], \"marker\": {\"color\": \"#E69F00\"}, \"mode\": \"lines\", \"name\": \"0_sharks_shark_vaccine_killing\", \"type\": \"scatter\", \"x\": [\"2020-09-28T00:00:00\", \"2020-09-29T00:00:00\", \"2020-09-30T00:00:00\", \"2020-10-29T00:00:00\", \"2020-10-30T00:00:00\", \"2020-10-31T00:00:00\", \"2020-11-29T00:00:00\", \"2020-11-30T00:00:00\", \"2020-12-31T00:00:00\", \"2021-01-31T00:00:00\", \"2021-02-27T00:00:00\", \"2021-02-28T00:00:00\"], \"y\": [165, 309, 242, 5, 3, 4, 1, 1, 5, 4, 1, 8]}, {\"hoverinfo\": \"text\", \"hovertext\": [\"<b>Topic 7</b><br>Words: china, zealand, chinese, investment, rickroll\", \"<b>Topic 7</b><br>Words: china, vaccine, chinese, virus, start\", \"<b>Topic 7</b><br>Words: china, biden, vaccine, trump, chinese\", \"<b>Topic 7</b><br>Words: china, wag, change, vaccine, virus\", \"<b>Topic 7</b><br>Words: china, chinese, vitamin, calcifediol, democrats\", \"<b>Topic 7</b><br>Words: china, vaccine, want, virus, inject\", \"<b>Topic 7</b><br>Words: inoculation, medic, sinopharm, vaccine, china\", \"<b>Topic 7</b><br>Words: china, chinese, vaccine, thailand, japanese\", \"<b>Topic 7</b><br>Words: china, billion, vaccine, family, vitamin\", \"<b>Topic 7</b><br>Words: doctor, mislead, campbell, drat, serbia\", \"<b>Topic 7</b><br>Words: china, vaccine, chinese, antibody, vaccinate\", \"<b>Topic 7</b><br>Words: trump, quotenot, spyquote, patent, congressman\", \"<b>Topic 7</b><br>Words: vaccine, china, chinese, vaccinate, changsheng\"], \"marker\": {\"color\": \"#56B4E9\"}, \"mode\": \"lines\", \"name\": \"7_china_chinese_vaccine_vaccines\", \"type\": \"scatter\", \"x\": [\"2020-09-28T00:00:00\", \"2020-09-29T00:00:00\", \"2020-09-30T00:00:00\", \"2020-10-29T00:00:00\", \"2020-10-30T00:00:00\", \"2020-10-31T00:00:00\", \"2020-11-29T00:00:00\", \"2020-11-30T00:00:00\", \"2020-12-31T00:00:00\", \"2021-01-30T00:00:00\", \"2021-01-31T00:00:00\", \"2021-02-27T00:00:00\", \"2021-02-28T00:00:00\"], \"y\": [9, 29, 17, 17, 18, 19, 2, 31, 26, 1, 28, 5, 40]}, {\"hoverinfo\": \"text\", \"hovertext\": [\"<b>Topic 21</b><br>Words: herd, immunity, lockdown, restriction, vaccine\", \"<b>Topic 21</b><br>Words: herd, trump, expert, birx, damage\", \"<b>Topic 21</b><br>Words: immunity, herd, antibody, virus, swab\", \"<b>Topic 21</b><br>Words: immunity, herd, vaccine, virus, antibody\", \"<b>Topic 21</b><br>Words: herd, trump, sweden, devote, professional\", \"<b>Topic 21</b><br>Words: immunity, herd, vaccine, strategy, infect\", \"<b>Topic 21</b><br>Words: herd, immunity, catch, plan, vaccine\", \"<b>Topic 21</b><br>Words: herd, vaccine, immunity, sweden, complication\", \"<b>Topic 21</b><br>Words: immunity, vaccine, asteroid, hit, infection\", \"<b>Topic 21</b><br>Words: delay, herd, immunity, risk, vaccine\", \"<b>Topic 21</b><br>Words: immunity, vaccine, community, vaccinate, herd\", \"<b>Topic 21</b><br>Words: vaccinate, priority, herd, spread, immunity\", \"<b>Topic 21</b><br>Words: herd, immunity, quintanilla, vaccine, flabbymidgets\"], \"marker\": {\"color\": \"#009E73\"}, \"mode\": \"lines\", \"name\": \"21_herd_immunity_impeached_trumps\", \"type\": \"scatter\", \"x\": [\"2020-09-28T00:00:00\", \"2020-09-29T00:00:00\", \"2020-09-30T00:00:00\", \"2020-10-29T00:00:00\", \"2020-10-30T00:00:00\", \"2020-10-31T00:00:00\", \"2020-11-29T00:00:00\", \"2020-11-30T00:00:00\", \"2020-12-31T00:00:00\", \"2021-01-30T00:00:00\", \"2021-01-31T00:00:00\", \"2021-02-27T00:00:00\", \"2021-02-28T00:00:00\"], \"y\": [13, 10, 8, 15, 49, 21, 2, 14, 6, 1, 7, 5, 13]}, {\"hoverinfo\": \"text\", \"hovertext\": [\"<b>Topic 44</b><br>Words: investor, teng, vaccine, atlas, redfield\", \"<b>Topic 44</b><br>Words: pc, market, buy, stock, price\", \"<b>Topic 44</b><br>Words: stock, gold, price, vaccine, bitcoin\", \"<b>Topic 44</b><br>Words: vaccine, stock, blood, election, virus\", \"<b>Topic 44</b><br>Words: stock, vaccine, price, revenue, billion\", \"<b>Topic 44</b><br>Words: vaccine, market, money, price, economy\", \"<b>Topic 44</b><br>Words: vaccine, test, srne, virus, covid\", \"<b>Topic 44</b><br>Words: vaccine, dollar, stock, investor, price\", \"<b>Topic 44</b><br>Words: price, market, vaccine, stock, investor\", \"<b>Topic 44</b><br>Words: mrna, storage, vaccine, funding, revolutionize\", \"<b>Topic 44</b><br>Words: vaccine, government, market, novavax, investor\", \"<b>Topic 44</b><br>Words: pneumonia, covaxin, vaccine, ocgn, flu\", \"<b>Topic 44</b><br>Words: vaccine, write, spac, design, dose\"], \"marker\": {\"color\": \"#F0E442\"}, \"mode\": \"lines\", \"name\": \"44_vaccine_stock_price_investors\", \"type\": \"scatter\", \"x\": [\"2020-09-28T00:00:00\", \"2020-09-29T00:00:00\", \"2020-09-30T00:00:00\", \"2020-10-29T00:00:00\", \"2020-10-30T00:00:00\", \"2020-10-31T00:00:00\", \"2020-11-29T00:00:00\", \"2020-11-30T00:00:00\", \"2020-12-31T00:00:00\", \"2021-01-30T00:00:00\", \"2021-01-31T00:00:00\", \"2021-02-27T00:00:00\", \"2021-02-28T00:00:00\"], \"y\": [23, 30, 34, 26, 25, 22, 11, 84, 29, 1, 44, 9, 32]}, {\"hoverinfo\": \"text\", \"hovertext\": [\"<b>Topic 84</b><br>Words: vaccine, virus, write, expose, treatment\", \"<b>Topic 84</b><br>Words: virus, vaccine, cure, antibody, sister\", \"<b>Topic 84</b><br>Words: hiv, virus, vaccine, symptom, hellcat\", \"<b>Topic 84</b><br>Words: fauci, antibody, bite, daily, test\", \"<b>Topic 84</b><br>Words: mandate, vaccine, infection, virus, transplant\", \"<b>Topic 84</b><br>Words: restriction, immunity, vaccine, risk, protect\", \"<b>Topic 84</b><br>Words: vaccine, reduce, cancer, vaccinate, death\", \"<b>Topic 84</b><br>Words: vaccine, risk, placebo, huge, infect\", \"<b>Topic 84</b><br>Words: write, vaccine, vaccinate, dose, risk\", \"<b>Topic 84</b><br>Words: embargo, vaccine, medicine, ingredient, uk\", \"<b>Topic 84</b><br>Words: vaccine, prevent, flu, virus, vaccinate\", \"<b>Topic 84</b><br>Words: vaccine, stop, vaccinate, virus, johnson\", \"<b>Topic 84</b><br>Words: vaccine, dose, prevent, vaccination, vaccinate\"], \"marker\": {\"color\": \"#D55E00\"}, \"mode\": \"lines\", \"name\": \"84_vaccine_virus_vaccines_vaccinated\", \"type\": \"scatter\", \"x\": [\"2020-09-28T00:00:00\", \"2020-09-29T00:00:00\", \"2020-09-30T00:00:00\", \"2020-10-29T00:00:00\", \"2020-10-30T00:00:00\", \"2020-10-31T00:00:00\", \"2020-11-29T00:00:00\", \"2020-11-30T00:00:00\", \"2020-12-31T00:00:00\", \"2021-01-30T00:00:00\", \"2021-01-31T00:00:00\", \"2021-02-27T00:00:00\", \"2021-02-28T00:00:00\"], \"y\": [11, 9, 16, 4, 15, 12, 5, 20, 18, 5, 46, 15, 24]}],                        {\"height\": 450, \"hoverlabel\": {\"bgcolor\": \"white\", \"font\": {\"family\": \"Rockwell\", \"size\": 16}}, \"legend\": {\"title\": {\"text\": \"<b>Global Topic Representation\"}}, \"template\": {\"data\": {\"bar\": [{\"error_x\": {\"color\": \"rgb(36,36,36)\"}, \"error_y\": {\"color\": \"rgb(36,36,36)\"}, \"marker\": {\"line\": {\"color\": \"white\", \"width\": 0.5}}, \"type\": \"bar\"}], \"barpolar\": [{\"marker\": {\"line\": {\"color\": \"white\", \"width\": 0.5}}, \"type\": \"barpolar\"}], \"carpet\": [{\"aaxis\": {\"endlinecolor\": \"rgb(36,36,36)\", \"gridcolor\": \"white\", \"linecolor\": \"white\", \"minorgridcolor\": \"white\", \"startlinecolor\": \"rgb(36,36,36)\"}, \"baxis\": {\"endlinecolor\": \"rgb(36,36,36)\", \"gridcolor\": \"white\", \"linecolor\": \"white\", \"minorgridcolor\": \"white\", \"startlinecolor\": \"rgb(36,36,36)\"}, \"type\": \"carpet\"}], \"choropleth\": [{\"colorbar\": {\"outlinewidth\": 1, \"tickcolor\": \"rgb(36,36,36)\", \"ticks\": \"outside\"}, \"type\": \"choropleth\"}], \"contour\": [{\"colorbar\": {\"outlinewidth\": 1, \"tickcolor\": \"rgb(36,36,36)\", \"ticks\": \"outside\"}, \"colorscale\": [[0.0, \"#440154\"], [0.1111111111111111, \"#482878\"], [0.2222222222222222, \"#3e4989\"], [0.3333333333333333, \"#31688e\"], [0.4444444444444444, \"#26828e\"], [0.5555555555555556, \"#1f9e89\"], [0.6666666666666666, \"#35b779\"], [0.7777777777777778, \"#6ece58\"], [0.8888888888888888, \"#b5de2b\"], [1.0, \"#fde725\"]], \"type\": \"contour\"}], \"contourcarpet\": [{\"colorbar\": {\"outlinewidth\": 1, \"tickcolor\": \"rgb(36,36,36)\", \"ticks\": \"outside\"}, \"type\": \"contourcarpet\"}], \"heatmap\": [{\"colorbar\": {\"outlinewidth\": 1, \"tickcolor\": \"rgb(36,36,36)\", \"ticks\": \"outside\"}, \"colorscale\": [[0.0, \"#440154\"], [0.1111111111111111, \"#482878\"], [0.2222222222222222, \"#3e4989\"], [0.3333333333333333, \"#31688e\"], [0.4444444444444444, \"#26828e\"], [0.5555555555555556, \"#1f9e89\"], [0.6666666666666666, \"#35b779\"], [0.7777777777777778, \"#6ece58\"], [0.8888888888888888, \"#b5de2b\"], [1.0, \"#fde725\"]], \"type\": \"heatmap\"}], \"heatmapgl\": [{\"colorbar\": {\"outlinewidth\": 1, \"tickcolor\": \"rgb(36,36,36)\", \"ticks\": \"outside\"}, \"colorscale\": [[0.0, \"#440154\"], [0.1111111111111111, \"#482878\"], [0.2222222222222222, \"#3e4989\"], [0.3333333333333333, \"#31688e\"], [0.4444444444444444, \"#26828e\"], [0.5555555555555556, \"#1f9e89\"], [0.6666666666666666, \"#35b779\"], [0.7777777777777778, \"#6ece58\"], [0.8888888888888888, \"#b5de2b\"], [1.0, \"#fde725\"]], \"type\": \"heatmapgl\"}], \"histogram\": [{\"marker\": {\"line\": {\"color\": \"white\", \"width\": 0.6}}, \"type\": \"histogram\"}], \"histogram2d\": [{\"colorbar\": {\"outlinewidth\": 1, \"tickcolor\": \"rgb(36,36,36)\", \"ticks\": \"outside\"}, \"colorscale\": [[0.0, \"#440154\"], [0.1111111111111111, \"#482878\"], [0.2222222222222222, \"#3e4989\"], [0.3333333333333333, \"#31688e\"], [0.4444444444444444, \"#26828e\"], [0.5555555555555556, \"#1f9e89\"], [0.6666666666666666, \"#35b779\"], [0.7777777777777778, \"#6ece58\"], [0.8888888888888888, \"#b5de2b\"], [1.0, \"#fde725\"]], \"type\": \"histogram2d\"}], \"histogram2dcontour\": [{\"colorbar\": {\"outlinewidth\": 1, \"tickcolor\": \"rgb(36,36,36)\", \"ticks\": \"outside\"}, \"colorscale\": [[0.0, \"#440154\"], [0.1111111111111111, \"#482878\"], [0.2222222222222222, \"#3e4989\"], [0.3333333333333333, \"#31688e\"], [0.4444444444444444, \"#26828e\"], [0.5555555555555556, \"#1f9e89\"], [0.6666666666666666, \"#35b779\"], [0.7777777777777778, \"#6ece58\"], [0.8888888888888888, \"#b5de2b\"], [1.0, \"#fde725\"]], \"type\": \"histogram2dcontour\"}], \"mesh3d\": [{\"colorbar\": {\"outlinewidth\": 1, \"tickcolor\": \"rgb(36,36,36)\", \"ticks\": \"outside\"}, \"type\": \"mesh3d\"}], \"parcoords\": [{\"line\": {\"colorbar\": {\"outlinewidth\": 1, \"tickcolor\": \"rgb(36,36,36)\", \"ticks\": \"outside\"}}, \"type\": \"parcoords\"}], \"pie\": [{\"automargin\": true, \"type\": \"pie\"}], \"scatter\": [{\"marker\": {\"colorbar\": {\"outlinewidth\": 1, \"tickcolor\": \"rgb(36,36,36)\", \"ticks\": \"outside\"}}, \"type\": \"scatter\"}], \"scatter3d\": [{\"line\": {\"colorbar\": {\"outlinewidth\": 1, \"tickcolor\": \"rgb(36,36,36)\", \"ticks\": \"outside\"}}, \"marker\": {\"colorbar\": {\"outlinewidth\": 1, \"tickcolor\": \"rgb(36,36,36)\", \"ticks\": \"outside\"}}, \"type\": \"scatter3d\"}], \"scattercarpet\": [{\"marker\": {\"colorbar\": {\"outlinewidth\": 1, \"tickcolor\": \"rgb(36,36,36)\", \"ticks\": \"outside\"}}, \"type\": \"scattercarpet\"}], \"scattergeo\": [{\"marker\": {\"colorbar\": {\"outlinewidth\": 1, \"tickcolor\": \"rgb(36,36,36)\", \"ticks\": \"outside\"}}, \"type\": \"scattergeo\"}], \"scattergl\": [{\"marker\": {\"colorbar\": {\"outlinewidth\": 1, \"tickcolor\": \"rgb(36,36,36)\", \"ticks\": \"outside\"}}, \"type\": \"scattergl\"}], \"scattermapbox\": [{\"marker\": {\"colorbar\": {\"outlinewidth\": 1, \"tickcolor\": \"rgb(36,36,36)\", \"ticks\": \"outside\"}}, \"type\": \"scattermapbox\"}], \"scatterpolar\": [{\"marker\": {\"colorbar\": {\"outlinewidth\": 1, \"tickcolor\": \"rgb(36,36,36)\", \"ticks\": \"outside\"}}, \"type\": \"scatterpolar\"}], \"scatterpolargl\": [{\"marker\": {\"colorbar\": {\"outlinewidth\": 1, \"tickcolor\": \"rgb(36,36,36)\", \"ticks\": \"outside\"}}, \"type\": \"scatterpolargl\"}], \"scatterternary\": [{\"marker\": {\"colorbar\": {\"outlinewidth\": 1, \"tickcolor\": \"rgb(36,36,36)\", \"ticks\": \"outside\"}}, \"type\": \"scatterternary\"}], \"surface\": [{\"colorbar\": {\"outlinewidth\": 1, \"tickcolor\": \"rgb(36,36,36)\", \"ticks\": \"outside\"}, \"colorscale\": [[0.0, \"#440154\"], [0.1111111111111111, \"#482878\"], [0.2222222222222222, \"#3e4989\"], [0.3333333333333333, \"#31688e\"], [0.4444444444444444, \"#26828e\"], [0.5555555555555556, \"#1f9e89\"], [0.6666666666666666, \"#35b779\"], [0.7777777777777778, \"#6ece58\"], [0.8888888888888888, \"#b5de2b\"], [1.0, \"#fde725\"]], \"type\": \"surface\"}], \"table\": [{\"cells\": {\"fill\": {\"color\": \"rgb(237,237,237)\"}, \"line\": {\"color\": \"white\"}}, \"header\": {\"fill\": {\"color\": \"rgb(217,217,217)\"}, \"line\": {\"color\": \"white\"}}, \"type\": \"table\"}]}, \"layout\": {\"annotationdefaults\": {\"arrowhead\": 0, \"arrowwidth\": 1}, \"autotypenumbers\": \"strict\", \"coloraxis\": {\"colorbar\": {\"outlinewidth\": 1, \"tickcolor\": \"rgb(36,36,36)\", \"ticks\": \"outside\"}}, \"colorscale\": {\"diverging\": [[0.0, \"rgb(103,0,31)\"], [0.1, \"rgb(178,24,43)\"], [0.2, \"rgb(214,96,77)\"], [0.3, \"rgb(244,165,130)\"], [0.4, \"rgb(253,219,199)\"], [0.5, \"rgb(247,247,247)\"], [0.6, \"rgb(209,229,240)\"], [0.7, \"rgb(146,197,222)\"], [0.8, \"rgb(67,147,195)\"], [0.9, \"rgb(33,102,172)\"], [1.0, \"rgb(5,48,97)\"]], \"sequential\": [[0.0, \"#440154\"], [0.1111111111111111, \"#482878\"], [0.2222222222222222, \"#3e4989\"], [0.3333333333333333, \"#31688e\"], [0.4444444444444444, \"#26828e\"], [0.5555555555555556, \"#1f9e89\"], [0.6666666666666666, \"#35b779\"], [0.7777777777777778, \"#6ece58\"], [0.8888888888888888, \"#b5de2b\"], [1.0, \"#fde725\"]], \"sequentialminus\": [[0.0, \"#440154\"], [0.1111111111111111, \"#482878\"], [0.2222222222222222, \"#3e4989\"], [0.3333333333333333, \"#31688e\"], [0.4444444444444444, \"#26828e\"], [0.5555555555555556, \"#1f9e89\"], [0.6666666666666666, \"#35b779\"], [0.7777777777777778, \"#6ece58\"], [0.8888888888888888, \"#b5de2b\"], [1.0, \"#fde725\"]]}, \"colorway\": [\"#1F77B4\", \"#FF7F0E\", \"#2CA02C\", \"#D62728\", \"#9467BD\", \"#8C564B\", \"#E377C2\", \"#7F7F7F\", \"#BCBD22\", \"#17BECF\"], \"font\": {\"color\": \"rgb(36,36,36)\"}, \"geo\": {\"bgcolor\": \"white\", \"lakecolor\": \"white\", \"landcolor\": \"white\", \"showlakes\": true, \"showland\": true, \"subunitcolor\": \"white\"}, \"hoverlabel\": {\"align\": \"left\"}, \"hovermode\": \"closest\", \"mapbox\": {\"style\": \"light\"}, \"paper_bgcolor\": \"white\", \"plot_bgcolor\": \"white\", \"polar\": {\"angularaxis\": {\"gridcolor\": \"rgb(232,232,232)\", \"linecolor\": \"rgb(36,36,36)\", \"showgrid\": false, \"showline\": true, \"ticks\": \"outside\"}, \"bgcolor\": \"white\", \"radialaxis\": {\"gridcolor\": \"rgb(232,232,232)\", \"linecolor\": \"rgb(36,36,36)\", \"showgrid\": false, \"showline\": true, \"ticks\": \"outside\"}}, \"scene\": {\"xaxis\": {\"backgroundcolor\": \"white\", \"gridcolor\": \"rgb(232,232,232)\", \"gridwidth\": 2, \"linecolor\": \"rgb(36,36,36)\", \"showbackground\": true, \"showgrid\": false, \"showline\": true, \"ticks\": \"outside\", \"zeroline\": false, \"zerolinecolor\": \"rgb(36,36,36)\"}, \"yaxis\": {\"backgroundcolor\": \"white\", \"gridcolor\": \"rgb(232,232,232)\", \"gridwidth\": 2, \"linecolor\": \"rgb(36,36,36)\", \"showbackground\": true, \"showgrid\": false, \"showline\": true, \"ticks\": \"outside\", \"zeroline\": false, \"zerolinecolor\": \"rgb(36,36,36)\"}, \"zaxis\": {\"backgroundcolor\": \"white\", \"gridcolor\": \"rgb(232,232,232)\", \"gridwidth\": 2, \"linecolor\": \"rgb(36,36,36)\", \"showbackground\": true, \"showgrid\": false, \"showline\": true, \"ticks\": \"outside\", \"zeroline\": false, \"zerolinecolor\": \"rgb(36,36,36)\"}}, \"shapedefaults\": {\"fillcolor\": \"black\", \"line\": {\"width\": 0}, \"opacity\": 0.3}, \"ternary\": {\"aaxis\": {\"gridcolor\": \"rgb(232,232,232)\", \"linecolor\": \"rgb(36,36,36)\", \"showgrid\": false, \"showline\": true, \"ticks\": \"outside\"}, \"baxis\": {\"gridcolor\": \"rgb(232,232,232)\", \"linecolor\": \"rgb(36,36,36)\", \"showgrid\": false, \"showline\": true, \"ticks\": \"outside\"}, \"bgcolor\": \"white\", \"caxis\": {\"gridcolor\": \"rgb(232,232,232)\", \"linecolor\": \"rgb(36,36,36)\", \"showgrid\": false, \"showline\": true, \"ticks\": \"outside\"}}, \"title\": {\"x\": 0.05}, \"xaxis\": {\"automargin\": true, \"gridcolor\": \"rgb(232,232,232)\", \"linecolor\": \"rgb(36,36,36)\", \"showgrid\": false, \"showline\": true, \"ticks\": \"outside\", \"title\": {\"standoff\": 15}, \"zeroline\": false, \"zerolinecolor\": \"rgb(36,36,36)\"}, \"yaxis\": {\"automargin\": true, \"gridcolor\": \"rgb(232,232,232)\", \"linecolor\": \"rgb(36,36,36)\", \"showgrid\": false, \"showline\": true, \"ticks\": \"outside\", \"title\": {\"standoff\": 15}, \"zeroline\": false, \"zerolinecolor\": \"rgb(36,36,36)\"}}}, \"title\": {\"font\": {\"color\": \"Black\", \"size\": 22}, \"text\": \"<b>Topics over Time\", \"x\": 0.4, \"xanchor\": \"center\", \"y\": 0.95, \"yanchor\": \"top\"}, \"width\": 1250, \"xaxis\": {\"showgrid\": true}, \"yaxis\": {\"showgrid\": true, \"title\": {\"text\": \"Frequency\"}}},                        {\"responsive\": true}                    ).then(function(){\n",
              "                            \n",
              "var gd = document.getElementById('dce7a13e-ee52-41dc-b715-338c7a520b0f');\n",
              "var x = new MutationObserver(function (mutations, observer) {{\n",
              "        var display = window.getComputedStyle(gd).display;\n",
              "        if (!display || display === 'none') {{\n",
              "            console.log([gd, 'removed!']);\n",
              "            Plotly.purge(gd);\n",
              "            observer.disconnect();\n",
              "        }}\n",
              "}});\n",
              "\n",
              "// Listen for the removal of the full notebook cells\n",
              "var notebookContainer = gd.closest('#notebook-container');\n",
              "if (notebookContainer) {{\n",
              "    x.observe(notebookContainer, {childList: true});\n",
              "}}\n",
              "\n",
              "// Listen for the clearing of the current output cell\n",
              "var outputEl = gd.closest('.output');\n",
              "if (outputEl) {{\n",
              "    x.observe(outputEl, {childList: true});\n",
              "}}\n",
              "\n",
              "                        })                };                            </script>        </div>\n",
              "</body>\n",
              "</html>"
            ]
          },
          "metadata": {
            "tags": []
          }
        }
      ]
    },
    {
      "cell_type": "code",
      "metadata": {
        "id": "VRxvOPdQ5qLd"
      },
      "source": [
        "#sentencetrans_90dcold - tokens 90k, with docs clean old 10 topics bert uncased\n",
        "#prob_90stold\n",
        "#topic_90stold\n",
        "\n",
        "#sentencetrans_90dc - tokens 90k, with docs clean new 10 topics bert uncased\n",
        "#prob_90st\n",
        "#topic_90st\n",
        "\n",
        "#sentencetrans_90tok - tokens 90k, with tokens new 10 topics bert uncased\n",
        "#prob_90stok\n",
        "#topic_90stok"
      ],
      "execution_count": null,
      "outputs": []
    },
    {
      "cell_type": "markdown",
      "metadata": {
        "id": "LxeErKjw0XRk"
      },
      "source": [
        "## **Analysis of Models with New Data (90K+ sentences)**"
      ]
    },
    {
      "cell_type": "code",
      "metadata": {
        "id": "HRKfciblWVpL"
      },
      "source": [
        "best3 = BERTopic.load('/content/drive/My Drive/word2vec_90dcold')\n",
        "top3 = np.load('/content/drive/My Drive/topic_90dcold.npy')\n",
        "pro3 = np.load('/content/drive/My Drive/prob_90dcold.npy')"
      ],
      "execution_count": 28,
      "outputs": []
    },
    {
      "cell_type": "code",
      "metadata": {
        "colab": {
          "base_uri": "https://localhost:8080/",
          "height": 467
        },
        "id": "xlLAPMzjrR_m",
        "outputId": "898b856f-b4e7-4e5f-f135-32d2e6c3a81a"
      },
      "source": [
        "topics_over_time = best3.topics_over_time(docs_clean_old, top3, clean_times_o, evolution_tuning = True,\n",
        "                         global_tuning = False)\n",
        "best3.visualize_topics_over_time(topics_over_time, top_n=5) #fitted to docs_clean"
      ],
      "execution_count": 30,
      "outputs": [
        {
          "output_type": "display_data",
          "data": {
            "text/html": [
              "<html>\n",
              "<head><meta charset=\"utf-8\" /></head>\n",
              "<body>\n",
              "    <div>            <script src=\"https://cdnjs.cloudflare.com/ajax/libs/mathjax/2.7.5/MathJax.js?config=TeX-AMS-MML_SVG\"></script><script type=\"text/javascript\">if (window.MathJax) {MathJax.Hub.Config({SVG: {font: \"STIX-Web\"}});}</script>                <script type=\"text/javascript\">window.PlotlyConfig = {MathJaxConfig: 'local'};</script>\n",
              "        <script src=\"https://cdn.plot.ly/plotly-latest.min.js\"></script>                <div id=\"a076e037-f643-4065-a3b5-3ca5f185dbaa\" class=\"plotly-graph-div\" style=\"height:450px; width:1250px;\"></div>            <script type=\"text/javascript\">                                    window.PLOTLYENV=window.PLOTLYENV || {};                                    if (document.getElementById(\"a076e037-f643-4065-a3b5-3ca5f185dbaa\")) {                    Plotly.newPlot(                        \"a076e037-f643-4065-a3b5-3ca5f185dbaa\",                        [{\"hoverinfo\": \"text\", \"hovertext\": [\"<b>Topic 116</b><br>Words: sharks, shark, squalene, species, ocean\", \"<b>Topic 116</b><br>Words: sharks, shark, ocean, squalene, ecosystem\", \"<b>Topic 116</b><br>Words: sharks, shark, ecosystem, species, squalene\", \"<b>Topic 116</b><br>Words: emission, coal, carbon, selection, excessive\", \"<b>Topic 116</b><br>Words: dubious, extinction, human, solve, suffering\", \"<b>Topic 116</b><br>Words: morrisbae, equitable, hosed, expensive, humanity\", \"<b>Topic 116</b><br>Words: leaning, scheduling, establishment, awesome, hopeful\", \"<b>Topic 116</b><br>Words: professor, kena, criticise, ade, queue\"], \"marker\": {\"color\": \"#E69F00\"}, \"mode\": \"lines\", \"name\": \"116_sharks_shark_ecosystem_ocean\", \"type\": \"scatter\", \"x\": [\"2020-09-28T00:00:00\", \"2020-09-29T00:00:00\", \"2020-09-30T00:00:00\", \"2020-10-31T00:00:00\", \"2020-11-30T00:00:00\", \"2020-12-31T00:00:00\", \"2021-01-31T00:00:00\", \"2021-02-28T00:00:00\"], \"y\": [119, 236, 150, 2, 3, 3, 2, 3]}, {\"hoverinfo\": \"text\", \"hovertext\": [\"<b>Topic 138</b><br>Words: going, im, honestly, bf, like\", \"<b>Topic 138</b><br>Words: disney, anonymous, beach, people, risk\", \"<b>Topic 138</b><br>Words: hubby, school, headache, home, car\", \"<b>Topic 138</b><br>Words: son, cough, like, doubt, people\", \"<b>Topic 138</b><br>Words: months, diabetic, mother, fine, ago\", \"<b>Topic 138</b><br>Words: risk, mask, holidays, wearing, cautious\", \"<b>Topic 138</b><br>Words: cruise, family, vaccinated, christmas, protect\", \"<b>Topic 138</b><br>Words: cat, lo, daycare, family, home\", \"<b>Topic 138</b><br>Words: day, people, arm, sore, sick\", \"<b>Topic 138</b><br>Words: mil, soreness, got, chills, headache\", \"<b>Topic 138</b><br>Words: arm, sore, dose, weeks, shot\", \"<b>Topic 138</b><br>Words: sore, arm, weeks, hours, baby\", \"<b>Topic 138</b><br>Words: arm, sore, dose, second, weeks\"], \"marker\": {\"color\": \"#56B4E9\"}, \"mode\": \"lines\", \"name\": \"138_arm_sore_baby_dose\", \"type\": \"scatter\", \"x\": [\"2020-09-28T00:00:00\", \"2020-09-29T00:00:00\", \"2020-09-30T00:00:00\", \"2020-10-29T00:00:00\", \"2020-10-30T00:00:00\", \"2020-10-31T00:00:00\", \"2020-11-29T00:00:00\", \"2020-11-30T00:00:00\", \"2020-12-31T00:00:00\", \"2021-01-30T00:00:00\", \"2021-01-31T00:00:00\", \"2021-02-27T00:00:00\", \"2021-02-28T00:00:00\"], \"y\": [11, 36, 18, 31, 24, 9, 11, 65, 132, 7, 131, 89, 238]}, {\"hoverinfo\": \"text\", \"hovertext\": [\"<b>Topic 269</b><br>Words: stay, wear, apart, feet, mask\", \"<b>Topic 269</b><br>Words: dont, mask, shit, wear, quoting\", \"<b>Topic 269</b><br>Words: st, miami, stay, island, away\", \"<b>Topic 269</b><br>Words: family, mask, wear, want, bloody\", \"<b>Topic 269</b><br>Words: mask, family, wear, want, people\", \"<b>Topic 269</b><br>Words: sell, mask, wear, mean, want\", \"<b>Topic 269</b><br>Words: vaccinated, risk, lung, ill, catch\", \"<b>Topic 269</b><br>Words: people, think, right, like, risk\", \"<b>Topic 269</b><br>Words: kayc, need, think, like, gates\", \"<b>Topic 269</b><br>Words: drink, thoroughly, diet, frequently, smoke\", \"<b>Topic 269</b><br>Words: dont, people, wear, want, know\", \"<b>Topic 269</b><br>Words: jewish, joemoma, crepitus, ram, military\", \"<b>Topic 269</b><br>Words: vaccinated, think, people, know, want\"], \"marker\": {\"color\": \"#009E73\"}, \"mode\": \"lines\", \"name\": \"269_people_vaccinated_mask_like\", \"type\": \"scatter\", \"x\": [\"2020-09-28T00:00:00\", \"2020-09-29T00:00:00\", \"2020-09-30T00:00:00\", \"2020-10-29T00:00:00\", \"2020-10-30T00:00:00\", \"2020-10-31T00:00:00\", \"2020-11-29T00:00:00\", \"2020-11-30T00:00:00\", \"2020-12-31T00:00:00\", \"2021-01-30T00:00:00\", \"2021-01-31T00:00:00\", \"2021-02-27T00:00:00\", \"2021-02-28T00:00:00\"], \"y\": [32, 58, 32, 88, 52, 22, 35, 128, 147, 4, 108, 97, 139]}, {\"hoverinfo\": \"text\", \"hovertext\": [\"<b>Topic 335</b><br>Words: save, antibodies, immune, people, coronavirus\", \"<b>Topic 335</b><br>Words: sharks, save, virus, deadly, people\", \"<b>Topic 335</b><br>Words: vaccine, phase, control, test, candidate\", \"<b>Topic 335</b><br>Words: number, trial, vaccine, pfizer, trials\", \"<b>Topic 335</b><br>Words: incidence, vaccine, covid, influenza, infection\", \"<b>Topic 335</b><br>Words: group, trial, placebo, vaccine, effective\", \"<b>Topic 335</b><br>Words: group, trial, covid, percent, moderna\", \"<b>Topic 335</b><br>Words: severe, data, vaccine, covid, placebo\", \"<b>Topic 335</b><br>Words: vaccine, covid, dose, az, trial\", \"<b>Topic 335</b><br>Words: sa, ship, die, az, waiting\", \"<b>Topic 335</b><br>Words: percent, covid, vaccine, efficacy, effectiveness\", \"<b>Topic 335</b><br>Words: south, african, variant, vaccine, efficacy\", \"<b>Topic 335</b><br>Words: vaccine, effective, jj, covid, efficacy\"], \"marker\": {\"color\": \"#F0E442\"}, \"mode\": \"lines\", \"name\": \"335_vaccine_covid_efficacy_severe\", \"type\": \"scatter\", \"x\": [\"2020-09-28T00:00:00\", \"2020-09-29T00:00:00\", \"2020-09-30T00:00:00\", \"2020-10-29T00:00:00\", \"2020-10-30T00:00:00\", \"2020-10-31T00:00:00\", \"2020-11-29T00:00:00\", \"2020-11-30T00:00:00\", \"2020-12-31T00:00:00\", \"2021-01-30T00:00:00\", \"2021-01-31T00:00:00\", \"2021-02-27T00:00:00\", \"2021-02-28T00:00:00\"], \"y\": [10, 36, 27, 37, 29, 12, 10, 107, 75, 5, 124, 20, 51]}, {\"hoverinfo\": \"text\", \"hovertext\": [\"<b>Topic 337</b><br>Words: phase, ino, trial, inovio, cellectra\", \"<b>Topic 337</b><br>Words: trial, phase, fda, ino, astrazeneca\", \"<b>Topic 337</b><br>Words: manufacturing, phase, axim, trial, company\", \"<b>Topic 337</b><br>Words: trial, company, brilacidin, moderna, pharmaceuticals\", \"<b>Topic 337</b><br>Words: vaccine, novavax, authorization, moderna, pfizer\", \"<b>Topic 337</b><br>Words: vaccine, candidate, phase, trials, clinical\", \"<b>Topic 337</b><br>Words: doses, india, astrazeneca, candidate, azn\", \"<b>Topic 337</b><br>Words: moderna, vaccine, fda, trial, authorization\", \"<b>Topic 337</b><br>Words: doses, aurora, pharmacist, employee, intentionally\", \"<b>Topic 337</b><br>Words: doses, uk, million, contract, eu\", \"<b>Topic 337</b><br>Words: eu, uk, astrazeneca, production, manufacturing\", \"<b>Topic 337</b><br>Words: vaccine, johnson, pfizer, fda, emergency\", \"<b>Topic 337</b><br>Words: vaccine, johnson, pfizer, efficacy, moderna\"], \"marker\": {\"color\": \"#D55E00\"}, \"mode\": \"lines\", \"name\": \"337_vaccine_moderna_trial_pfizer\", \"type\": \"scatter\", \"x\": [\"2020-09-28T00:00:00\", \"2020-09-29T00:00:00\", \"2020-09-30T00:00:00\", \"2020-10-29T00:00:00\", \"2020-10-30T00:00:00\", \"2020-10-31T00:00:00\", \"2020-11-29T00:00:00\", \"2020-11-30T00:00:00\", \"2020-12-31T00:00:00\", \"2021-01-30T00:00:00\", \"2021-01-31T00:00:00\", \"2021-02-27T00:00:00\", \"2021-02-28T00:00:00\"], \"y\": [90, 66, 87, 57, 82, 35, 25, 226, 250, 12, 246, 85, 164]}],                        {\"height\": 450, \"hoverlabel\": {\"bgcolor\": \"white\", \"font\": {\"family\": \"Rockwell\", \"size\": 16}}, \"legend\": {\"title\": {\"text\": \"<b>Global Topic Representation\"}}, \"template\": {\"data\": {\"bar\": [{\"error_x\": {\"color\": \"rgb(36,36,36)\"}, \"error_y\": {\"color\": \"rgb(36,36,36)\"}, \"marker\": {\"line\": {\"color\": \"white\", \"width\": 0.5}}, \"type\": \"bar\"}], \"barpolar\": [{\"marker\": {\"line\": {\"color\": \"white\", \"width\": 0.5}}, \"type\": \"barpolar\"}], \"carpet\": [{\"aaxis\": {\"endlinecolor\": \"rgb(36,36,36)\", \"gridcolor\": \"white\", \"linecolor\": \"white\", \"minorgridcolor\": \"white\", \"startlinecolor\": \"rgb(36,36,36)\"}, \"baxis\": {\"endlinecolor\": \"rgb(36,36,36)\", \"gridcolor\": \"white\", \"linecolor\": \"white\", \"minorgridcolor\": \"white\", \"startlinecolor\": \"rgb(36,36,36)\"}, \"type\": \"carpet\"}], \"choropleth\": [{\"colorbar\": {\"outlinewidth\": 1, \"tickcolor\": \"rgb(36,36,36)\", \"ticks\": \"outside\"}, \"type\": \"choropleth\"}], \"contour\": [{\"colorbar\": {\"outlinewidth\": 1, \"tickcolor\": \"rgb(36,36,36)\", \"ticks\": \"outside\"}, \"colorscale\": [[0.0, \"#440154\"], [0.1111111111111111, \"#482878\"], [0.2222222222222222, \"#3e4989\"], [0.3333333333333333, \"#31688e\"], [0.4444444444444444, \"#26828e\"], [0.5555555555555556, \"#1f9e89\"], [0.6666666666666666, \"#35b779\"], [0.7777777777777778, \"#6ece58\"], [0.8888888888888888, \"#b5de2b\"], [1.0, \"#fde725\"]], \"type\": \"contour\"}], \"contourcarpet\": [{\"colorbar\": {\"outlinewidth\": 1, \"tickcolor\": \"rgb(36,36,36)\", \"ticks\": \"outside\"}, \"type\": \"contourcarpet\"}], \"heatmap\": [{\"colorbar\": {\"outlinewidth\": 1, \"tickcolor\": \"rgb(36,36,36)\", \"ticks\": \"outside\"}, \"colorscale\": [[0.0, \"#440154\"], [0.1111111111111111, \"#482878\"], [0.2222222222222222, \"#3e4989\"], [0.3333333333333333, \"#31688e\"], [0.4444444444444444, \"#26828e\"], [0.5555555555555556, \"#1f9e89\"], [0.6666666666666666, \"#35b779\"], [0.7777777777777778, \"#6ece58\"], [0.8888888888888888, \"#b5de2b\"], [1.0, \"#fde725\"]], \"type\": \"heatmap\"}], \"heatmapgl\": [{\"colorbar\": {\"outlinewidth\": 1, \"tickcolor\": \"rgb(36,36,36)\", \"ticks\": \"outside\"}, \"colorscale\": [[0.0, \"#440154\"], [0.1111111111111111, \"#482878\"], [0.2222222222222222, \"#3e4989\"], [0.3333333333333333, \"#31688e\"], [0.4444444444444444, \"#26828e\"], [0.5555555555555556, \"#1f9e89\"], [0.6666666666666666, \"#35b779\"], [0.7777777777777778, \"#6ece58\"], [0.8888888888888888, \"#b5de2b\"], [1.0, \"#fde725\"]], \"type\": \"heatmapgl\"}], \"histogram\": [{\"marker\": {\"line\": {\"color\": \"white\", \"width\": 0.6}}, \"type\": \"histogram\"}], \"histogram2d\": [{\"colorbar\": {\"outlinewidth\": 1, \"tickcolor\": \"rgb(36,36,36)\", \"ticks\": \"outside\"}, \"colorscale\": [[0.0, \"#440154\"], [0.1111111111111111, \"#482878\"], [0.2222222222222222, \"#3e4989\"], [0.3333333333333333, \"#31688e\"], [0.4444444444444444, \"#26828e\"], [0.5555555555555556, \"#1f9e89\"], [0.6666666666666666, \"#35b779\"], [0.7777777777777778, \"#6ece58\"], [0.8888888888888888, \"#b5de2b\"], [1.0, \"#fde725\"]], \"type\": \"histogram2d\"}], \"histogram2dcontour\": [{\"colorbar\": {\"outlinewidth\": 1, \"tickcolor\": \"rgb(36,36,36)\", \"ticks\": \"outside\"}, \"colorscale\": [[0.0, \"#440154\"], [0.1111111111111111, \"#482878\"], [0.2222222222222222, \"#3e4989\"], [0.3333333333333333, \"#31688e\"], [0.4444444444444444, \"#26828e\"], [0.5555555555555556, \"#1f9e89\"], [0.6666666666666666, \"#35b779\"], [0.7777777777777778, \"#6ece58\"], [0.8888888888888888, \"#b5de2b\"], [1.0, \"#fde725\"]], \"type\": \"histogram2dcontour\"}], \"mesh3d\": [{\"colorbar\": {\"outlinewidth\": 1, \"tickcolor\": \"rgb(36,36,36)\", \"ticks\": \"outside\"}, \"type\": \"mesh3d\"}], \"parcoords\": [{\"line\": {\"colorbar\": {\"outlinewidth\": 1, \"tickcolor\": \"rgb(36,36,36)\", \"ticks\": \"outside\"}}, \"type\": \"parcoords\"}], \"pie\": [{\"automargin\": true, \"type\": \"pie\"}], \"scatter\": [{\"marker\": {\"colorbar\": {\"outlinewidth\": 1, \"tickcolor\": \"rgb(36,36,36)\", \"ticks\": \"outside\"}}, \"type\": \"scatter\"}], \"scatter3d\": [{\"line\": {\"colorbar\": {\"outlinewidth\": 1, \"tickcolor\": \"rgb(36,36,36)\", \"ticks\": \"outside\"}}, \"marker\": {\"colorbar\": {\"outlinewidth\": 1, \"tickcolor\": \"rgb(36,36,36)\", \"ticks\": \"outside\"}}, \"type\": \"scatter3d\"}], \"scattercarpet\": [{\"marker\": {\"colorbar\": {\"outlinewidth\": 1, \"tickcolor\": \"rgb(36,36,36)\", \"ticks\": \"outside\"}}, \"type\": \"scattercarpet\"}], \"scattergeo\": [{\"marker\": {\"colorbar\": {\"outlinewidth\": 1, \"tickcolor\": \"rgb(36,36,36)\", \"ticks\": \"outside\"}}, \"type\": \"scattergeo\"}], \"scattergl\": [{\"marker\": {\"colorbar\": {\"outlinewidth\": 1, \"tickcolor\": \"rgb(36,36,36)\", \"ticks\": \"outside\"}}, \"type\": \"scattergl\"}], \"scattermapbox\": [{\"marker\": {\"colorbar\": {\"outlinewidth\": 1, \"tickcolor\": \"rgb(36,36,36)\", \"ticks\": \"outside\"}}, \"type\": \"scattermapbox\"}], \"scatterpolar\": [{\"marker\": {\"colorbar\": {\"outlinewidth\": 1, \"tickcolor\": \"rgb(36,36,36)\", \"ticks\": \"outside\"}}, \"type\": \"scatterpolar\"}], \"scatterpolargl\": [{\"marker\": {\"colorbar\": {\"outlinewidth\": 1, \"tickcolor\": \"rgb(36,36,36)\", \"ticks\": \"outside\"}}, \"type\": \"scatterpolargl\"}], \"scatterternary\": [{\"marker\": {\"colorbar\": {\"outlinewidth\": 1, \"tickcolor\": \"rgb(36,36,36)\", \"ticks\": \"outside\"}}, \"type\": \"scatterternary\"}], \"surface\": [{\"colorbar\": {\"outlinewidth\": 1, \"tickcolor\": \"rgb(36,36,36)\", \"ticks\": \"outside\"}, \"colorscale\": [[0.0, \"#440154\"], [0.1111111111111111, \"#482878\"], [0.2222222222222222, \"#3e4989\"], [0.3333333333333333, \"#31688e\"], [0.4444444444444444, \"#26828e\"], [0.5555555555555556, \"#1f9e89\"], [0.6666666666666666, \"#35b779\"], [0.7777777777777778, \"#6ece58\"], [0.8888888888888888, \"#b5de2b\"], [1.0, \"#fde725\"]], \"type\": \"surface\"}], \"table\": [{\"cells\": {\"fill\": {\"color\": \"rgb(237,237,237)\"}, \"line\": {\"color\": \"white\"}}, \"header\": {\"fill\": {\"color\": \"rgb(217,217,217)\"}, \"line\": {\"color\": \"white\"}}, \"type\": \"table\"}]}, \"layout\": {\"annotationdefaults\": {\"arrowhead\": 0, \"arrowwidth\": 1}, \"autotypenumbers\": \"strict\", \"coloraxis\": {\"colorbar\": {\"outlinewidth\": 1, \"tickcolor\": \"rgb(36,36,36)\", \"ticks\": \"outside\"}}, \"colorscale\": {\"diverging\": [[0.0, \"rgb(103,0,31)\"], [0.1, \"rgb(178,24,43)\"], [0.2, \"rgb(214,96,77)\"], [0.3, \"rgb(244,165,130)\"], [0.4, \"rgb(253,219,199)\"], [0.5, \"rgb(247,247,247)\"], [0.6, \"rgb(209,229,240)\"], [0.7, \"rgb(146,197,222)\"], [0.8, \"rgb(67,147,195)\"], [0.9, \"rgb(33,102,172)\"], [1.0, \"rgb(5,48,97)\"]], \"sequential\": [[0.0, \"#440154\"], [0.1111111111111111, \"#482878\"], [0.2222222222222222, \"#3e4989\"], [0.3333333333333333, \"#31688e\"], [0.4444444444444444, \"#26828e\"], [0.5555555555555556, \"#1f9e89\"], [0.6666666666666666, \"#35b779\"], [0.7777777777777778, \"#6ece58\"], [0.8888888888888888, \"#b5de2b\"], [1.0, \"#fde725\"]], \"sequentialminus\": [[0.0, \"#440154\"], [0.1111111111111111, \"#482878\"], [0.2222222222222222, \"#3e4989\"], [0.3333333333333333, \"#31688e\"], [0.4444444444444444, \"#26828e\"], [0.5555555555555556, \"#1f9e89\"], [0.6666666666666666, \"#35b779\"], [0.7777777777777778, \"#6ece58\"], [0.8888888888888888, \"#b5de2b\"], [1.0, \"#fde725\"]]}, \"colorway\": [\"#1F77B4\", \"#FF7F0E\", \"#2CA02C\", \"#D62728\", \"#9467BD\", \"#8C564B\", \"#E377C2\", \"#7F7F7F\", \"#BCBD22\", \"#17BECF\"], \"font\": {\"color\": \"rgb(36,36,36)\"}, \"geo\": {\"bgcolor\": \"white\", \"lakecolor\": \"white\", \"landcolor\": \"white\", \"showlakes\": true, \"showland\": true, \"subunitcolor\": \"white\"}, \"hoverlabel\": {\"align\": \"left\"}, \"hovermode\": \"closest\", \"mapbox\": {\"style\": \"light\"}, \"paper_bgcolor\": \"white\", \"plot_bgcolor\": \"white\", \"polar\": {\"angularaxis\": {\"gridcolor\": \"rgb(232,232,232)\", \"linecolor\": \"rgb(36,36,36)\", \"showgrid\": false, \"showline\": true, \"ticks\": \"outside\"}, \"bgcolor\": \"white\", \"radialaxis\": {\"gridcolor\": \"rgb(232,232,232)\", \"linecolor\": \"rgb(36,36,36)\", \"showgrid\": false, \"showline\": true, \"ticks\": \"outside\"}}, \"scene\": {\"xaxis\": {\"backgroundcolor\": \"white\", \"gridcolor\": \"rgb(232,232,232)\", \"gridwidth\": 2, \"linecolor\": \"rgb(36,36,36)\", \"showbackground\": true, \"showgrid\": false, \"showline\": true, \"ticks\": \"outside\", \"zeroline\": false, \"zerolinecolor\": \"rgb(36,36,36)\"}, \"yaxis\": {\"backgroundcolor\": \"white\", \"gridcolor\": \"rgb(232,232,232)\", \"gridwidth\": 2, \"linecolor\": \"rgb(36,36,36)\", \"showbackground\": true, \"showgrid\": false, \"showline\": true, \"ticks\": \"outside\", \"zeroline\": false, \"zerolinecolor\": \"rgb(36,36,36)\"}, \"zaxis\": {\"backgroundcolor\": \"white\", \"gridcolor\": \"rgb(232,232,232)\", \"gridwidth\": 2, \"linecolor\": \"rgb(36,36,36)\", \"showbackground\": true, \"showgrid\": false, \"showline\": true, \"ticks\": \"outside\", \"zeroline\": false, \"zerolinecolor\": \"rgb(36,36,36)\"}}, \"shapedefaults\": {\"fillcolor\": \"black\", \"line\": {\"width\": 0}, \"opacity\": 0.3}, \"ternary\": {\"aaxis\": {\"gridcolor\": \"rgb(232,232,232)\", \"linecolor\": \"rgb(36,36,36)\", \"showgrid\": false, \"showline\": true, \"ticks\": \"outside\"}, \"baxis\": {\"gridcolor\": \"rgb(232,232,232)\", \"linecolor\": \"rgb(36,36,36)\", \"showgrid\": false, \"showline\": true, \"ticks\": \"outside\"}, \"bgcolor\": \"white\", \"caxis\": {\"gridcolor\": \"rgb(232,232,232)\", \"linecolor\": \"rgb(36,36,36)\", \"showgrid\": false, \"showline\": true, \"ticks\": \"outside\"}}, \"title\": {\"x\": 0.05}, \"xaxis\": {\"automargin\": true, \"gridcolor\": \"rgb(232,232,232)\", \"linecolor\": \"rgb(36,36,36)\", \"showgrid\": false, \"showline\": true, \"ticks\": \"outside\", \"title\": {\"standoff\": 15}, \"zeroline\": false, \"zerolinecolor\": \"rgb(36,36,36)\"}, \"yaxis\": {\"automargin\": true, \"gridcolor\": \"rgb(232,232,232)\", \"linecolor\": \"rgb(36,36,36)\", \"showgrid\": false, \"showline\": true, \"ticks\": \"outside\", \"title\": {\"standoff\": 15}, \"zeroline\": false, \"zerolinecolor\": \"rgb(36,36,36)\"}}}, \"title\": {\"font\": {\"color\": \"Black\", \"size\": 22}, \"text\": \"<b>Topics over Time\", \"x\": 0.4, \"xanchor\": \"center\", \"y\": 0.95, \"yanchor\": \"top\"}, \"width\": 1250, \"xaxis\": {\"showgrid\": true}, \"yaxis\": {\"showgrid\": true, \"title\": {\"text\": \"Frequency\"}}},                        {\"responsive\": true}                    ).then(function(){\n",
              "                            \n",
              "var gd = document.getElementById('a076e037-f643-4065-a3b5-3ca5f185dbaa');\n",
              "var x = new MutationObserver(function (mutations, observer) {{\n",
              "        var display = window.getComputedStyle(gd).display;\n",
              "        if (!display || display === 'none') {{\n",
              "            console.log([gd, 'removed!']);\n",
              "            Plotly.purge(gd);\n",
              "            observer.disconnect();\n",
              "        }}\n",
              "}});\n",
              "\n",
              "// Listen for the removal of the full notebook cells\n",
              "var notebookContainer = gd.closest('#notebook-container');\n",
              "if (notebookContainer) {{\n",
              "    x.observe(notebookContainer, {childList: true});\n",
              "}}\n",
              "\n",
              "// Listen for the clearing of the current output cell\n",
              "var outputEl = gd.closest('.output');\n",
              "if (outputEl) {{\n",
              "    x.observe(outputEl, {childList: true});\n",
              "}}\n",
              "\n",
              "                        })                };                            </script>        </div>\n",
              "</body>\n",
              "</html>"
            ]
          },
          "metadata": {
            "tags": []
          }
        }
      ]
    },
    {
      "cell_type": "code",
      "metadata": {
        "id": "_tW1gD1EmEVm"
      },
      "source": [
        "best4 = BERTopic.load('/content/drive/My Drive/word2vec_90token')\n",
        "top4 = np.load('/content/drive/My Drive/topic_90token.npy')\n",
        "pro4 = np.load('/content/drive/My Drive/prob_90token.npy')"
      ],
      "execution_count": 31,
      "outputs": []
    },
    {
      "cell_type": "code",
      "metadata": {
        "colab": {
          "base_uri": "https://localhost:8080/",
          "height": 467
        },
        "id": "qvG8Asa6rtyi",
        "outputId": "1e5b2bad-6256-4473-ee9b-c654692df5e7"
      },
      "source": [
        "topics_over_time = best4.topics_over_time(my_tokens, top4, clean_times, evolution_tuning = True,\n",
        "                         global_tuning = False)\n",
        "best4.visualize_topics_over_time(topics_over_time, top_n=5) #fitted to tokens"
      ],
      "execution_count": 32,
      "outputs": [
        {
          "output_type": "display_data",
          "data": {
            "text/html": [
              "<html>\n",
              "<head><meta charset=\"utf-8\" /></head>\n",
              "<body>\n",
              "    <div>            <script src=\"https://cdnjs.cloudflare.com/ajax/libs/mathjax/2.7.5/MathJax.js?config=TeX-AMS-MML_SVG\"></script><script type=\"text/javascript\">if (window.MathJax) {MathJax.Hub.Config({SVG: {font: \"STIX-Web\"}});}</script>                <script type=\"text/javascript\">window.PlotlyConfig = {MathJaxConfig: 'local'};</script>\n",
              "        <script src=\"https://cdn.plot.ly/plotly-latest.min.js\"></script>                <div id=\"cfeb4df1-ea8f-4447-a9ac-49a77716df8c\" class=\"plotly-graph-div\" style=\"height:450px; width:1250px;\"></div>            <script type=\"text/javascript\">                                    window.PLOTLYENV=window.PLOTLYENV || {};                                    if (document.getElementById(\"cfeb4df1-ea8f-4447-a9ac-49a77716df8c\")) {                    Plotly.newPlot(                        \"cfeb4df1-ea8f-4447-a9ac-49a77716df8c\",                        [{\"hoverinfo\": \"text\", \"hovertext\": [\"<b>Topic 1</b><br>Words: shark, ocean, squalene, animal, ecosystem\", \"<b>Topic 1</b><br>Words: shark, animal, ocean, sharks, sustainable\", \"<b>Topic 1</b><br>Words: shark, animal, sharks, ocean, ecosystem\", \"<b>Topic 1</b><br>Words: bug, fix, factor, exist, game\", \"<b>Topic 1</b><br>Words: communism, song, pcwx, extract, toxic\", \"<b>Topic 1</b><br>Words: choice, coal, engine, construction, hcq\", \"<b>Topic 1</b><br>Words: gagt, satki, toilet, curriculum, comprehension\", \"<b>Topic 1</b><br>Words: scar, remove, pony, enslave, traitor\", \"<b>Topic 1</b><br>Words: tapatalk, animal, save, sm, milk\", \"<b>Topic 1</b><br>Words: huawei, pcwx, robot, soup, tea\", \"<b>Topic 1</b><br>Words: kill, poisoning, rabbit, plot, dollars\"], \"marker\": {\"color\": \"#E69F00\"}, \"mode\": \"lines\", \"name\": \"1_shark_animal_ocean_sharks\", \"type\": \"scatter\", \"x\": [\"2020-09-28T00:00:00\", \"2020-09-29T00:00:00\", \"2020-09-30T00:00:00\", \"2020-10-29T00:00:00\", \"2020-10-30T00:00:00\", \"2020-10-31T00:00:00\", \"2020-11-29T00:00:00\", \"2020-11-30T00:00:00\", \"2020-12-31T00:00:00\", \"2021-01-31T00:00:00\", \"2021-02-28T00:00:00\"], \"y\": [124, 282, 211, 2, 5, 1, 3, 3, 6, 6, 3]}, {\"hoverinfo\": \"text\", \"hovertext\": [\"<b>Topic 49</b><br>Words: ken, poke, toe, neck, arse\", \"<b>Topic 49</b><br>Words: poo, covax, lmao, btw, minute\", \"<b>Topic 49</b><br>Words: gawr, gura, sweat, rn, game\", \"<b>Topic 49</b><br>Words: symptom, nose, cat, weak, days\", \"<b>Topic 49</b><br>Words: nose, cough, runny, throat, nasal\", \"<b>Topic 49</b><br>Words: news, halloween, weeks, weekend, feel\", \"<b>Topic 49</b><br>Words: wife, belly, bout, days, throat\", \"<b>Topic 49</b><br>Words: headache, effect, muscle, fever, ache\", \"<b>Topic 49</b><br>Words: arm, cough, feel, little, days\", \"<b>Topic 49</b><br>Words: soreness, chills, arm, symptom, dose\", \"<b>Topic 49</b><br>Words: arm, day, sore, days, shot\", \"<b>Topic 49</b><br>Words: shot, arm, headache, hours, sore\", \"<b>Topic 49</b><br>Words: arm, sore, day, days, fever\"], \"marker\": {\"color\": \"#56B4E9\"}, \"mode\": \"lines\", \"name\": \"49_arm_sore_day_days\", \"type\": \"scatter\", \"x\": [\"2020-09-28T00:00:00\", \"2020-09-29T00:00:00\", \"2020-09-30T00:00:00\", \"2020-10-29T00:00:00\", \"2020-10-30T00:00:00\", \"2020-10-31T00:00:00\", \"2020-11-29T00:00:00\", \"2020-11-30T00:00:00\", \"2020-12-31T00:00:00\", \"2021-01-30T00:00:00\", \"2021-01-31T00:00:00\", \"2021-02-27T00:00:00\", \"2021-02-28T00:00:00\"], \"y\": [2, 2, 1, 2, 3, 6, 2, 18, 21, 5, 70, 42, 137]}, {\"hoverinfo\": \"text\", \"hovertext\": [\"<b>Topic 92</b><br>Words: trump, president, abbott, state, rapid\", \"<b>Topic 92</b><br>Words: trump, biden, president, election, state\", \"<b>Topic 92</b><br>Words: trump, biden, debate, president, joe\", \"<b>Topic 92</b><br>Words: trump, biden, buffoon, win, president\", \"<b>Topic 92</b><br>Words: trump, president, biden, america, vote\", \"<b>Topic 92</b><br>Words: trump, lie, biden, vote, joe\", \"<b>Topic 92</b><br>Words: trump, election, fraud, fbi, president\", \"<b>Topic 92</b><br>Words: trump, biden, election, president, win\", \"<b>Topic 92</b><br>Words: trump, president, biden, state, pence\", \"<b>Topic 92</b><br>Words: biden, president, trump, governor, inauguration\", \"<b>Topic 92</b><br>Words: biden, trump, administration, president, plan\", \"<b>Topic 92</b><br>Words: biden, trump, administration, president, immigrant\", \"<b>Topic 92</b><br>Words: biden, trump, president, vote, spending\"], \"marker\": {\"color\": \"#009E73\"}, \"mode\": \"lines\", \"name\": \"92_trump_biden_president_election\", \"type\": \"scatter\", \"x\": [\"2020-09-28T00:00:00\", \"2020-09-29T00:00:00\", \"2020-09-30T00:00:00\", \"2020-10-29T00:00:00\", \"2020-10-30T00:00:00\", \"2020-10-31T00:00:00\", \"2020-11-29T00:00:00\", \"2020-11-30T00:00:00\", \"2020-12-31T00:00:00\", \"2021-01-30T00:00:00\", \"2021-01-31T00:00:00\", \"2021-02-27T00:00:00\", \"2021-02-28T00:00:00\"], \"y\": [6, 43, 48, 33, 37, 45, 7, 30, 22, 5, 64, 18, 26]}, {\"hoverinfo\": \"text\", \"hovertext\": [\"<b>Topic 93</b><br>Words: elon, kara, learn, think, right\", \"<b>Topic 93</b><br>Words: conspiracy, way, thing, believe, think\", \"<b>Topic 93</b><br>Words: god, accept, ignore, like, fuck\", \"<b>Topic 93</b><br>Words: conspiracy, think, video, right, like\", \"<b>Topic 93</b><br>Words: right, think, anti, way, people\", \"<b>Topic 93</b><br>Words: society, god, dumb, science, stupidity\", \"<b>Topic 93</b><br>Words: viewpoint, responsibility, thing, opinion, politician\", \"<b>Topic 93</b><br>Words: believe, like, people, need, know\", \"<b>Topic 93</b><br>Words: people, choice, think, thing, know\", \"<b>Topic 93</b><br>Words: mcps, propaganda, truth, ignore, list\", \"<b>Topic 93</b><br>Words: pray, think, like, know, want\", \"<b>Topic 93</b><br>Words: fear, hate, jewish, fact, right\", \"<b>Topic 93</b><br>Words: want, fact, know, think, way\"], \"marker\": {\"color\": \"#F0E442\"}, \"mode\": \"lines\", \"name\": \"93_people_like_think_know\", \"type\": \"scatter\", \"x\": [\"2020-09-28T00:00:00\", \"2020-09-29T00:00:00\", \"2020-09-30T00:00:00\", \"2020-10-29T00:00:00\", \"2020-10-30T00:00:00\", \"2020-10-31T00:00:00\", \"2020-11-29T00:00:00\", \"2020-11-30T00:00:00\", \"2020-12-31T00:00:00\", \"2021-01-30T00:00:00\", \"2021-01-31T00:00:00\", \"2021-02-27T00:00:00\", \"2021-02-28T00:00:00\"], \"y\": [21, 33, 35, 21, 36, 31, 5, 34, 46, 4, 48, 19, 63]}, {\"hoverinfo\": \"text\", \"hovertext\": [\"<b>Topic 106</b><br>Words: trial, phase, enrollment, vaccine, fda\", \"<b>Topic 106</b><br>Words: trial, phase, vaccine, fda, efficacy\", \"<b>Topic 106</b><br>Words: november, bancel, moderna, ready, trial\", \"<b>Topic 106</b><br>Words: trial, phase, novavax, cdc, november\", \"<b>Topic 106</b><br>Words: pfizer, trial, vaccine, authorization, emergency\", \"<b>Topic 106</b><br>Words: infection, covid, interim, trial, phase\", \"<b>Topic 106</b><br>Words: group, vaccine, case, covid, trial\", \"<b>Topic 106</b><br>Words: moderna, vaccine, trial, efficacy, effective\", \"<b>Topic 106</b><br>Words: dose, trial, vaccine, datum, efficacy\", \"<b>Topic 106</b><br>Words: hospitalization, efficacy, covid, trial, placebo\", \"<b>Topic 106</b><br>Words: vaccine, variant, efficacy, covid, pfizer\", \"<b>Topic 106</b><br>Words: johnson, jj, vaccine, approve, pfizer\", \"<b>Topic 106</b><br>Words: vaccine, pfizer, jj, dose, moderna\"], \"marker\": {\"color\": \"#D55E00\"}, \"mode\": \"lines\", \"name\": \"106_vaccine_trial_moderna_efficacy\", \"type\": \"scatter\", \"x\": [\"2020-09-28T00:00:00\", \"2020-09-29T00:00:00\", \"2020-09-30T00:00:00\", \"2020-10-29T00:00:00\", \"2020-10-30T00:00:00\", \"2020-10-31T00:00:00\", \"2020-11-29T00:00:00\", \"2020-11-30T00:00:00\", \"2020-12-31T00:00:00\", \"2021-01-30T00:00:00\", \"2021-01-31T00:00:00\", \"2021-02-27T00:00:00\", \"2021-02-28T00:00:00\"], \"y\": [19, 18, 16, 14, 19, 13, 5, 105, 28, 4, 63, 26, 85]}],                        {\"height\": 450, \"hoverlabel\": {\"bgcolor\": \"white\", \"font\": {\"family\": \"Rockwell\", \"size\": 16}}, \"legend\": {\"title\": {\"text\": \"<b>Global Topic Representation\"}}, \"template\": {\"data\": {\"bar\": [{\"error_x\": {\"color\": \"rgb(36,36,36)\"}, \"error_y\": {\"color\": \"rgb(36,36,36)\"}, \"marker\": {\"line\": {\"color\": \"white\", \"width\": 0.5}}, \"type\": \"bar\"}], \"barpolar\": [{\"marker\": {\"line\": {\"color\": \"white\", \"width\": 0.5}}, \"type\": \"barpolar\"}], \"carpet\": [{\"aaxis\": {\"endlinecolor\": \"rgb(36,36,36)\", \"gridcolor\": \"white\", \"linecolor\": \"white\", \"minorgridcolor\": \"white\", \"startlinecolor\": \"rgb(36,36,36)\"}, \"baxis\": {\"endlinecolor\": \"rgb(36,36,36)\", \"gridcolor\": \"white\", \"linecolor\": \"white\", \"minorgridcolor\": \"white\", \"startlinecolor\": \"rgb(36,36,36)\"}, \"type\": \"carpet\"}], \"choropleth\": [{\"colorbar\": {\"outlinewidth\": 1, \"tickcolor\": \"rgb(36,36,36)\", \"ticks\": \"outside\"}, \"type\": \"choropleth\"}], \"contour\": [{\"colorbar\": {\"outlinewidth\": 1, \"tickcolor\": \"rgb(36,36,36)\", \"ticks\": \"outside\"}, \"colorscale\": [[0.0, \"#440154\"], [0.1111111111111111, \"#482878\"], [0.2222222222222222, \"#3e4989\"], [0.3333333333333333, \"#31688e\"], [0.4444444444444444, \"#26828e\"], [0.5555555555555556, \"#1f9e89\"], [0.6666666666666666, \"#35b779\"], [0.7777777777777778, \"#6ece58\"], [0.8888888888888888, \"#b5de2b\"], [1.0, \"#fde725\"]], \"type\": \"contour\"}], \"contourcarpet\": [{\"colorbar\": {\"outlinewidth\": 1, \"tickcolor\": \"rgb(36,36,36)\", \"ticks\": \"outside\"}, \"type\": \"contourcarpet\"}], \"heatmap\": [{\"colorbar\": {\"outlinewidth\": 1, \"tickcolor\": \"rgb(36,36,36)\", \"ticks\": \"outside\"}, \"colorscale\": [[0.0, \"#440154\"], [0.1111111111111111, \"#482878\"], [0.2222222222222222, \"#3e4989\"], [0.3333333333333333, \"#31688e\"], [0.4444444444444444, \"#26828e\"], [0.5555555555555556, \"#1f9e89\"], [0.6666666666666666, \"#35b779\"], [0.7777777777777778, \"#6ece58\"], [0.8888888888888888, \"#b5de2b\"], [1.0, \"#fde725\"]], \"type\": \"heatmap\"}], \"heatmapgl\": [{\"colorbar\": {\"outlinewidth\": 1, \"tickcolor\": \"rgb(36,36,36)\", \"ticks\": \"outside\"}, \"colorscale\": [[0.0, \"#440154\"], [0.1111111111111111, \"#482878\"], [0.2222222222222222, \"#3e4989\"], [0.3333333333333333, \"#31688e\"], [0.4444444444444444, \"#26828e\"], [0.5555555555555556, \"#1f9e89\"], [0.6666666666666666, \"#35b779\"], [0.7777777777777778, \"#6ece58\"], [0.8888888888888888, \"#b5de2b\"], [1.0, \"#fde725\"]], \"type\": \"heatmapgl\"}], \"histogram\": [{\"marker\": {\"line\": {\"color\": \"white\", \"width\": 0.6}}, \"type\": \"histogram\"}], \"histogram2d\": [{\"colorbar\": {\"outlinewidth\": 1, \"tickcolor\": \"rgb(36,36,36)\", \"ticks\": \"outside\"}, \"colorscale\": [[0.0, \"#440154\"], [0.1111111111111111, \"#482878\"], [0.2222222222222222, \"#3e4989\"], [0.3333333333333333, \"#31688e\"], [0.4444444444444444, \"#26828e\"], [0.5555555555555556, \"#1f9e89\"], [0.6666666666666666, \"#35b779\"], [0.7777777777777778, \"#6ece58\"], [0.8888888888888888, \"#b5de2b\"], [1.0, \"#fde725\"]], \"type\": \"histogram2d\"}], \"histogram2dcontour\": [{\"colorbar\": {\"outlinewidth\": 1, \"tickcolor\": \"rgb(36,36,36)\", \"ticks\": \"outside\"}, \"colorscale\": [[0.0, \"#440154\"], [0.1111111111111111, \"#482878\"], [0.2222222222222222, \"#3e4989\"], [0.3333333333333333, \"#31688e\"], [0.4444444444444444, \"#26828e\"], [0.5555555555555556, \"#1f9e89\"], [0.6666666666666666, \"#35b779\"], [0.7777777777777778, \"#6ece58\"], [0.8888888888888888, \"#b5de2b\"], [1.0, \"#fde725\"]], \"type\": \"histogram2dcontour\"}], \"mesh3d\": [{\"colorbar\": {\"outlinewidth\": 1, \"tickcolor\": \"rgb(36,36,36)\", \"ticks\": \"outside\"}, \"type\": \"mesh3d\"}], \"parcoords\": [{\"line\": {\"colorbar\": {\"outlinewidth\": 1, \"tickcolor\": \"rgb(36,36,36)\", \"ticks\": \"outside\"}}, \"type\": \"parcoords\"}], \"pie\": [{\"automargin\": true, \"type\": \"pie\"}], \"scatter\": [{\"marker\": {\"colorbar\": {\"outlinewidth\": 1, \"tickcolor\": \"rgb(36,36,36)\", \"ticks\": \"outside\"}}, \"type\": \"scatter\"}], \"scatter3d\": [{\"line\": {\"colorbar\": {\"outlinewidth\": 1, \"tickcolor\": \"rgb(36,36,36)\", \"ticks\": \"outside\"}}, \"marker\": {\"colorbar\": {\"outlinewidth\": 1, \"tickcolor\": \"rgb(36,36,36)\", \"ticks\": \"outside\"}}, \"type\": \"scatter3d\"}], \"scattercarpet\": [{\"marker\": {\"colorbar\": {\"outlinewidth\": 1, \"tickcolor\": \"rgb(36,36,36)\", \"ticks\": \"outside\"}}, \"type\": \"scattercarpet\"}], \"scattergeo\": [{\"marker\": {\"colorbar\": {\"outlinewidth\": 1, \"tickcolor\": \"rgb(36,36,36)\", \"ticks\": \"outside\"}}, \"type\": \"scattergeo\"}], \"scattergl\": [{\"marker\": {\"colorbar\": {\"outlinewidth\": 1, \"tickcolor\": \"rgb(36,36,36)\", \"ticks\": \"outside\"}}, \"type\": \"scattergl\"}], \"scattermapbox\": [{\"marker\": {\"colorbar\": {\"outlinewidth\": 1, \"tickcolor\": \"rgb(36,36,36)\", \"ticks\": \"outside\"}}, \"type\": \"scattermapbox\"}], \"scatterpolar\": [{\"marker\": {\"colorbar\": {\"outlinewidth\": 1, \"tickcolor\": \"rgb(36,36,36)\", \"ticks\": \"outside\"}}, \"type\": \"scatterpolar\"}], \"scatterpolargl\": [{\"marker\": {\"colorbar\": {\"outlinewidth\": 1, \"tickcolor\": \"rgb(36,36,36)\", \"ticks\": \"outside\"}}, \"type\": \"scatterpolargl\"}], \"scatterternary\": [{\"marker\": {\"colorbar\": {\"outlinewidth\": 1, \"tickcolor\": \"rgb(36,36,36)\", \"ticks\": \"outside\"}}, \"type\": \"scatterternary\"}], \"surface\": [{\"colorbar\": {\"outlinewidth\": 1, \"tickcolor\": \"rgb(36,36,36)\", \"ticks\": \"outside\"}, \"colorscale\": [[0.0, \"#440154\"], [0.1111111111111111, \"#482878\"], [0.2222222222222222, \"#3e4989\"], [0.3333333333333333, \"#31688e\"], [0.4444444444444444, \"#26828e\"], [0.5555555555555556, \"#1f9e89\"], [0.6666666666666666, \"#35b779\"], [0.7777777777777778, \"#6ece58\"], [0.8888888888888888, \"#b5de2b\"], [1.0, \"#fde725\"]], \"type\": \"surface\"}], \"table\": [{\"cells\": {\"fill\": {\"color\": \"rgb(237,237,237)\"}, \"line\": {\"color\": \"white\"}}, \"header\": {\"fill\": {\"color\": \"rgb(217,217,217)\"}, \"line\": {\"color\": \"white\"}}, \"type\": \"table\"}]}, \"layout\": {\"annotationdefaults\": {\"arrowhead\": 0, \"arrowwidth\": 1}, \"autotypenumbers\": \"strict\", \"coloraxis\": {\"colorbar\": {\"outlinewidth\": 1, \"tickcolor\": \"rgb(36,36,36)\", \"ticks\": \"outside\"}}, \"colorscale\": {\"diverging\": [[0.0, \"rgb(103,0,31)\"], [0.1, \"rgb(178,24,43)\"], [0.2, \"rgb(214,96,77)\"], [0.3, \"rgb(244,165,130)\"], [0.4, \"rgb(253,219,199)\"], [0.5, \"rgb(247,247,247)\"], [0.6, \"rgb(209,229,240)\"], [0.7, \"rgb(146,197,222)\"], [0.8, \"rgb(67,147,195)\"], [0.9, \"rgb(33,102,172)\"], [1.0, \"rgb(5,48,97)\"]], \"sequential\": [[0.0, \"#440154\"], [0.1111111111111111, \"#482878\"], [0.2222222222222222, \"#3e4989\"], [0.3333333333333333, \"#31688e\"], [0.4444444444444444, \"#26828e\"], [0.5555555555555556, \"#1f9e89\"], [0.6666666666666666, \"#35b779\"], [0.7777777777777778, \"#6ece58\"], [0.8888888888888888, \"#b5de2b\"], [1.0, \"#fde725\"]], \"sequentialminus\": [[0.0, \"#440154\"], [0.1111111111111111, \"#482878\"], [0.2222222222222222, \"#3e4989\"], [0.3333333333333333, \"#31688e\"], [0.4444444444444444, \"#26828e\"], [0.5555555555555556, \"#1f9e89\"], [0.6666666666666666, \"#35b779\"], [0.7777777777777778, \"#6ece58\"], [0.8888888888888888, \"#b5de2b\"], [1.0, \"#fde725\"]]}, \"colorway\": [\"#1F77B4\", \"#FF7F0E\", \"#2CA02C\", \"#D62728\", \"#9467BD\", \"#8C564B\", \"#E377C2\", \"#7F7F7F\", \"#BCBD22\", \"#17BECF\"], \"font\": {\"color\": \"rgb(36,36,36)\"}, \"geo\": {\"bgcolor\": \"white\", \"lakecolor\": \"white\", \"landcolor\": \"white\", \"showlakes\": true, \"showland\": true, \"subunitcolor\": \"white\"}, \"hoverlabel\": {\"align\": \"left\"}, \"hovermode\": \"closest\", \"mapbox\": {\"style\": \"light\"}, \"paper_bgcolor\": \"white\", \"plot_bgcolor\": \"white\", \"polar\": {\"angularaxis\": {\"gridcolor\": \"rgb(232,232,232)\", \"linecolor\": \"rgb(36,36,36)\", \"showgrid\": false, \"showline\": true, \"ticks\": \"outside\"}, \"bgcolor\": \"white\", \"radialaxis\": {\"gridcolor\": \"rgb(232,232,232)\", \"linecolor\": \"rgb(36,36,36)\", \"showgrid\": false, \"showline\": true, \"ticks\": \"outside\"}}, \"scene\": {\"xaxis\": {\"backgroundcolor\": \"white\", \"gridcolor\": \"rgb(232,232,232)\", \"gridwidth\": 2, \"linecolor\": \"rgb(36,36,36)\", \"showbackground\": true, \"showgrid\": false, \"showline\": true, \"ticks\": \"outside\", \"zeroline\": false, \"zerolinecolor\": \"rgb(36,36,36)\"}, \"yaxis\": {\"backgroundcolor\": \"white\", \"gridcolor\": \"rgb(232,232,232)\", \"gridwidth\": 2, \"linecolor\": \"rgb(36,36,36)\", \"showbackground\": true, \"showgrid\": false, \"showline\": true, \"ticks\": \"outside\", \"zeroline\": false, \"zerolinecolor\": \"rgb(36,36,36)\"}, \"zaxis\": {\"backgroundcolor\": \"white\", \"gridcolor\": \"rgb(232,232,232)\", \"gridwidth\": 2, \"linecolor\": \"rgb(36,36,36)\", \"showbackground\": true, \"showgrid\": false, \"showline\": true, \"ticks\": \"outside\", \"zeroline\": false, \"zerolinecolor\": \"rgb(36,36,36)\"}}, \"shapedefaults\": {\"fillcolor\": \"black\", \"line\": {\"width\": 0}, \"opacity\": 0.3}, \"ternary\": {\"aaxis\": {\"gridcolor\": \"rgb(232,232,232)\", \"linecolor\": \"rgb(36,36,36)\", \"showgrid\": false, \"showline\": true, \"ticks\": \"outside\"}, \"baxis\": {\"gridcolor\": \"rgb(232,232,232)\", \"linecolor\": \"rgb(36,36,36)\", \"showgrid\": false, \"showline\": true, \"ticks\": \"outside\"}, \"bgcolor\": \"white\", \"caxis\": {\"gridcolor\": \"rgb(232,232,232)\", \"linecolor\": \"rgb(36,36,36)\", \"showgrid\": false, \"showline\": true, \"ticks\": \"outside\"}}, \"title\": {\"x\": 0.05}, \"xaxis\": {\"automargin\": true, \"gridcolor\": \"rgb(232,232,232)\", \"linecolor\": \"rgb(36,36,36)\", \"showgrid\": false, \"showline\": true, \"ticks\": \"outside\", \"title\": {\"standoff\": 15}, \"zeroline\": false, \"zerolinecolor\": \"rgb(36,36,36)\"}, \"yaxis\": {\"automargin\": true, \"gridcolor\": \"rgb(232,232,232)\", \"linecolor\": \"rgb(36,36,36)\", \"showgrid\": false, \"showline\": true, \"ticks\": \"outside\", \"title\": {\"standoff\": 15}, \"zeroline\": false, \"zerolinecolor\": \"rgb(36,36,36)\"}}}, \"title\": {\"font\": {\"color\": \"Black\", \"size\": 22}, \"text\": \"<b>Topics over Time\", \"x\": 0.4, \"xanchor\": \"center\", \"y\": 0.95, \"yanchor\": \"top\"}, \"width\": 1250, \"xaxis\": {\"showgrid\": true}, \"yaxis\": {\"showgrid\": true, \"title\": {\"text\": \"Frequency\"}}},                        {\"responsive\": true}                    ).then(function(){\n",
              "                            \n",
              "var gd = document.getElementById('cfeb4df1-ea8f-4447-a9ac-49a77716df8c');\n",
              "var x = new MutationObserver(function (mutations, observer) {{\n",
              "        var display = window.getComputedStyle(gd).display;\n",
              "        if (!display || display === 'none') {{\n",
              "            console.log([gd, 'removed!']);\n",
              "            Plotly.purge(gd);\n",
              "            observer.disconnect();\n",
              "        }}\n",
              "}});\n",
              "\n",
              "// Listen for the removal of the full notebook cells\n",
              "var notebookContainer = gd.closest('#notebook-container');\n",
              "if (notebookContainer) {{\n",
              "    x.observe(notebookContainer, {childList: true});\n",
              "}}\n",
              "\n",
              "// Listen for the clearing of the current output cell\n",
              "var outputEl = gd.closest('.output');\n",
              "if (outputEl) {{\n",
              "    x.observe(outputEl, {childList: true});\n",
              "}}\n",
              "\n",
              "                        })                };                            </script>        </div>\n",
              "</body>\n",
              "</html>"
            ]
          },
          "metadata": {
            "tags": []
          }
        }
      ]
    },
    {
      "cell_type": "code",
      "metadata": {
        "id": "0yCvqORemRuu"
      },
      "source": [
        "ft3 = BERTopic.load('/content/drive/My Drive/fasttext90tok')\n",
        "topft3 = np.load('/content/drive/My Drive/array_topics_90tok.npy')\n",
        "proft3 = np.load('/content/drive/My Drive/array_probabilities_90tok.npy')"
      ],
      "execution_count": null,
      "outputs": []
    },
    {
      "cell_type": "code",
      "metadata": {
        "colab": {
          "base_uri": "https://localhost:8080/",
          "height": 467
        },
        "id": "PFp-ZbP0sl_W",
        "outputId": "4f42f8bf-4189-4f24-fb54-8ee4f277c3e4"
      },
      "source": [
        "topics_over_time = ft3.topics_over_time(my_tokens, topft3, clean_times, evolution_tuning = True,\n",
        "                         global_tuning = False)\n",
        "ft3.visualize_topics_over_time(topics_over_time, top_n=5) #fitted to tokens"
      ],
      "execution_count": 33,
      "outputs": [
        {
          "output_type": "display_data",
          "data": {
            "text/html": [
              "<html>\n",
              "<head><meta charset=\"utf-8\" /></head>\n",
              "<body>\n",
              "    <div>            <script src=\"https://cdnjs.cloudflare.com/ajax/libs/mathjax/2.7.5/MathJax.js?config=TeX-AMS-MML_SVG\"></script><script type=\"text/javascript\">if (window.MathJax) {MathJax.Hub.Config({SVG: {font: \"STIX-Web\"}});}</script>                <script type=\"text/javascript\">window.PlotlyConfig = {MathJaxConfig: 'local'};</script>\n",
              "        <script src=\"https://cdn.plot.ly/plotly-latest.min.js\"></script>                <div id=\"65ac6fb7-0ed4-4bb1-82f7-d67f8fbffaf5\" class=\"plotly-graph-div\" style=\"height:450px; width:1250px;\"></div>            <script type=\"text/javascript\">                                    window.PLOTLYENV=window.PLOTLYENV || {};                                    if (document.getElementById(\"65ac6fb7-0ed4-4bb1-82f7-d67f8fbffaf5\")) {                    Plotly.newPlot(                        \"65ac6fb7-0ed4-4bb1-82f7-d67f8fbffaf5\",                        [{\"hoverinfo\": \"text\", \"hovertext\": [\"<b>Topic 2</b><br>Words: shark, squalene, animal, ecosystem, sharks\", \"<b>Topic 2</b><br>Words: shark, animal, sharks, sustainable, squalene\", \"<b>Topic 2</b><br>Words: shark, animal, sharks, ocean, ecosystem\", \"<b>Topic 2</b><br>Words: harem, blood, hunted, save, free\", \"<b>Topic 2</b><br>Words: euthanasia, eugenic, engineer, race, govtech\", \"<b>Topic 2</b><br>Words: images, coal, engine, construction, kb\", \"<b>Topic 2</b><br>Words: gagt, fubo, bowl, use, toilet\", \"<b>Topic 2</b><br>Words: use, luciferase, mrna, tech, skin\", \"<b>Topic 2</b><br>Words: tapatalk, animal, sent, use, gu\", \"<b>Topic 2</b><br>Words: technocracy, humanity, save, human, try\", \"<b>Topic 2</b><br>Words: use, effective, plot, investigate, dollars\"], \"marker\": {\"color\": \"#E69F00\"}, \"mode\": \"lines\", \"name\": \"2_shark_animal_human_sharks\", \"type\": \"scatter\", \"x\": [\"2020-09-28T00:00:00\", \"2020-09-29T00:00:00\", \"2020-09-30T00:00:00\", \"2020-10-29T00:00:00\", \"2020-10-30T00:00:00\", \"2020-10-31T00:00:00\", \"2020-11-29T00:00:00\", \"2020-11-30T00:00:00\", \"2020-12-31T00:00:00\", \"2021-01-31T00:00:00\", \"2021-02-28T00:00:00\"], \"y\": [119, 275, 208, 6, 9, 4, 9, 3, 6, 4, 3]}, {\"hoverinfo\": \"text\", \"hovertext\": [\"<b>Topic 26</b><br>Words: taxis, trump, money, gates, debt\", \"<b>Topic 26</b><br>Words: trump, biden, president, election, mccarter\", \"<b>Topic 26</b><br>Words: trump, biden, debate, president, joe\", \"<b>Topic 26</b><br>Words: trump, biden, win, buffoon, president\", \"<b>Topic 26</b><br>Words: trump, president, biden, american, america\", \"<b>Topic 26</b><br>Words: trump, lie, biden, vote, buffoon\", \"<b>Topic 26</b><br>Words: trump, election, president, fraud, fbi\", \"<b>Topic 26</b><br>Words: trump, biden, think, thing, trumps\", \"<b>Topic 26</b><br>Words: trump, pence, president, nation, biden\", \"<b>Topic 26</b><br>Words: biden, president, trump, plan, governor\", \"<b>Topic 26</b><br>Words: trump, biden, president, administration, gop\", \"<b>Topic 26</b><br>Words: biden, trump, president, republican, democrats\", \"<b>Topic 26</b><br>Words: biden, trump, president, vote, relief\"], \"marker\": {\"color\": \"#56B4E9\"}, \"mode\": \"lines\", \"name\": \"26_trump_biden_president_election\", \"type\": \"scatter\", \"x\": [\"2020-09-28T00:00:00\", \"2020-09-29T00:00:00\", \"2020-09-30T00:00:00\", \"2020-10-29T00:00:00\", \"2020-10-30T00:00:00\", \"2020-10-31T00:00:00\", \"2020-11-29T00:00:00\", \"2020-11-30T00:00:00\", \"2020-12-31T00:00:00\", \"2021-01-30T00:00:00\", \"2021-01-31T00:00:00\", \"2021-02-27T00:00:00\", \"2021-02-28T00:00:00\"], \"y\": [6, 35, 49, 37, 42, 39, 8, 25, 18, 6, 40, 15, 22]}, {\"hoverinfo\": \"text\", \"hovertext\": [\"<b>Topic 46</b><br>Words: birthday, poo, gallery, arm, momma\", \"<b>Topic 46</b><br>Words: walk, billions, worth, love, line\", \"<b>Topic 46</b><br>Words: gamea, gameplay, gamelaya, gamekeeper, gamejam\", \"<b>Topic 46</b><br>Words: xbox, meme, symptom, nose, cat\", \"<b>Topic 46</b><br>Words: husband, mom, days, mild, fine\", \"<b>Topic 46</b><br>Words: halloween, weekend, water, bawl, boiler\", \"<b>Topic 46</b><br>Words: wife, days, mild, kid, bout\", \"<b>Topic 46</b><br>Words: feel, shot, today, arwr, wake\", \"<b>Topic 46</b><br>Words: arm, dose, st, injection, site\", \"<b>Topic 46</b><br>Words: soreness, days, chills, arm, dose\", \"<b>Topic 46</b><br>Words: arm, sore, day, shot, days\", \"<b>Topic 46</b><br>Words: shot, second, yesterday, arm, sore\", \"<b>Topic 46</b><br>Words: arm, sore, day, shot, headache\"], \"marker\": {\"color\": \"#009E73\"}, \"mode\": \"lines\", \"name\": \"46_arm_sore_day_shot\", \"type\": \"scatter\", \"x\": [\"2020-09-28T00:00:00\", \"2020-09-29T00:00:00\", \"2020-09-30T00:00:00\", \"2020-10-29T00:00:00\", \"2020-10-30T00:00:00\", \"2020-10-31T00:00:00\", \"2020-11-29T00:00:00\", \"2020-11-30T00:00:00\", \"2020-12-31T00:00:00\", \"2021-01-30T00:00:00\", \"2021-01-31T00:00:00\", \"2021-02-27T00:00:00\", \"2021-02-28T00:00:00\"], \"y\": [5, 3, 1, 6, 5, 3, 3, 12, 12, 4, 55, 37, 119]}, {\"hoverinfo\": \"text\", \"hovertext\": [\"<b>Topic 108</b><br>Words: flu, year, covid, winter, season\", \"<b>Topic 108</b><br>Words: flu, season, covid, year, seasonal\", \"<b>Topic 108</b><br>Words: flu, strain, vaccine, circulation, mutate\", \"<b>Topic 108</b><br>Words: flu, strain, covid, cold, people\", \"<b>Topic 108</b><br>Words: flu, influenza, vaccine, year, strain\", \"<b>Topic 108</b><br>Words: flu, death, covid, people, vaccine\", \"<b>Topic 108</b><br>Words: flu, cold, year, virus, people\", \"<b>Topic 108</b><br>Words: flu, people, year, covid, death\", \"<b>Topic 108</b><br>Words: flu, covid, year, bad, vacs\", \"<b>Topic 108</b><br>Words: wilfully, flu, search, danger, seasonal\", \"<b>Topic 108</b><br>Words: flu, influenza, virus, death, covid\", \"<b>Topic 108</b><br>Words: jab, swine, adjuvant, quotecarlb, flu\", \"<b>Topic 108</b><br>Words: flu, shot, wife, shingle, people\"], \"marker\": {\"color\": \"#F0E442\"}, \"mode\": \"lines\", \"name\": \"108_flu_covid_people_strain\", \"type\": \"scatter\", \"x\": [\"2020-09-28T00:00:00\", \"2020-09-29T00:00:00\", \"2020-09-30T00:00:00\", \"2020-10-29T00:00:00\", \"2020-10-30T00:00:00\", \"2020-10-31T00:00:00\", \"2020-11-29T00:00:00\", \"2020-11-30T00:00:00\", \"2020-12-31T00:00:00\", \"2021-01-30T00:00:00\", \"2021-01-31T00:00:00\", \"2021-02-27T00:00:00\", \"2021-02-28T00:00:00\"], \"y\": [22, 27, 11, 25, 28, 15, 12, 17, 12, 3, 12, 2, 8]}, {\"hoverinfo\": \"text\", \"hovertext\": [\"<b>Topic 115</b><br>Words: virus, respiratory, sars, immune, influenza\", \"<b>Topic 115</b><br>Words: virus, sars, cell, cov, protein\", \"<b>Topic 115</b><br>Words: antibody, covid, novel, protein, diagnostic\", \"<b>Topic 115</b><br>Words: virus, immunity, infection, cell, antibody\", \"<b>Topic 115</b><br>Words: antibody, sars, virus, immune, cov\", \"<b>Topic 115</b><br>Words: antibody, virus, influenza, mutation, sars\", \"<b>Topic 115</b><br>Words: virus, immune, viral, cell, covid\", \"<b>Topic 115</b><br>Words: virus, immune, sars, cov, protein\", \"<b>Topic 115</b><br>Words: cell, virus, covid, protein, immune\", \"<b>Topic 115</b><br>Words: dna, plasmid, clinical, university, vaccine\", \"<b>Topic 115</b><br>Words: virus, protein, antibody, immune, disease\", \"<b>Topic 115</b><br>Words: cell, protein, virus, immune, adenovirus\", \"<b>Topic 115</b><br>Words: virus, immune, antibody, infection, immunity\"], \"marker\": {\"color\": \"#D55E00\"}, \"mode\": \"lines\", \"name\": \"115_virus_cell_antibody_immune\", \"type\": \"scatter\", \"x\": [\"2020-09-28T00:00:00\", \"2020-09-29T00:00:00\", \"2020-09-30T00:00:00\", \"2020-10-29T00:00:00\", \"2020-10-30T00:00:00\", \"2020-10-31T00:00:00\", \"2020-11-29T00:00:00\", \"2020-11-30T00:00:00\", \"2020-12-31T00:00:00\", \"2021-01-30T00:00:00\", \"2021-01-31T00:00:00\", \"2021-02-27T00:00:00\", \"2021-02-28T00:00:00\"], \"y\": [42, 46, 52, 30, 37, 29, 17, 81, 37, 6, 92, 29, 67]}],                        {\"height\": 450, \"hoverlabel\": {\"bgcolor\": \"white\", \"font\": {\"family\": \"Rockwell\", \"size\": 16}}, \"legend\": {\"title\": {\"text\": \"<b>Global Topic Representation\"}}, \"template\": {\"data\": {\"bar\": [{\"error_x\": {\"color\": \"rgb(36,36,36)\"}, \"error_y\": {\"color\": \"rgb(36,36,36)\"}, \"marker\": {\"line\": {\"color\": \"white\", \"width\": 0.5}}, \"type\": \"bar\"}], \"barpolar\": [{\"marker\": {\"line\": {\"color\": \"white\", \"width\": 0.5}}, \"type\": \"barpolar\"}], \"carpet\": [{\"aaxis\": {\"endlinecolor\": \"rgb(36,36,36)\", \"gridcolor\": \"white\", \"linecolor\": \"white\", \"minorgridcolor\": \"white\", \"startlinecolor\": \"rgb(36,36,36)\"}, \"baxis\": {\"endlinecolor\": \"rgb(36,36,36)\", \"gridcolor\": \"white\", \"linecolor\": \"white\", \"minorgridcolor\": \"white\", \"startlinecolor\": \"rgb(36,36,36)\"}, \"type\": \"carpet\"}], \"choropleth\": [{\"colorbar\": {\"outlinewidth\": 1, \"tickcolor\": \"rgb(36,36,36)\", \"ticks\": \"outside\"}, \"type\": \"choropleth\"}], \"contour\": [{\"colorbar\": {\"outlinewidth\": 1, \"tickcolor\": \"rgb(36,36,36)\", \"ticks\": \"outside\"}, \"colorscale\": [[0.0, \"#440154\"], [0.1111111111111111, \"#482878\"], [0.2222222222222222, \"#3e4989\"], [0.3333333333333333, \"#31688e\"], [0.4444444444444444, \"#26828e\"], [0.5555555555555556, \"#1f9e89\"], [0.6666666666666666, \"#35b779\"], [0.7777777777777778, \"#6ece58\"], [0.8888888888888888, \"#b5de2b\"], [1.0, \"#fde725\"]], \"type\": \"contour\"}], \"contourcarpet\": [{\"colorbar\": {\"outlinewidth\": 1, \"tickcolor\": \"rgb(36,36,36)\", \"ticks\": \"outside\"}, \"type\": \"contourcarpet\"}], \"heatmap\": [{\"colorbar\": {\"outlinewidth\": 1, \"tickcolor\": \"rgb(36,36,36)\", \"ticks\": \"outside\"}, \"colorscale\": [[0.0, \"#440154\"], [0.1111111111111111, \"#482878\"], [0.2222222222222222, \"#3e4989\"], [0.3333333333333333, \"#31688e\"], [0.4444444444444444, \"#26828e\"], [0.5555555555555556, \"#1f9e89\"], [0.6666666666666666, \"#35b779\"], [0.7777777777777778, \"#6ece58\"], [0.8888888888888888, \"#b5de2b\"], [1.0, \"#fde725\"]], \"type\": \"heatmap\"}], \"heatmapgl\": [{\"colorbar\": {\"outlinewidth\": 1, \"tickcolor\": \"rgb(36,36,36)\", \"ticks\": \"outside\"}, \"colorscale\": [[0.0, \"#440154\"], [0.1111111111111111, \"#482878\"], [0.2222222222222222, \"#3e4989\"], [0.3333333333333333, \"#31688e\"], [0.4444444444444444, \"#26828e\"], [0.5555555555555556, \"#1f9e89\"], [0.6666666666666666, \"#35b779\"], [0.7777777777777778, \"#6ece58\"], [0.8888888888888888, \"#b5de2b\"], [1.0, \"#fde725\"]], \"type\": \"heatmapgl\"}], \"histogram\": [{\"marker\": {\"line\": {\"color\": \"white\", \"width\": 0.6}}, \"type\": \"histogram\"}], \"histogram2d\": [{\"colorbar\": {\"outlinewidth\": 1, \"tickcolor\": \"rgb(36,36,36)\", \"ticks\": \"outside\"}, \"colorscale\": [[0.0, \"#440154\"], [0.1111111111111111, \"#482878\"], [0.2222222222222222, \"#3e4989\"], [0.3333333333333333, \"#31688e\"], [0.4444444444444444, \"#26828e\"], [0.5555555555555556, \"#1f9e89\"], [0.6666666666666666, \"#35b779\"], [0.7777777777777778, \"#6ece58\"], [0.8888888888888888, \"#b5de2b\"], [1.0, \"#fde725\"]], \"type\": \"histogram2d\"}], \"histogram2dcontour\": [{\"colorbar\": {\"outlinewidth\": 1, \"tickcolor\": \"rgb(36,36,36)\", \"ticks\": \"outside\"}, \"colorscale\": [[0.0, \"#440154\"], [0.1111111111111111, \"#482878\"], [0.2222222222222222, \"#3e4989\"], [0.3333333333333333, \"#31688e\"], [0.4444444444444444, \"#26828e\"], [0.5555555555555556, \"#1f9e89\"], [0.6666666666666666, \"#35b779\"], [0.7777777777777778, \"#6ece58\"], [0.8888888888888888, \"#b5de2b\"], [1.0, \"#fde725\"]], \"type\": \"histogram2dcontour\"}], \"mesh3d\": [{\"colorbar\": {\"outlinewidth\": 1, \"tickcolor\": \"rgb(36,36,36)\", \"ticks\": \"outside\"}, \"type\": \"mesh3d\"}], \"parcoords\": [{\"line\": {\"colorbar\": {\"outlinewidth\": 1, \"tickcolor\": \"rgb(36,36,36)\", \"ticks\": \"outside\"}}, \"type\": \"parcoords\"}], \"pie\": [{\"automargin\": true, \"type\": \"pie\"}], \"scatter\": [{\"marker\": {\"colorbar\": {\"outlinewidth\": 1, \"tickcolor\": \"rgb(36,36,36)\", \"ticks\": \"outside\"}}, \"type\": \"scatter\"}], \"scatter3d\": [{\"line\": {\"colorbar\": {\"outlinewidth\": 1, \"tickcolor\": \"rgb(36,36,36)\", \"ticks\": \"outside\"}}, \"marker\": {\"colorbar\": {\"outlinewidth\": 1, \"tickcolor\": \"rgb(36,36,36)\", \"ticks\": \"outside\"}}, \"type\": \"scatter3d\"}], \"scattercarpet\": [{\"marker\": {\"colorbar\": {\"outlinewidth\": 1, \"tickcolor\": \"rgb(36,36,36)\", \"ticks\": \"outside\"}}, \"type\": \"scattercarpet\"}], \"scattergeo\": [{\"marker\": {\"colorbar\": {\"outlinewidth\": 1, \"tickcolor\": \"rgb(36,36,36)\", \"ticks\": \"outside\"}}, \"type\": \"scattergeo\"}], \"scattergl\": [{\"marker\": {\"colorbar\": {\"outlinewidth\": 1, \"tickcolor\": \"rgb(36,36,36)\", \"ticks\": \"outside\"}}, \"type\": \"scattergl\"}], \"scattermapbox\": [{\"marker\": {\"colorbar\": {\"outlinewidth\": 1, \"tickcolor\": \"rgb(36,36,36)\", \"ticks\": \"outside\"}}, \"type\": \"scattermapbox\"}], \"scatterpolar\": [{\"marker\": {\"colorbar\": {\"outlinewidth\": 1, \"tickcolor\": \"rgb(36,36,36)\", \"ticks\": \"outside\"}}, \"type\": \"scatterpolar\"}], \"scatterpolargl\": [{\"marker\": {\"colorbar\": {\"outlinewidth\": 1, \"tickcolor\": \"rgb(36,36,36)\", \"ticks\": \"outside\"}}, \"type\": \"scatterpolargl\"}], \"scatterternary\": [{\"marker\": {\"colorbar\": {\"outlinewidth\": 1, \"tickcolor\": \"rgb(36,36,36)\", \"ticks\": \"outside\"}}, \"type\": \"scatterternary\"}], \"surface\": [{\"colorbar\": {\"outlinewidth\": 1, \"tickcolor\": \"rgb(36,36,36)\", \"ticks\": \"outside\"}, \"colorscale\": [[0.0, \"#440154\"], [0.1111111111111111, \"#482878\"], [0.2222222222222222, \"#3e4989\"], [0.3333333333333333, \"#31688e\"], [0.4444444444444444, \"#26828e\"], [0.5555555555555556, \"#1f9e89\"], [0.6666666666666666, \"#35b779\"], [0.7777777777777778, \"#6ece58\"], [0.8888888888888888, \"#b5de2b\"], [1.0, \"#fde725\"]], \"type\": \"surface\"}], \"table\": [{\"cells\": {\"fill\": {\"color\": \"rgb(237,237,237)\"}, \"line\": {\"color\": \"white\"}}, \"header\": {\"fill\": {\"color\": \"rgb(217,217,217)\"}, \"line\": {\"color\": \"white\"}}, \"type\": \"table\"}]}, \"layout\": {\"annotationdefaults\": {\"arrowhead\": 0, \"arrowwidth\": 1}, \"autotypenumbers\": \"strict\", \"coloraxis\": {\"colorbar\": {\"outlinewidth\": 1, \"tickcolor\": \"rgb(36,36,36)\", \"ticks\": \"outside\"}}, \"colorscale\": {\"diverging\": [[0.0, \"rgb(103,0,31)\"], [0.1, \"rgb(178,24,43)\"], [0.2, \"rgb(214,96,77)\"], [0.3, \"rgb(244,165,130)\"], [0.4, \"rgb(253,219,199)\"], [0.5, \"rgb(247,247,247)\"], [0.6, \"rgb(209,229,240)\"], [0.7, \"rgb(146,197,222)\"], [0.8, \"rgb(67,147,195)\"], [0.9, \"rgb(33,102,172)\"], [1.0, \"rgb(5,48,97)\"]], \"sequential\": [[0.0, \"#440154\"], [0.1111111111111111, \"#482878\"], [0.2222222222222222, \"#3e4989\"], [0.3333333333333333, \"#31688e\"], [0.4444444444444444, \"#26828e\"], [0.5555555555555556, \"#1f9e89\"], [0.6666666666666666, \"#35b779\"], [0.7777777777777778, \"#6ece58\"], [0.8888888888888888, \"#b5de2b\"], [1.0, \"#fde725\"]], \"sequentialminus\": [[0.0, \"#440154\"], [0.1111111111111111, \"#482878\"], [0.2222222222222222, \"#3e4989\"], [0.3333333333333333, \"#31688e\"], [0.4444444444444444, \"#26828e\"], [0.5555555555555556, \"#1f9e89\"], [0.6666666666666666, \"#35b779\"], [0.7777777777777778, \"#6ece58\"], [0.8888888888888888, \"#b5de2b\"], [1.0, \"#fde725\"]]}, \"colorway\": [\"#1F77B4\", \"#FF7F0E\", \"#2CA02C\", \"#D62728\", \"#9467BD\", \"#8C564B\", \"#E377C2\", \"#7F7F7F\", \"#BCBD22\", \"#17BECF\"], \"font\": {\"color\": \"rgb(36,36,36)\"}, \"geo\": {\"bgcolor\": \"white\", \"lakecolor\": \"white\", \"landcolor\": \"white\", \"showlakes\": true, \"showland\": true, \"subunitcolor\": \"white\"}, \"hoverlabel\": {\"align\": \"left\"}, \"hovermode\": \"closest\", \"mapbox\": {\"style\": \"light\"}, \"paper_bgcolor\": \"white\", \"plot_bgcolor\": \"white\", \"polar\": {\"angularaxis\": {\"gridcolor\": \"rgb(232,232,232)\", \"linecolor\": \"rgb(36,36,36)\", \"showgrid\": false, \"showline\": true, \"ticks\": \"outside\"}, \"bgcolor\": \"white\", \"radialaxis\": {\"gridcolor\": \"rgb(232,232,232)\", \"linecolor\": \"rgb(36,36,36)\", \"showgrid\": false, \"showline\": true, \"ticks\": \"outside\"}}, \"scene\": {\"xaxis\": {\"backgroundcolor\": \"white\", \"gridcolor\": \"rgb(232,232,232)\", \"gridwidth\": 2, \"linecolor\": \"rgb(36,36,36)\", \"showbackground\": true, \"showgrid\": false, \"showline\": true, \"ticks\": \"outside\", \"zeroline\": false, \"zerolinecolor\": \"rgb(36,36,36)\"}, \"yaxis\": {\"backgroundcolor\": \"white\", \"gridcolor\": \"rgb(232,232,232)\", \"gridwidth\": 2, \"linecolor\": \"rgb(36,36,36)\", \"showbackground\": true, \"showgrid\": false, \"showline\": true, \"ticks\": \"outside\", \"zeroline\": false, \"zerolinecolor\": \"rgb(36,36,36)\"}, \"zaxis\": {\"backgroundcolor\": \"white\", \"gridcolor\": \"rgb(232,232,232)\", \"gridwidth\": 2, \"linecolor\": \"rgb(36,36,36)\", \"showbackground\": true, \"showgrid\": false, \"showline\": true, \"ticks\": \"outside\", \"zeroline\": false, \"zerolinecolor\": \"rgb(36,36,36)\"}}, \"shapedefaults\": {\"fillcolor\": \"black\", \"line\": {\"width\": 0}, \"opacity\": 0.3}, \"ternary\": {\"aaxis\": {\"gridcolor\": \"rgb(232,232,232)\", \"linecolor\": \"rgb(36,36,36)\", \"showgrid\": false, \"showline\": true, \"ticks\": \"outside\"}, \"baxis\": {\"gridcolor\": \"rgb(232,232,232)\", \"linecolor\": \"rgb(36,36,36)\", \"showgrid\": false, \"showline\": true, \"ticks\": \"outside\"}, \"bgcolor\": \"white\", \"caxis\": {\"gridcolor\": \"rgb(232,232,232)\", \"linecolor\": \"rgb(36,36,36)\", \"showgrid\": false, \"showline\": true, \"ticks\": \"outside\"}}, \"title\": {\"x\": 0.05}, \"xaxis\": {\"automargin\": true, \"gridcolor\": \"rgb(232,232,232)\", \"linecolor\": \"rgb(36,36,36)\", \"showgrid\": false, \"showline\": true, \"ticks\": \"outside\", \"title\": {\"standoff\": 15}, \"zeroline\": false, \"zerolinecolor\": \"rgb(36,36,36)\"}, \"yaxis\": {\"automargin\": true, \"gridcolor\": \"rgb(232,232,232)\", \"linecolor\": \"rgb(36,36,36)\", \"showgrid\": false, \"showline\": true, \"ticks\": \"outside\", \"title\": {\"standoff\": 15}, \"zeroline\": false, \"zerolinecolor\": \"rgb(36,36,36)\"}}}, \"title\": {\"font\": {\"color\": \"Black\", \"size\": 22}, \"text\": \"<b>Topics over Time\", \"x\": 0.4, \"xanchor\": \"center\", \"y\": 0.95, \"yanchor\": \"top\"}, \"width\": 1250, \"xaxis\": {\"showgrid\": true}, \"yaxis\": {\"showgrid\": true, \"title\": {\"text\": \"Frequency\"}}},                        {\"responsive\": true}                    ).then(function(){\n",
              "                            \n",
              "var gd = document.getElementById('65ac6fb7-0ed4-4bb1-82f7-d67f8fbffaf5');\n",
              "var x = new MutationObserver(function (mutations, observer) {{\n",
              "        var display = window.getComputedStyle(gd).display;\n",
              "        if (!display || display === 'none') {{\n",
              "            console.log([gd, 'removed!']);\n",
              "            Plotly.purge(gd);\n",
              "            observer.disconnect();\n",
              "        }}\n",
              "}});\n",
              "\n",
              "// Listen for the removal of the full notebook cells\n",
              "var notebookContainer = gd.closest('#notebook-container');\n",
              "if (notebookContainer) {{\n",
              "    x.observe(notebookContainer, {childList: true});\n",
              "}}\n",
              "\n",
              "// Listen for the clearing of the current output cell\n",
              "var outputEl = gd.closest('.output');\n",
              "if (outputEl) {{\n",
              "    x.observe(outputEl, {childList: true});\n",
              "}}\n",
              "\n",
              "                        })                };                            </script>        </div>\n",
              "</body>\n",
              "</html>"
            ]
          },
          "metadata": {
            "tags": []
          }
        }
      ]
    },
    {
      "cell_type": "code",
      "metadata": {
        "id": "NmgxaP_lmSQv"
      },
      "source": [
        "ft4 = BERTopic.load('/content/drive/My Drive/fasttext90_dc')\n",
        "topft4 = np.load('/content/drive/My Drive/array_topics_90dco.npy')\n",
        "proft4 = np.load('/content/drive/My Drive/array_probabilities_90dco.npy')"
      ],
      "execution_count": 52,
      "outputs": []
    },
    {
      "cell_type": "code",
      "metadata": {
        "colab": {
          "base_uri": "https://localhost:8080/",
          "height": 467
        },
        "id": "T4Us8vN3s9nA",
        "outputId": "9e0373ca-9081-476f-f616-48c8b47f44f1"
      },
      "source": [
        "topics_over_time = ft4.topics_over_time(docs_clean_old, topft4, clean_times_o, evolution_tuning = True,\n",
        "                         global_tuning = False)\n",
        "ft4.visualize_topics_over_time(topics_over_time, top_n=5) #fitted to docs_clean"
      ],
      "execution_count": 53,
      "outputs": [
        {
          "output_type": "display_data",
          "data": {
            "text/html": [
              "<html>\n",
              "<head><meta charset=\"utf-8\" /></head>\n",
              "<body>\n",
              "    <div>            <script src=\"https://cdnjs.cloudflare.com/ajax/libs/mathjax/2.7.5/MathJax.js?config=TeX-AMS-MML_SVG\"></script><script type=\"text/javascript\">if (window.MathJax) {MathJax.Hub.Config({SVG: {font: \"STIX-Web\"}});}</script>                <script type=\"text/javascript\">window.PlotlyConfig = {MathJaxConfig: 'local'};</script>\n",
              "        <script src=\"https://cdn.plot.ly/plotly-latest.min.js\"></script>                <div id=\"12546f63-c066-44d6-9c75-e7630060d47b\" class=\"plotly-graph-div\" style=\"height:450px; width:1250px;\"></div>            <script type=\"text/javascript\">                                    window.PLOTLYENV=window.PLOTLYENV || {};                                    if (document.getElementById(\"12546f63-c066-44d6-9c75-e7630060d47b\")) {                    Plotly.newPlot(                        \"12546f63-c066-44d6-9c75-e7630060d47b\",                        [{\"hoverinfo\": \"text\", \"hovertext\": [\"<b>Topic 162</b><br>Words: gallery, updates, new, cruiser, cdc\", \"<b>Topic 162</b><br>Words: sharks, save, bad, tds, humans\", \"<b>Topic 162</b><br>Words: sharks, oceans, antivirus, vaccine, ecosystem\", \"<b>Topic 162</b><br>Words: cyberpunk, game, release, election, fucking\", \"<b>Topic 162</b><br>Words: flu, game, cyberpunk, date, release\", \"<b>Topic 162</b><br>Words: devestation, went, century, britain, smaller\", \"<b>Topic 162</b><br>Words: flu, covid, comprehension, viruses, component\", \"<b>Topic 162</b><br>Words: vaccine, poo, covid, flu, caldera\", \"<b>Topic 162</b><br>Words: poo, posted, read, quote, dont\", \"<b>Topic 162</b><br>Words: vaccine, prevent, neutralized, neutralize, superspreader\", \"<b>Topic 162</b><br>Words: vaccine, flu, effect, offered, jab\", \"<b>Topic 162</b><br>Words: covid, flu, numbers, pneumonia, death\", \"<b>Topic 162</b><br>Words: jj, variants, vaccine, variant, pfizer\"], \"marker\": {\"color\": \"#E69F00\"}, \"mode\": \"lines\", \"name\": \"162_vaccine_flu_covid_think\", \"type\": \"scatter\", \"x\": [\"2020-09-28T00:00:00\", \"2020-09-29T00:00:00\", \"2020-09-30T00:00:00\", \"2020-10-29T00:00:00\", \"2020-10-30T00:00:00\", \"2020-10-31T00:00:00\", \"2020-11-29T00:00:00\", \"2020-11-30T00:00:00\", \"2020-12-31T00:00:00\", \"2021-01-30T00:00:00\", \"2021-01-31T00:00:00\", \"2021-02-27T00:00:00\", \"2021-02-28T00:00:00\"], \"y\": [32, 73, 61, 94, 64, 16, 16, 94, 136, 7, 92, 25, 78]}, {\"hoverinfo\": \"text\", \"hovertext\": [\"<b>Topic 212</b><br>Words: parents, mcps, union, supervision, reasons\", \"<b>Topic 212</b><br>Words: sharks, shark, animals, dumps, joegan\", \"<b>Topic 212</b><br>Words: sharks, shark, animals, killing, species\", \"<b>Topic 212</b><br>Words: game, good, forever, bad, lol\", \"<b>Topic 212</b><br>Words: forever, strain, game, vaccine, covid\", \"<b>Topic 212</b><br>Words: vaccine, vs, treatment, transmission, preferable\", \"<b>Topic 212</b><br>Words: schools, public, school, antigen, fcps\", \"<b>Topic 212</b><br>Words: gently, fuck, right, think, know\", \"<b>Topic 212</b><br>Words: posted, vaccine, people, covid, think\", \"<b>Topic 212</b><br>Words: pregnant, clinical, trials, pig, contracted\", \"<b>Topic 212</b><br>Words: private, education, schools, students, school\", \"<b>Topic 212</b><br>Words: disease, egg, yields, harmless, exists\", \"<b>Topic 212</b><br>Words: vaccinated, people, protected, definitive, unvaccinated\"], \"marker\": {\"color\": \"#56B4E9\"}, \"mode\": \"lines\", \"name\": \"212_vaccine_people_youre_think\", \"type\": \"scatter\", \"x\": [\"2020-09-28T00:00:00\", \"2020-09-29T00:00:00\", \"2020-09-30T00:00:00\", \"2020-10-29T00:00:00\", \"2020-10-30T00:00:00\", \"2020-10-31T00:00:00\", \"2020-11-29T00:00:00\", \"2020-11-30T00:00:00\", \"2020-12-31T00:00:00\", \"2021-01-30T00:00:00\", \"2021-01-31T00:00:00\", \"2021-02-27T00:00:00\", \"2021-02-28T00:00:00\"], \"y\": [59, 133, 91, 63, 42, 20, 8, 93, 143, 2, 78, 27, 78]}, {\"hoverinfo\": \"text\", \"hovertext\": [\"<b>Topic 277</b><br>Words: quarantine, borders, lockdown, npi, continue\", \"<b>Topic 277</b><br>Words: npi, flu, seasonal, vaccine, similar\", \"<b>Topic 277</b><br>Words: cruise, insurance, people, travel, covid\", \"<b>Topic 277</b><br>Words: mask, masks, cdc, flu, hemisphere\", \"<b>Topic 277</b><br>Words: stakeholders, consumers, mask, health, information\", \"<b>Topic 277</b><br>Words: people, vulnerable, normal, lock, want\", \"<b>Topic 277</b><br>Words: sensible, nhs, risk, enlist, risks\", \"<b>Topic 277</b><br>Words: vaccine, people, care, covid, home\", \"<b>Topic 277</b><br>Words: teachers, learning, students, people, work\", \"<b>Topic 277</b><br>Words: unreasonable, spread, community, medicated, infected\", \"<b>Topic 277</b><br>Words: sick, vaccinated, people, covid, school\", \"<b>Topic 277</b><br>Words: rules, grouty, th, meet, picnic\", \"<b>Topic 277</b><br>Words: people, want, able, work, life\"], \"marker\": {\"color\": \"#009E73\"}, \"mode\": \"lines\", \"name\": \"277_people_stay_mask_time\", \"type\": \"scatter\", \"x\": [\"2020-09-28T00:00:00\", \"2020-09-29T00:00:00\", \"2020-09-30T00:00:00\", \"2020-10-29T00:00:00\", \"2020-10-30T00:00:00\", \"2020-10-31T00:00:00\", \"2020-11-29T00:00:00\", \"2020-11-30T00:00:00\", \"2020-12-31T00:00:00\", \"2021-01-30T00:00:00\", \"2021-01-31T00:00:00\", \"2021-02-27T00:00:00\", \"2021-02-28T00:00:00\"], \"y\": [38, 38, 36, 30, 25, 47, 24, 95, 118, 3, 101, 39, 86]}, {\"hoverinfo\": \"text\", \"hovertext\": [\"<b>Topic 285</b><br>Words: dying, covid, exception, prevented, virtually\", \"<b>Topic 285</b><br>Words: covid, cause, flu, deaths, animals\", \"<b>Topic 285</b><br>Words: death, sequence, covid, flu, sequences\", \"<b>Topic 285</b><br>Words: oct, number, semblances, immunity, atlas\", \"<b>Topic 285</b><br>Words: impeached, herd, president, strategy, sweden\", \"<b>Topic 285</b><br>Words: immunity, covid, disease, herd, virus\", \"<b>Topic 285</b><br>Words: source, article, reliability, author, reliable\", \"<b>Topic 285</b><br>Words: vaccine, covid, placebo, trials, volunteers\", \"<b>Topic 285</b><br>Words: myocarditis, covid, people, year, cases\", \"<b>Topic 285</b><br>Words: lynch, positive, dose, congressman, received\", \"<b>Topic 285</b><br>Words: positive, lynch, vaccine, dose, receiving\", \"<b>Topic 285</b><br>Words: malaysia, covid, minister, vaccine, sinovac\", \"<b>Topic 285</b><br>Words: vaccine, covid, population, doses, dose\"], \"marker\": {\"color\": \"#F0E442\"}, \"mode\": \"lines\", \"name\": \"285_covid_herd_president_disease\", \"type\": \"scatter\", \"x\": [\"2020-09-28T00:00:00\", \"2020-09-29T00:00:00\", \"2020-09-30T00:00:00\", \"2020-10-29T00:00:00\", \"2020-10-30T00:00:00\", \"2020-10-31T00:00:00\", \"2020-11-29T00:00:00\", \"2020-11-30T00:00:00\", \"2020-12-31T00:00:00\", \"2021-01-30T00:00:00\", \"2021-01-31T00:00:00\", \"2021-02-27T00:00:00\", \"2021-02-28T00:00:00\"], \"y\": [35, 79, 51, 38, 65, 33, 16, 108, 154, 10, 151, 42, 90]}, {\"hoverinfo\": \"text\", \"hovertext\": [\"<b>Topic 319</b><br>Words: sharks, able, need, shark, stop\", \"<b>Topic 319</b><br>Words: sharks, animals, humans, animal, shark\", \"<b>Topic 319</b><br>Words: sharks, humans, species, animal, kill\", \"<b>Topic 319</b><br>Words: family, want, help, need, learning\", \"<b>Topic 319</b><br>Words: grandparents, family, want, kids, game\", \"<b>Topic 319</b><br>Words: free, capacity, fred, pledging, commitments\", \"<b>Topic 319</b><br>Words: vaccinated, yes, cruise, vaccine, work\", \"<b>Topic 319</b><br>Words: vaccine, covid, want, know, people\", \"<b>Topic 319</b><br>Words: people, need, like, want, able\", \"<b>Topic 319</b><br>Words: reduce, transmission, severity, spread, effective\", \"<b>Topic 319</b><br>Words: vaccine, people, covid, die, want\", \"<b>Topic 319</b><br>Words: vaccinated, old, dangerous, fashion, people\", \"<b>Topic 319</b><br>Words: vaccinated, covid, people, want, think\"], \"marker\": {\"color\": \"#D55E00\"}, \"mode\": \"lines\", \"name\": \"319_vaccine_vaccinated_people_need\", \"type\": \"scatter\", \"x\": [\"2020-09-28T00:00:00\", \"2020-09-29T00:00:00\", \"2020-09-30T00:00:00\", \"2020-10-29T00:00:00\", \"2020-10-30T00:00:00\", \"2020-10-31T00:00:00\", \"2020-11-29T00:00:00\", \"2020-11-30T00:00:00\", \"2020-12-31T00:00:00\", \"2021-01-30T00:00:00\", \"2021-01-31T00:00:00\", \"2021-02-27T00:00:00\", \"2021-02-28T00:00:00\"], \"y\": [93, 153, 117, 155, 87, 37, 42, 226, 183, 6, 179, 69, 164]}],                        {\"height\": 450, \"hoverlabel\": {\"bgcolor\": \"white\", \"font\": {\"family\": \"Rockwell\", \"size\": 16}}, \"legend\": {\"title\": {\"text\": \"<b>Global Topic Representation\"}}, \"template\": {\"data\": {\"bar\": [{\"error_x\": {\"color\": \"rgb(36,36,36)\"}, \"error_y\": {\"color\": \"rgb(36,36,36)\"}, \"marker\": {\"line\": {\"color\": \"white\", \"width\": 0.5}}, \"type\": \"bar\"}], \"barpolar\": [{\"marker\": {\"line\": {\"color\": \"white\", \"width\": 0.5}}, \"type\": \"barpolar\"}], \"carpet\": [{\"aaxis\": {\"endlinecolor\": \"rgb(36,36,36)\", \"gridcolor\": \"white\", \"linecolor\": \"white\", \"minorgridcolor\": \"white\", \"startlinecolor\": \"rgb(36,36,36)\"}, \"baxis\": {\"endlinecolor\": \"rgb(36,36,36)\", \"gridcolor\": \"white\", \"linecolor\": \"white\", \"minorgridcolor\": \"white\", \"startlinecolor\": \"rgb(36,36,36)\"}, \"type\": \"carpet\"}], \"choropleth\": [{\"colorbar\": {\"outlinewidth\": 1, \"tickcolor\": \"rgb(36,36,36)\", \"ticks\": \"outside\"}, \"type\": \"choropleth\"}], \"contour\": [{\"colorbar\": {\"outlinewidth\": 1, \"tickcolor\": \"rgb(36,36,36)\", \"ticks\": \"outside\"}, \"colorscale\": [[0.0, \"#440154\"], [0.1111111111111111, \"#482878\"], [0.2222222222222222, \"#3e4989\"], [0.3333333333333333, \"#31688e\"], [0.4444444444444444, \"#26828e\"], [0.5555555555555556, \"#1f9e89\"], [0.6666666666666666, \"#35b779\"], [0.7777777777777778, \"#6ece58\"], [0.8888888888888888, \"#b5de2b\"], [1.0, \"#fde725\"]], \"type\": \"contour\"}], \"contourcarpet\": [{\"colorbar\": {\"outlinewidth\": 1, \"tickcolor\": \"rgb(36,36,36)\", \"ticks\": \"outside\"}, \"type\": \"contourcarpet\"}], \"heatmap\": [{\"colorbar\": {\"outlinewidth\": 1, \"tickcolor\": \"rgb(36,36,36)\", \"ticks\": \"outside\"}, \"colorscale\": [[0.0, \"#440154\"], [0.1111111111111111, \"#482878\"], [0.2222222222222222, \"#3e4989\"], [0.3333333333333333, \"#31688e\"], [0.4444444444444444, \"#26828e\"], [0.5555555555555556, \"#1f9e89\"], [0.6666666666666666, \"#35b779\"], [0.7777777777777778, \"#6ece58\"], [0.8888888888888888, \"#b5de2b\"], [1.0, \"#fde725\"]], \"type\": \"heatmap\"}], \"heatmapgl\": [{\"colorbar\": {\"outlinewidth\": 1, \"tickcolor\": \"rgb(36,36,36)\", \"ticks\": \"outside\"}, \"colorscale\": [[0.0, \"#440154\"], [0.1111111111111111, \"#482878\"], [0.2222222222222222, \"#3e4989\"], [0.3333333333333333, \"#31688e\"], [0.4444444444444444, \"#26828e\"], [0.5555555555555556, \"#1f9e89\"], [0.6666666666666666, \"#35b779\"], [0.7777777777777778, \"#6ece58\"], [0.8888888888888888, \"#b5de2b\"], [1.0, \"#fde725\"]], \"type\": \"heatmapgl\"}], \"histogram\": [{\"marker\": {\"line\": {\"color\": \"white\", \"width\": 0.6}}, \"type\": \"histogram\"}], \"histogram2d\": [{\"colorbar\": {\"outlinewidth\": 1, \"tickcolor\": \"rgb(36,36,36)\", \"ticks\": \"outside\"}, \"colorscale\": [[0.0, \"#440154\"], [0.1111111111111111, \"#482878\"], [0.2222222222222222, \"#3e4989\"], [0.3333333333333333, \"#31688e\"], [0.4444444444444444, \"#26828e\"], [0.5555555555555556, \"#1f9e89\"], [0.6666666666666666, \"#35b779\"], [0.7777777777777778, \"#6ece58\"], [0.8888888888888888, \"#b5de2b\"], [1.0, \"#fde725\"]], \"type\": \"histogram2d\"}], \"histogram2dcontour\": [{\"colorbar\": {\"outlinewidth\": 1, \"tickcolor\": \"rgb(36,36,36)\", \"ticks\": \"outside\"}, \"colorscale\": [[0.0, \"#440154\"], [0.1111111111111111, \"#482878\"], [0.2222222222222222, \"#3e4989\"], [0.3333333333333333, \"#31688e\"], [0.4444444444444444, \"#26828e\"], [0.5555555555555556, \"#1f9e89\"], [0.6666666666666666, \"#35b779\"], [0.7777777777777778, \"#6ece58\"], [0.8888888888888888, \"#b5de2b\"], [1.0, \"#fde725\"]], \"type\": \"histogram2dcontour\"}], \"mesh3d\": [{\"colorbar\": {\"outlinewidth\": 1, \"tickcolor\": \"rgb(36,36,36)\", \"ticks\": \"outside\"}, \"type\": \"mesh3d\"}], \"parcoords\": [{\"line\": {\"colorbar\": {\"outlinewidth\": 1, \"tickcolor\": \"rgb(36,36,36)\", \"ticks\": \"outside\"}}, \"type\": \"parcoords\"}], \"pie\": [{\"automargin\": true, \"type\": \"pie\"}], \"scatter\": [{\"marker\": {\"colorbar\": {\"outlinewidth\": 1, \"tickcolor\": \"rgb(36,36,36)\", \"ticks\": \"outside\"}}, \"type\": \"scatter\"}], \"scatter3d\": [{\"line\": {\"colorbar\": {\"outlinewidth\": 1, \"tickcolor\": \"rgb(36,36,36)\", \"ticks\": \"outside\"}}, \"marker\": {\"colorbar\": {\"outlinewidth\": 1, \"tickcolor\": \"rgb(36,36,36)\", \"ticks\": \"outside\"}}, \"type\": \"scatter3d\"}], \"scattercarpet\": [{\"marker\": {\"colorbar\": {\"outlinewidth\": 1, \"tickcolor\": \"rgb(36,36,36)\", \"ticks\": \"outside\"}}, \"type\": \"scattercarpet\"}], \"scattergeo\": [{\"marker\": {\"colorbar\": {\"outlinewidth\": 1, \"tickcolor\": \"rgb(36,36,36)\", \"ticks\": \"outside\"}}, \"type\": \"scattergeo\"}], \"scattergl\": [{\"marker\": {\"colorbar\": {\"outlinewidth\": 1, \"tickcolor\": \"rgb(36,36,36)\", \"ticks\": \"outside\"}}, \"type\": \"scattergl\"}], \"scattermapbox\": [{\"marker\": {\"colorbar\": {\"outlinewidth\": 1, \"tickcolor\": \"rgb(36,36,36)\", \"ticks\": \"outside\"}}, \"type\": \"scattermapbox\"}], \"scatterpolar\": [{\"marker\": {\"colorbar\": {\"outlinewidth\": 1, \"tickcolor\": \"rgb(36,36,36)\", \"ticks\": \"outside\"}}, \"type\": \"scatterpolar\"}], \"scatterpolargl\": [{\"marker\": {\"colorbar\": {\"outlinewidth\": 1, \"tickcolor\": \"rgb(36,36,36)\", \"ticks\": \"outside\"}}, \"type\": \"scatterpolargl\"}], \"scatterternary\": [{\"marker\": {\"colorbar\": {\"outlinewidth\": 1, \"tickcolor\": \"rgb(36,36,36)\", \"ticks\": \"outside\"}}, \"type\": \"scatterternary\"}], \"surface\": [{\"colorbar\": {\"outlinewidth\": 1, \"tickcolor\": \"rgb(36,36,36)\", \"ticks\": \"outside\"}, \"colorscale\": [[0.0, \"#440154\"], [0.1111111111111111, \"#482878\"], [0.2222222222222222, \"#3e4989\"], [0.3333333333333333, \"#31688e\"], [0.4444444444444444, \"#26828e\"], [0.5555555555555556, \"#1f9e89\"], [0.6666666666666666, \"#35b779\"], [0.7777777777777778, \"#6ece58\"], [0.8888888888888888, \"#b5de2b\"], [1.0, \"#fde725\"]], \"type\": \"surface\"}], \"table\": [{\"cells\": {\"fill\": {\"color\": \"rgb(237,237,237)\"}, \"line\": {\"color\": \"white\"}}, \"header\": {\"fill\": {\"color\": \"rgb(217,217,217)\"}, \"line\": {\"color\": \"white\"}}, \"type\": \"table\"}]}, \"layout\": {\"annotationdefaults\": {\"arrowhead\": 0, \"arrowwidth\": 1}, \"autotypenumbers\": \"strict\", \"coloraxis\": {\"colorbar\": {\"outlinewidth\": 1, \"tickcolor\": \"rgb(36,36,36)\", \"ticks\": \"outside\"}}, \"colorscale\": {\"diverging\": [[0.0, \"rgb(103,0,31)\"], [0.1, \"rgb(178,24,43)\"], [0.2, \"rgb(214,96,77)\"], [0.3, \"rgb(244,165,130)\"], [0.4, \"rgb(253,219,199)\"], [0.5, \"rgb(247,247,247)\"], [0.6, \"rgb(209,229,240)\"], [0.7, \"rgb(146,197,222)\"], [0.8, \"rgb(67,147,195)\"], [0.9, \"rgb(33,102,172)\"], [1.0, \"rgb(5,48,97)\"]], \"sequential\": [[0.0, \"#440154\"], [0.1111111111111111, \"#482878\"], [0.2222222222222222, \"#3e4989\"], [0.3333333333333333, \"#31688e\"], [0.4444444444444444, \"#26828e\"], [0.5555555555555556, \"#1f9e89\"], [0.6666666666666666, \"#35b779\"], [0.7777777777777778, \"#6ece58\"], [0.8888888888888888, \"#b5de2b\"], [1.0, \"#fde725\"]], \"sequentialminus\": [[0.0, \"#440154\"], [0.1111111111111111, \"#482878\"], [0.2222222222222222, \"#3e4989\"], [0.3333333333333333, \"#31688e\"], [0.4444444444444444, \"#26828e\"], [0.5555555555555556, \"#1f9e89\"], [0.6666666666666666, \"#35b779\"], [0.7777777777777778, \"#6ece58\"], [0.8888888888888888, \"#b5de2b\"], [1.0, \"#fde725\"]]}, \"colorway\": [\"#1F77B4\", \"#FF7F0E\", \"#2CA02C\", \"#D62728\", \"#9467BD\", \"#8C564B\", \"#E377C2\", \"#7F7F7F\", \"#BCBD22\", \"#17BECF\"], \"font\": {\"color\": \"rgb(36,36,36)\"}, \"geo\": {\"bgcolor\": \"white\", \"lakecolor\": \"white\", \"landcolor\": \"white\", \"showlakes\": true, \"showland\": true, \"subunitcolor\": \"white\"}, \"hoverlabel\": {\"align\": \"left\"}, \"hovermode\": \"closest\", \"mapbox\": {\"style\": \"light\"}, \"paper_bgcolor\": \"white\", \"plot_bgcolor\": \"white\", \"polar\": {\"angularaxis\": {\"gridcolor\": \"rgb(232,232,232)\", \"linecolor\": \"rgb(36,36,36)\", \"showgrid\": false, \"showline\": true, \"ticks\": \"outside\"}, \"bgcolor\": \"white\", \"radialaxis\": {\"gridcolor\": \"rgb(232,232,232)\", \"linecolor\": \"rgb(36,36,36)\", \"showgrid\": false, \"showline\": true, \"ticks\": \"outside\"}}, \"scene\": {\"xaxis\": {\"backgroundcolor\": \"white\", \"gridcolor\": \"rgb(232,232,232)\", \"gridwidth\": 2, \"linecolor\": \"rgb(36,36,36)\", \"showbackground\": true, \"showgrid\": false, \"showline\": true, \"ticks\": \"outside\", \"zeroline\": false, \"zerolinecolor\": \"rgb(36,36,36)\"}, \"yaxis\": {\"backgroundcolor\": \"white\", \"gridcolor\": \"rgb(232,232,232)\", \"gridwidth\": 2, \"linecolor\": \"rgb(36,36,36)\", \"showbackground\": true, \"showgrid\": false, \"showline\": true, \"ticks\": \"outside\", \"zeroline\": false, \"zerolinecolor\": \"rgb(36,36,36)\"}, \"zaxis\": {\"backgroundcolor\": \"white\", \"gridcolor\": \"rgb(232,232,232)\", \"gridwidth\": 2, \"linecolor\": \"rgb(36,36,36)\", \"showbackground\": true, \"showgrid\": false, \"showline\": true, \"ticks\": \"outside\", \"zeroline\": false, \"zerolinecolor\": \"rgb(36,36,36)\"}}, \"shapedefaults\": {\"fillcolor\": \"black\", \"line\": {\"width\": 0}, \"opacity\": 0.3}, \"ternary\": {\"aaxis\": {\"gridcolor\": \"rgb(232,232,232)\", \"linecolor\": \"rgb(36,36,36)\", \"showgrid\": false, \"showline\": true, \"ticks\": \"outside\"}, \"baxis\": {\"gridcolor\": \"rgb(232,232,232)\", \"linecolor\": \"rgb(36,36,36)\", \"showgrid\": false, \"showline\": true, \"ticks\": \"outside\"}, \"bgcolor\": \"white\", \"caxis\": {\"gridcolor\": \"rgb(232,232,232)\", \"linecolor\": \"rgb(36,36,36)\", \"showgrid\": false, \"showline\": true, \"ticks\": \"outside\"}}, \"title\": {\"x\": 0.05}, \"xaxis\": {\"automargin\": true, \"gridcolor\": \"rgb(232,232,232)\", \"linecolor\": \"rgb(36,36,36)\", \"showgrid\": false, \"showline\": true, \"ticks\": \"outside\", \"title\": {\"standoff\": 15}, \"zeroline\": false, \"zerolinecolor\": \"rgb(36,36,36)\"}, \"yaxis\": {\"automargin\": true, \"gridcolor\": \"rgb(232,232,232)\", \"linecolor\": \"rgb(36,36,36)\", \"showgrid\": false, \"showline\": true, \"ticks\": \"outside\", \"title\": {\"standoff\": 15}, \"zeroline\": false, \"zerolinecolor\": \"rgb(36,36,36)\"}}}, \"title\": {\"font\": {\"color\": \"Black\", \"size\": 22}, \"text\": \"<b>Topics over Time\", \"x\": 0.4, \"xanchor\": \"center\", \"y\": 0.95, \"yanchor\": \"top\"}, \"width\": 1250, \"xaxis\": {\"showgrid\": true}, \"yaxis\": {\"showgrid\": true, \"title\": {\"text\": \"Frequency\"}}},                        {\"responsive\": true}                    ).then(function(){\n",
              "                            \n",
              "var gd = document.getElementById('12546f63-c066-44d6-9c75-e7630060d47b');\n",
              "var x = new MutationObserver(function (mutations, observer) {{\n",
              "        var display = window.getComputedStyle(gd).display;\n",
              "        if (!display || display === 'none') {{\n",
              "            console.log([gd, 'removed!']);\n",
              "            Plotly.purge(gd);\n",
              "            observer.disconnect();\n",
              "        }}\n",
              "}});\n",
              "\n",
              "// Listen for the removal of the full notebook cells\n",
              "var notebookContainer = gd.closest('#notebook-container');\n",
              "if (notebookContainer) {{\n",
              "    x.observe(notebookContainer, {childList: true});\n",
              "}}\n",
              "\n",
              "// Listen for the clearing of the current output cell\n",
              "var outputEl = gd.closest('.output');\n",
              "if (outputEl) {{\n",
              "    x.observe(outputEl, {childList: true});\n",
              "}}\n",
              "\n",
              "                        })                };                            </script>        </div>\n",
              "</body>\n",
              "</html>"
            ]
          },
          "metadata": {
            "tags": []
          }
        }
      ]
    },
    {
      "cell_type": "code",
      "metadata": {
        "id": "BFUiOkz0iEm1"
      },
      "source": [
        "# best3, best4, ft3, ft4, st, st2\n",
        "#0.5766920212674094, 0.6403563353871861, 0.6638420759086465, 0.40644196566567514, 0.44542212801918063, 0.41351789128197\n",
        "dictionary = list(st3.get_topics().values())\n",
        "diction = dictionary[1:] #remove outlier topic\n",
        "p = 0\n",
        "final_t = []\n",
        "for i in range(len(diction)):\n",
        "  final_t.append([])\n",
        "\n",
        "for key in diction:\n",
        "    for i in key:\n",
        "        final_t[p].append(i[0])\n",
        "    p+=1"
      ],
      "execution_count": 94,
      "outputs": []
    },
    {
      "cell_type": "code",
      "metadata": {
        "id": "TPKuNcNBiTc9"
      },
      "source": [
        "from gensim.models.coherencemodel import CoherenceModel\n",
        "import gensim.corpora as corpora\n",
        "dictionary = corpora.Dictionary(for_embed)\n",
        "corpus = [dictionary.doc2bow(text) for text in for_embed]"
      ],
      "execution_count": 95,
      "outputs": []
    },
    {
      "cell_type": "code",
      "metadata": {
        "id": "oz3wByJ5Bja3"
      },
      "source": [
        "final_t"
      ],
      "execution_count": null,
      "outputs": []
    },
    {
      "cell_type": "code",
      "metadata": {
        "id": "5f2QAPpDiU-X"
      },
      "source": [
        "cm = CoherenceModel(topics=final_t, texts = for_embed, dictionary = dictionary, coherence='c_v')\n",
        "coherence = cm.get_coherence()\n",
        "coherence"
      ],
      "execution_count": null,
      "outputs": []
    },
    {
      "cell_type": "markdown",
      "metadata": {
        "id": "l96LoczPpXJa"
      },
      "source": [
        "# **Extra BERTopic**"
      ]
    },
    {
      "cell_type": "code",
      "metadata": {
        "id": "X09UG64QqO6f"
      },
      "source": [
        "u_mass = []\n",
        "flags = []\n",
        "for n, topic in enumerate(final_t):\n",
        "    try:\n",
        "        cm = CoherenceModel(topics=topic, texts = docs_coh, dictionary=dictionary, coherence='u_mass')\n",
        "        u_mass.append(cm.get_coherence())\n",
        "    except KeyError:\n",
        "        flags.append(n)"
      ],
      "execution_count": null,
      "outputs": []
    },
    {
      "cell_type": "code",
      "metadata": {
        "id": "ZWBgKf5hJum9"
      },
      "source": [
        "def find_docs(topic_id):\n",
        "    x = []\n",
        "    for idx, item in enumerate(top2):\n",
        "        if top2[idx]==topic_id:\n",
        "            x.append(idx)\n",
        "    return x"
      ],
      "execution_count": 1,
      "outputs": []
    },
    {
      "cell_type": "code",
      "metadata": {
        "id": "ZobAVmsEJ0hv",
        "colab": {
          "base_uri": "https://localhost:8080/",
          "height": 279
        },
        "outputId": "b9d85475-2def-4fab-8346-b65fac0fa1d8"
      },
      "source": [
        "found_docs = find_docs(3)"
      ],
      "execution_count": 2,
      "outputs": [
        {
          "output_type": "error",
          "ename": "NameError",
          "evalue": "ignored",
          "traceback": [
            "\u001b[0;31m---------------------------------------------------------------------------\u001b[0m",
            "\u001b[0;31mNameError\u001b[0m                                 Traceback (most recent call last)",
            "\u001b[0;32m<ipython-input-2-1aef7d1a4588>\u001b[0m in \u001b[0;36m<module>\u001b[0;34m()\u001b[0m\n\u001b[0;32m----> 1\u001b[0;31m \u001b[0mfound_docs\u001b[0m \u001b[0;34m=\u001b[0m \u001b[0mfind_docs\u001b[0m\u001b[0;34m(\u001b[0m\u001b[0;36m3\u001b[0m\u001b[0;34m)\u001b[0m\u001b[0;34m\u001b[0m\u001b[0;34m\u001b[0m\u001b[0m\n\u001b[0m",
            "\u001b[0;32m<ipython-input-1-0074e29e44c7>\u001b[0m in \u001b[0;36mfind_docs\u001b[0;34m(topic_id)\u001b[0m\n\u001b[1;32m      1\u001b[0m \u001b[0;32mdef\u001b[0m \u001b[0mfind_docs\u001b[0m\u001b[0;34m(\u001b[0m\u001b[0mtopic_id\u001b[0m\u001b[0;34m)\u001b[0m\u001b[0;34m:\u001b[0m\u001b[0;34m\u001b[0m\u001b[0;34m\u001b[0m\u001b[0m\n\u001b[1;32m      2\u001b[0m     \u001b[0mx\u001b[0m \u001b[0;34m=\u001b[0m \u001b[0;34m[\u001b[0m\u001b[0;34m]\u001b[0m\u001b[0;34m\u001b[0m\u001b[0;34m\u001b[0m\u001b[0m\n\u001b[0;32m----> 3\u001b[0;31m     \u001b[0;32mfor\u001b[0m \u001b[0midx\u001b[0m\u001b[0;34m,\u001b[0m \u001b[0mitem\u001b[0m \u001b[0;32min\u001b[0m \u001b[0menumerate\u001b[0m\u001b[0;34m(\u001b[0m\u001b[0mtop2\u001b[0m\u001b[0;34m)\u001b[0m\u001b[0;34m:\u001b[0m\u001b[0;34m\u001b[0m\u001b[0;34m\u001b[0m\u001b[0m\n\u001b[0m\u001b[1;32m      4\u001b[0m         \u001b[0;32mif\u001b[0m \u001b[0mtop2\u001b[0m\u001b[0;34m[\u001b[0m\u001b[0midx\u001b[0m\u001b[0;34m]\u001b[0m\u001b[0;34m==\u001b[0m\u001b[0mtopic_id\u001b[0m\u001b[0;34m:\u001b[0m\u001b[0;34m\u001b[0m\u001b[0;34m\u001b[0m\u001b[0m\n\u001b[1;32m      5\u001b[0m             \u001b[0mx\u001b[0m\u001b[0;34m.\u001b[0m\u001b[0mappend\u001b[0m\u001b[0;34m(\u001b[0m\u001b[0midx\u001b[0m\u001b[0;34m)\u001b[0m\u001b[0;34m\u001b[0m\u001b[0;34m\u001b[0m\u001b[0m\n",
            "\u001b[0;31mNameError\u001b[0m: name 'top2' is not defined"
          ]
        }
      ]
    },
    {
      "cell_type": "code",
      "metadata": {
        "id": "UbK3PVzBJ52T"
      },
      "source": [
        "for i in range(5):   \n",
        "    print(f\"Document: {found_docs[i]}\")\n",
        "    print(\"-----------\")\n",
        "    print(new_tokens[found_docs[i]]) \n",
        "    print(\"-----------\")\n",
        "    print()\n"
      ],
      "execution_count": null,
      "outputs": []
    },
    {
      "cell_type": "code",
      "metadata": {
        "id": "b5KKqwZdQHjT"
      },
      "source": [
        "best2.visualize_distribution(pro2[found_docs[1]])"
      ],
      "execution_count": null,
      "outputs": []
    }
  ]
}