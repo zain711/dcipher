{
  "nbformat": 4,
  "nbformat_minor": 0,
  "metadata": {
    "accelerator": "GPU",
    "colab": {
      "name": "vaccines.ipynb",
      "provenance": [],
      "collapsed_sections": [],
      "mount_file_id": "1GPIbPwxPpxNGOUjko1LIK9kKwWbDH8j1",
      "authorship_tag": "ABX9TyN9rs0IXjpfUo+eYDWvT7QK",
      "include_colab_link": true
    },
    "kernelspec": {
      "display_name": "Python 3",
      "name": "python3"
    }
  },
  "cells": [
    {
      "cell_type": "markdown",
      "metadata": {
        "id": "view-in-github",
        "colab_type": "text"
      },
      "source": [
        "<a href=\"https://colab.research.google.com/github/zain711/dcipher/blob/main/vaccines.ipynb\" target=\"_parent\"><img src=\"https://colab.research.google.com/assets/colab-badge.svg\" alt=\"Open In Colab\"/></a>"
      ]
    },
    {
      "cell_type": "code",
      "metadata": {
        "id": "YlgziJOrUNF3"
      },
      "source": [
        "!pip install bertopic\n",
        "!pip install bertopic[visualization]\n",
        "!pip install bert-extractive-summarizer\n",
        "!pip install plotly\n",
        "!pip install torch\n",
        "!pip install tensorflow\n",
        "!pip install flair"
      ],
      "execution_count": null,
      "outputs": []
    },
    {
      "cell_type": "code",
      "metadata": {
        "colab": {
          "base_uri": "https://localhost:8080/"
        },
        "id": "UFjXvWeXuPtk",
        "outputId": "d0c8f483-965a-4942-cbe1-f0992bddb2b3"
      },
      "source": [
        "import json\n",
        "import pandas as pd\n",
        "import torch\n",
        "from bertopic import BERTopic\n",
        "import os\n",
        "import nltk \n",
        "import numpy as np\n",
        "nltk.download('punkt')\n",
        "nltk.download('wordnet')\n",
        "from nltk.stem import PorterStemmer , WordNetLemmatizer\n",
        "from gensim.models import Word2Vec\n",
        "from gensim.models import KeyedVectors\n",
        "from nltk.tokenize import word_tokenize "
      ],
      "execution_count": 3,
      "outputs": [
        {
          "output_type": "stream",
          "text": [
            "[nltk_data] Downloading package punkt to /root/nltk_data...\n",
            "[nltk_data]   Unzipping tokenizers/punkt.zip.\n",
            "[nltk_data] Downloading package wordnet to /root/nltk_data...\n",
            "[nltk_data]   Unzipping corpora/wordnet.zip.\n"
          ],
          "name": "stdout"
        }
      ]
    },
    {
      "cell_type": "code",
      "metadata": {
        "colab": {
          "base_uri": "https://localhost:8080/"
        },
        "id": "_WNVrF84cK6Q",
        "outputId": "832dfd75-2567-4eed-ae88-113c375ce001"
      },
      "source": [
        "from google.colab import drive\n",
        "drive.mount('/content/drive')"
      ],
      "execution_count": 4,
      "outputs": [
        {
          "output_type": "stream",
          "text": [
            "Drive already mounted at /content/drive; to attempt to forcibly remount, call drive.mount(\"/content/drive\", force_remount=True).\n"
          ],
          "name": "stdout"
        }
      ]
    },
    {
      "cell_type": "markdown",
      "metadata": {
        "id": "_6HaRJ9xghaI"
      },
      "source": [
        "## **Preprocessing Text**"
      ]
    },
    {
      "cell_type": "code",
      "metadata": {
        "id": "BrgQM74lVkO9"
      },
      "source": [
        "data = pd.read_json('/content/drive/MyDrive/vaccine-forums-tokenized.json')\n",
        "#data.head(5)\n",
        "docs = list(data.loc[:, \"cleaned_post_text\"].values)\n",
        "times = list(data.loc[:, \"post_published_at\"].values)"
      ],
      "execution_count": 5,
      "outputs": []
    },
    {
      "cell_type": "code",
      "metadata": {
        "id": "trCNZV8_w2Tc"
      },
      "source": [
        "#lowercase all sentences\n",
        "docs_lower = [k.lower() for k in docs]"
      ],
      "execution_count": 6,
      "outputs": []
    },
    {
      "cell_type": "code",
      "metadata": {
        "id": "JDIOhyA80V_g"
      },
      "source": [
        "#tokenize and stemming the text\n",
        "wnl = WordNetLemmatizer()\n",
        "ps = PorterStemmer()\n",
        "docs_clean = []\n",
        "for text in docs_lower:\n",
        "    #me = word_tokenize(text)\n",
        "    docs_clean.append(\" \".join([ps.stem(i) for i in text.split()]))"
      ],
      "execution_count": 7,
      "outputs": []
    },
    {
      "cell_type": "code",
      "metadata": {
        "id": "jVfbLNsle_kg"
      },
      "source": [
        "tokens = list(data.loc[:, \"tokens\"].values)\n",
        "new_tokens = []\n",
        "sentences = []\n",
        "with_sw = []\n",
        "for i in tokens:\n",
        "  new_tokens.append(\" \".join([a.get('value') for a in i]))\n",
        "\n",
        "#split each token in each blog post by words\n",
        "for b in new_tokens:\n",
        "  sentences.append(b.split()) \n",
        "\n",
        "#split each blog post by words\n",
        "for c in docs_clean:\n",
        "  with_sw.append(c.split())"
      ],
      "execution_count": 8,
      "outputs": []
    },
    {
      "cell_type": "code",
      "metadata": {
        "id": "CUlhtzSUQNww"
      },
      "source": [
        "#clean times for topic evolution visualization\n",
        "clean_times = []\n",
        "for a in times:\n",
        "  ts = pd.to_datetime(str(a)) \n",
        "  d = ts.strftime('%Y.%m.%d')\n",
        "  clean_times.append(d)"
      ],
      "execution_count": 9,
      "outputs": []
    },
    {
      "cell_type": "markdown",
      "metadata": {
        "id": "lu57ziEmdCyw"
      },
      "source": [
        "# **Word2Vec Embeddings**"
      ]
    },
    {
      "cell_type": "code",
      "metadata": {
        "id": "-A2-RFjeAhn9"
      },
      "source": [
        "from gensim.models.callbacks import CallbackAny2Vec\n",
        "import matplotlib.pyplot as plt \n",
        "\n",
        "#calculate and graph loss of embeddings\n",
        "class callback(CallbackAny2Vec):\n",
        "    '''Callback to print loss after each epoch.'''\n",
        "    def __init__(self):\n",
        "        self.epoch = 0\n",
        "        self.loss_to_be_subed = 0\n",
        "        self.epochs = []\n",
        "        self.losses = []\n",
        "\n",
        "    def on_epoch_end(self, model):\n",
        "        plt.axis([0, 100, 0, 3000000])\n",
        "        loss = model.get_latest_training_loss()\n",
        "        loss_now = loss - self.loss_to_be_subed\n",
        "        self.loss_to_be_subed = loss\n",
        "        print('Loss after epoch {}: {}'.format(self.epoch, loss_now))\n",
        "        epochs = self.epoch\n",
        "        losses = loss_now\n",
        "        plt.plot(self.epoch, loss_now, '.r-')\n",
        "        self.epoch += 1\n",
        "        if (self.epoch == 100):\n",
        "           plt.show()"
      ],
      "execution_count": null,
      "outputs": []
    },
    {
      "cell_type": "code",
      "metadata": {
        "colab": {
          "base_uri": "https://localhost:8080/",
          "height": 1000
        },
        "id": "h_hkFbVwhHB7",
        "outputId": "cdeb1f90-a32a-4193-8f43-22c9a53027d0"
      },
      "source": [
        "model = Word2Vec(window = 5, min_count = 5)\n",
        "model.build_vocab(sentences)  # prepare the model vocabulary\n",
        "model.train(sentences, total_examples=model.corpus_count, epochs=100, compute_loss = True, callbacks=[callback()])"
      ],
      "execution_count": null,
      "outputs": [
        {
          "output_type": "stream",
          "text": [
            "Loss after epoch 0: 1176303.25\n",
            "Loss after epoch 1: 1004081.75\n",
            "Loss after epoch 2: 837091.75\n",
            "Loss after epoch 3: 832512.0\n",
            "Loss after epoch 4: 707407.75\n",
            "Loss after epoch 5: 752910.5\n",
            "Loss after epoch 6: 751432.5\n",
            "Loss after epoch 7: 649755.0\n",
            "Loss after epoch 8: 666546.0\n",
            "Loss after epoch 9: 666547.5\n",
            "Loss after epoch 10: 598360.0\n",
            "Loss after epoch 11: 609707.0\n",
            "Loss after epoch 12: 581277.0\n",
            "Loss after epoch 13: 575400.0\n",
            "Loss after epoch 14: 622902.0\n",
            "Loss after epoch 15: 556412.0\n",
            "Loss after epoch 16: 541484.0\n",
            "Loss after epoch 17: 581324.0\n",
            "Loss after epoch 18: 548504.0\n",
            "Loss after epoch 19: 550833.0\n",
            "Loss after epoch 20: 535772.0\n",
            "Loss after epoch 21: 600766.0\n",
            "Loss after epoch 22: 572512.0\n",
            "Loss after epoch 23: 609701.0\n",
            "Loss after epoch 24: 583319.0\n",
            "Loss after epoch 25: 516469.0\n",
            "Loss after epoch 26: 515696.0\n",
            "Loss after epoch 27: 512064.0\n",
            "Loss after epoch 28: 440328.0\n",
            "Loss after epoch 29: 485872.0\n",
            "Loss after epoch 30: 434914.0\n",
            "Loss after epoch 31: 425586.0\n",
            "Loss after epoch 32: 435552.0\n",
            "Loss after epoch 33: 409242.0\n",
            "Loss after epoch 34: 455944.0\n",
            "Loss after epoch 35: 435464.0\n",
            "Loss after epoch 36: 474410.0\n",
            "Loss after epoch 37: 434394.0\n",
            "Loss after epoch 38: 480924.0\n",
            "Loss after epoch 39: 417132.0\n",
            "Loss after epoch 40: 464150.0\n",
            "Loss after epoch 41: 452684.0\n",
            "Loss after epoch 42: 480858.0\n",
            "Loss after epoch 43: 408314.0\n",
            "Loss after epoch 44: 500048.0\n",
            "Loss after epoch 45: 467912.0\n",
            "Loss after epoch 46: 402394.0\n",
            "Loss after epoch 47: 413054.0\n",
            "Loss after epoch 48: 439004.0\n",
            "Loss after epoch 49: 446006.0\n",
            "Loss after epoch 50: 425812.0\n",
            "Loss after epoch 51: 389578.0\n",
            "Loss after epoch 52: 426264.0\n",
            "Loss after epoch 53: 476970.0\n",
            "Loss after epoch 54: 431180.0\n",
            "Loss after epoch 55: 417342.0\n",
            "Loss after epoch 56: 487472.0\n",
            "Loss after epoch 57: 397726.0\n",
            "Loss after epoch 58: 378456.0\n",
            "Loss after epoch 59: 368078.0\n",
            "Loss after epoch 60: 414206.0\n",
            "Loss after epoch 61: 415296.0\n",
            "Loss after epoch 62: 418620.0\n",
            "Loss after epoch 63: 257312.0\n",
            "Loss after epoch 64: 265584.0\n",
            "Loss after epoch 65: 251880.0\n",
            "Loss after epoch 66: 225800.0\n",
            "Loss after epoch 67: 231240.0\n",
            "Loss after epoch 68: 264160.0\n",
            "Loss after epoch 69: 225664.0\n",
            "Loss after epoch 70: 227352.0\n",
            "Loss after epoch 71: 228036.0\n",
            "Loss after epoch 72: 247928.0\n",
            "Loss after epoch 73: 211964.0\n",
            "Loss after epoch 74: 242208.0\n",
            "Loss after epoch 75: 250040.0\n",
            "Loss after epoch 76: 217172.0\n",
            "Loss after epoch 77: 211088.0\n",
            "Loss after epoch 78: 224528.0\n",
            "Loss after epoch 79: 215492.0\n",
            "Loss after epoch 80: 234512.0\n",
            "Loss after epoch 81: 215596.0\n",
            "Loss after epoch 82: 215772.0\n",
            "Loss after epoch 83: 230284.0\n",
            "Loss after epoch 84: 227536.0\n",
            "Loss after epoch 85: 228512.0\n",
            "Loss after epoch 86: 229804.0\n",
            "Loss after epoch 87: 196260.0\n",
            "Loss after epoch 88: 205464.0\n",
            "Loss after epoch 89: 222404.0\n",
            "Loss after epoch 90: 198732.0\n",
            "Loss after epoch 91: 190228.0\n",
            "Loss after epoch 92: 191588.0\n",
            "Loss after epoch 93: 217028.0\n",
            "Loss after epoch 94: 191632.0\n",
            "Loss after epoch 95: 181356.0\n",
            "Loss after epoch 96: 175048.0\n",
            "Loss after epoch 97: 187524.0\n",
            "Loss after epoch 98: 188608.0\n",
            "Loss after epoch 99: 184660.0\n"
          ],
          "name": "stdout"
        },
        {
          "output_type": "display_data",
          "data": {
            "image/png": "[encoded data removed]",
            "text/plain": [
              "<Figure size 432x288 with 1 Axes>"
            ]
          },
          "metadata": {
            "tags": [],
            "needs_background": "light"
          }
        },
        {
          "output_type": "execute_result",
          "data": {
            "text/plain": [
              "(135795018, 149836100)"
            ]
          },
          "metadata": {
            "tags": []
          },
          "execution_count": 30
        }
      ]
    },
    {
      "cell_type": "code",
      "metadata": {
        "id": "DaRppSUzewsa"
      },
      "source": [
        "#save word2vec embeddings for model training\n",
        "word_vectors = model.wv\n",
        "word_vectors.save(\"/content/drive/My Drive/word2vec_tokenup\")"
      ],
      "execution_count": null,
      "outputs": []
    },
    {
      "cell_type": "code",
      "metadata": {
        "id": "NUNIGjWLep_t"
      },
      "source": [
        "#word2vec_tokenup 100 epochs with sentences (only token embeddings)\n",
        "#word2vec_100e 100 epochs with with_sw (with stop words)"
      ],
      "execution_count": null,
      "outputs": []
    },
    {
      "cell_type": "code",
      "metadata": {
        "id": "Jaw6XNSfhch-"
      },
      "source": [
        "from flair.embeddings import WordEmbeddings, DocumentPoolEmbeddings\n",
        "\n",
        "glove_embedding = WordEmbeddings(\"/content/drive/My Drive/word2vec_tokenup\")\n",
        "document_glove_embeddings = DocumentPoolEmbeddings([glove_embedding])"
      ],
      "execution_count": 10,
      "outputs": []
    },
    {
      "cell_type": "code",
      "metadata": {
        "id": "s0GjAuJmiici"
      },
      "source": [
        "#this model recommends training with 50 topics or above\n",
        "topic_model = BERTopic(nr_topics = 5, calculate_probabilities = True, embedding_model = document_glove_embeddings)"
      ],
      "execution_count": 98,
      "outputs": []
    },
    {
      "cell_type": "code",
      "metadata": {
        "colab": {
          "base_uri": "https://localhost:8080/"
        },
        "id": "TFH87qzXij28",
        "outputId": "1abb42d0-8a48-4f0d-98b9-1ae644ee161d"
      },
      "source": [
        "topics, probabilities = topic_model.fit_transform(docs_clean) "
      ],
      "execution_count": 99,
      "outputs": [
        {
          "output_type": "stream",
          "text": [
            "/usr/local/lib/python3.7/dist-packages/umap/umap_.py:126: UserWarning:\n",
            "\n",
            "A few of your vertices were disconnected from the manifold.  This shouldn't cause problems.\n",
            "Disconnection_distance = 1 has removed 70 edges.\n",
            "It has only fully disconnected 1 vertices.\n",
            "Use umap.utils.disconnected_vertices() to identify them.\n",
            "\n"
          ],
          "name": "stderr"
        }
      ]
    },
    {
      "cell_type": "code",
      "metadata": {
        "id": "sjat9bkjkZRm"
      },
      "source": [
        "topic_model.get_topic_freq().head(10)"
      ],
      "execution_count": null,
      "outputs": []
    },
    {
      "cell_type": "code",
      "metadata": {
        "id": "eVf0ILuNg2GW"
      },
      "source": [
        "#remove stop words and change n-gram range\n",
        "from sklearn.feature_extraction.text import CountVectorizer\n",
        "cv = CountVectorizer(ngram_range=(1, 2), stop_words=\"english\")\n",
        "\n",
        "topic_model.update_topics(new_tokens, topics, vectorizer_model=cv)"
      ],
      "execution_count": 101,
      "outputs": []
    },
    {
      "cell_type": "code",
      "metadata": {
        "id": "AtoqHl5ZfHyz"
      },
      "source": [
        "topic_model.get_topic_freq().head(10)"
      ],
      "execution_count": null,
      "outputs": []
    },
    {
      "cell_type": "code",
      "metadata": {
        "id": "GrmnuZP0Z6_G"
      },
      "source": [
        "topic_model.save('/content/drive/My Drive/word2vec_10')"
      ],
      "execution_count": 96,
      "outputs": []
    },
    {
      "cell_type": "code",
      "metadata": {
        "id": "BtU-iNuGXsvt"
      },
      "source": [
        "np.save('/content/drive/My Drive/topic_10', topics)\n",
        "np.save('/content/drive/My Drive/prob_10', probabilities)"
      ],
      "execution_count": 97,
      "outputs": []
    },
    {
      "cell_type": "code",
      "metadata": {
        "id": "7lzKXGVujTjn"
      },
      "source": [
        "# ALL FITTED TO DOCS_CLEAN\n",
        "#word2vec_tokenmodel50topic without stopwords and n-gram 1,1\n",
        "   #topic_w2v_1ng\n",
        "   #prob_w2v_1ng\n",
        "\n",
        "#word2vec_token_ngram2 without stopwards and n-gram 1,3 also 50 topics\n",
        "   #prob_w2v_2ng\n",
        "   #topic_w2v_2ng\n",
        "\n",
        "#word2vec_10 is without stopwards and n-gram 1, 2 with 10 topics\n",
        "   #prob_10\n",
        "   #topic_10\n",
        "\n",
        "# FITTED TO NEW_TOKENS\n",
        "# word2vec_token_15 n-gram 1,2 with 15 topics\n",
        "  #topic_w2v_15\n",
        "  #prob_w2v_15\n",
        "\n",
        "# word2vec_token_10 n-gram 1,2 with 10 topics\n",
        "  #topic_w2v_10\n",
        "  #prob_w2v_10"
      ],
      "execution_count": null,
      "outputs": []
    },
    {
      "cell_type": "markdown",
      "metadata": {
        "id": "20wmDm3oqbgv"
      },
      "source": [
        "# **W2V ANALYSIS**"
      ]
    },
    {
      "cell_type": "code",
      "metadata": {
        "id": "JFyS8YHRVACr"
      },
      "source": [
        "best = BERTopic.load('/content/drive/My Drive/word2vec_10')"
      ],
      "execution_count": 108,
      "outputs": []
    },
    {
      "cell_type": "code",
      "metadata": {
        "id": "c4iiD-ukVKhv"
      },
      "source": [
        "top = np.load('/content/drive/My Drive/topic_10.npy')\n",
        "pro = np.load('/content/drive/My Drive/prob_10.npy')"
      ],
      "execution_count": 110,
      "outputs": []
    },
    {
      "cell_type": "code",
      "metadata": {
        "id": "7r2MLei8Bv-a"
      },
      "source": [
        "topics_over_time = best.topics_over_time(docs_clean, top, clean_times, evolution_tuning = True,\n",
        "                         global_tuning = False)"
      ],
      "execution_count": 157,
      "outputs": []
    },
    {
      "cell_type": "code",
      "metadata": {
        "colab": {
          "base_uri": "https://localhost:8080/",
          "height": 467
        },
        "id": "PIiGk-T0BzMd",
        "outputId": "533050ac-3fdf-421e-bdce-8f28305b3e85"
      },
      "source": [
        "best.visualize_topics_over_time(topics_over_time, top_n=5) #fitted to docs_clean"
      ],
      "execution_count": 158,
      "outputs": [
        {
          "output_type": "display_data",
          "data": {
            "text/html": [
              "<html>\n",
              "<head><meta charset=\"utf-8\" /></head>\n",
              "<body>\n",
              "    <div>            <script src=\"https://cdnjs.cloudflare.com/ajax/libs/mathjax/2.7.5/MathJax.js?config=TeX-AMS-MML_SVG\"></script><script type=\"text/javascript\">if (window.MathJax) {MathJax.Hub.Config({SVG: {font: \"STIX-Web\"}});}</script>                <script type=\"text/javascript\">window.PlotlyConfig = {MathJaxConfig: 'local'};</script>\n",
              "        <script src=\"https://cdn.plot.ly/plotly-latest.min.js\"></script>                <div id=\"cc58e508-5b78-4b5e-a7b2-d3753c5a93b1\" class=\"plotly-graph-div\" style=\"height:450px; width:1250px;\"></div>            <script type=\"text/javascript\">                                    window.PLOTLYENV=window.PLOTLYENV || {};                                    if (document.getElementById(\"cc58e508-5b78-4b5e-a7b2-d3753c5a93b1\")) {                    Plotly.newPlot(                        \"cc58e508-5b78-4b5e-a7b2-d3753c5a93b1\",                        [{\"hoverinfo\": \"text\", \"hovertext\": [\"<b>Topic 142</b><br>Words: dan, vaccin, wrote, hi, wrote yesterday\", \"<b>Topic 142</b><br>Words: thi, disney, covid, mask, world\", \"<b>Topic 142</b><br>Words: wa, florida, tri, hi, home\", \"<b>Topic 142</b><br>Words: son, hi, covid, want, game\", \"<b>Topic 142</b><br>Words: travel, ship, think, nz, like\", \"<b>Topic 142</b><br>Words: time, normal, lock, year, hope\", \"<b>Topic 142</b><br>Words: pregnant, mask, just, student, start rest\", \"<b>Topic 142</b><br>Words: just, lock, covid, want, hi\", \"<b>Topic 142</b><br>Words: thi, covid, work, day, pregnant\", \"<b>Topic 142</b><br>Words: ppe, pt come, swab anyways, ppe pt, ed swab\", \"<b>Topic 142</b><br>Words: ha, got, hi, feel, work\", \"<b>Topic 142</b><br>Words: thi, covid, friend, work, want\", \"<b>Topic 142</b><br>Words: covid, got, think, work, pregnant\"], \"marker\": {\"color\": \"#E69F00\"}, \"mode\": \"lines\", \"name\": \"142_covid_people_work_time\", \"type\": \"scatter\", \"x\": [\"2020-09-28T00:00:00\", \"2020-09-29T00:00:00\", \"2020-09-30T00:00:00\", \"2020-10-29T00:00:00\", \"2020-10-30T00:00:00\", \"2020-10-31T00:00:00\", \"2020-11-29T00:00:00\", \"2020-11-30T00:00:00\", \"2020-12-31T00:00:00\", \"2021-01-30T00:00:00\", \"2021-01-31T00:00:00\", \"2021-02-27T00:00:00\", \"2021-02-28T00:00:00\"], \"y\": [22, 78, 35, 48, 29, 39, 17, 93, 151, 3, 114, 54, 101]}, {\"hoverinfo\": \"text\", \"hovertext\": [\"<b>Topic 198</b><br>Words: musk, hi, covid 19, 19, hysteria\", \"<b>Topic 198</b><br>Words: musk, hi, covid 19, 19, gate\", \"<b>Topic 198</b><br>Words: musk, elon, elon musk, swisher, kara swisher\", \"<b>Topic 198</b><br>Words: rogan, infect, podcast, number, year\", \"<b>Topic 198</b><br>Words: vaccin, flu, covid, covid 19, 19\", \"<b>Topic 198</b><br>Words: covid, trial, data, infections, effect\", \"<b>Topic 198</b><br>Words: covid 19, covid, 19, group, placebo\", \"<b>Topic 198</b><br>Words: covid, case, covid 19, trial, placebo\", \"<b>Topic 198</b><br>Words: dose, pfizer, 12 week, week, 12\", \"<b>Topic 198</b><br>Words: size, lynch, test, 19, covid 19\", \"<b>Topic 198</b><br>Words: eu, covid 19, covid, 19, uk\", \"<b>Topic 198</b><br>Words: effect, covid 19, variant, 19, pfizer\", \"<b>Topic 198</b><br>Words: covid, covid 19, 19, variant, dose\"], \"marker\": {\"color\": \"#56B4E9\"}, \"mode\": \"lines\", \"name\": \"198_vaccine_dose_pfizer_covid\", \"type\": \"scatter\", \"x\": [\"2020-09-28T00:00:00\", \"2020-09-29T00:00:00\", \"2020-09-30T00:00:00\", \"2020-10-29T00:00:00\", \"2020-10-30T00:00:00\", \"2020-10-31T00:00:00\", \"2020-11-29T00:00:00\", \"2020-11-30T00:00:00\", \"2020-12-31T00:00:00\", \"2021-01-30T00:00:00\", \"2021-01-31T00:00:00\", \"2021-02-27T00:00:00\", \"2021-02-28T00:00:00\"], \"y\": [48, 92, 65, 44, 48, 44, 33, 237, 434, 26, 401, 75, 209]}, {\"hoverinfo\": \"text\", \"hovertext\": [\"<b>Topic 236</b><br>Words: kid, kid 15, kids, just, stay\", \"<b>Topic 236</b><br>Words: lockdown, mask, wear, wear mask, want\", \"<b>Topic 236</b><br>Words: know, covid 19, post, covid, 19\", \"<b>Topic 236</b><br>Words: mask, wear, wear mask, cdc, flu\", \"<b>Topic 236</b><br>Words: covid, covid 19, 30 2020, 19, infect\", \"<b>Topic 236</b><br>Words: live, lockdown, life, covid, 80\", \"<b>Topic 236</b><br>Words: school, public school, viewpoint, public, covid\", \"<b>Topic 236</b><br>Words: covid, like, quoting, covid 19, 19\", \"<b>Topic 236</b><br>Words: thi, mask, wear, hi, wear mask\", \"<b>Topic 236</b><br>Words: district, nm, school, thi, friend\", \"<b>Topic 236</b><br>Words: mask, ha, dont, wear, read\", \"<b>Topic 236</b><br>Words: hate, jewish, ram, ram fan, la ram\", \"<b>Topic 236</b><br>Words: ha, covid, idea, like, quote\"], \"marker\": {\"color\": \"#009E73\"}, \"mode\": \"lines\", \"name\": \"236_people_know_covid_like\", \"type\": \"scatter\", \"x\": [\"2020-09-28T00:00:00\", \"2020-09-29T00:00:00\", \"2020-09-30T00:00:00\", \"2020-10-29T00:00:00\", \"2020-10-30T00:00:00\", \"2020-10-31T00:00:00\", \"2020-11-29T00:00:00\", \"2020-11-30T00:00:00\", \"2020-12-31T00:00:00\", \"2021-01-30T00:00:00\", \"2021-01-31T00:00:00\", \"2021-02-27T00:00:00\", \"2021-02-28T00:00:00\"], \"y\": [77, 95, 71, 110, 74, 83, 24, 153, 203, 5, 116, 47, 130]}, {\"hoverinfo\": \"text\", \"hovertext\": [\"<b>Topic 260</b><br>Words: redfield, nbc, nbc news, dr, news\", \"<b>Topic 260</b><br>Words: trump, biden, white race, democrat, white\", \"<b>Topic 260</b><br>Words: trump, biden, said, don, fuck\", \"<b>Topic 260</b><br>Words: trump, quoting, coward, link secure, donald trump\", \"<b>Topic 260</b><br>Words: trump, american, democrat, tax, biden\", \"<b>Topic 260</b><br>Words: trump, white, buffoon white, buffoon, quoting\", \"<b>Topic 260</b><br>Words: trump, bartiromo, fraud, suggest fbi, fbi\", \"<b>Topic 260</b><br>Words: trump, market, biden, elect, stand\", \"<b>Topic 260</b><br>Words: trump, state, biden, republican, statement action\", \"<b>Topic 260</b><br>Words: biden, trump, covid 19, 19, biden ha\", \"<b>Topic 260</b><br>Words: biden, million, state, dose, just\", \"<b>Topic 260</b><br>Words: trump, american, biden, america, republican\", \"<b>Topic 260</b><br>Words: biden, trump, warp speed, warp, speed\"], \"marker\": {\"color\": \"#F0E442\"}, \"mode\": \"lines\", \"name\": \"260_trump_biden_president_administration\", \"type\": \"scatter\", \"x\": [\"2020-09-28T00:00:00\", \"2020-09-29T00:00:00\", \"2020-09-30T00:00:00\", \"2020-10-29T00:00:00\", \"2020-10-30T00:00:00\", \"2020-10-31T00:00:00\", \"2020-11-29T00:00:00\", \"2020-11-30T00:00:00\", \"2020-12-31T00:00:00\", \"2021-01-30T00:00:00\", \"2021-01-31T00:00:00\", \"2021-02-27T00:00:00\", \"2021-02-28T00:00:00\"], \"y\": [21, 49, 54, 73, 38, 58, 13, 61, 91, 6, 178, 22, 61]}, {\"hoverinfo\": \"text\", \"hovertext\": [\"<b>Topic 328</b><br>Words: flu shot, shot flu, flu, covid test, fever\", \"<b>Topic 328</b><br>Words: flu, flu jab, jab, shot, shot flu\", \"<b>Topic 328</b><br>Words: fever, sore, usual sore, lchoro effect, effect nasal\", \"<b>Topic 328</b><br>Words: day, meme day, hear buzz, cough hope, dev day\", \"<b>Topic 328</b><br>Words: titer, child vax, ask titer, shock fever, polio hib\", \"<b>Topic 328</b><br>Words: shingrix, got, day, minutes expect, pneumonia week\", \"<b>Topic 328</b><br>Words: shot, fever, effect, feel, sore\", \"<b>Topic 328</b><br>Words: arm, sore, day, sore arm, shot\", \"<b>Topic 328</b><br>Words: sore, pfizer, shot, second, arm\", \"<b>Topic 328</b><br>Words: arm, sore, jab, day, shot\", \"<b>Topic 328</b><br>Words: sore, arm, second, dose, shot\", \"<b>Topic 328</b><br>Words: arm, sore, dose, sore arm, second\"], \"marker\": {\"color\": \"#D55E00\"}, \"mode\": \"lines\", \"name\": \"328_arm_sore_sore arm_shot\", \"type\": \"scatter\", \"x\": [\"2020-09-28T00:00:00\", \"2020-09-29T00:00:00\", \"2020-09-30T00:00:00\", \"2020-10-29T00:00:00\", \"2020-10-30T00:00:00\", \"2020-10-31T00:00:00\", \"2020-11-30T00:00:00\", \"2020-12-31T00:00:00\", \"2021-01-30T00:00:00\", \"2021-01-31T00:00:00\", \"2021-02-27T00:00:00\", \"2021-02-28T00:00:00\"], \"y\": [6, 5, 3, 9, 8, 3, 25, 86, 7, 162, 91, 227]}],                        {\"height\": 450, \"hoverlabel\": {\"bgcolor\": \"white\", \"font\": {\"family\": \"Rockwell\", \"size\": 16}}, \"legend\": {\"title\": {\"text\": \"<b>Global Topic Representation\"}}, \"template\": {\"data\": {\"bar\": [{\"error_x\": {\"color\": \"rgb(36,36,36)\"}, \"error_y\": {\"color\": \"rgb(36,36,36)\"}, \"marker\": {\"line\": {\"color\": \"white\", \"width\": 0.5}}, \"type\": \"bar\"}], \"barpolar\": [{\"marker\": {\"line\": {\"color\": \"white\", \"width\": 0.5}}, \"type\": \"barpolar\"}], \"carpet\": [{\"aaxis\": {\"endlinecolor\": \"rgb(36,36,36)\", \"gridcolor\": \"white\", \"linecolor\": \"white\", \"minorgridcolor\": \"white\", \"startlinecolor\": \"rgb(36,36,36)\"}, \"baxis\": {\"endlinecolor\": \"rgb(36,36,36)\", \"gridcolor\": \"white\", \"linecolor\": \"white\", \"minorgridcolor\": \"white\", \"startlinecolor\": \"rgb(36,36,36)\"}, \"type\": \"carpet\"}], \"choropleth\": [{\"colorbar\": {\"outlinewidth\": 1, \"tickcolor\": \"rgb(36,36,36)\", \"ticks\": \"outside\"}, \"type\": \"choropleth\"}], \"contour\": [{\"colorbar\": {\"outlinewidth\": 1, \"tickcolor\": \"rgb(36,36,36)\", \"ticks\": \"outside\"}, \"colorscale\": [[0.0, \"#440154\"], [0.1111111111111111, \"#482878\"], [0.2222222222222222, \"#3e4989\"], [0.3333333333333333, \"#31688e\"], [0.4444444444444444, \"#26828e\"], [0.5555555555555556, \"#1f9e89\"], [0.6666666666666666, \"#35b779\"], [0.7777777777777778, \"#6ece58\"], [0.8888888888888888, \"#b5de2b\"], [1.0, \"#fde725\"]], \"type\": \"contour\"}], \"contourcarpet\": [{\"colorbar\": {\"outlinewidth\": 1, \"tickcolor\": \"rgb(36,36,36)\", \"ticks\": \"outside\"}, \"type\": \"contourcarpet\"}], \"heatmap\": [{\"colorbar\": {\"outlinewidth\": 1, \"tickcolor\": \"rgb(36,36,36)\", \"ticks\": \"outside\"}, \"colorscale\": [[0.0, \"#440154\"], [0.1111111111111111, \"#482878\"], [0.2222222222222222, \"#3e4989\"], [0.3333333333333333, \"#31688e\"], [0.4444444444444444, \"#26828e\"], [0.5555555555555556, \"#1f9e89\"], [0.6666666666666666, \"#35b779\"], [0.7777777777777778, \"#6ece58\"], [0.8888888888888888, \"#b5de2b\"], [1.0, \"#fde725\"]], \"type\": \"heatmap\"}], \"heatmapgl\": [{\"colorbar\": {\"outlinewidth\": 1, \"tickcolor\": \"rgb(36,36,36)\", \"ticks\": \"outside\"}, \"colorscale\": [[0.0, \"#440154\"], [0.1111111111111111, \"#482878\"], [0.2222222222222222, \"#3e4989\"], [0.3333333333333333, \"#31688e\"], [0.4444444444444444, \"#26828e\"], [0.5555555555555556, \"#1f9e89\"], [0.6666666666666666, \"#35b779\"], [0.7777777777777778, \"#6ece58\"], [0.8888888888888888, \"#b5de2b\"], [1.0, \"#fde725\"]], \"type\": \"heatmapgl\"}], \"histogram\": [{\"marker\": {\"line\": {\"color\": \"white\", \"width\": 0.6}}, \"type\": \"histogram\"}], \"histogram2d\": [{\"colorbar\": {\"outlinewidth\": 1, \"tickcolor\": \"rgb(36,36,36)\", \"ticks\": \"outside\"}, \"colorscale\": [[0.0, \"#440154\"], [0.1111111111111111, \"#482878\"], [0.2222222222222222, \"#3e4989\"], [0.3333333333333333, \"#31688e\"], [0.4444444444444444, \"#26828e\"], [0.5555555555555556, \"#1f9e89\"], [0.6666666666666666, \"#35b779\"], [0.7777777777777778, \"#6ece58\"], [0.8888888888888888, \"#b5de2b\"], [1.0, \"#fde725\"]], \"type\": \"histogram2d\"}], \"histogram2dcontour\": [{\"colorbar\": {\"outlinewidth\": 1, \"tickcolor\": \"rgb(36,36,36)\", \"ticks\": \"outside\"}, \"colorscale\": [[0.0, \"#440154\"], [0.1111111111111111, \"#482878\"], [0.2222222222222222, \"#3e4989\"], [0.3333333333333333, \"#31688e\"], [0.4444444444444444, \"#26828e\"], [0.5555555555555556, \"#1f9e89\"], [0.6666666666666666, \"#35b779\"], [0.7777777777777778, \"#6ece58\"], [0.8888888888888888, \"#b5de2b\"], [1.0, \"#fde725\"]], \"type\": \"histogram2dcontour\"}], \"mesh3d\": [{\"colorbar\": {\"outlinewidth\": 1, \"tickcolor\": \"rgb(36,36,36)\", \"ticks\": \"outside\"}, \"type\": \"mesh3d\"}], \"parcoords\": [{\"line\": {\"colorbar\": {\"outlinewidth\": 1, \"tickcolor\": \"rgb(36,36,36)\", \"ticks\": \"outside\"}}, \"type\": \"parcoords\"}], \"pie\": [{\"automargin\": true, \"type\": \"pie\"}], \"scatter\": [{\"marker\": {\"colorbar\": {\"outlinewidth\": 1, \"tickcolor\": \"rgb(36,36,36)\", \"ticks\": \"outside\"}}, \"type\": \"scatter\"}], \"scatter3d\": [{\"line\": {\"colorbar\": {\"outlinewidth\": 1, \"tickcolor\": \"rgb(36,36,36)\", \"ticks\": \"outside\"}}, \"marker\": {\"colorbar\": {\"outlinewidth\": 1, \"tickcolor\": \"rgb(36,36,36)\", \"ticks\": \"outside\"}}, \"type\": \"scatter3d\"}], \"scattercarpet\": [{\"marker\": {\"colorbar\": {\"outlinewidth\": 1, \"tickcolor\": \"rgb(36,36,36)\", \"ticks\": \"outside\"}}, \"type\": \"scattercarpet\"}], \"scattergeo\": [{\"marker\": {\"colorbar\": {\"outlinewidth\": 1, \"tickcolor\": \"rgb(36,36,36)\", \"ticks\": \"outside\"}}, \"type\": \"scattergeo\"}], \"scattergl\": [{\"marker\": {\"colorbar\": {\"outlinewidth\": 1, \"tickcolor\": \"rgb(36,36,36)\", \"ticks\": \"outside\"}}, \"type\": \"scattergl\"}], \"scattermapbox\": [{\"marker\": {\"colorbar\": {\"outlinewidth\": 1, \"tickcolor\": \"rgb(36,36,36)\", \"ticks\": \"outside\"}}, \"type\": \"scattermapbox\"}], \"scatterpolar\": [{\"marker\": {\"colorbar\": {\"outlinewidth\": 1, \"tickcolor\": \"rgb(36,36,36)\", \"ticks\": \"outside\"}}, \"type\": \"scatterpolar\"}], \"scatterpolargl\": [{\"marker\": {\"colorbar\": {\"outlinewidth\": 1, \"tickcolor\": \"rgb(36,36,36)\", \"ticks\": \"outside\"}}, \"type\": \"scatterpolargl\"}], \"scatterternary\": [{\"marker\": {\"colorbar\": {\"outlinewidth\": 1, \"tickcolor\": \"rgb(36,36,36)\", \"ticks\": \"outside\"}}, \"type\": \"scatterternary\"}], \"surface\": [{\"colorbar\": {\"outlinewidth\": 1, \"tickcolor\": \"rgb(36,36,36)\", \"ticks\": \"outside\"}, \"colorscale\": [[0.0, \"#440154\"], [0.1111111111111111, \"#482878\"], [0.2222222222222222, \"#3e4989\"], [0.3333333333333333, \"#31688e\"], [0.4444444444444444, \"#26828e\"], [0.5555555555555556, \"#1f9e89\"], [0.6666666666666666, \"#35b779\"], [0.7777777777777778, \"#6ece58\"], [0.8888888888888888, \"#b5de2b\"], [1.0, \"#fde725\"]], \"type\": \"surface\"}], \"table\": [{\"cells\": {\"fill\": {\"color\": \"rgb(237,237,237)\"}, \"line\": {\"color\": \"white\"}}, \"header\": {\"fill\": {\"color\": \"rgb(217,217,217)\"}, \"line\": {\"color\": \"white\"}}, \"type\": \"table\"}]}, \"layout\": {\"annotationdefaults\": {\"arrowhead\": 0, \"arrowwidth\": 1}, \"autotypenumbers\": \"strict\", \"coloraxis\": {\"colorbar\": {\"outlinewidth\": 1, \"tickcolor\": \"rgb(36,36,36)\", \"ticks\": \"outside\"}}, \"colorscale\": {\"diverging\": [[0.0, \"rgb(103,0,31)\"], [0.1, \"rgb(178,24,43)\"], [0.2, \"rgb(214,96,77)\"], [0.3, \"rgb(244,165,130)\"], [0.4, \"rgb(253,219,199)\"], [0.5, \"rgb(247,247,247)\"], [0.6, \"rgb(209,229,240)\"], [0.7, \"rgb(146,197,222)\"], [0.8, \"rgb(67,147,195)\"], [0.9, \"rgb(33,102,172)\"], [1.0, \"rgb(5,48,97)\"]], \"sequential\": [[0.0, \"#440154\"], [0.1111111111111111, \"#482878\"], [0.2222222222222222, \"#3e4989\"], [0.3333333333333333, \"#31688e\"], [0.4444444444444444, \"#26828e\"], [0.5555555555555556, \"#1f9e89\"], [0.6666666666666666, \"#35b779\"], [0.7777777777777778, \"#6ece58\"], [0.8888888888888888, \"#b5de2b\"], [1.0, \"#fde725\"]], \"sequentialminus\": [[0.0, \"#440154\"], [0.1111111111111111, \"#482878\"], [0.2222222222222222, \"#3e4989\"], [0.3333333333333333, \"#31688e\"], [0.4444444444444444, \"#26828e\"], [0.5555555555555556, \"#1f9e89\"], [0.6666666666666666, \"#35b779\"], [0.7777777777777778, \"#6ece58\"], [0.8888888888888888, \"#b5de2b\"], [1.0, \"#fde725\"]]}, \"colorway\": [\"#1F77B4\", \"#FF7F0E\", \"#2CA02C\", \"#D62728\", \"#9467BD\", \"#8C564B\", \"#E377C2\", \"#7F7F7F\", \"#BCBD22\", \"#17BECF\"], \"font\": {\"color\": \"rgb(36,36,36)\"}, \"geo\": {\"bgcolor\": \"white\", \"lakecolor\": \"white\", \"landcolor\": \"white\", \"showlakes\": true, \"showland\": true, \"subunitcolor\": \"white\"}, \"hoverlabel\": {\"align\": \"left\"}, \"hovermode\": \"closest\", \"mapbox\": {\"style\": \"light\"}, \"paper_bgcolor\": \"white\", \"plot_bgcolor\": \"white\", \"polar\": {\"angularaxis\": {\"gridcolor\": \"rgb(232,232,232)\", \"linecolor\": \"rgb(36,36,36)\", \"showgrid\": false, \"showline\": true, \"ticks\": \"outside\"}, \"bgcolor\": \"white\", \"radialaxis\": {\"gridcolor\": \"rgb(232,232,232)\", \"linecolor\": \"rgb(36,36,36)\", \"showgrid\": false, \"showline\": true, \"ticks\": \"outside\"}}, \"scene\": {\"xaxis\": {\"backgroundcolor\": \"white\", \"gridcolor\": \"rgb(232,232,232)\", \"gridwidth\": 2, \"linecolor\": \"rgb(36,36,36)\", \"showbackground\": true, \"showgrid\": false, \"showline\": true, \"ticks\": \"outside\", \"zeroline\": false, \"zerolinecolor\": \"rgb(36,36,36)\"}, \"yaxis\": {\"backgroundcolor\": \"white\", \"gridcolor\": \"rgb(232,232,232)\", \"gridwidth\": 2, \"linecolor\": \"rgb(36,36,36)\", \"showbackground\": true, \"showgrid\": false, \"showline\": true, \"ticks\": \"outside\", \"zeroline\": false, \"zerolinecolor\": \"rgb(36,36,36)\"}, \"zaxis\": {\"backgroundcolor\": \"white\", \"gridcolor\": \"rgb(232,232,232)\", \"gridwidth\": 2, \"linecolor\": \"rgb(36,36,36)\", \"showbackground\": true, \"showgrid\": false, \"showline\": true, \"ticks\": \"outside\", \"zeroline\": false, \"zerolinecolor\": \"rgb(36,36,36)\"}}, \"shapedefaults\": {\"fillcolor\": \"black\", \"line\": {\"width\": 0}, \"opacity\": 0.3}, \"ternary\": {\"aaxis\": {\"gridcolor\": \"rgb(232,232,232)\", \"linecolor\": \"rgb(36,36,36)\", \"showgrid\": false, \"showline\": true, \"ticks\": \"outside\"}, \"baxis\": {\"gridcolor\": \"rgb(232,232,232)\", \"linecolor\": \"rgb(36,36,36)\", \"showgrid\": false, \"showline\": true, \"ticks\": \"outside\"}, \"bgcolor\": \"white\", \"caxis\": {\"gridcolor\": \"rgb(232,232,232)\", \"linecolor\": \"rgb(36,36,36)\", \"showgrid\": false, \"showline\": true, \"ticks\": \"outside\"}}, \"title\": {\"x\": 0.05}, \"xaxis\": {\"automargin\": true, \"gridcolor\": \"rgb(232,232,232)\", \"linecolor\": \"rgb(36,36,36)\", \"showgrid\": false, \"showline\": true, \"ticks\": \"outside\", \"title\": {\"standoff\": 15}, \"zeroline\": false, \"zerolinecolor\": \"rgb(36,36,36)\"}, \"yaxis\": {\"automargin\": true, \"gridcolor\": \"rgb(232,232,232)\", \"linecolor\": \"rgb(36,36,36)\", \"showgrid\": false, \"showline\": true, \"ticks\": \"outside\", \"title\": {\"standoff\": 15}, \"zeroline\": false, \"zerolinecolor\": \"rgb(36,36,36)\"}}}, \"title\": {\"font\": {\"color\": \"Black\", \"size\": 22}, \"text\": \"<b>Topics over Time\", \"x\": 0.4, \"xanchor\": \"center\", \"y\": 0.95, \"yanchor\": \"top\"}, \"width\": 1250, \"xaxis\": {\"showgrid\": true}, \"yaxis\": {\"showgrid\": true, \"title\": {\"text\": \"Frequency\"}}},                        {\"responsive\": true}                    ).then(function(){\n",
              "                            \n",
              "var gd = document.getElementById('cc58e508-5b78-4b5e-a7b2-d3753c5a93b1');\n",
              "var x = new MutationObserver(function (mutations, observer) {{\n",
              "        var display = window.getComputedStyle(gd).display;\n",
              "        if (!display || display === 'none') {{\n",
              "            console.log([gd, 'removed!']);\n",
              "            Plotly.purge(gd);\n",
              "            observer.disconnect();\n",
              "        }}\n",
              "}});\n",
              "\n",
              "// Listen for the removal of the full notebook cells\n",
              "var notebookContainer = gd.closest('#notebook-container');\n",
              "if (notebookContainer) {{\n",
              "    x.observe(notebookContainer, {childList: true});\n",
              "}}\n",
              "\n",
              "// Listen for the clearing of the current output cell\n",
              "var outputEl = gd.closest('.output');\n",
              "if (outputEl) {{\n",
              "    x.observe(outputEl, {childList: true});\n",
              "}}\n",
              "\n",
              "                        })                };                            </script>        </div>\n",
              "</body>\n",
              "</html>"
            ]
          },
          "metadata": {
            "tags": []
          }
        }
      ]
    },
    {
      "cell_type": "code",
      "metadata": {
        "colab": {
          "base_uri": "https://localhost:8080/",
          "height": 393
        },
        "id": "soai9K0Unp09",
        "outputId": "f3a252d9-1f75-485d-be46-5fe8ffe7f952"
      },
      "source": [
        "best.visualize_distribution(pro[3])"
      ],
      "execution_count": 199,
      "outputs": [
        {
          "output_type": "display_data",
          "data": {
            "image/png": "[encoded data removed]",
            "text/plain": [
              "<Figure size 720x360 with 1 Axes>"
            ]
          },
          "metadata": {
            "tags": [],
            "needs_background": "light"
          }
        }
      ]
    },
    {
      "cell_type": "code",
      "metadata": {
        "colab": {
          "base_uri": "https://localhost:8080/",
          "height": 102
        },
        "id": "Uj9ejgpGrSQd",
        "outputId": "c1ce5987-b549-43a1-a6b8-c7ba6bfa123f"
      },
      "source": [
        "new_tokens[3]"
      ],
      "execution_count": 198,
      "outputs": [
        {
          "output_type": "execute_result",
          "data": {
            "application/vnd.google.colaboratory.intrinsic+json": {
              "type": "string"
            },
            "text/plain": [
              "'quote nelson4lov september 25   2020 pm bitcoin altcoins market drop lately couple reason second wave covid19 fear fud currently round possibly market sell increase number covid19 case death august september turn true sell bad happen march covid19 vaccine long news financial market include crypto market negative turn vaccine approve cure virus problem kind rumor usually turn safe fulfil prophecy \\x96buy rumor sell news regular market correction crypto market peak august bitcoin increase more than 3x atl march altcoin significant gain like as low as  2 to  19 market long overdue correction point point reason bitcoin witness decrease price covid19 believe halving last may bitcoin price high time people money fear health challenge big issue moment world'"
            ]
          },
          "metadata": {
            "tags": []
          },
          "execution_count": 198
        }
      ]
    },
    {
      "cell_type": "code",
      "metadata": {
        "colab": {
          "base_uri": "https://localhost:8080/"
        },
        "id": "9DOmfX2Rsb0w",
        "outputId": "004c80cc-b7b4-48cc-e1b5-8c2c54eec60e"
      },
      "source": [
        "best.find_topics('covid')"
      ],
      "execution_count": 202,
      "outputs": [
        {
          "output_type": "execute_result",
          "data": {
            "text/plain": [
              "([-1, 121, 142, 236, 220],\n",
              " [0.8566866950395018,\n",
              "  0.7826718560311308,\n",
              "  0.6796910112700134,\n",
              "  0.5570599476131947,\n",
              "  0.3903457854109401])"
            ]
          },
          "metadata": {
            "tags": []
          },
          "execution_count": 202
        }
      ]
    },
    {
      "cell_type": "code",
      "metadata": {
        "id": "SCdBJDlMcLfq"
      },
      "source": [
        "best2 = BERTopic.load('/content/drive/My Drive/word2vec_token_10')"
      ],
      "execution_count": 118,
      "outputs": []
    },
    {
      "cell_type": "code",
      "metadata": {
        "id": "w2PJSSDtcR4_"
      },
      "source": [
        "top2 = np.load('/content/drive/My Drive/topic_w2v_10.npy')\n",
        "pro2 = np.load('/content/drive/My Drive/prob_w2v_10.npy')"
      ],
      "execution_count": 119,
      "outputs": []
    },
    {
      "cell_type": "code",
      "metadata": {
        "id": "gEHx7LE3cT1c"
      },
      "source": [
        "topics_over_time = best2.topics_over_time(new_tokens, top2, clean_times, evolution_tuning = True,\n",
        "                         global_tuning = False)"
      ],
      "execution_count": 155,
      "outputs": []
    },
    {
      "cell_type": "code",
      "metadata": {
        "colab": {
          "base_uri": "https://localhost:8080/",
          "height": 467
        },
        "id": "edIaR3hleT_9",
        "outputId": "f4ff4e07-507c-4a86-cd4a-f71e642ae6a8"
      },
      "source": [
        "best2.visualize_topics_over_time(topics_over_time, top_n=5) #fitted to tokens"
      ],
      "execution_count": 156,
      "outputs": [
        {
          "output_type": "display_data",
          "data": {
            "text/html": [
              "<html>\n",
              "<head><meta charset=\"utf-8\" /></head>\n",
              "<body>\n",
              "    <div>            <script src=\"https://cdnjs.cloudflare.com/ajax/libs/mathjax/2.7.5/MathJax.js?config=TeX-AMS-MML_SVG\"></script><script type=\"text/javascript\">if (window.MathJax) {MathJax.Hub.Config({SVG: {font: \"STIX-Web\"}});}</script>                <script type=\"text/javascript\">window.PlotlyConfig = {MathJaxConfig: 'local'};</script>\n",
              "        <script src=\"https://cdn.plot.ly/plotly-latest.min.js\"></script>                <div id=\"383f1f51-fdc5-477e-958f-9e5b1dccb6ed\" class=\"plotly-graph-div\" style=\"height:450px; width:1250px;\"></div>            <script type=\"text/javascript\">                                    window.PLOTLYENV=window.PLOTLYENV || {};                                    if (document.getElementById(\"383f1f51-fdc5-477e-958f-9e5b1dccb6ed\")) {                    Plotly.newPlot(                        \"383f1f51-fdc5-477e-958f-9e5b1dccb6ed\",                        [{\"hoverinfo\": \"text\", \"hovertext\": [\"<b>Topic 3</b><br>Words: shark, specie, ecosystem, sharks, use shark\", \"<b>Topic 3</b><br>Words: shark, animal, sharks, ocean, sustainable\", \"<b>Topic 3</b><br>Words: shark, animal, sharks, ecosystem, specie\", \"<b>Topic 3</b><br>Words: life beta, wield use, literally life, revert able, able dual\", \"<b>Topic 3</b><br>Words: reservoir nature, let fauci, fauci irresponsible, crisis let, ebola crisis\", \"<b>Topic 3</b><br>Words: fit let, course survival, let natural, selection course, survival fit\", \"<b>Topic 3</b><br>Words: farm oregon, farm vaccine, farm uruguay, farm remember, farm pedigree\", \"<b>Topic 3</b><br>Words: human, philosophy human, human extinction, probability nature, catastrophe humanity\", \"<b>Topic 3</b><br>Words: murder, hundreds, save, extinction, disgusting\", \"<b>Topic 3</b><br>Words: tdtd, tdtd tdtd, tr, tdtd tr, tr tdtd\", \"<b>Topic 3</b><br>Words: farm farm, farm brazil, farm oregon, farm pedigree, farm animal\", \"<b>Topic 3</b><br>Words: kill, alec kill, kill shot, kill protein, protein poisoning\"], \"marker\": {\"color\": \"#E69F00\"}, \"mode\": \"lines\", \"name\": \"3_shark_animal_sharks_ocean\", \"type\": \"scatter\", \"x\": [\"2020-09-28T00:00:00\", \"2020-09-29T00:00:00\", \"2020-09-30T00:00:00\", \"2020-10-29T00:00:00\", \"2020-10-30T00:00:00\", \"2020-10-31T00:00:00\", \"2020-11-29T00:00:00\", \"2020-11-30T00:00:00\", \"2020-12-31T00:00:00\", \"2021-01-31T00:00:00\", \"2021-02-27T00:00:00\", \"2021-02-28T00:00:00\"], \"y\": [248, 535, 343, 3, 4, 1, 1, 14, 24, 8, 1, 11]}, {\"hoverinfo\": \"text\", \"hovertext\": [\"<b>Topic 157</b><br>Words: market, investor, price, stock, demand\", \"<b>Topic 157</b><br>Words: market, stock, sp, sp 500, price\", \"<b>Topic 157</b><br>Words: market, stock, price, buy, time\", \"<b>Topic 157</b><br>Words: stock, market, price, share, cash\", \"<b>Topic 157</b><br>Words: stock, market, price, gain, earning\", \"<b>Topic 157</b><br>Words: stock, price, stock big, market, buy\", \"<b>Topic 157</b><br>Words: market, price, nov, think market, market know\", \"<b>Topic 157</b><br>Words: market, stock, dollar, investor, price\", \"<b>Topic 157</b><br>Words: net worth, success, china net, stock, moderate success\", \"<b>Topic 157</b><br>Words: nvax, news minute, mrna submit, read nvax, result year\", \"<b>Topic 157</b><br>Words: market, nvax, price, stock, buy\", \"<b>Topic 157</b><br>Words: price, stock, sale, stock price, quarter\", \"<b>Topic 157</b><br>Words: market, company, cash, coles, growth\"], \"marker\": {\"color\": \"#56B4E9\"}, \"mode\": \"lines\", \"name\": \"157_market_stock_price_investor\", \"type\": \"scatter\", \"x\": [\"2020-09-28T00:00:00\", \"2020-09-29T00:00:00\", \"2020-09-30T00:00:00\", \"2020-10-29T00:00:00\", \"2020-10-30T00:00:00\", \"2020-10-31T00:00:00\", \"2020-11-29T00:00:00\", \"2020-11-30T00:00:00\", \"2020-12-31T00:00:00\", \"2021-01-30T00:00:00\", \"2021-01-31T00:00:00\", \"2021-02-27T00:00:00\", \"2021-02-28T00:00:00\"], \"y\": [34, 38, 36, 32, 40, 13, 12, 102, 50, 1, 51, 16, 24]}, {\"hoverinfo\": \"text\", \"hovertext\": [\"<b>Topic 165</b><br>Words: flu, shoot, flu shoot, shingle shoot, shoot flu\", \"<b>Topic 165</b><br>Words: shingle, shoot, shingrix, flu shoot, shingle shoot\", \"<b>Topic 165</b><br>Words: muscle ache, cough problem, wheeze headache, effect nasal, vomiting muscle\", \"<b>Topic 165</b><br>Words: cough, injection flu, flu jab, jab, covid injection\", \"<b>Topic 165</b><br>Words: fever, flu, kid, flu jab, headache\", \"<b>Topic 165</b><br>Words: pneumonia, shingrix, site, shingrix site, brightdoglover pneumonia\", \"<b>Topic 165</b><br>Words: wife, days, throat days, days weird, wife scatchy\", \"<b>Topic 165</b><br>Words: headache, fever, ache, muscle ache, arm\", \"<b>Topic 165</b><br>Words: arm, sore, day, sore arm, hours\", \"<b>Topic 165</b><br>Words: shot, sore, soreness, arm, muscle\", \"<b>Topic 165</b><br>Words: arm, sore, sore arm, day, days\", \"<b>Topic 165</b><br>Words: arm, sore, sore arm, hours, headache\", \"<b>Topic 165</b><br>Words: arm, sore, sore arm, second, weeks\"], \"marker\": {\"color\": \"#009E73\"}, \"mode\": \"lines\", \"name\": \"165_arm_sore_sore arm_shot\", \"type\": \"scatter\", \"x\": [\"2020-09-28T00:00:00\", \"2020-09-29T00:00:00\", \"2020-09-30T00:00:00\", \"2020-10-29T00:00:00\", \"2020-10-30T00:00:00\", \"2020-10-31T00:00:00\", \"2020-11-29T00:00:00\", \"2020-11-30T00:00:00\", \"2020-12-31T00:00:00\", \"2021-01-30T00:00:00\", \"2021-01-31T00:00:00\", \"2021-02-27T00:00:00\", \"2021-02-28T00:00:00\"], \"y\": [5, 7, 5, 12, 9, 3, 4, 48, 106, 9, 194, 125, 316]}, {\"hoverinfo\": \"text\", \"hovertext\": [\"<b>Topic 257</b><br>Words: lockdown, people, restriction, like, think\", \"<b>Topic 257</b><br>Words: lockdown, virus, think, people, time\", \"<b>Topic 257</b><br>Words: care, way, care home, rate, death rate\", \"<b>Topic 257</b><br>Words: sweden, lockdown, vulnerable, stallion write, stallion\", \"<b>Topic 257</b><br>Words: herd immunity, president trump, sweden, president, covid19\", \"<b>Topic 257</b><br>Words: lockdown, think, immunity, herd immunity, herd\", \"<b>Topic 257</b><br>Words: ride, christmas, nerve march, ground travel, behave summer\", \"<b>Topic 257</b><br>Words: restriction, lockdown, covid, vaccine, people\", \"<b>Topic 257</b><br>Words: lockdown, need, restriction, people, virus\", \"<b>Topic 257</b><br>Words: case lift, deem acceptable, order society, acceptable term, want low\", \"<b>Topic 257</b><br>Words: covid, risk, people, spread, case\", \"<b>Topic 257</b><br>Words: outdoor, beach, weather, outdoor stuff, hospitality\", \"<b>Topic 257</b><br>Words: lockdown, outside, nice public, beach, restriction\"], \"marker\": {\"color\": \"#F0E442\"}, \"mode\": \"lines\", \"name\": \"257_lockdown_herd immunity_herd_immunity\", \"type\": \"scatter\", \"x\": [\"2020-09-28T00:00:00\", \"2020-09-29T00:00:00\", \"2020-09-30T00:00:00\", \"2020-10-29T00:00:00\", \"2020-10-30T00:00:00\", \"2020-10-31T00:00:00\", \"2020-11-29T00:00:00\", \"2020-11-30T00:00:00\", \"2020-12-31T00:00:00\", \"2021-01-30T00:00:00\", \"2021-01-31T00:00:00\", \"2021-02-27T00:00:00\", \"2021-02-28T00:00:00\"], \"y\": [49, 27, 45, 33, 74, 56, 1, 31, 28, 1, 42, 12, 30]}, {\"hoverinfo\": \"text\", \"hovertext\": [\"<b>Topic 81</b><br>Words: farm vaccine, farm uruguay, farm remember, farm pedigree, farm oregon\", \"<b>Topic 81</b><br>Words: farm pedigree, farm vaccine, farm uruguay, farm remember, farm freeze\", \"<b>Topic 81</b><br>Words: game, cyberpunk, console, 2077, sky\", \"<b>Topic 81</b><br>Words: game, release, cyberpunk, 2077, original release\", \"<b>Topic 81</b><br>Words: game, cyberpunk, appreciate projekt, okay cyberpunk, release basically\", \"<b>Topic 81</b><br>Words: look title, inch dong, title kek, dong video, 13 inch\", \"<b>Topic 81</b><br>Words: covid years, years ago, release approve, release, anymore nvax\", \"<b>Topic 81</b><br>Words: game, post, years, cuomo game, mad cuomo\", \"<b>Topic 81</b><br>Words: game, game roll, changer tptw, game win, vaccination game\", \"<b>Topic 81</b><br>Words: farm oregon, farm vaccine, farm uruguay, farm remember, farm pedigree\", \"<b>Topic 81</b><br>Words: game, probably, hurt game, game 50s, game 1980s\"], \"marker\": {\"color\": \"#D55E00\"}, \"mode\": \"lines\", \"name\": \"81_game_release_cyberpunk_2077\", \"type\": \"scatter\", \"x\": [\"2020-09-29T00:00:00\", \"2020-09-30T00:00:00\", \"2020-10-29T00:00:00\", \"2020-10-30T00:00:00\", \"2020-10-31T00:00:00\", \"2020-11-29T00:00:00\", \"2020-11-30T00:00:00\", \"2020-12-31T00:00:00\", \"2021-01-31T00:00:00\", \"2021-02-27T00:00:00\", \"2021-02-28T00:00:00\"], \"y\": [2, 1, 277, 121, 6, 2, 8, 8, 7, 1, 1]}],                        {\"height\": 450, \"hoverlabel\": {\"bgcolor\": \"white\", \"font\": {\"family\": \"Rockwell\", \"size\": 16}}, \"legend\": {\"title\": {\"text\": \"<b>Global Topic Representation\"}}, \"template\": {\"data\": {\"bar\": [{\"error_x\": {\"color\": \"rgb(36,36,36)\"}, \"error_y\": {\"color\": \"rgb(36,36,36)\"}, \"marker\": {\"line\": {\"color\": \"white\", \"width\": 0.5}}, \"type\": \"bar\"}], \"barpolar\": [{\"marker\": {\"line\": {\"color\": \"white\", \"width\": 0.5}}, \"type\": \"barpolar\"}], \"carpet\": [{\"aaxis\": {\"endlinecolor\": \"rgb(36,36,36)\", \"gridcolor\": \"white\", \"linecolor\": \"white\", \"minorgridcolor\": \"white\", \"startlinecolor\": \"rgb(36,36,36)\"}, \"baxis\": {\"endlinecolor\": \"rgb(36,36,36)\", \"gridcolor\": \"white\", \"linecolor\": \"white\", \"minorgridcolor\": \"white\", \"startlinecolor\": \"rgb(36,36,36)\"}, \"type\": \"carpet\"}], \"choropleth\": [{\"colorbar\": {\"outlinewidth\": 1, \"tickcolor\": \"rgb(36,36,36)\", \"ticks\": \"outside\"}, \"type\": \"choropleth\"}], \"contour\": [{\"colorbar\": {\"outlinewidth\": 1, \"tickcolor\": \"rgb(36,36,36)\", \"ticks\": \"outside\"}, \"colorscale\": [[0.0, \"#440154\"], [0.1111111111111111, \"#482878\"], [0.2222222222222222, \"#3e4989\"], [0.3333333333333333, \"#31688e\"], [0.4444444444444444, \"#26828e\"], [0.5555555555555556, \"#1f9e89\"], [0.6666666666666666, \"#35b779\"], [0.7777777777777778, \"#6ece58\"], [0.8888888888888888, \"#b5de2b\"], [1.0, \"#fde725\"]], \"type\": \"contour\"}], \"contourcarpet\": [{\"colorbar\": {\"outlinewidth\": 1, \"tickcolor\": \"rgb(36,36,36)\", \"ticks\": \"outside\"}, \"type\": \"contourcarpet\"}], \"heatmap\": [{\"colorbar\": {\"outlinewidth\": 1, \"tickcolor\": \"rgb(36,36,36)\", \"ticks\": \"outside\"}, \"colorscale\": [[0.0, \"#440154\"], [0.1111111111111111, \"#482878\"], [0.2222222222222222, \"#3e4989\"], [0.3333333333333333, \"#31688e\"], [0.4444444444444444, \"#26828e\"], [0.5555555555555556, \"#1f9e89\"], [0.6666666666666666, \"#35b779\"], [0.7777777777777778, \"#6ece58\"], [0.8888888888888888, \"#b5de2b\"], [1.0, \"#fde725\"]], \"type\": \"heatmap\"}], \"heatmapgl\": [{\"colorbar\": {\"outlinewidth\": 1, \"tickcolor\": \"rgb(36,36,36)\", \"ticks\": \"outside\"}, \"colorscale\": [[0.0, \"#440154\"], [0.1111111111111111, \"#482878\"], [0.2222222222222222, \"#3e4989\"], [0.3333333333333333, \"#31688e\"], [0.4444444444444444, \"#26828e\"], [0.5555555555555556, \"#1f9e89\"], [0.6666666666666666, \"#35b779\"], [0.7777777777777778, \"#6ece58\"], [0.8888888888888888, \"#b5de2b\"], [1.0, \"#fde725\"]], \"type\": \"heatmapgl\"}], \"histogram\": [{\"marker\": {\"line\": {\"color\": \"white\", \"width\": 0.6}}, \"type\": \"histogram\"}], \"histogram2d\": [{\"colorbar\": {\"outlinewidth\": 1, \"tickcolor\": \"rgb(36,36,36)\", \"ticks\": \"outside\"}, \"colorscale\": [[0.0, \"#440154\"], [0.1111111111111111, \"#482878\"], [0.2222222222222222, \"#3e4989\"], [0.3333333333333333, \"#31688e\"], [0.4444444444444444, \"#26828e\"], [0.5555555555555556, \"#1f9e89\"], [0.6666666666666666, \"#35b779\"], [0.7777777777777778, \"#6ece58\"], [0.8888888888888888, \"#b5de2b\"], [1.0, \"#fde725\"]], \"type\": \"histogram2d\"}], \"histogram2dcontour\": [{\"colorbar\": {\"outlinewidth\": 1, \"tickcolor\": \"rgb(36,36,36)\", \"ticks\": \"outside\"}, \"colorscale\": [[0.0, \"#440154\"], [0.1111111111111111, \"#482878\"], [0.2222222222222222, \"#3e4989\"], [0.3333333333333333, \"#31688e\"], [0.4444444444444444, \"#26828e\"], [0.5555555555555556, \"#1f9e89\"], [0.6666666666666666, \"#35b779\"], [0.7777777777777778, \"#6ece58\"], [0.8888888888888888, \"#b5de2b\"], [1.0, \"#fde725\"]], \"type\": \"histogram2dcontour\"}], \"mesh3d\": [{\"colorbar\": {\"outlinewidth\": 1, \"tickcolor\": \"rgb(36,36,36)\", \"ticks\": \"outside\"}, \"type\": \"mesh3d\"}], \"parcoords\": [{\"line\": {\"colorbar\": {\"outlinewidth\": 1, \"tickcolor\": \"rgb(36,36,36)\", \"ticks\": \"outside\"}}, \"type\": \"parcoords\"}], \"pie\": [{\"automargin\": true, \"type\": \"pie\"}], \"scatter\": [{\"marker\": {\"colorbar\": {\"outlinewidth\": 1, \"tickcolor\": \"rgb(36,36,36)\", \"ticks\": \"outside\"}}, \"type\": \"scatter\"}], \"scatter3d\": [{\"line\": {\"colorbar\": {\"outlinewidth\": 1, \"tickcolor\": \"rgb(36,36,36)\", \"ticks\": \"outside\"}}, \"marker\": {\"colorbar\": {\"outlinewidth\": 1, \"tickcolor\": \"rgb(36,36,36)\", \"ticks\": \"outside\"}}, \"type\": \"scatter3d\"}], \"scattercarpet\": [{\"marker\": {\"colorbar\": {\"outlinewidth\": 1, \"tickcolor\": \"rgb(36,36,36)\", \"ticks\": \"outside\"}}, \"type\": \"scattercarpet\"}], \"scattergeo\": [{\"marker\": {\"colorbar\": {\"outlinewidth\": 1, \"tickcolor\": \"rgb(36,36,36)\", \"ticks\": \"outside\"}}, \"type\": \"scattergeo\"}], \"scattergl\": [{\"marker\": {\"colorbar\": {\"outlinewidth\": 1, \"tickcolor\": \"rgb(36,36,36)\", \"ticks\": \"outside\"}}, \"type\": \"scattergl\"}], \"scattermapbox\": [{\"marker\": {\"colorbar\": {\"outlinewidth\": 1, \"tickcolor\": \"rgb(36,36,36)\", \"ticks\": \"outside\"}}, \"type\": \"scattermapbox\"}], \"scatterpolar\": [{\"marker\": {\"colorbar\": {\"outlinewidth\": 1, \"tickcolor\": \"rgb(36,36,36)\", \"ticks\": \"outside\"}}, \"type\": \"scatterpolar\"}], \"scatterpolargl\": [{\"marker\": {\"colorbar\": {\"outlinewidth\": 1, \"tickcolor\": \"rgb(36,36,36)\", \"ticks\": \"outside\"}}, \"type\": \"scatterpolargl\"}], \"scatterternary\": [{\"marker\": {\"colorbar\": {\"outlinewidth\": 1, \"tickcolor\": \"rgb(36,36,36)\", \"ticks\": \"outside\"}}, \"type\": \"scatterternary\"}], \"surface\": [{\"colorbar\": {\"outlinewidth\": 1, \"tickcolor\": \"rgb(36,36,36)\", \"ticks\": \"outside\"}, \"colorscale\": [[0.0, \"#440154\"], [0.1111111111111111, \"#482878\"], [0.2222222222222222, \"#3e4989\"], [0.3333333333333333, \"#31688e\"], [0.4444444444444444, \"#26828e\"], [0.5555555555555556, \"#1f9e89\"], [0.6666666666666666, \"#35b779\"], [0.7777777777777778, \"#6ece58\"], [0.8888888888888888, \"#b5de2b\"], [1.0, \"#fde725\"]], \"type\": \"surface\"}], \"table\": [{\"cells\": {\"fill\": {\"color\": \"rgb(237,237,237)\"}, \"line\": {\"color\": \"white\"}}, \"header\": {\"fill\": {\"color\": \"rgb(217,217,217)\"}, \"line\": {\"color\": \"white\"}}, \"type\": \"table\"}]}, \"layout\": {\"annotationdefaults\": {\"arrowhead\": 0, \"arrowwidth\": 1}, \"autotypenumbers\": \"strict\", \"coloraxis\": {\"colorbar\": {\"outlinewidth\": 1, \"tickcolor\": \"rgb(36,36,36)\", \"ticks\": \"outside\"}}, \"colorscale\": {\"diverging\": [[0.0, \"rgb(103,0,31)\"], [0.1, \"rgb(178,24,43)\"], [0.2, \"rgb(214,96,77)\"], [0.3, \"rgb(244,165,130)\"], [0.4, \"rgb(253,219,199)\"], [0.5, \"rgb(247,247,247)\"], [0.6, \"rgb(209,229,240)\"], [0.7, \"rgb(146,197,222)\"], [0.8, \"rgb(67,147,195)\"], [0.9, \"rgb(33,102,172)\"], [1.0, \"rgb(5,48,97)\"]], \"sequential\": [[0.0, \"#440154\"], [0.1111111111111111, \"#482878\"], [0.2222222222222222, \"#3e4989\"], [0.3333333333333333, \"#31688e\"], [0.4444444444444444, \"#26828e\"], [0.5555555555555556, \"#1f9e89\"], [0.6666666666666666, \"#35b779\"], [0.7777777777777778, \"#6ece58\"], [0.8888888888888888, \"#b5de2b\"], [1.0, \"#fde725\"]], \"sequentialminus\": [[0.0, \"#440154\"], [0.1111111111111111, \"#482878\"], [0.2222222222222222, \"#3e4989\"], [0.3333333333333333, \"#31688e\"], [0.4444444444444444, \"#26828e\"], [0.5555555555555556, \"#1f9e89\"], [0.6666666666666666, \"#35b779\"], [0.7777777777777778, \"#6ece58\"], [0.8888888888888888, \"#b5de2b\"], [1.0, \"#fde725\"]]}, \"colorway\": [\"#1F77B4\", \"#FF7F0E\", \"#2CA02C\", \"#D62728\", \"#9467BD\", \"#8C564B\", \"#E377C2\", \"#7F7F7F\", \"#BCBD22\", \"#17BECF\"], \"font\": {\"color\": \"rgb(36,36,36)\"}, \"geo\": {\"bgcolor\": \"white\", \"lakecolor\": \"white\", \"landcolor\": \"white\", \"showlakes\": true, \"showland\": true, \"subunitcolor\": \"white\"}, \"hoverlabel\": {\"align\": \"left\"}, \"hovermode\": \"closest\", \"mapbox\": {\"style\": \"light\"}, \"paper_bgcolor\": \"white\", \"plot_bgcolor\": \"white\", \"polar\": {\"angularaxis\": {\"gridcolor\": \"rgb(232,232,232)\", \"linecolor\": \"rgb(36,36,36)\", \"showgrid\": false, \"showline\": true, \"ticks\": \"outside\"}, \"bgcolor\": \"white\", \"radialaxis\": {\"gridcolor\": \"rgb(232,232,232)\", \"linecolor\": \"rgb(36,36,36)\", \"showgrid\": false, \"showline\": true, \"ticks\": \"outside\"}}, \"scene\": {\"xaxis\": {\"backgroundcolor\": \"white\", \"gridcolor\": \"rgb(232,232,232)\", \"gridwidth\": 2, \"linecolor\": \"rgb(36,36,36)\", \"showbackground\": true, \"showgrid\": false, \"showline\": true, \"ticks\": \"outside\", \"zeroline\": false, \"zerolinecolor\": \"rgb(36,36,36)\"}, \"yaxis\": {\"backgroundcolor\": \"white\", \"gridcolor\": \"rgb(232,232,232)\", \"gridwidth\": 2, \"linecolor\": \"rgb(36,36,36)\", \"showbackground\": true, \"showgrid\": false, \"showline\": true, \"ticks\": \"outside\", \"zeroline\": false, \"zerolinecolor\": \"rgb(36,36,36)\"}, \"zaxis\": {\"backgroundcolor\": \"white\", \"gridcolor\": \"rgb(232,232,232)\", \"gridwidth\": 2, \"linecolor\": \"rgb(36,36,36)\", \"showbackground\": true, \"showgrid\": false, \"showline\": true, \"ticks\": \"outside\", \"zeroline\": false, \"zerolinecolor\": \"rgb(36,36,36)\"}}, \"shapedefaults\": {\"fillcolor\": \"black\", \"line\": {\"width\": 0}, \"opacity\": 0.3}, \"ternary\": {\"aaxis\": {\"gridcolor\": \"rgb(232,232,232)\", \"linecolor\": \"rgb(36,36,36)\", \"showgrid\": false, \"showline\": true, \"ticks\": \"outside\"}, \"baxis\": {\"gridcolor\": \"rgb(232,232,232)\", \"linecolor\": \"rgb(36,36,36)\", \"showgrid\": false, \"showline\": true, \"ticks\": \"outside\"}, \"bgcolor\": \"white\", \"caxis\": {\"gridcolor\": \"rgb(232,232,232)\", \"linecolor\": \"rgb(36,36,36)\", \"showgrid\": false, \"showline\": true, \"ticks\": \"outside\"}}, \"title\": {\"x\": 0.05}, \"xaxis\": {\"automargin\": true, \"gridcolor\": \"rgb(232,232,232)\", \"linecolor\": \"rgb(36,36,36)\", \"showgrid\": false, \"showline\": true, \"ticks\": \"outside\", \"title\": {\"standoff\": 15}, \"zeroline\": false, \"zerolinecolor\": \"rgb(36,36,36)\"}, \"yaxis\": {\"automargin\": true, \"gridcolor\": \"rgb(232,232,232)\", \"linecolor\": \"rgb(36,36,36)\", \"showgrid\": false, \"showline\": true, \"ticks\": \"outside\", \"title\": {\"standoff\": 15}, \"zeroline\": false, \"zerolinecolor\": \"rgb(36,36,36)\"}}}, \"title\": {\"font\": {\"color\": \"Black\", \"size\": 22}, \"text\": \"<b>Topics over Time\", \"x\": 0.4, \"xanchor\": \"center\", \"y\": 0.95, \"yanchor\": \"top\"}, \"width\": 1250, \"xaxis\": {\"showgrid\": true}, \"yaxis\": {\"showgrid\": true, \"title\": {\"text\": \"Frequency\"}}},                        {\"responsive\": true}                    ).then(function(){\n",
              "                            \n",
              "var gd = document.getElementById('383f1f51-fdc5-477e-958f-9e5b1dccb6ed');\n",
              "var x = new MutationObserver(function (mutations, observer) {{\n",
              "        var display = window.getComputedStyle(gd).display;\n",
              "        if (!display || display === 'none') {{\n",
              "            console.log([gd, 'removed!']);\n",
              "            Plotly.purge(gd);\n",
              "            observer.disconnect();\n",
              "        }}\n",
              "}});\n",
              "\n",
              "// Listen for the removal of the full notebook cells\n",
              "var notebookContainer = gd.closest('#notebook-container');\n",
              "if (notebookContainer) {{\n",
              "    x.observe(notebookContainer, {childList: true});\n",
              "}}\n",
              "\n",
              "// Listen for the clearing of the current output cell\n",
              "var outputEl = gd.closest('.output');\n",
              "if (outputEl) {{\n",
              "    x.observe(outputEl, {childList: true});\n",
              "}}\n",
              "\n",
              "                        })                };                            </script>        </div>\n",
              "</body>\n",
              "</html>"
            ]
          },
          "metadata": {
            "tags": []
          }
        }
      ]
    },
    {
      "cell_type": "code",
      "metadata": {
        "colab": {
          "base_uri": "https://localhost:8080/",
          "height": 393
        },
        "id": "jZO9TC01r2DK",
        "outputId": "6483521c-b0ef-40f4-e2d3-449cf5f6fe9f"
      },
      "source": [
        "best2.visualize_distribution(pro2[3])"
      ],
      "execution_count": 200,
      "outputs": [
        {
          "output_type": "display_data",
          "data": {
            "image/png": "[encoded data removed]",
            "text/plain": [
              "<Figure size 720x360 with 1 Axes>"
            ]
          },
          "metadata": {
            "tags": [],
            "needs_background": "light"
          }
        }
      ]
    },
    {
      "cell_type": "code",
      "metadata": {
        "colab": {
          "base_uri": "https://localhost:8080/"
        },
        "id": "3dhAQrzJsUNH",
        "outputId": "100ee63d-a03e-46b4-8273-b8196797665e"
      },
      "source": [
        "best2.find_topics('covid')"
      ],
      "execution_count": 201,
      "outputs": [
        {
          "output_type": "execute_result",
          "data": {
            "text/plain": [
              "([-1, 184, 173, 81, 257],\n",
              " [0.7505358366044297,\n",
              "  0.6673080931468828,\n",
              "  0.3943508153389468,\n",
              "  0.21426454718058077,\n",
              "  0.16730388968703938])"
            ]
          },
          "metadata": {
            "tags": []
          },
          "execution_count": 201
        }
      ]
    },
    {
      "cell_type": "code",
      "metadata": {
        "id": "HRKfciblWVpL"
      },
      "source": [
        "oh = BERTopic.load('/content/drive/My Drive/word2vec_tokenmodel50topic')"
      ],
      "execution_count": null,
      "outputs": []
    },
    {
      "cell_type": "markdown",
      "metadata": {
        "id": "CO4Wn0gicm3y"
      },
      "source": [
        "# **FastText Embeddings** \n",
        "\n"
      ]
    },
    {
      "cell_type": "code",
      "metadata": {
        "id": "KZPkj6Tt2xXk"
      },
      "source": [
        "from gensim.models import FastText \n",
        "\n",
        "modeling = FastText(size=100, window=5, min_count=5) \n",
        "modeling.build_vocab(sentences=sentences)\n",
        "modeling.train(sentences, total_examples=len(sentences), epochs=100, compute_loss=True)  # train"
      ],
      "execution_count": null,
      "outputs": []
    },
    {
      "cell_type": "code",
      "metadata": {
        "id": "rtHNH1sE0dc3"
      },
      "source": [
        "word_vectorss = modeling.wv\n",
        "word_vectorss.save(\"/content/drive/My Drive/fasttext\")"
      ],
      "execution_count": null,
      "outputs": []
    },
    {
      "cell_type": "code",
      "metadata": {
        "id": "QVQVjuKf15me"
      },
      "source": [
        "#fasttext trained with 100e on tokens\n",
        "#fasttext_sw trained with 100e with stop words in sentences"
      ],
      "execution_count": null,
      "outputs": []
    },
    {
      "cell_type": "code",
      "metadata": {
        "id": "d5Dh_Gvf0fxl"
      },
      "source": [
        "from flair.embeddings import WordEmbeddings, DocumentPoolEmbeddings\n",
        "\n",
        "glove_embedding = WordEmbeddings(\"/content/drive/My Drive/fasttext\")\n",
        "document_glove_embeddings = DocumentPoolEmbeddings([glove_embedding])"
      ],
      "execution_count": null,
      "outputs": []
    },
    {
      "cell_type": "code",
      "metadata": {
        "id": "KQTLm3cqFtiD"
      },
      "source": [
        "topic_modeling = BERTopic(nr_topics = 10, calculate_probabilities = True, embedding_model=document_glove_embeddings)"
      ],
      "execution_count": null,
      "outputs": []
    },
    {
      "cell_type": "code",
      "metadata": {
        "id": "AVbOzReq5xQ4"
      },
      "source": [
        "topics, probabilities = topic_modeling.fit_transform(new_tokens)"
      ],
      "execution_count": null,
      "outputs": []
    },
    {
      "cell_type": "code",
      "metadata": {
        "id": "GejxKVljMzWt"
      },
      "source": [
        "#remove stop words and change n-gram range\n",
        "from sklearn.feature_extraction.text import CountVectorizer\n",
        "cv = CountVectorizer(ngram_range=(1, 3), stop_words=\"english\")\n",
        "topic_modeling.update_topics(new_tokens, topics, vectorizer_model=cv)"
      ],
      "execution_count": null,
      "outputs": []
    },
    {
      "cell_type": "code",
      "metadata": {
        "id": "gks-hHYKx-Sb"
      },
      "source": [
        "topic_modeling.get_topic_freq().head(20)"
      ],
      "execution_count": null,
      "outputs": []
    },
    {
      "cell_type": "code",
      "metadata": {
        "id": "DOCmBi04jVHz"
      },
      "source": [
        "topic_modeling.get_topic(97)"
      ],
      "execution_count": null,
      "outputs": []
    },
    {
      "cell_type": "code",
      "metadata": {
        "id": "Y0kRqzKlUc2X"
      },
      "source": [
        "np.save('/content/drive/My Drive/array_topics_ft10', topics)\n",
        "np.save('/content/drive/My Drive/array_probabilities_ft10', probabilities)"
      ],
      "execution_count": null,
      "outputs": []
    },
    {
      "cell_type": "code",
      "metadata": {
        "colab": {
          "base_uri": "https://localhost:8080/"
        },
        "id": "4iGTWLAa2F_V",
        "outputId": "26e3855d-51cf-4650-bc37-15fac69b16d5"
      },
      "source": [
        "topic_modeling.save('/content/drive/My Drive/fasttext_10_ng2')"
      ],
      "execution_count": null,
      "outputs": [
        {
          "output_type": "stream",
          "text": [
            "/usr/local/lib/python3.7/dist-packages/scipy/sparse/_index.py:126: SparseEfficiencyWarning: Changing the sparsity structure of a csr_matrix is expensive. lil_matrix is more efficient.\n",
            "  self._set_arrayXarray(i, j, x)\n"
          ],
          "name": "stderr"
        }
      ]
    },
    {
      "cell_type": "code",
      "metadata": {
        "id": "GMxT9J522TpZ"
      },
      "source": [
        "#FITTED WITH NEW_TOKENS\n",
        "\n",
        "#fasttext_50 model with topic reduction to 50\n",
        "    #array_topics_ftno fitted with new_tokens, 50 topics, cv, n-gram 1,1\n",
        "    #array_probabilities_ftno fitted with new_tokens, 50 topics, cv, n-gram 1, 1\n",
        "\n",
        "#fasttext_15_ng2 model with n-gram changed to 1,2 and topic size is 15\n",
        "    #array_topics_ft15 fitted with new_tokens\n",
        "    #array_probabilities_ft15\n",
        "\n",
        "#fasttext_10_ng2 model with n-gram changed to 1,2 and topic size is 10\n",
        "    #array_topics_ft10 fitted with new_tokens\n",
        "    #array_probabilities_ft10\n"
      ],
      "execution_count": null,
      "outputs": []
    },
    {
      "cell_type": "markdown",
      "metadata": {
        "id": "7Abng4ZoqoGi"
      },
      "source": [
        "# **FASTTEXT ANALYSIS**"
      ]
    },
    {
      "cell_type": "code",
      "metadata": {
        "id": "C3gYZggefXoV"
      },
      "source": [
        "bestf = BERTopic.load('/content/drive/My Drive/fasttext_10_ng2')\n",
        "topf = np.load('/content/drive/My Drive/array_topics_ft10.npy')\n",
        "prof = np.load('/content/drive/My Drive/array_probabilities_ft10.npy')"
      ],
      "execution_count": 132,
      "outputs": []
    },
    {
      "cell_type": "code",
      "metadata": {
        "id": "NjXSp4hqgLaE"
      },
      "source": [
        "bestf.get_topic_freq().head(6)"
      ],
      "execution_count": null,
      "outputs": []
    },
    {
      "cell_type": "code",
      "metadata": {
        "id": "B_M3jKIZgFp1"
      },
      "source": [
        "topics_over_time = bestf.topics_over_time(new_tokens, topf, clean_times, evolution_tuning = True,\n",
        "                         global_tuning = False)"
      ],
      "execution_count": 167,
      "outputs": []
    },
    {
      "cell_type": "code",
      "metadata": {
        "colab": {
          "base_uri": "https://localhost:8080/",
          "height": 467
        },
        "id": "Erb5z4jbhLOX",
        "outputId": "a3d66757-0abb-40f7-f2b6-6c62215d40df"
      },
      "source": [
        "bestf.visualize_topics_over_time(topics_over_time, topics = [70,176,290,368,378])"
      ],
      "execution_count": 168,
      "outputs": [
        {
          "output_type": "display_data",
          "data": {
            "text/html": [
              "<html>\n",
              "<head><meta charset=\"utf-8\" /></head>\n",
              "<body>\n",
              "    <div>            <script src=\"https://cdnjs.cloudflare.com/ajax/libs/mathjax/2.7.5/MathJax.js?config=TeX-AMS-MML_SVG\"></script><script type=\"text/javascript\">if (window.MathJax) {MathJax.Hub.Config({SVG: {font: \"STIX-Web\"}});}</script>                <script type=\"text/javascript\">window.PlotlyConfig = {MathJaxConfig: 'local'};</script>\n",
              "        <script src=\"https://cdn.plot.ly/plotly-latest.min.js\"></script>                <div id=\"791f96af-cf77-48a9-8fd9-ceb7d0891524\" class=\"plotly-graph-div\" style=\"height:450px; width:1250px;\"></div>            <script type=\"text/javascript\">                                    window.PLOTLYENV=window.PLOTLYENV || {};                                    if (document.getElementById(\"791f96af-cf77-48a9-8fd9-ceb7d0891524\")) {                    Plotly.newPlot(                        \"791f96af-cf77-48a9-8fd9-ceb7d0891524\",                        [{\"hoverinfo\": \"text\", \"hovertext\": [\"<b>Topic 70</b><br>Words: shark, animal, ecosystem, specie, shark population\", \"<b>Topic 70</b><br>Words: shark, animal, sharks, ecosystem, sustainable\", \"<b>Topic 70</b><br>Words: shark, sharks, ecosystem, specie, kill shark\", \"<b>Topic 70</b><br>Words: save male, die comeback, save pretty, leave shitstain, male save\", \"<b>Topic 70</b><br>Words: plant collective, wrong abitch, version plant, retard prove, image retard\", \"<b>Topic 70</b><br>Words: imagine world, world like, farming healthcare, fart american, farming exist\", \"<b>Topic 70</b><br>Words: philosophy human, blow universe, human extinction, extinction, human\", \"<b>Topic 70</b><br>Words: save, continue kill, life save, kill, kill people\", \"<b>Topic 70</b><br>Words: fart, farrakhan nation, fart american, farmland essentially, farmland\", \"<b>Topic 70</b><br>Words: animal, want ai, robot human, versus humanity, human global\", \"<b>Topic 70</b><br>Words: advice stop, fart medical, fart like, fart attempt, fart american\", \"<b>Topic 70</b><br>Words: leave screenshot20210228190503jpg, save kill, come save, save, farmland starve\"], \"marker\": {\"color\": \"#E69F00\"}, \"mode\": \"lines\", \"name\": \"70_shark_animal_sharks_ecosystem\", \"type\": \"scatter\", \"x\": [\"2020-09-28T00:00:00\", \"2020-09-29T00:00:00\", \"2020-09-30T00:00:00\", \"2020-10-29T00:00:00\", \"2020-10-30T00:00:00\", \"2020-10-31T00:00:00\", \"2020-11-30T00:00:00\", \"2020-12-31T00:00:00\", \"2021-01-30T00:00:00\", \"2021-01-31T00:00:00\", \"2021-02-27T00:00:00\", \"2021-02-28T00:00:00\"], \"y\": [113, 261, 166, 3, 4, 1, 6, 17, 1, 4, 1, 3]}, {\"hoverinfo\": \"text\", \"hovertext\": [\"<b>Topic 176</b><br>Words: flu, covid, southern hemisphere, hemisphere, prevent regular\", \"<b>Topic 176</b><br>Words: flu, flu vaccine, covid, virus, flu season\", \"<b>Topic 176</b><br>Words: flu, flu vaccine, covid, flu covid, virus\", \"<b>Topic 176</b><br>Words: flu, seasonal, mutate, hemisphere, seasonal flu\", \"<b>Topic 176</b><br>Words: flu, flu vaccine, vaccine, virus, covid\", \"<b>Topic 176</b><br>Words: flu, 1918, 1918 flu, flu vaccine, covid\", \"<b>Topic 176</b><br>Words: flu, cold, cold flu, common cold, virus\", \"<b>Topic 176</b><br>Words: flu, kid, covid, flu shot, flu vaccine\", \"<b>Topic 176</b><br>Words: flu, covid, flu vaccine, people, flu shot\", \"<b>Topic 176</b><br>Words: flu, yale know, flu china, virus hey, covid kung\", \"<b>Topic 176</b><br>Words: flu, flu vaccine, covid, flu shot, like flu\", \"<b>Topic 176</b><br>Words: flu, covid, number year, flu number, reset flu\", \"<b>Topic 176</b><br>Words: flu, covid, flu shot, people, vaccinate\"], \"marker\": {\"color\": \"#56B4E9\"}, \"mode\": \"lines\", \"name\": \"176_flu_covid_flu vaccine_flu shot\", \"type\": \"scatter\", \"x\": [\"2020-09-28T00:00:00\", \"2020-09-29T00:00:00\", \"2020-09-30T00:00:00\", \"2020-10-29T00:00:00\", \"2020-10-30T00:00:00\", \"2020-10-31T00:00:00\", \"2020-11-29T00:00:00\", \"2020-11-30T00:00:00\", \"2020-12-31T00:00:00\", \"2021-01-30T00:00:00\", \"2021-01-31T00:00:00\", \"2021-02-27T00:00:00\", \"2021-02-28T00:00:00\"], \"y\": [47, 51, 23, 52, 42, 17, 28, 140, 67, 3, 61, 12, 42]}, {\"hoverinfo\": \"text\", \"hovertext\": [\"<b>Topic 290</b><br>Words: trial, phase, covid19 vaccine, prevention moderate, phase iii\", \"<b>Topic 290</b><br>Words: india, serum institute, foundation, institute india, million covid19\", \"<b>Topic 290</b><br>Words: abec, serum institute, serum, bioreactor, manufacturing\", \"<b>Topic 290</b><br>Words: trial, conduct, phase, interim, conduct interim\", \"<b>Topic 290</b><br>Words: coronavirus vaccine, request emergency, use authorization, covid19, authorization\", \"<b>Topic 290</b><br>Words: event, vaccine, joe biden, infection event, joe\", \"<b>Topic 290</b><br>Words: vaccine, trial, candidate, vaccine candidate, placebo group\", \"<b>Topic 290</b><br>Words: moderna, covid19, efficacy, authorization, severe\", \"<b>Topic 290</b><br>Words: mrna1273, trial, vaccine, participant, covid19\", \"<b>Topic 290</b><br>Words: csl, vaccine gsl, buy csl, biopharma company, expand csl\", \"<b>Topic 290</b><br>Words: million, covax, covax amc, gavi covax, vaccine summit\", \"<b>Topic 290</b><br>Words: johnson, covid19, johnson johnson, day 28, severe case\", \"<b>Topic 290</b><br>Words: johnson, vaccine, johnson johnson, covid19 vaccine, approve\"], \"marker\": {\"color\": \"#009E73\"}, \"mode\": \"lines\", \"name\": \"290_vaccine_covid19_moderna_covid19 vacc...\", \"type\": \"scatter\", \"x\": [\"2020-09-28T00:00:00\", \"2020-09-29T00:00:00\", \"2020-09-30T00:00:00\", \"2020-10-29T00:00:00\", \"2020-10-30T00:00:00\", \"2020-10-31T00:00:00\", \"2020-11-29T00:00:00\", \"2020-11-30T00:00:00\", \"2020-12-31T00:00:00\", \"2021-01-30T00:00:00\", \"2021-01-31T00:00:00\", \"2021-02-27T00:00:00\", \"2021-02-28T00:00:00\"], \"y\": [15, 15, 21, 16, 29, 11, 4, 131, 25, 2, 28, 27, 51]}, {\"hoverinfo\": \"text\", \"hovertext\": [\"<b>Topic 368</b><br>Words: taxis, trump, win, taxis trump, vaccine taxis\", \"<b>Topic 368</b><br>Words: trump, election, biden, swing state, tax\", \"<b>Topic 368</b><br>Words: trump, biden, wallace, joe, chris wallace\", \"<b>Topic 368</b><br>Words: trump, biden, joe biden, warp speed, warp\", \"<b>Topic 368</b><br>Words: american, president trump, tax, wage, wage growth\", \"<b>Topic 368</b><br>Words: lie, trump, biden, lie trump, biden virus\", \"<b>Topic 368</b><br>Words: trump, bartiromo, fraud, involve steal, fbi involve\", \"<b>Topic 368</b><br>Words: trump, win, fail, biden, credit\", \"<b>Topic 368</b><br>Words: trump, statement action, treasonous statement, talk dems, treasonous\", \"<b>Topic 368</b><br>Words: president, government, mention pushback, suddenly resent, resent mention\", \"<b>Topic 368</b><br>Words: plan, distribution, administration, trump administration, warp speed\", \"<b>Topic 368</b><br>Words: trump, president, american, america, biden\", \"<b>Topic 368</b><br>Words: operation warp, warp speed, warp, operation, biden\"], \"marker\": {\"color\": \"#F0E442\"}, \"mode\": \"lines\", \"name\": \"368_trump_biden_president_joe\", \"type\": \"scatter\", \"x\": [\"2020-09-28T00:00:00\", \"2020-09-29T00:00:00\", \"2020-09-30T00:00:00\", \"2020-10-29T00:00:00\", \"2020-10-30T00:00:00\", \"2020-10-31T00:00:00\", \"2020-11-29T00:00:00\", \"2020-11-30T00:00:00\", \"2020-12-31T00:00:00\", \"2021-01-30T00:00:00\", \"2021-01-31T00:00:00\", \"2021-02-27T00:00:00\", \"2021-02-28T00:00:00\"], \"y\": [5, 24, 33, 16, 17, 20, 6, 24, 51, 3, 68, 13, 33]}, {\"hoverinfo\": \"text\", \"hovertext\": [\"<b>Topic 378</b><br>Words: player camera, ball natural, bite serve, serve player, tennis bite\", \"<b>Topic 378</b><br>Words: walk, guy believer, walk cloud, shit faced, eager walk\", \"<b>Topic 378</b><br>Words: guy, guy pedo, guy borderline, elon guy, shitty idea\", \"<b>Topic 378</b><br>Words: game, cyberpunk, sky, console, play\", \"<b>Topic 378</b><br>Words: game, cyberpunk, play, original release, game come\", \"<b>Topic 378</b><br>Words: release basically, perfect appreciate, appreciate projekt, covid rn, push reason\", \"<b>Topic 378</b><br>Words: win game, dark shit, crap cancel, cash damnit, build fix\", \"<b>Topic 378</b><br>Words: guy, feel big, guy fuck, gag mean, agree big\", \"<b>Topic 378</b><br>Words: sit ass, ass, let game, ward big, investigator guy\", \"<b>Topic 378</b><br>Words: crutch need, history badly, wait pobra, ankle boot, pobra send\"], \"marker\": {\"color\": \"#D55E00\"}, \"mode\": \"lines\", \"name\": \"378_game_cyberpunk_play_sky\", \"type\": \"scatter\", \"x\": [\"2020-09-28T00:00:00\", \"2020-09-29T00:00:00\", \"2020-09-30T00:00:00\", \"2020-10-29T00:00:00\", \"2020-10-30T00:00:00\", \"2020-10-31T00:00:00\", \"2020-11-30T00:00:00\", \"2020-12-31T00:00:00\", \"2021-01-31T00:00:00\", \"2021-02-28T00:00:00\"], \"y\": [5, 5, 8, 243, 99, 5, 6, 12, 5, 2]}],                        {\"height\": 450, \"hoverlabel\": {\"bgcolor\": \"white\", \"font\": {\"family\": \"Rockwell\", \"size\": 16}}, \"legend\": {\"title\": {\"text\": \"<b>Global Topic Representation\"}}, \"template\": {\"data\": {\"bar\": [{\"error_x\": {\"color\": \"rgb(36,36,36)\"}, \"error_y\": {\"color\": \"rgb(36,36,36)\"}, \"marker\": {\"line\": {\"color\": \"white\", \"width\": 0.5}}, \"type\": \"bar\"}], \"barpolar\": [{\"marker\": {\"line\": {\"color\": \"white\", \"width\": 0.5}}, \"type\": \"barpolar\"}], \"carpet\": [{\"aaxis\": {\"endlinecolor\": \"rgb(36,36,36)\", \"gridcolor\": \"white\", \"linecolor\": \"white\", \"minorgridcolor\": \"white\", \"startlinecolor\": \"rgb(36,36,36)\"}, \"baxis\": {\"endlinecolor\": \"rgb(36,36,36)\", \"gridcolor\": \"white\", \"linecolor\": \"white\", \"minorgridcolor\": \"white\", \"startlinecolor\": \"rgb(36,36,36)\"}, \"type\": \"carpet\"}], \"choropleth\": [{\"colorbar\": {\"outlinewidth\": 1, \"tickcolor\": \"rgb(36,36,36)\", \"ticks\": \"outside\"}, \"type\": \"choropleth\"}], \"contour\": [{\"colorbar\": {\"outlinewidth\": 1, \"tickcolor\": \"rgb(36,36,36)\", \"ticks\": \"outside\"}, \"colorscale\": [[0.0, \"#440154\"], [0.1111111111111111, \"#482878\"], [0.2222222222222222, \"#3e4989\"], [0.3333333333333333, \"#31688e\"], [0.4444444444444444, \"#26828e\"], [0.5555555555555556, \"#1f9e89\"], [0.6666666666666666, \"#35b779\"], [0.7777777777777778, \"#6ece58\"], [0.8888888888888888, \"#b5de2b\"], [1.0, \"#fde725\"]], \"type\": \"contour\"}], \"contourcarpet\": [{\"colorbar\": {\"outlinewidth\": 1, \"tickcolor\": \"rgb(36,36,36)\", \"ticks\": \"outside\"}, \"type\": \"contourcarpet\"}], \"heatmap\": [{\"colorbar\": {\"outlinewidth\": 1, \"tickcolor\": \"rgb(36,36,36)\", \"ticks\": \"outside\"}, \"colorscale\": [[0.0, \"#440154\"], [0.1111111111111111, \"#482878\"], [0.2222222222222222, \"#3e4989\"], [0.3333333333333333, \"#31688e\"], [0.4444444444444444, \"#26828e\"], [0.5555555555555556, \"#1f9e89\"], [0.6666666666666666, \"#35b779\"], [0.7777777777777778, \"#6ece58\"], [0.8888888888888888, \"#b5de2b\"], [1.0, \"#fde725\"]], \"type\": \"heatmap\"}], \"heatmapgl\": [{\"colorbar\": {\"outlinewidth\": 1, \"tickcolor\": \"rgb(36,36,36)\", \"ticks\": \"outside\"}, \"colorscale\": [[0.0, \"#440154\"], [0.1111111111111111, \"#482878\"], [0.2222222222222222, \"#3e4989\"], [0.3333333333333333, \"#31688e\"], [0.4444444444444444, \"#26828e\"], [0.5555555555555556, \"#1f9e89\"], [0.6666666666666666, \"#35b779\"], [0.7777777777777778, \"#6ece58\"], [0.8888888888888888, \"#b5de2b\"], [1.0, \"#fde725\"]], \"type\": \"heatmapgl\"}], \"histogram\": [{\"marker\": {\"line\": {\"color\": \"white\", \"width\": 0.6}}, \"type\": \"histogram\"}], \"histogram2d\": [{\"colorbar\": {\"outlinewidth\": 1, \"tickcolor\": \"rgb(36,36,36)\", \"ticks\": \"outside\"}, \"colorscale\": [[0.0, \"#440154\"], [0.1111111111111111, \"#482878\"], [0.2222222222222222, \"#3e4989\"], [0.3333333333333333, \"#31688e\"], [0.4444444444444444, \"#26828e\"], [0.5555555555555556, \"#1f9e89\"], [0.6666666666666666, \"#35b779\"], [0.7777777777777778, \"#6ece58\"], [0.8888888888888888, \"#b5de2b\"], [1.0, \"#fde725\"]], \"type\": \"histogram2d\"}], \"histogram2dcontour\": [{\"colorbar\": {\"outlinewidth\": 1, \"tickcolor\": \"rgb(36,36,36)\", \"ticks\": \"outside\"}, \"colorscale\": [[0.0, \"#440154\"], [0.1111111111111111, \"#482878\"], [0.2222222222222222, \"#3e4989\"], [0.3333333333333333, \"#31688e\"], [0.4444444444444444, \"#26828e\"], [0.5555555555555556, \"#1f9e89\"], [0.6666666666666666, \"#35b779\"], [0.7777777777777778, \"#6ece58\"], [0.8888888888888888, \"#b5de2b\"], [1.0, \"#fde725\"]], \"type\": \"histogram2dcontour\"}], \"mesh3d\": [{\"colorbar\": {\"outlinewidth\": 1, \"tickcolor\": \"rgb(36,36,36)\", \"ticks\": \"outside\"}, \"type\": \"mesh3d\"}], \"parcoords\": [{\"line\": {\"colorbar\": {\"outlinewidth\": 1, \"tickcolor\": \"rgb(36,36,36)\", \"ticks\": \"outside\"}}, \"type\": \"parcoords\"}], \"pie\": [{\"automargin\": true, \"type\": \"pie\"}], \"scatter\": [{\"marker\": {\"colorbar\": {\"outlinewidth\": 1, \"tickcolor\": \"rgb(36,36,36)\", \"ticks\": \"outside\"}}, \"type\": \"scatter\"}], \"scatter3d\": [{\"line\": {\"colorbar\": {\"outlinewidth\": 1, \"tickcolor\": \"rgb(36,36,36)\", \"ticks\": \"outside\"}}, \"marker\": {\"colorbar\": {\"outlinewidth\": 1, \"tickcolor\": \"rgb(36,36,36)\", \"ticks\": \"outside\"}}, \"type\": \"scatter3d\"}], \"scattercarpet\": [{\"marker\": {\"colorbar\": {\"outlinewidth\": 1, \"tickcolor\": \"rgb(36,36,36)\", \"ticks\": \"outside\"}}, \"type\": \"scattercarpet\"}], \"scattergeo\": [{\"marker\": {\"colorbar\": {\"outlinewidth\": 1, \"tickcolor\": \"rgb(36,36,36)\", \"ticks\": \"outside\"}}, \"type\": \"scattergeo\"}], \"scattergl\": [{\"marker\": {\"colorbar\": {\"outlinewidth\": 1, \"tickcolor\": \"rgb(36,36,36)\", \"ticks\": \"outside\"}}, \"type\": \"scattergl\"}], \"scattermapbox\": [{\"marker\": {\"colorbar\": {\"outlinewidth\": 1, \"tickcolor\": \"rgb(36,36,36)\", \"ticks\": \"outside\"}}, \"type\": \"scattermapbox\"}], \"scatterpolar\": [{\"marker\": {\"colorbar\": {\"outlinewidth\": 1, \"tickcolor\": \"rgb(36,36,36)\", \"ticks\": \"outside\"}}, \"type\": \"scatterpolar\"}], \"scatterpolargl\": [{\"marker\": {\"colorbar\": {\"outlinewidth\": 1, \"tickcolor\": \"rgb(36,36,36)\", \"ticks\": \"outside\"}}, \"type\": \"scatterpolargl\"}], \"scatterternary\": [{\"marker\": {\"colorbar\": {\"outlinewidth\": 1, \"tickcolor\": \"rgb(36,36,36)\", \"ticks\": \"outside\"}}, \"type\": \"scatterternary\"}], \"surface\": [{\"colorbar\": {\"outlinewidth\": 1, \"tickcolor\": \"rgb(36,36,36)\", \"ticks\": \"outside\"}, \"colorscale\": [[0.0, \"#440154\"], [0.1111111111111111, \"#482878\"], [0.2222222222222222, \"#3e4989\"], [0.3333333333333333, \"#31688e\"], [0.4444444444444444, \"#26828e\"], [0.5555555555555556, \"#1f9e89\"], [0.6666666666666666, \"#35b779\"], [0.7777777777777778, \"#6ece58\"], [0.8888888888888888, \"#b5de2b\"], [1.0, \"#fde725\"]], \"type\": \"surface\"}], \"table\": [{\"cells\": {\"fill\": {\"color\": \"rgb(237,237,237)\"}, \"line\": {\"color\": \"white\"}}, \"header\": {\"fill\": {\"color\": \"rgb(217,217,217)\"}, \"line\": {\"color\": \"white\"}}, \"type\": \"table\"}]}, \"layout\": {\"annotationdefaults\": {\"arrowhead\": 0, \"arrowwidth\": 1}, \"autotypenumbers\": \"strict\", \"coloraxis\": {\"colorbar\": {\"outlinewidth\": 1, \"tickcolor\": \"rgb(36,36,36)\", \"ticks\": \"outside\"}}, \"colorscale\": {\"diverging\": [[0.0, \"rgb(103,0,31)\"], [0.1, \"rgb(178,24,43)\"], [0.2, \"rgb(214,96,77)\"], [0.3, \"rgb(244,165,130)\"], [0.4, \"rgb(253,219,199)\"], [0.5, \"rgb(247,247,247)\"], [0.6, \"rgb(209,229,240)\"], [0.7, \"rgb(146,197,222)\"], [0.8, \"rgb(67,147,195)\"], [0.9, \"rgb(33,102,172)\"], [1.0, \"rgb(5,48,97)\"]], \"sequential\": [[0.0, \"#440154\"], [0.1111111111111111, \"#482878\"], [0.2222222222222222, \"#3e4989\"], [0.3333333333333333, \"#31688e\"], [0.4444444444444444, \"#26828e\"], [0.5555555555555556, \"#1f9e89\"], [0.6666666666666666, \"#35b779\"], [0.7777777777777778, \"#6ece58\"], [0.8888888888888888, \"#b5de2b\"], [1.0, \"#fde725\"]], \"sequentialminus\": [[0.0, \"#440154\"], [0.1111111111111111, \"#482878\"], [0.2222222222222222, \"#3e4989\"], [0.3333333333333333, \"#31688e\"], [0.4444444444444444, \"#26828e\"], [0.5555555555555556, \"#1f9e89\"], [0.6666666666666666, \"#35b779\"], [0.7777777777777778, \"#6ece58\"], [0.8888888888888888, \"#b5de2b\"], [1.0, \"#fde725\"]]}, \"colorway\": [\"#1F77B4\", \"#FF7F0E\", \"#2CA02C\", \"#D62728\", \"#9467BD\", \"#8C564B\", \"#E377C2\", \"#7F7F7F\", \"#BCBD22\", \"#17BECF\"], \"font\": {\"color\": \"rgb(36,36,36)\"}, \"geo\": {\"bgcolor\": \"white\", \"lakecolor\": \"white\", \"landcolor\": \"white\", \"showlakes\": true, \"showland\": true, \"subunitcolor\": \"white\"}, \"hoverlabel\": {\"align\": \"left\"}, \"hovermode\": \"closest\", \"mapbox\": {\"style\": \"light\"}, \"paper_bgcolor\": \"white\", \"plot_bgcolor\": \"white\", \"polar\": {\"angularaxis\": {\"gridcolor\": \"rgb(232,232,232)\", \"linecolor\": \"rgb(36,36,36)\", \"showgrid\": false, \"showline\": true, \"ticks\": \"outside\"}, \"bgcolor\": \"white\", \"radialaxis\": {\"gridcolor\": \"rgb(232,232,232)\", \"linecolor\": \"rgb(36,36,36)\", \"showgrid\": false, \"showline\": true, \"ticks\": \"outside\"}}, \"scene\": {\"xaxis\": {\"backgroundcolor\": \"white\", \"gridcolor\": \"rgb(232,232,232)\", \"gridwidth\": 2, \"linecolor\": \"rgb(36,36,36)\", \"showbackground\": true, \"showgrid\": false, \"showline\": true, \"ticks\": \"outside\", \"zeroline\": false, \"zerolinecolor\": \"rgb(36,36,36)\"}, \"yaxis\": {\"backgroundcolor\": \"white\", \"gridcolor\": \"rgb(232,232,232)\", \"gridwidth\": 2, \"linecolor\": \"rgb(36,36,36)\", \"showbackground\": true, \"showgrid\": false, \"showline\": true, \"ticks\": \"outside\", \"zeroline\": false, \"zerolinecolor\": \"rgb(36,36,36)\"}, \"zaxis\": {\"backgroundcolor\": \"white\", \"gridcolor\": \"rgb(232,232,232)\", \"gridwidth\": 2, \"linecolor\": \"rgb(36,36,36)\", \"showbackground\": true, \"showgrid\": false, \"showline\": true, \"ticks\": \"outside\", \"zeroline\": false, \"zerolinecolor\": \"rgb(36,36,36)\"}}, \"shapedefaults\": {\"fillcolor\": \"black\", \"line\": {\"width\": 0}, \"opacity\": 0.3}, \"ternary\": {\"aaxis\": {\"gridcolor\": \"rgb(232,232,232)\", \"linecolor\": \"rgb(36,36,36)\", \"showgrid\": false, \"showline\": true, \"ticks\": \"outside\"}, \"baxis\": {\"gridcolor\": \"rgb(232,232,232)\", \"linecolor\": \"rgb(36,36,36)\", \"showgrid\": false, \"showline\": true, \"ticks\": \"outside\"}, \"bgcolor\": \"white\", \"caxis\": {\"gridcolor\": \"rgb(232,232,232)\", \"linecolor\": \"rgb(36,36,36)\", \"showgrid\": false, \"showline\": true, \"ticks\": \"outside\"}}, \"title\": {\"x\": 0.05}, \"xaxis\": {\"automargin\": true, \"gridcolor\": \"rgb(232,232,232)\", \"linecolor\": \"rgb(36,36,36)\", \"showgrid\": false, \"showline\": true, \"ticks\": \"outside\", \"title\": {\"standoff\": 15}, \"zeroline\": false, \"zerolinecolor\": \"rgb(36,36,36)\"}, \"yaxis\": {\"automargin\": true, \"gridcolor\": \"rgb(232,232,232)\", \"linecolor\": \"rgb(36,36,36)\", \"showgrid\": false, \"showline\": true, \"ticks\": \"outside\", \"title\": {\"standoff\": 15}, \"zeroline\": false, \"zerolinecolor\": \"rgb(36,36,36)\"}}}, \"title\": {\"font\": {\"color\": \"Black\", \"size\": 22}, \"text\": \"<b>Topics over Time\", \"x\": 0.4, \"xanchor\": \"center\", \"y\": 0.95, \"yanchor\": \"top\"}, \"width\": 1250, \"xaxis\": {\"showgrid\": true}, \"yaxis\": {\"showgrid\": true, \"title\": {\"text\": \"Frequency\"}}},                        {\"responsive\": true}                    ).then(function(){\n",
              "                            \n",
              "var gd = document.getElementById('791f96af-cf77-48a9-8fd9-ceb7d0891524');\n",
              "var x = new MutationObserver(function (mutations, observer) {{\n",
              "        var display = window.getComputedStyle(gd).display;\n",
              "        if (!display || display === 'none') {{\n",
              "            console.log([gd, 'removed!']);\n",
              "            Plotly.purge(gd);\n",
              "            observer.disconnect();\n",
              "        }}\n",
              "}});\n",
              "\n",
              "// Listen for the removal of the full notebook cells\n",
              "var notebookContainer = gd.closest('#notebook-container');\n",
              "if (notebookContainer) {{\n",
              "    x.observe(notebookContainer, {childList: true});\n",
              "}}\n",
              "\n",
              "// Listen for the clearing of the current output cell\n",
              "var outputEl = gd.closest('.output');\n",
              "if (outputEl) {{\n",
              "    x.observe(outputEl, {childList: true});\n",
              "}}\n",
              "\n",
              "                        })                };                            </script>        </div>\n",
              "</body>\n",
              "</html>"
            ]
          },
          "metadata": {
            "tags": []
          }
        }
      ]
    },
    {
      "cell_type": "code",
      "metadata": {
        "colab": {
          "base_uri": "https://localhost:8080/",
          "height": 393
        },
        "id": "rVigk8eZsrJt",
        "outputId": "121d3d52-c800-4bd7-8329-919cb2f2b0c9"
      },
      "source": [
        "bestf.visualize_distribution(prof[3])"
      ],
      "execution_count": 206,
      "outputs": [
        {
          "output_type": "display_data",
          "data": {
            "image/png": "[encoded data removed]",
            "text/plain": [
              "<Figure size 720x360 with 1 Axes>"
            ]
          },
          "metadata": {
            "tags": [],
            "needs_background": "light"
          }
        }
      ]
    },
    {
      "cell_type": "code",
      "metadata": {
        "colab": {
          "base_uri": "https://localhost:8080/"
        },
        "id": "uGkAtcTUtTs2",
        "outputId": "bd952711-9730-4718-9234-4a1d9dcc99c1"
      },
      "source": [
        "bestf.find_topics(\"covid\")"
      ],
      "execution_count": 210,
      "outputs": [
        {
          "output_type": "execute_result",
          "data": {
            "text/plain": [
              "([-1, 176, 290, 264, 156],\n",
              " [0.7619295578389759,\n",
              "  0.5224152148982532,\n",
              "  0.3816241651274538,\n",
              "  0.3634569509126971,\n",
              "  0.26850584838515357])"
            ]
          },
          "metadata": {
            "tags": []
          },
          "execution_count": 210
        }
      ]
    },
    {
      "cell_type": "code",
      "metadata": {
        "id": "bp6SVB4Bjz4z"
      },
      "source": [
        "bestf2 = BERTopic.load('/content/drive/My Drive/fasttext_15_ng2')\n",
        "topf2 = np.load('/content/drive/My Drive/array_topics_ft15.npy')\n",
        "prof2 = np.load('/content/drive/My Drive/array_probabilities_ft15.npy')"
      ],
      "execution_count": null,
      "outputs": []
    },
    {
      "cell_type": "code",
      "metadata": {
        "id": "FbvQxieKiy3P"
      },
      "source": [
        "topics_over_time = bestf2.topics_over_time(new_tokens, topf2, clean_times, evolution_tuning = True,\n",
        "                         global_tuning = False)"
      ],
      "execution_count": 171,
      "outputs": []
    },
    {
      "cell_type": "code",
      "metadata": {
        "colab": {
          "base_uri": "https://localhost:8080/",
          "height": 467
        },
        "id": "Q-bRaUgzizBY",
        "outputId": "a40ba689-98e0-40df-fa9a-99921d347ec5"
      },
      "source": [
        "bestf2.visualize_topics_over_time(topics_over_time, topics=[63,102,105,264,331])"
      ],
      "execution_count": 173,
      "outputs": [
        {
          "output_type": "display_data",
          "data": {
            "text/html": [
              "<html>\n",
              "<head><meta charset=\"utf-8\" /></head>\n",
              "<body>\n",
              "    <div>            <script src=\"https://cdnjs.cloudflare.com/ajax/libs/mathjax/2.7.5/MathJax.js?config=TeX-AMS-MML_SVG\"></script><script type=\"text/javascript\">if (window.MathJax) {MathJax.Hub.Config({SVG: {font: \"STIX-Web\"}});}</script>                <script type=\"text/javascript\">window.PlotlyConfig = {MathJaxConfig: 'local'};</script>\n",
              "        <script src=\"https://cdn.plot.ly/plotly-latest.min.js\"></script>                <div id=\"823ea613-d335-457c-ae1a-aa97a38369ff\" class=\"plotly-graph-div\" style=\"height:450px; width:1250px;\"></div>            <script type=\"text/javascript\">                                    window.PLOTLYENV=window.PLOTLYENV || {};                                    if (document.getElementById(\"823ea613-d335-457c-ae1a-aa97a38369ff\")) {                    Plotly.newPlot(                        \"823ea613-d335-457c-ae1a-aa97a38369ff\",                        [{\"hoverinfo\": \"text\", \"hovertext\": [\"<b>Topic 63</b><br>Words: shark, animal, ecosystem, specie, alternative\", \"<b>Topic 63</b><br>Words: shark, animal, alternative, sustainable, ecosystem\", \"<b>Topic 63</b><br>Words: shark, animal, specie, ecosystem, sustainable\", \"<b>Topic 63</b><br>Words: half life, life, literally life, forever folklore, second human\", \"<b>Topic 63</b><br>Words: version plant, plant collective, life bet, collective mind, happen life\", \"<b>Topic 63</b><br>Words: life dodgy, money damn, antibody life, damn people, people kill\", \"<b>Topic 63</b><br>Words: blow universe, philosophy human, human extinction, extinction, solve suffering\", \"<b>Topic 63</b><br>Words: extinction, argument proabort, use destruction, stupidity lead, instrument instead\", \"<b>Topic 63</b><br>Words: wear anglo, life revolve, clothe people, imagine life, people wear\", \"<b>Topic 63</b><br>Words: animal, chemical, human, copious plastic, botox chemical\", \"<b>Topic 63</b><br>Words: creedence clearwater, creedence, fart, farmland essentially, farmland\"], \"marker\": {\"color\": \"#E69F00\"}, \"mode\": \"lines\", \"name\": \"63_shark_animal_sharks_ecosystem\", \"type\": \"scatter\", \"x\": [\"2020-09-28T00:00:00\", \"2020-09-29T00:00:00\", \"2020-09-30T00:00:00\", \"2020-10-29T00:00:00\", \"2020-10-30T00:00:00\", \"2020-11-29T00:00:00\", \"2020-11-30T00:00:00\", \"2020-12-31T00:00:00\", \"2021-01-30T00:00:00\", \"2021-01-31T00:00:00\", \"2021-02-28T00:00:00\"], \"y\": [115, 282, 168, 6, 3, 2, 9, 10, 1, 5, 1]}, {\"hoverinfo\": \"text\", \"hovertext\": [\"<b>Topic 102</b><br>Words: flu, covid, southern hemisphere, hemisphere, regular flu\", \"<b>Topic 102</b><br>Words: flu, flu vaccine, covid, flu season, virus\", \"<b>Topic 102</b><br>Words: flu, flu vaccine, covid, virus, flu covid\", \"<b>Topic 102</b><br>Words: flu, seasonal, mutate, hemisphere, seasonal flu\", \"<b>Topic 102</b><br>Words: flu, flu vaccine, vaccine, flu shot, influenza\", \"<b>Topic 102</b><br>Words: flu, flu vaccine, influenza, virus, inactivate influenza\", \"<b>Topic 102</b><br>Words: flu, cold, cold flu, common cold, virus\", \"<b>Topic 102</b><br>Words: flu, flu shot, covid, flu vaccine, cold\", \"<b>Topic 102</b><br>Words: flu, covid, flu vaccine, flu shot, vaccine flu\", \"<b>Topic 102</b><br>Words: covid kung, flu china, yale know, search learn, virus hey\", \"<b>Topic 102</b><br>Words: flu, flu vaccine, covid, flu shot, symptom\", \"<b>Topic 102</b><br>Words: flu, flu number, covid, reset number, covid reset\", \"<b>Topic 102</b><br>Words: flu, covid, flu vaccine, flu shot, seasonal\"], \"marker\": {\"color\": \"#56B4E9\"}, \"mode\": \"lines\", \"name\": \"102_flu_flu vaccine_flu shot_strain\", \"type\": \"scatter\", \"x\": [\"2020-09-28T00:00:00\", \"2020-09-29T00:00:00\", \"2020-09-30T00:00:00\", \"2020-10-29T00:00:00\", \"2020-10-30T00:00:00\", \"2020-10-31T00:00:00\", \"2020-11-29T00:00:00\", \"2020-11-30T00:00:00\", \"2020-12-31T00:00:00\", \"2021-01-30T00:00:00\", \"2021-01-31T00:00:00\", \"2021-02-27T00:00:00\", \"2021-02-28T00:00:00\"], \"y\": [48, 49, 25, 40, 37, 18, 26, 79, 55, 2, 58, 8, 30]}, {\"hoverinfo\": \"text\", \"hovertext\": [\"<b>Topic 105</b><br>Words: people, flu, think, anonymous coward, quoting anonymous\", \"<b>Topic 105</b><br>Words: think, happen, way, know happen, know\", \"<b>Topic 105</b><br>Words: year, covid, flu, million shark, half million\", \"<b>Topic 105</b><br>Words: short bloody, bloody short, life short, look forward, time\", \"<b>Topic 105</b><br>Words: months, year, die, years, hospital months\", \"<b>Topic 105</b><br>Words: vaccine, year, think, covid, years\", \"<b>Topic 105</b><br>Words: poo, love, know, work, long\", \"<b>Topic 105</b><br>Words: year, poo, months, time, day\", \"<b>Topic 105</b><br>Words: year, pregnant, weeks, time, week\", \"<b>Topic 105</b><br>Words: covid, maskless, attend maskless, husband greg, feel\", \"<b>Topic 105</b><br>Words: jab, weeks, week, shot, baby\", \"<b>Topic 105</b><br>Words: feel, weeks, think, shot, know\", \"<b>Topic 105</b><br>Words: day, week, shot, second, arm\"], \"marker\": {\"color\": \"#009E73\"}, \"mode\": \"lines\", \"name\": \"105_year_time_weeks_day\", \"type\": \"scatter\", \"x\": [\"2020-09-28T00:00:00\", \"2020-09-29T00:00:00\", \"2020-09-30T00:00:00\", \"2020-10-29T00:00:00\", \"2020-10-30T00:00:00\", \"2020-10-31T00:00:00\", \"2020-11-29T00:00:00\", \"2020-11-30T00:00:00\", \"2020-12-31T00:00:00\", \"2021-01-30T00:00:00\", \"2021-01-31T00:00:00\", \"2021-02-27T00:00:00\", \"2021-02-28T00:00:00\"], \"y\": [58, 78, 67, 99, 92, 66, 46, 252, 343, 9, 359, 136, 338]}, {\"hoverinfo\": \"text\", \"hovertext\": [\"<b>Topic 264</b><br>Words: 000, population, death, 203 000, million\", \"<b>Topic 264</b><br>Words: death, die, toll, rate, risk poor\", \"<b>Topic 264</b><br>Words: 000, estimate, death, million, flu\", \"<b>Topic 264</b><br>Words: death, apple, winker frogen, jake winker, covid death\", \"<b>Topic 264</b><br>Words: death, frogen, jake winker, winker frogen, jake\", \"<b>Topic 264</b><br>Words: 000, million, death, 236 000, 94 million\", \"<b>Topic 264</b><br>Words: death, death rate, rate 300, rate, 300 000\", \"<b>Topic 264</b><br>Words: death, 000, 000 people, risk death, 50\", \"<b>Topic 264</b><br>Words: 000, day, 000 test, million day, 700 000\", \"<b>Topic 264</b><br>Words: 000, death, number, million, 600\", \"<b>Topic 264</b><br>Words: death, age, 000, age death, case\", \"<b>Topic 264</b><br>Words: death, 000, uk death, 000 000, death rate\"], \"marker\": {\"color\": \"#F0E442\"}, \"mode\": \"lines\", \"name\": \"264_death_000_covid_rate\", \"type\": \"scatter\", \"x\": [\"2020-09-28T00:00:00\", \"2020-09-29T00:00:00\", \"2020-09-30T00:00:00\", \"2020-10-29T00:00:00\", \"2020-10-30T00:00:00\", \"2020-10-31T00:00:00\", \"2020-11-29T00:00:00\", \"2020-11-30T00:00:00\", \"2020-12-31T00:00:00\", \"2021-01-31T00:00:00\", \"2021-02-27T00:00:00\", \"2021-02-28T00:00:00\"], \"y\": [10, 14, 12, 22, 17, 13, 4, 54, 43, 45, 12, 22]}, {\"hoverinfo\": \"text\", \"hovertext\": [\"<b>Topic 331</b><br>Words: like, game, crazy, decent guy, damn know\", \"<b>Topic 331</b><br>Words: walk, day eager, drink time, bod nvax, eager walk\", \"<b>Topic 331</b><br>Words: rise oil, gas 2030, come bull, shill shitty, shitty idea\", \"<b>Topic 331</b><br>Words: game, cyberpunk, sky, console, play\", \"<b>Topic 331</b><br>Words: game, release, cyberpunk, play, original release\", \"<b>Topic 331</b><br>Words: appreciate projekt, push reason, release basically, covid rn, perfect appreciate\", \"<b>Topic 331</b><br>Words: die covid, coward, die, fucking, epic dumb\", \"<b>Topic 331</b><br>Words: damnit, month buy, stan win, win game, fix 911\", \"<b>Topic 331</b><br>Words: technician wot, strong ass, gutte know, pj yeah, gag mean\", \"<b>Topic 331</b><br>Words: pump feed, yes pump, pump yes, farmland essentially, fart american\", \"<b>Topic 331</b><br>Words: sit ass, lol huge, big mind, game roll, ward big\", \"<b>Topic 331</b><br>Words: wait pobra, life game, pobra send, ankle boot, crutch need\"], \"marker\": {\"color\": \"#D55E00\"}, \"mode\": \"lines\", \"name\": \"331_game_cyberpunk_play_sky\", \"type\": \"scatter\", \"x\": [\"2020-09-28T00:00:00\", \"2020-09-29T00:00:00\", \"2020-09-30T00:00:00\", \"2020-10-29T00:00:00\", \"2020-10-30T00:00:00\", \"2020-10-31T00:00:00\", \"2020-11-29T00:00:00\", \"2020-11-30T00:00:00\", \"2020-12-31T00:00:00\", \"2021-01-30T00:00:00\", \"2021-01-31T00:00:00\", \"2021-02-28T00:00:00\"], \"y\": [4, 3, 2, 255, 102, 5, 1, 6, 8, 1, 3, 3]}],                        {\"height\": 450, \"hoverlabel\": {\"bgcolor\": \"white\", \"font\": {\"family\": \"Rockwell\", \"size\": 16}}, \"legend\": {\"title\": {\"text\": \"<b>Global Topic Representation\"}}, \"template\": {\"data\": {\"bar\": [{\"error_x\": {\"color\": \"rgb(36,36,36)\"}, \"error_y\": {\"color\": \"rgb(36,36,36)\"}, \"marker\": {\"line\": {\"color\": \"white\", \"width\": 0.5}}, \"type\": \"bar\"}], \"barpolar\": [{\"marker\": {\"line\": {\"color\": \"white\", \"width\": 0.5}}, \"type\": \"barpolar\"}], \"carpet\": [{\"aaxis\": {\"endlinecolor\": \"rgb(36,36,36)\", \"gridcolor\": \"white\", \"linecolor\": \"white\", \"minorgridcolor\": \"white\", \"startlinecolor\": \"rgb(36,36,36)\"}, \"baxis\": {\"endlinecolor\": \"rgb(36,36,36)\", \"gridcolor\": \"white\", \"linecolor\": \"white\", \"minorgridcolor\": \"white\", \"startlinecolor\": \"rgb(36,36,36)\"}, \"type\": \"carpet\"}], \"choropleth\": [{\"colorbar\": {\"outlinewidth\": 1, \"tickcolor\": \"rgb(36,36,36)\", \"ticks\": \"outside\"}, \"type\": \"choropleth\"}], \"contour\": [{\"colorbar\": {\"outlinewidth\": 1, \"tickcolor\": \"rgb(36,36,36)\", \"ticks\": \"outside\"}, \"colorscale\": [[0.0, \"#440154\"], [0.1111111111111111, \"#482878\"], [0.2222222222222222, \"#3e4989\"], [0.3333333333333333, \"#31688e\"], [0.4444444444444444, \"#26828e\"], [0.5555555555555556, \"#1f9e89\"], [0.6666666666666666, \"#35b779\"], [0.7777777777777778, \"#6ece58\"], [0.8888888888888888, \"#b5de2b\"], [1.0, \"#fde725\"]], \"type\": \"contour\"}], \"contourcarpet\": [{\"colorbar\": {\"outlinewidth\": 1, \"tickcolor\": \"rgb(36,36,36)\", \"ticks\": \"outside\"}, \"type\": \"contourcarpet\"}], \"heatmap\": [{\"colorbar\": {\"outlinewidth\": 1, \"tickcolor\": \"rgb(36,36,36)\", \"ticks\": \"outside\"}, \"colorscale\": [[0.0, \"#440154\"], [0.1111111111111111, \"#482878\"], [0.2222222222222222, \"#3e4989\"], [0.3333333333333333, \"#31688e\"], [0.4444444444444444, \"#26828e\"], [0.5555555555555556, \"#1f9e89\"], [0.6666666666666666, \"#35b779\"], [0.7777777777777778, \"#6ece58\"], [0.8888888888888888, \"#b5de2b\"], [1.0, \"#fde725\"]], \"type\": \"heatmap\"}], \"heatmapgl\": [{\"colorbar\": {\"outlinewidth\": 1, \"tickcolor\": \"rgb(36,36,36)\", \"ticks\": \"outside\"}, \"colorscale\": [[0.0, \"#440154\"], [0.1111111111111111, \"#482878\"], [0.2222222222222222, \"#3e4989\"], [0.3333333333333333, \"#31688e\"], [0.4444444444444444, \"#26828e\"], [0.5555555555555556, \"#1f9e89\"], [0.6666666666666666, \"#35b779\"], [0.7777777777777778, \"#6ece58\"], [0.8888888888888888, \"#b5de2b\"], [1.0, \"#fde725\"]], \"type\": \"heatmapgl\"}], \"histogram\": [{\"marker\": {\"line\": {\"color\": \"white\", \"width\": 0.6}}, \"type\": \"histogram\"}], \"histogram2d\": [{\"colorbar\": {\"outlinewidth\": 1, \"tickcolor\": \"rgb(36,36,36)\", \"ticks\": \"outside\"}, \"colorscale\": [[0.0, \"#440154\"], [0.1111111111111111, \"#482878\"], [0.2222222222222222, \"#3e4989\"], [0.3333333333333333, \"#31688e\"], [0.4444444444444444, \"#26828e\"], [0.5555555555555556, \"#1f9e89\"], [0.6666666666666666, \"#35b779\"], [0.7777777777777778, \"#6ece58\"], [0.8888888888888888, \"#b5de2b\"], [1.0, \"#fde725\"]], \"type\": \"histogram2d\"}], \"histogram2dcontour\": [{\"colorbar\": {\"outlinewidth\": 1, \"tickcolor\": \"rgb(36,36,36)\", \"ticks\": \"outside\"}, \"colorscale\": [[0.0, \"#440154\"], [0.1111111111111111, \"#482878\"], [0.2222222222222222, \"#3e4989\"], [0.3333333333333333, \"#31688e\"], [0.4444444444444444, \"#26828e\"], [0.5555555555555556, \"#1f9e89\"], [0.6666666666666666, \"#35b779\"], [0.7777777777777778, \"#6ece58\"], [0.8888888888888888, \"#b5de2b\"], [1.0, \"#fde725\"]], \"type\": \"histogram2dcontour\"}], \"mesh3d\": [{\"colorbar\": {\"outlinewidth\": 1, \"tickcolor\": \"rgb(36,36,36)\", \"ticks\": \"outside\"}, \"type\": \"mesh3d\"}], \"parcoords\": [{\"line\": {\"colorbar\": {\"outlinewidth\": 1, \"tickcolor\": \"rgb(36,36,36)\", \"ticks\": \"outside\"}}, \"type\": \"parcoords\"}], \"pie\": [{\"automargin\": true, \"type\": \"pie\"}], \"scatter\": [{\"marker\": {\"colorbar\": {\"outlinewidth\": 1, \"tickcolor\": \"rgb(36,36,36)\", \"ticks\": \"outside\"}}, \"type\": \"scatter\"}], \"scatter3d\": [{\"line\": {\"colorbar\": {\"outlinewidth\": 1, \"tickcolor\": \"rgb(36,36,36)\", \"ticks\": \"outside\"}}, \"marker\": {\"colorbar\": {\"outlinewidth\": 1, \"tickcolor\": \"rgb(36,36,36)\", \"ticks\": \"outside\"}}, \"type\": \"scatter3d\"}], \"scattercarpet\": [{\"marker\": {\"colorbar\": {\"outlinewidth\": 1, \"tickcolor\": \"rgb(36,36,36)\", \"ticks\": \"outside\"}}, \"type\": \"scattercarpet\"}], \"scattergeo\": [{\"marker\": {\"colorbar\": {\"outlinewidth\": 1, \"tickcolor\": \"rgb(36,36,36)\", \"ticks\": \"outside\"}}, \"type\": \"scattergeo\"}], \"scattergl\": [{\"marker\": {\"colorbar\": {\"outlinewidth\": 1, \"tickcolor\": \"rgb(36,36,36)\", \"ticks\": \"outside\"}}, \"type\": \"scattergl\"}], \"scattermapbox\": [{\"marker\": {\"colorbar\": {\"outlinewidth\": 1, \"tickcolor\": \"rgb(36,36,36)\", \"ticks\": \"outside\"}}, \"type\": \"scattermapbox\"}], \"scatterpolar\": [{\"marker\": {\"colorbar\": {\"outlinewidth\": 1, \"tickcolor\": \"rgb(36,36,36)\", \"ticks\": \"outside\"}}, \"type\": \"scatterpolar\"}], \"scatterpolargl\": [{\"marker\": {\"colorbar\": {\"outlinewidth\": 1, \"tickcolor\": \"rgb(36,36,36)\", \"ticks\": \"outside\"}}, \"type\": \"scatterpolargl\"}], \"scatterternary\": [{\"marker\": {\"colorbar\": {\"outlinewidth\": 1, \"tickcolor\": \"rgb(36,36,36)\", \"ticks\": \"outside\"}}, \"type\": \"scatterternary\"}], \"surface\": [{\"colorbar\": {\"outlinewidth\": 1, \"tickcolor\": \"rgb(36,36,36)\", \"ticks\": \"outside\"}, \"colorscale\": [[0.0, \"#440154\"], [0.1111111111111111, \"#482878\"], [0.2222222222222222, \"#3e4989\"], [0.3333333333333333, \"#31688e\"], [0.4444444444444444, \"#26828e\"], [0.5555555555555556, \"#1f9e89\"], [0.6666666666666666, \"#35b779\"], [0.7777777777777778, \"#6ece58\"], [0.8888888888888888, \"#b5de2b\"], [1.0, \"#fde725\"]], \"type\": \"surface\"}], \"table\": [{\"cells\": {\"fill\": {\"color\": \"rgb(237,237,237)\"}, \"line\": {\"color\": \"white\"}}, \"header\": {\"fill\": {\"color\": \"rgb(217,217,217)\"}, \"line\": {\"color\": \"white\"}}, \"type\": \"table\"}]}, \"layout\": {\"annotationdefaults\": {\"arrowhead\": 0, \"arrowwidth\": 1}, \"autotypenumbers\": \"strict\", \"coloraxis\": {\"colorbar\": {\"outlinewidth\": 1, \"tickcolor\": \"rgb(36,36,36)\", \"ticks\": \"outside\"}}, \"colorscale\": {\"diverging\": [[0.0, \"rgb(103,0,31)\"], [0.1, \"rgb(178,24,43)\"], [0.2, \"rgb(214,96,77)\"], [0.3, \"rgb(244,165,130)\"], [0.4, \"rgb(253,219,199)\"], [0.5, \"rgb(247,247,247)\"], [0.6, \"rgb(209,229,240)\"], [0.7, \"rgb(146,197,222)\"], [0.8, \"rgb(67,147,195)\"], [0.9, \"rgb(33,102,172)\"], [1.0, \"rgb(5,48,97)\"]], \"sequential\": [[0.0, \"#440154\"], [0.1111111111111111, \"#482878\"], [0.2222222222222222, \"#3e4989\"], [0.3333333333333333, \"#31688e\"], [0.4444444444444444, \"#26828e\"], [0.5555555555555556, \"#1f9e89\"], [0.6666666666666666, \"#35b779\"], [0.7777777777777778, \"#6ece58\"], [0.8888888888888888, \"#b5de2b\"], [1.0, \"#fde725\"]], \"sequentialminus\": [[0.0, \"#440154\"], [0.1111111111111111, \"#482878\"], [0.2222222222222222, \"#3e4989\"], [0.3333333333333333, \"#31688e\"], [0.4444444444444444, \"#26828e\"], [0.5555555555555556, \"#1f9e89\"], [0.6666666666666666, \"#35b779\"], [0.7777777777777778, \"#6ece58\"], [0.8888888888888888, \"#b5de2b\"], [1.0, \"#fde725\"]]}, \"colorway\": [\"#1F77B4\", \"#FF7F0E\", \"#2CA02C\", \"#D62728\", \"#9467BD\", \"#8C564B\", \"#E377C2\", \"#7F7F7F\", \"#BCBD22\", \"#17BECF\"], \"font\": {\"color\": \"rgb(36,36,36)\"}, \"geo\": {\"bgcolor\": \"white\", \"lakecolor\": \"white\", \"landcolor\": \"white\", \"showlakes\": true, \"showland\": true, \"subunitcolor\": \"white\"}, \"hoverlabel\": {\"align\": \"left\"}, \"hovermode\": \"closest\", \"mapbox\": {\"style\": \"light\"}, \"paper_bgcolor\": \"white\", \"plot_bgcolor\": \"white\", \"polar\": {\"angularaxis\": {\"gridcolor\": \"rgb(232,232,232)\", \"linecolor\": \"rgb(36,36,36)\", \"showgrid\": false, \"showline\": true, \"ticks\": \"outside\"}, \"bgcolor\": \"white\", \"radialaxis\": {\"gridcolor\": \"rgb(232,232,232)\", \"linecolor\": \"rgb(36,36,36)\", \"showgrid\": false, \"showline\": true, \"ticks\": \"outside\"}}, \"scene\": {\"xaxis\": {\"backgroundcolor\": \"white\", \"gridcolor\": \"rgb(232,232,232)\", \"gridwidth\": 2, \"linecolor\": \"rgb(36,36,36)\", \"showbackground\": true, \"showgrid\": false, \"showline\": true, \"ticks\": \"outside\", \"zeroline\": false, \"zerolinecolor\": \"rgb(36,36,36)\"}, \"yaxis\": {\"backgroundcolor\": \"white\", \"gridcolor\": \"rgb(232,232,232)\", \"gridwidth\": 2, \"linecolor\": \"rgb(36,36,36)\", \"showbackground\": true, \"showgrid\": false, \"showline\": true, \"ticks\": \"outside\", \"zeroline\": false, \"zerolinecolor\": \"rgb(36,36,36)\"}, \"zaxis\": {\"backgroundcolor\": \"white\", \"gridcolor\": \"rgb(232,232,232)\", \"gridwidth\": 2, \"linecolor\": \"rgb(36,36,36)\", \"showbackground\": true, \"showgrid\": false, \"showline\": true, \"ticks\": \"outside\", \"zeroline\": false, \"zerolinecolor\": \"rgb(36,36,36)\"}}, \"shapedefaults\": {\"fillcolor\": \"black\", \"line\": {\"width\": 0}, \"opacity\": 0.3}, \"ternary\": {\"aaxis\": {\"gridcolor\": \"rgb(232,232,232)\", \"linecolor\": \"rgb(36,36,36)\", \"showgrid\": false, \"showline\": true, \"ticks\": \"outside\"}, \"baxis\": {\"gridcolor\": \"rgb(232,232,232)\", \"linecolor\": \"rgb(36,36,36)\", \"showgrid\": false, \"showline\": true, \"ticks\": \"outside\"}, \"bgcolor\": \"white\", \"caxis\": {\"gridcolor\": \"rgb(232,232,232)\", \"linecolor\": \"rgb(36,36,36)\", \"showgrid\": false, \"showline\": true, \"ticks\": \"outside\"}}, \"title\": {\"x\": 0.05}, \"xaxis\": {\"automargin\": true, \"gridcolor\": \"rgb(232,232,232)\", \"linecolor\": \"rgb(36,36,36)\", \"showgrid\": false, \"showline\": true, \"ticks\": \"outside\", \"title\": {\"standoff\": 15}, \"zeroline\": false, \"zerolinecolor\": \"rgb(36,36,36)\"}, \"yaxis\": {\"automargin\": true, \"gridcolor\": \"rgb(232,232,232)\", \"linecolor\": \"rgb(36,36,36)\", \"showgrid\": false, \"showline\": true, \"ticks\": \"outside\", \"title\": {\"standoff\": 15}, \"zeroline\": false, \"zerolinecolor\": \"rgb(36,36,36)\"}}}, \"title\": {\"font\": {\"color\": \"Black\", \"size\": 22}, \"text\": \"<b>Topics over Time\", \"x\": 0.4, \"xanchor\": \"center\", \"y\": 0.95, \"yanchor\": \"top\"}, \"width\": 1250, \"xaxis\": {\"showgrid\": true}, \"yaxis\": {\"showgrid\": true, \"title\": {\"text\": \"Frequency\"}}},                        {\"responsive\": true}                    ).then(function(){\n",
              "                            \n",
              "var gd = document.getElementById('823ea613-d335-457c-ae1a-aa97a38369ff');\n",
              "var x = new MutationObserver(function (mutations, observer) {{\n",
              "        var display = window.getComputedStyle(gd).display;\n",
              "        if (!display || display === 'none') {{\n",
              "            console.log([gd, 'removed!']);\n",
              "            Plotly.purge(gd);\n",
              "            observer.disconnect();\n",
              "        }}\n",
              "}});\n",
              "\n",
              "// Listen for the removal of the full notebook cells\n",
              "var notebookContainer = gd.closest('#notebook-container');\n",
              "if (notebookContainer) {{\n",
              "    x.observe(notebookContainer, {childList: true});\n",
              "}}\n",
              "\n",
              "// Listen for the clearing of the current output cell\n",
              "var outputEl = gd.closest('.output');\n",
              "if (outputEl) {{\n",
              "    x.observe(outputEl, {childList: true});\n",
              "}}\n",
              "\n",
              "                        })                };                            </script>        </div>\n",
              "</body>\n",
              "</html>"
            ]
          },
          "metadata": {
            "tags": []
          }
        }
      ]
    },
    {
      "cell_type": "code",
      "metadata": {
        "colab": {
          "base_uri": "https://localhost:8080/",
          "height": 393
        },
        "id": "RuT7w0bdtDmJ",
        "outputId": "51e7dedc-c4cf-4400-d5a7-6317c36984c8"
      },
      "source": [
        "bestf2.visualize_distribution(prof2[3])"
      ],
      "execution_count": 208,
      "outputs": [
        {
          "output_type": "display_data",
          "data": {
            "image/png": "[encoded data removed]",
            "text/plain": [
              "<Figure size 720x360 with 1 Axes>"
            ]
          },
          "metadata": {
            "tags": [],
            "needs_background": "light"
          }
        }
      ]
    },
    {
      "cell_type": "code",
      "metadata": {
        "colab": {
          "base_uri": "https://localhost:8080/"
        },
        "id": "2GEEYABptJDQ",
        "outputId": "908d0735-7ba1-4f41-b4d4-aff083e25c14"
      },
      "source": [
        "bestf2.find_topics(\"covid\")\n"
      ],
      "execution_count": 209,
      "outputs": [
        {
          "output_type": "execute_result",
          "data": {
            "text/plain": [
              "([-1, 102, 312, 264, 340],\n",
              " [0.7601078047263611,\n",
              "  0.46351903996075755,\n",
              "  0.38604884589988525,\n",
              "  0.37059165961729584,\n",
              "  0.3632601630284634])"
            ]
          },
          "metadata": {
            "tags": []
          },
          "execution_count": 209
        }
      ]
    },
    {
      "cell_type": "markdown",
      "metadata": {
        "id": "-JumcZBpjqTK"
      },
      "source": [
        "# **Sentence Transformers**"
      ]
    },
    {
      "cell_type": "code",
      "metadata": {
        "id": "GiF915sp4kKs"
      },
      "source": [
        "from sentence_transformers import SentenceTransformer, InputExample, losses\n",
        "from torch.utils.data import DataLoader\n",
        "from torch import nn\n",
        "\n",
        "# Use BERT for mapping tokens to embeddings\n",
        "word_embedding_model = models.Transformer('bert-base-uncased')\n",
        "\n",
        "# Apply mean pooling to get one fixed sized sentence vector\n",
        "pooling_model = models.Pooling(word_embedding_model.get_word_embedding_dimension())\n",
        "\n",
        "sentence_model = SentenceTransformer(modules=[word_embedding_model, pooling_model])\n",
        "embeddings = sentence_model.encode(docs, show_progress_bar=True)"
      ],
      "execution_count": null,
      "outputs": []
    },
    {
      "cell_type": "code",
      "metadata": {
        "id": "2bzwuKYbqCdv"
      },
      "source": [
        "topic_model = BERTopic(nr_topics = 10, calculate_probabilities=True)"
      ],
      "execution_count": null,
      "outputs": []
    },
    {
      "cell_type": "code",
      "metadata": {
        "id": "tuZwnTvPWM5R"
      },
      "source": [
        "topics, probabilities = topic_model.fit_transform(docs_clean, embeddings)"
      ],
      "execution_count": null,
      "outputs": []
    },
    {
      "cell_type": "markdown",
      "metadata": {
        "id": "l96LoczPpXJa"
      },
      "source": [
        "# **Testing BERTopic**"
      ]
    },
    {
      "cell_type": "code",
      "metadata": {
        "colab": {
          "base_uri": "https://localhost:8080/",
          "height": 373
        },
        "id": "6m6vLTLchVYz",
        "outputId": "4dbea329-490f-4c2a-b566-276e343e4923"
      },
      "source": [
        "topic_model.get_topic_info()"
      ],
      "execution_count": null,
      "outputs": [
        {
          "output_type": "execute_result",
          "data": {
            "text/html": [
              "<div>\n",
              "<style scoped>\n",
              "    .dataframe tbody tr th:only-of-type {\n",
              "        vertical-align: middle;\n",
              "    }\n",
              "\n",
              "    .dataframe tbody tr th {\n",
              "        vertical-align: top;\n",
              "    }\n",
              "\n",
              "    .dataframe thead th {\n",
              "        text-align: right;\n",
              "    }\n",
              "</style>\n",
              "<table border=\"1\" class=\"dataframe\">\n",
              "  <thead>\n",
              "    <tr style=\"text-align: right;\">\n",
              "      <th></th>\n",
              "      <th>Topic</th>\n",
              "      <th>Count</th>\n",
              "      <th>Name</th>\n",
              "    </tr>\n",
              "  </thead>\n",
              "  <tbody>\n",
              "    <tr>\n",
              "      <th>0</th>\n",
              "      <td>-1</td>\n",
              "      <td>17925</td>\n",
              "      <td>-1_flu_countri_come_start</td>\n",
              "    </tr>\n",
              "    <tr>\n",
              "      <th>1</th>\n",
              "      <td>201</td>\n",
              "      <td>1496</td>\n",
              "      <td>201_idiot_decim_altern_clearli</td>\n",
              "    </tr>\n",
              "    <tr>\n",
              "      <th>2</th>\n",
              "      <td>144</td>\n",
              "      <td>1067</td>\n",
              "      <td>144_england_scotland_prestwick_coolsharpharp</td>\n",
              "    </tr>\n",
              "    <tr>\n",
              "      <th>3</th>\n",
              "      <td>29</td>\n",
              "      <td>993</td>\n",
              "      <td>29_impeach_presid_devot_trump</td>\n",
              "    </tr>\n",
              "    <tr>\n",
              "      <th>4</th>\n",
              "      <td>108</td>\n",
              "      <td>945</td>\n",
              "      <td>108_park_march_stay_alcohol</td>\n",
              "    </tr>\n",
              "    <tr>\n",
              "      <th>5</th>\n",
              "      <td>181</td>\n",
              "      <td>882</td>\n",
              "      <td>181_chanc_booster_catch_mutat</td>\n",
              "    </tr>\n",
              "    <tr>\n",
              "      <th>6</th>\n",
              "      <td>283</td>\n",
              "      <td>733</td>\n",
              "      <td>283_southern_msm_hemispher_regular</td>\n",
              "    </tr>\n",
              "    <tr>\n",
              "      <th>7</th>\n",
              "      <td>269</td>\n",
              "      <td>671</td>\n",
              "      <td>269_hide_idea_prove_scienc</td>\n",
              "    </tr>\n",
              "    <tr>\n",
              "      <th>8</th>\n",
              "      <td>279</td>\n",
              "      <td>488</td>\n",
              "      <td>279_januari_uninsur_serolog_test</td>\n",
              "    </tr>\n",
              "    <tr>\n",
              "      <th>9</th>\n",
              "      <td>149</td>\n",
              "      <td>446</td>\n",
              "      <td>149_flat_freyasman_alabama_ohio</td>\n",
              "    </tr>\n",
              "    <tr>\n",
              "      <th>10</th>\n",
              "      <td>282</td>\n",
              "      <td>394</td>\n",
              "      <td>282_someon_fat_35_duti</td>\n",
              "    </tr>\n",
              "  </tbody>\n",
              "</table>\n",
              "</div>"
            ],
            "text/plain": [
              "    Topic  Count                                          Name\n",
              "0      -1  17925                     -1_flu_countri_come_start\n",
              "1     201   1496                201_idiot_decim_altern_clearli\n",
              "2     144   1067  144_england_scotland_prestwick_coolsharpharp\n",
              "3      29    993                 29_impeach_presid_devot_trump\n",
              "4     108    945                   108_park_march_stay_alcohol\n",
              "5     181    882                 181_chanc_booster_catch_mutat\n",
              "6     283    733            283_southern_msm_hemispher_regular\n",
              "7     269    671                    269_hide_idea_prove_scienc\n",
              "8     279    488              279_januari_uninsur_serolog_test\n",
              "9     149    446               149_flat_freyasman_alabama_ohio\n",
              "10    282    394                        282_someon_fat_35_duti"
            ]
          },
          "metadata": {
            "tags": []
          },
          "execution_count": 137
        }
      ]
    },
    {
      "cell_type": "code",
      "metadata": {
        "id": "ZWBgKf5hJum9"
      },
      "source": [
        "def find_docs(topic_id):\n",
        "    x = []\n",
        "    for idx, item in enumerate(top2):\n",
        "        if top2[idx]==topic_id:\n",
        "            x.append(idx)\n",
        "    return x"
      ],
      "execution_count": 214,
      "outputs": []
    },
    {
      "cell_type": "code",
      "metadata": {
        "id": "ZobAVmsEJ0hv"
      },
      "source": [
        "found_docs = find_docs(3)"
      ],
      "execution_count": 215,
      "outputs": []
    },
    {
      "cell_type": "code",
      "metadata": {
        "colab": {
          "base_uri": "https://localhost:8080/"
        },
        "id": "UbK3PVzBJ52T",
        "outputId": "c6a4c533-0de4-4807-afdd-4af08d12cd6e"
      },
      "source": [
        "for i in range(5):   \n",
        "    print(f\"Document: {found_docs[i]}\")\n",
        "    print(\"-----------\")\n",
        "    print(new_tokens[found_docs[i]]) \n",
        "    print(\"-----------\")\n",
        "    print()\n"
      ],
      "execution_count": 216,
      "outputs": [
        {
          "output_type": "stream",
          "text": [
            "Document: 0\n",
            "-----------\n",
            "deserve planet\n",
            "-----------\n",
            "\n",
            "Document: 6\n",
            "-----------\n",
            "stop destroy ecosystem\n",
            "-----------\n",
            "\n",
            "Document: 9\n",
            "-----------\n",
            "completely utterly unethical immoral\n",
            "-----------\n",
            "\n",
            "Document: 12\n",
            "-----------\n",
            "marine predator balance ocean mess ocean suffer wake\n",
            "-----------\n",
            "\n",
            "Document: 13\n",
            "-----------\n",
            "life precious decimate species endanger answer option explore\n",
            "-----------\n",
            "\n"
          ],
          "name": "stdout"
        }
      ]
    },
    {
      "cell_type": "code",
      "metadata": {
        "colab": {
          "base_uri": "https://localhost:8080/",
          "height": 393
        },
        "id": "b5KKqwZdQHjT",
        "outputId": "70a31e13-6fa8-45d5-afad-cc2021067dc3"
      },
      "source": [
        "best2.visualize_distribution(pro2[found_docs[1]])"
      ],
      "execution_count": 227,
      "outputs": [
        {
          "output_type": "display_data",
          "data": {
            "image/png": "[encoded data removed]",
            "text/plain": [
              "<Figure size 720x360 with 1 Axes>"
            ]
          },
          "metadata": {
            "tags": [],
            "needs_background": "light"
          }
        }
      ]
    },
    {
      "cell_type": "code",
      "metadata": {
        "id": "NsjyUmwcFw5Y"
      },
      "source": [
        "oh = BERTopic.load('/content/drive/My Drive/my_model1')"
      ],
      "execution_count": null,
      "outputs": []
    },
    {
      "cell_type": "code",
      "metadata": {
        "id": "-IbME_BJ32ka"
      },
      "source": [
        "my = BERTopic.load('/content/drive/My Drive/fasttext1_model')"
      ],
      "execution_count": null,
      "outputs": []
    }
  ]
}