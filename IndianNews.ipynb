{
  "nbformat": 4,
  "nbformat_minor": 0,
  "metadata": {
    "colab": {
      "name": "IndianNews.ipynb",
      "provenance": [],
      "collapsed_sections": [
        "G4UERwEgVsvz"
      ],
      "authorship_tag": "ABX9TyPuIe56bZUBU2oV3dPDMQto",
      "include_colab_link": true
    },
    "kernelspec": {
      "name": "python3",
      "display_name": "Python 3"
    },
    "language_info": {
      "name": "python"
    }
  },
  "cells": [
    {
      "cell_type": "markdown",
      "metadata": {
        "id": "view-in-github",
        "colab_type": "text"
      },
      "source": [
        "<a href=\"https://colab.research.google.com/github/zain711/dcipher/blob/main/IndianNews.ipynb\" target=\"_parent\"><img src=\"https://colab.research.google.com/assets/colab-badge.svg\" alt=\"Open In Colab\"/></a>"
      ]
    },
    {
      "cell_type": "code",
      "metadata": {
        "id": "ItEOnH2nr7IC"
      },
      "source": [
        "!pip install bertopic\n",
        "!pip install bertopic[visualization]\n",
        "!pip install bert-extractive-summarizer\n",
        "!pip install plotly\n",
        "!pip install torch\n",
        "!pip install tensorflow\n",
        "!pip install flair"
      ],
      "execution_count": null,
      "outputs": []
    },
    {
      "cell_type": "code",
      "metadata": {
        "colab": {
          "base_uri": "https://localhost:8080/"
        },
        "id": "yblzcekAc0ha",
        "outputId": "fced1819-7d54-4b7a-e70b-ed31401996d1"
      },
      "source": [
        "!pip install 'umap-learn==0.5.0'"
      ],
      "execution_count": 2,
      "outputs": [
        {
          "output_type": "stream",
          "text": [
            "Collecting umap-learn==0.5.0\n",
            "\u001b[?25l  Downloading https://files.pythonhosted.org/packages/f1/53/3b1598971f4cfe30841ed3390a09820ce830143fd3374fe4f7707175d219/umap-learn-0.5.0.tar.gz (81kB)\n",
            "\r\u001b[K     |████                            | 10kB 14.7MB/s eta 0:00:01\r\u001b[K     |████████                        | 20kB 11.4MB/s eta 0:00:01\r\u001b[K     |████████████                    | 30kB 7.3MB/s eta 0:00:01\r\u001b[K     |████████████████                | 40kB 6.5MB/s eta 0:00:01\r\u001b[K     |████████████████████            | 51kB 4.0MB/s eta 0:00:01\r\u001b[K     |████████████████████████        | 61kB 4.7MB/s eta 0:00:01\r\u001b[K     |████████████████████████████    | 71kB 4.8MB/s eta 0:00:01\r\u001b[K     |████████████████████████████████| 81kB 3.1MB/s \n",
            "\u001b[?25hRequirement already satisfied: numpy>=1.17 in /usr/local/lib/python3.7/dist-packages (from umap-learn==0.5.0) (1.19.5)\n",
            "Requirement already satisfied: scikit-learn>=0.22 in /usr/local/lib/python3.7/dist-packages (from umap-learn==0.5.0) (0.22.2.post1)\n",
            "Requirement already satisfied: scipy>=1.0 in /usr/local/lib/python3.7/dist-packages (from umap-learn==0.5.0) (1.4.1)\n",
            "Requirement already satisfied: numba>=0.49 in /usr/local/lib/python3.7/dist-packages (from umap-learn==0.5.0) (0.51.2)\n",
            "Requirement already satisfied: pynndescent>=0.5 in /usr/local/lib/python3.7/dist-packages (from umap-learn==0.5.0) (0.5.2)\n",
            "Requirement already satisfied: joblib>=0.11 in /usr/local/lib/python3.7/dist-packages (from scikit-learn>=0.22->umap-learn==0.5.0) (1.0.1)\n",
            "Requirement already satisfied: setuptools in /usr/local/lib/python3.7/dist-packages (from numba>=0.49->umap-learn==0.5.0) (54.2.0)\n",
            "Requirement already satisfied: llvmlite<0.35,>=0.34.0.dev0 in /usr/local/lib/python3.7/dist-packages (from numba>=0.49->umap-learn==0.5.0) (0.34.0)\n",
            "Building wheels for collected packages: umap-learn\n",
            "  Building wheel for umap-learn (setup.py) ... \u001b[?25l\u001b[?25hdone\n",
            "  Created wheel for umap-learn: filename=umap_learn-0.5.0-cp37-none-any.whl size=76337 sha256=cd58458b34b24e4791bd05bc08c4d312e67230d60bd9d0db7381a412a186ef5c\n",
            "  Stored in directory: /root/.cache/pip/wheels/c6/64/c4/6ff874f1bfedf37c36d1799b6f3da78c5bbcde007fbda096aa\n",
            "Successfully built umap-learn\n",
            "Installing collected packages: umap-learn\n",
            "  Found existing installation: umap-learn 0.5.1\n",
            "    Uninstalling umap-learn-0.5.1:\n",
            "      Successfully uninstalled umap-learn-0.5.1\n",
            "Successfully installed umap-learn-0.5.0\n"
          ],
          "name": "stdout"
        }
      ]
    },
    {
      "cell_type": "code",
      "metadata": {
        "colab": {
          "base_uri": "https://localhost:8080/"
        },
        "id": "UFjXvWeXuPtk",
        "outputId": "0ae20e0f-1829-4850-bb77-e6f79adba1d7"
      },
      "source": [
        "import json\n",
        "import pandas as pd\n",
        "import torch\n",
        "from bertopic import BERTopic\n",
        "import os\n",
        "import nltk \n",
        "import numpy as np\n",
        "nltk.download('punkt')\n",
        "nltk.download('wordnet')\n",
        "from nltk.stem import PorterStemmer , WordNetLemmatizer\n",
        "from gensim.models import Word2Vec\n",
        "from gensim.models import KeyedVectors\n",
        "from nltk.tokenize import word_tokenize "
      ],
      "execution_count": 3,
      "outputs": [
        {
          "output_type": "stream",
          "text": [
            "[nltk_data] Downloading package punkt to /root/nltk_data...\n",
            "[nltk_data]   Unzipping tokenizers/punkt.zip.\n",
            "[nltk_data] Downloading package wordnet to /root/nltk_data...\n",
            "[nltk_data]   Unzipping corpora/wordnet.zip.\n"
          ],
          "name": "stdout"
        }
      ]
    },
    {
      "cell_type": "code",
      "metadata": {
        "colab": {
          "base_uri": "https://localhost:8080/"
        },
        "id": "_WNVrF84cK6Q",
        "outputId": "e49e71ef-aa16-411d-bda2-981f5a8621cc"
      },
      "source": [
        "from google.colab import drive\n",
        "drive.mount('/content/drive')"
      ],
      "execution_count": 4,
      "outputs": [
        {
          "output_type": "stream",
          "text": [
            "Mounted at /content/drive\n"
          ],
          "name": "stdout"
        }
      ]
    },
    {
      "cell_type": "code",
      "metadata": {
        "colab": {
          "base_uri": "https://localhost:8080/"
        },
        "id": "q3kOglHHZa_x",
        "outputId": "1824fdba-3af7-4268-d066-68d85aaa39fa"
      },
      "source": [
        "!pip list -v | grep bertopic"
      ],
      "execution_count": 3,
      "outputs": [
        {
          "output_type": "stream",
          "text": [
            "bertopic                      0.6.0          /usr/local/lib/python3.7/dist-packages pip      \n"
          ],
          "name": "stdout"
        }
      ]
    },
    {
      "cell_type": "markdown",
      "metadata": {
        "id": "_6HaRJ9xghaI"
      },
      "source": [
        "## **Preprocessing Text**"
      ]
    },
    {
      "cell_type": "code",
      "metadata": {
        "id": "CiP18aK0vJNN"
      },
      "source": [
        "#previous vaccine forums\n",
        "data = pd.read_json('/content/drive/MyDrive/IndianNews-minified.json')\n",
        "docs = list(data.loc[:, \"text\"].values)\n",
        "times = list(data.loc[:, \"date\"].values)"
      ],
      "execution_count": 5,
      "outputs": []
    },
    {
      "cell_type": "code",
      "metadata": {
        "colab": {
          "base_uri": "https://localhost:8080/",
          "height": 195
        },
        "id": "NhYh69WJiXk0",
        "outputId": "1a5ca651-b949-4546-fcff-24883751a9da"
      },
      "source": [
        "data.head(5)"
      ],
      "execution_count": 6,
      "outputs": [
        {
          "output_type": "execute_result",
          "data": {
            "text/html": [
              "<div>\n",
              "<style scoped>\n",
              "    .dataframe tbody tr th:only-of-type {\n",
              "        vertical-align: middle;\n",
              "    }\n",
              "\n",
              "    .dataframe tbody tr th {\n",
              "        vertical-align: top;\n",
              "    }\n",
              "\n",
              "    .dataframe thead th {\n",
              "        text-align: right;\n",
              "    }\n",
              "</style>\n",
              "<table border=\"1\" class=\"dataframe\">\n",
              "  <thead>\n",
              "    <tr style=\"text-align: right;\">\n",
              "      <th></th>\n",
              "      <th>date</th>\n",
              "      <th>text</th>\n",
              "    </tr>\n",
              "  </thead>\n",
              "  <tbody>\n",
              "    <tr>\n",
              "      <th>0</th>\n",
              "      <td>2021-03-30 18:28:49+00:00</td>\n",
              "      <td>The Haryana born athlete says she took solace ...</td>\n",
              "    </tr>\n",
              "    <tr>\n",
              "      <th>1</th>\n",
              "      <td>2021-03-30 18:26:51+00:00</td>\n",
              "      <td>and   anxiety . Here is a list of food items t...</td>\n",
              "    </tr>\n",
              "    <tr>\n",
              "      <th>2</th>\n",
              "      <td>2021-03-30 18:24:17+00:00</td>\n",
              "      <td>”   According to Architectural Record, numerou...</td>\n",
              "    </tr>\n",
              "    <tr>\n",
              "      <th>3</th>\n",
              "      <td>2021-03-30 18:08:48+00:00</td>\n",
              "      <td>Count on this simple breathing exercise to rel...</td>\n",
              "    </tr>\n",
              "    <tr>\n",
              "      <th>4</th>\n",
              "      <td>2021-03-30 18:02:23+00:00</td>\n",
              "      <td>It's become a place where I find most of my ne...</td>\n",
              "    </tr>\n",
              "  </tbody>\n",
              "</table>\n",
              "</div>"
            ],
            "text/plain": [
              "                       date                                               text\n",
              "0 2021-03-30 18:28:49+00:00  The Haryana born athlete says she took solace ...\n",
              "1 2021-03-30 18:26:51+00:00  and   anxiety . Here is a list of food items t...\n",
              "2 2021-03-30 18:24:17+00:00  ”   According to Architectural Record, numerou...\n",
              "3 2021-03-30 18:08:48+00:00  Count on this simple breathing exercise to rel...\n",
              "4 2021-03-30 18:02:23+00:00  It's become a place where I find most of my ne..."
            ]
          },
          "metadata": {
            "tags": []
          },
          "execution_count": 6
        }
      ]
    },
    {
      "cell_type": "code",
      "metadata": {
        "id": "1dofZi0qvO3o"
      },
      "source": [
        "import re\n",
        "wnl = WordNetLemmatizer()\n",
        "ps = PorterStemmer()\n",
        "\n",
        "#tokens = list(data.loc[:, \"tokens\"].values)\n",
        "new_tokens = []\n",
        "for_embed = []\n",
        "rem_num = []\n",
        "my_tokens = []\n",
        "\n",
        "docs_lower = [k.lower() for k in docs]\n",
        "#remove numbers and symbols from token list and lemmatize\n",
        "for b in docs_lower:\n",
        "  rem_num.append(re.sub('[0-9]+', '', b)) #remove numerical tokens\n",
        "\n",
        "for a in rem_num:\n",
        "  new_tokens.append(re.sub(r'[^\\w]', ' ', a))\n",
        "\n",
        "for c in new_tokens:\n",
        "  my_tokens.append(\" \".join([wnl.lemmatize(a) for a in c.split()]))\n",
        "\n",
        "#split tokens for word embeddings\n",
        "for c in new_tokens:\n",
        "  for_embed.append(c.split())"
      ],
      "execution_count": 7,
      "outputs": []
    },
    {
      "cell_type": "code",
      "metadata": {
        "id": "CUlhtzSUQNww"
      },
      "source": [
        "#clean times for topic evolution visualization\n",
        "clean_times = []\n",
        "for a in times:\n",
        "  ts = pd.to_datetime(str(a)) \n",
        "  d = ts.strftime('%Y.%m.%d')\n",
        "  clean_times.append(d)"
      ],
      "execution_count": 8,
      "outputs": []
    },
    {
      "cell_type": "code",
      "metadata": {
        "id": "-A2-RFjeAhn9"
      },
      "source": [
        "from gensim.models.callbacks import CallbackAny2Vec\n",
        "import matplotlib.pyplot as plt \n",
        "\n",
        "#calculate and graph loss of embeddings\n",
        "class callback(CallbackAny2Vec):\n",
        "    '''Callback to print loss after each epoch.'''\n",
        "    def __init__(self):\n",
        "        self.epoch = 0\n",
        "        self.loss_to_be_subed = 0\n",
        "        self.epochs = []\n",
        "        self.losses = []\n",
        "\n",
        "    def on_epoch_end(self, modeling):\n",
        "        plt.axis([0, 100, 0, 3000000])\n",
        "        loss = modeling.running_training_loss()\n",
        "        loss_now = loss - self.loss_to_be_subed\n",
        "        self.loss_to_be_subed = loss\n",
        "        print('Loss after epoch {}: {}'.format(self.epoch, loss_now))\n",
        "        epochs = self.epoch\n",
        "        losses = loss_now\n",
        "        plt.plot(self.epoch, loss_now, '.r-')\n",
        "        self.epoch += 1\n",
        "        if (self.epoch == 100):\n",
        "           plt.show()"
      ],
      "execution_count": 11,
      "outputs": []
    },
    {
      "cell_type": "markdown",
      "metadata": {
        "id": "DT5dXB4PdC2Q"
      },
      "source": [
        "# **TRAINING W2V AND FT MODELS**"
      ]
    },
    {
      "cell_type": "code",
      "metadata": {
        "colab": {
          "base_uri": "https://localhost:8080/",
          "height": 1000
        },
        "id": "h_hkFbVwhHB7",
        "outputId": "ac7c076e-40b9-4607-8ba6-2b743df24c35"
      },
      "source": [
        "model = Word2Vec(window = 5, min_count = 10) #increase min_count\n",
        "model.build_vocab(for_embed)  # prepare the model vocabulary\n",
        "model.train(for_embed, total_examples=model.corpus_count, epochs=100, compute_loss = True, callbacks=[callback()])"
      ],
      "execution_count": 43,
      "outputs": [
        {
          "output_type": "stream",
          "text": [
            "Loss after epoch 0: 4525649.5\n",
            "Loss after epoch 1: 3430574.5\n",
            "Loss after epoch 2: 3001672.0\n",
            "Loss after epoch 3: 2852769.0\n",
            "Loss after epoch 4: 2864706.0\n",
            "Loss after epoch 5: 2493349.0\n",
            "Loss after epoch 6: 2402002.0\n",
            "Loss after epoch 7: 2457836.0\n",
            "Loss after epoch 8: 2401782.0\n",
            "Loss after epoch 9: 2438248.0\n",
            "Loss after epoch 10: 2440576.0\n",
            "Loss after epoch 11: 2347484.0\n",
            "Loss after epoch 12: 1550228.0\n",
            "Loss after epoch 13: 1610844.0\n",
            "Loss after epoch 14: 1607412.0\n",
            "Loss after epoch 15: 1585752.0\n",
            "Loss after epoch 16: 1596256.0\n",
            "Loss after epoch 17: 1555612.0\n",
            "Loss after epoch 18: 1602172.0\n",
            "Loss after epoch 19: 1573992.0\n",
            "Loss after epoch 20: 1597016.0\n",
            "Loss after epoch 21: 1618408.0\n",
            "Loss after epoch 22: 1575648.0\n",
            "Loss after epoch 23: 1583132.0\n",
            "Loss after epoch 24: 1576980.0\n",
            "Loss after epoch 25: 1582132.0\n",
            "Loss after epoch 26: 1621072.0\n",
            "Loss after epoch 27: 1612820.0\n",
            "Loss after epoch 28: 1575340.0\n",
            "Loss after epoch 29: 1612036.0\n",
            "Loss after epoch 30: 1574592.0\n",
            "Loss after epoch 31: 1639188.0\n",
            "Loss after epoch 32: 1603760.0\n",
            "Loss after epoch 33: 376120.0\n",
            "Loss after epoch 34: 384952.0\n",
            "Loss after epoch 35: 377640.0\n",
            "Loss after epoch 36: 374672.0\n",
            "Loss after epoch 37: 371872.0\n",
            "Loss after epoch 38: 369232.0\n",
            "Loss after epoch 39: 370224.0\n",
            "Loss after epoch 40: 361840.0\n",
            "Loss after epoch 41: 364344.0\n",
            "Loss after epoch 42: 357832.0\n",
            "Loss after epoch 43: 368952.0\n",
            "Loss after epoch 44: 364000.0\n",
            "Loss after epoch 45: 366424.0\n",
            "Loss after epoch 46: 350744.0\n",
            "Loss after epoch 47: 355928.0\n",
            "Loss after epoch 48: 352168.0\n",
            "Loss after epoch 49: 355112.0\n",
            "Loss after epoch 50: 351592.0\n",
            "Loss after epoch 51: 353232.0\n",
            "Loss after epoch 52: 346408.0\n",
            "Loss after epoch 53: 351168.0\n",
            "Loss after epoch 54: 340544.0\n",
            "Loss after epoch 55: 343928.0\n",
            "Loss after epoch 56: 329224.0\n",
            "Loss after epoch 57: 334816.0\n",
            "Loss after epoch 58: 331384.0\n",
            "Loss after epoch 59: 328024.0\n",
            "Loss after epoch 60: 319096.0\n",
            "Loss after epoch 61: 321624.0\n",
            "Loss after epoch 62: 309576.0\n",
            "Loss after epoch 63: 301592.0\n",
            "Loss after epoch 64: 312376.0\n",
            "Loss after epoch 65: 295248.0\n",
            "Loss after epoch 66: 297360.0\n",
            "Loss after epoch 67: 279792.0\n",
            "Loss after epoch 68: 285136.0\n",
            "Loss after epoch 69: 272056.0\n",
            "Loss after epoch 70: 280088.0\n",
            "Loss after epoch 71: 276648.0\n",
            "Loss after epoch 72: 261280.0\n",
            "Loss after epoch 73: 263768.0\n",
            "Loss after epoch 74: 253312.0\n",
            "Loss after epoch 75: 250472.0\n",
            "Loss after epoch 76: 248568.0\n",
            "Loss after epoch 77: 242600.0\n",
            "Loss after epoch 78: 234376.0\n",
            "Loss after epoch 79: 227224.0\n",
            "Loss after epoch 80: 233640.0\n",
            "Loss after epoch 81: 218080.0\n",
            "Loss after epoch 82: 212632.0\n",
            "Loss after epoch 83: 208392.0\n",
            "Loss after epoch 84: 203408.0\n",
            "Loss after epoch 85: 201744.0\n",
            "Loss after epoch 86: 194128.0\n",
            "Loss after epoch 87: 189248.0\n",
            "Loss after epoch 88: 178176.0\n",
            "Loss after epoch 89: 174080.0\n",
            "Loss after epoch 90: 167560.0\n",
            "Loss after epoch 91: 167384.0\n",
            "Loss after epoch 92: 157976.0\n",
            "Loss after epoch 93: 151552.0\n",
            "Loss after epoch 94: 151424.0\n",
            "Loss after epoch 95: 139800.0\n",
            "Loss after epoch 96: 135312.0\n",
            "Loss after epoch 97: 136352.0\n",
            "Loss after epoch 98: 128240.0\n",
            "Loss after epoch 99: 121888.0\n"
          ],
          "name": "stdout"
        },
        {
          "output_type": "display_data",
          "data": {
            "image/png": "[encoded data removed]",
            "text/plain": [
              "<Figure size 432x288 with 1 Axes>"
            ]
          },
          "metadata": {
            "tags": [],
            "needs_background": "light"
          }
        },
        {
          "output_type": "execute_result",
          "data": {
            "text/plain": [
              "(638423966, 831529000)"
            ]
          },
          "metadata": {
            "tags": []
          },
          "execution_count": 43
        }
      ]
    },
    {
      "cell_type": "code",
      "metadata": {
        "id": "5ukWtw0D071A"
      },
      "source": [
        "#save word2vec embeddings for model training\n",
        "word_vectors = model.wv\n",
        "word_vectors.save(\"/content/drive/My Drive/word2vec_indian\")"
      ],
      "execution_count": 44,
      "outputs": []
    },
    {
      "cell_type": "code",
      "metadata": {
        "id": "rbFR3ilO1PKQ"
      },
      "source": [
        "from flair.embeddings import WordEmbeddings, DocumentPoolEmbeddings\n",
        "\n",
        "glove_embedding = WordEmbeddings(\"/content/drive/My Drive/word2vec_indian\")\n",
        "document_glove_embeddings = DocumentPoolEmbeddings([glove_embedding])"
      ],
      "execution_count": 36,
      "outputs": []
    },
    {
      "cell_type": "code",
      "metadata": {
        "id": "KZPkj6Tt2xXk"
      },
      "source": [
        "from gensim.models import FastText \n",
        "\n",
        "modeling = FastText(size=100, window=5, min_count=10) \n",
        "modeling.build_vocab(sentences=for_embed)\n",
        "modeling.train(for_embed, total_examples=len(for_embed), epochs=100, sg = 1, compute_loss=True)  # set sg = 1"
      ],
      "execution_count": null,
      "outputs": []
    },
    {
      "cell_type": "code",
      "metadata": {
        "id": "rtHNH1sE0dc3"
      },
      "source": [
        "word_vectorss = modeling.wv\n",
        "word_vectorss.save(\"/content/drive/My Drive/fasttext_indian2\")"
      ],
      "execution_count": 49,
      "outputs": []
    },
    {
      "cell_type": "code",
      "metadata": {
        "id": "UCUkCJc-idgB",
        "colab": {
          "base_uri": "https://localhost:8080/"
        },
        "outputId": "011c5704-d86a-4a33-e981-34021110e738"
      },
      "source": [
        "len(my_tokens)"
      ],
      "execution_count": null,
      "outputs": [
        {
          "output_type": "execute_result",
          "data": {
            "text/plain": [
              "100228"
            ]
          },
          "metadata": {
            "tags": []
          },
          "execution_count": 17
        }
      ]
    },
    {
      "cell_type": "code",
      "metadata": {
        "id": "gJGNJ6qao6ZN"
      },
      "source": [
        "from flair.embeddings import WordEmbeddings, DocumentPoolEmbeddings\n",
        "\n",
        "glove_embedding = WordEmbeddings(\"/content/drive/My Drive/fasttext_indian2\")\n",
        "document_glove_embeddings = DocumentPoolEmbeddings([glove_embedding])"
      ],
      "execution_count": 21,
      "outputs": []
    },
    {
      "cell_type": "code",
      "metadata": {
        "id": "s0GjAuJmiici"
      },
      "source": [
        "#this model recommends training with 50 topics or above\n",
        "topic_model = BERTopic(nr_topics = 5, embedding_model = document_glove_embeddings)"
      ],
      "execution_count": 39,
      "outputs": []
    },
    {
      "cell_type": "code",
      "metadata": {
        "id": "rYg3lsg1JUlB"
      },
      "source": [
        "topics, prob = topic_model.fit_transform(new_tokens)"
      ],
      "execution_count": 42,
      "outputs": []
    },
    {
      "cell_type": "code",
      "metadata": {
        "id": "b3J2qiXnaagj"
      },
      "source": [
        "#remove stop words and change n-gram range\n",
        "from sklearn.feature_extraction import text \n",
        "from sklearn.feature_extraction.text import CountVectorizer\n",
        "\n",
        "stop_word =['don', 'doesn', 'didn', 'isn', 'aren', 'https', 'won', 'haven']\n",
        "stop_words = text.ENGLISH_STOP_WORDS.union(stop_word)\n",
        "cv = CountVectorizer(ngram_range=(1, 1), stop_words=stop_words)\n",
        "topic_model.update_topics(new_tokens, topics, vectorizer_model=cv)\n",
        "# 5 - 0.6189575597782422, 0.6412429685319271\n",
        "# 10 - 0.6222194350640053, ft2 0.6786574184468597"
      ],
      "execution_count": 43,
      "outputs": []
    },
    {
      "cell_type": "code",
      "metadata": {
        "colab": {
          "base_uri": "https://localhost:8080/"
        },
        "id": "5f2QAPpDiU-X",
        "outputId": "b90a01af-9482-4d29-f599-1493e47923d7"
      },
      "source": [
        "cm = CoherenceModel(topics=get_topic_list(topic_model), texts = for_embed, dictionary = dictionary, coherence='c_v')\n",
        "coherence = cm.get_coherence()\n",
        "coherence"
      ],
      "execution_count": 44,
      "outputs": [
        {
          "output_type": "execute_result",
          "data": {
            "text/plain": [
              "0.5544627155531007"
            ]
          },
          "metadata": {
            "tags": []
          },
          "execution_count": 44
        }
      ]
    },
    {
      "cell_type": "code",
      "metadata": {
        "id": "BFUiOkz0iEm1"
      },
      "source": [
        "def get_topic_list(topic_model):\n",
        "  dictionary = list(topic_model.get_topics().values())\n",
        "  diction = dictionary[1:] #remove outlier topic\n",
        "  p = 0\n",
        "  final_t = []\n",
        "  for i in range(len(diction)):\n",
        "    final_t.append([])\n",
        "\n",
        "  for key in diction:\n",
        "     for i in key:\n",
        "          final_t[p].append(i[0])\n",
        "     p+=1\n",
        "  return final_t"
      ],
      "execution_count": 27,
      "outputs": []
    },
    {
      "cell_type": "code",
      "metadata": {
        "id": "TPKuNcNBiTc9"
      },
      "source": [
        "from gensim.models.coherencemodel import CoherenceModel\n",
        "import gensim.corpora as corpora\n",
        "dictionary = corpora.Dictionary(for_embed)\n",
        "corpus = [dictionary.doc2bow(text) for text in for_embed]"
      ],
      "execution_count": 26,
      "outputs": []
    },
    {
      "cell_type": "code",
      "metadata": {
        "id": "oz3wByJ5Bja3"
      },
      "source": [
        "all_coherences = [0.618957559778242, 0.6222194350640053, 0.5740515670804616, 0.5605505700836383, 0.5544627155531007]"
      ],
      "execution_count": 45,
      "outputs": []
    },
    {
      "cell_type": "code",
      "metadata": {
        "colab": {
          "base_uri": "https://localhost:8080/",
          "height": 295
        },
        "id": "xY6BdswgTuSo",
        "outputId": "c6ace70b-313d-412d-f38b-23a05eca59ed"
      },
      "source": [
        "# Show graph\n",
        "import matplotlib.pyplot as plt\n",
        "limit=40; start=2; step=6;\n",
        "x = [5,10,15,20,50]\n",
        "plt.plot(x, all_coherences)\n",
        "plt.title(\"word2vec\")\n",
        "plt.xlabel(\"Num Topics\")\n",
        "plt.ylabel(\"Coherence score\")\n",
        "plt.legend((\"coherence_values\"), loc='best')\n",
        "plt.show()"
      ],
      "execution_count": 46,
      "outputs": [
        {
          "output_type": "display_data",
          "data": {
            "image/png": "[encoded data removed]",
            "text/plain": [
              "<Figure size 432x288 with 1 Axes>"
            ]
          },
          "metadata": {
            "tags": [],
            "needs_background": "light"
          }
        }
      ]
    },
    {
      "cell_type": "code",
      "metadata": {
        "id": "zXsRkFB25KcU",
        "colab": {
          "base_uri": "https://localhost:8080/"
        },
        "outputId": "129abe69-cb39-4f88-8f76-e9f067d7cdcb"
      },
      "source": [
        "topic_model.save('/content/drive/My Drive/indian_ft5')"
      ],
      "execution_count": 33,
      "outputs": [
        {
          "output_type": "stream",
          "text": [
            "/usr/local/lib/python3.7/dist-packages/scipy/sparse/_index.py:126: SparseEfficiencyWarning: Changing the sparsity structure of a csr_matrix is expensive. lil_matrix is more efficient.\n",
            "  self._set_arrayXarray(i, j, x)\n"
          ],
          "name": "stderr"
        }
      ]
    },
    {
      "cell_type": "code",
      "metadata": {
        "id": "tc6XHluP5e-h"
      },
      "source": [
        "np.save('/content/drive/My Drive/topic_india10ft5', topics)\n",
        "#np.save('/content/drive/My Drive/prob_india', prob)"
      ],
      "execution_count": 34,
      "outputs": []
    },
    {
      "cell_type": "code",
      "metadata": {
        "id": "jhslR13DbU8g"
      },
      "source": [
        "fasttext = BERTopic.load('/content/drive/My Drive/indian_ft102')\n",
        "ftop = np.load('/content/drive/My Drive/topic_india10ft2.npy')"
      ],
      "execution_count": 47,
      "outputs": []
    },
    {
      "cell_type": "code",
      "metadata": {
        "colab": {
          "base_uri": "https://localhost:8080/",
          "height": 667
        },
        "id": "2MwS3mxNZYj0",
        "outputId": "8a0c86b3-f2c8-4d4c-f768-d28f951381e3"
      },
      "source": [
        "fasttext.visualize_topics()"
      ],
      "execution_count": 48,
      "outputs": [
        {
          "output_type": "display_data",
          "data": {
            "text/html": [
              "<html>\n",
              "<head><meta charset=\"utf-8\" /></head>\n",
              "<body>\n",
              "    <div>            <script src=\"https://cdnjs.cloudflare.com/ajax/libs/mathjax/2.7.5/MathJax.js?config=TeX-AMS-MML_SVG\"></script><script type=\"text/javascript\">if (window.MathJax) {MathJax.Hub.Config({SVG: {font: \"STIX-Web\"}});}</script>                <script type=\"text/javascript\">window.PlotlyConfig = {MathJaxConfig: 'local'};</script>\n",
              "        <script src=\"https://cdn.plot.ly/plotly-latest.min.js\"></script>                <div id=\"7ba8bc71-b8db-4a65-a930-4d7da8ac3566\" class=\"plotly-graph-div\" style=\"height:650px; width:650px;\"></div>            <script type=\"text/javascript\">                                    window.PLOTLYENV=window.PLOTLYENV || {};                                    if (document.getElementById(\"7ba8bc71-b8db-4a65-a930-4d7da8ac3566\")) {                    Plotly.newPlot(                        \"7ba8bc71-b8db-4a65-a930-4d7da8ac3566\",                        [{\"customdata\": [[18.52634620666504, -5.111987113952637, 4, \"bengal | imd | east | rainfall | north\", 1773], [19.03793716430664, -4.266286849975586, 157, \"feel | time | think | anxious | know\", 10558], [5.694147109985352, 3.6168625354766846, 176, \"stress | issues | physical | depression | problems\", 2111], [17.38655662536621, -4.203350067138672, 224, \"trade | china | prices | stocks | markets\", 1739], [17.812593460083008, -4.42681360244751, 416, \"lockdown | rakshit | hugs | backseat | israeli\", 2519], [-4.4167609214782715, -0.816444456577301, 418, \"mental | health | institute | national | sciences\", 3669], [-4.57442569732666, -0.9741172790527344, 475, \"mental | health | support | services | access\", 1617], [18.547100067138672, -4.657245635986328, 500, \"anxiety | loneliness | fear | pandemic | covid\", 3039], [6.264012813568115, 3.0473039150238037, 677, \"anxiety | stress | anxious | time | work\", 2308], [5.886972427368164, 3.424159049987793, 685, \"anxiety | stress | sleep | feeling | problems\", 1671]], \"hovertemplate\": \"<b>Topic %{customdata[2]}</b><br>Words: %{customdata[3]}<br>Size: %{customdata[4]}\", \"legendgroup\": \"\", \"marker\": {\"color\": \"#B0BEC5\", \"line\": {\"color\": \"DarkSlateGrey\", \"width\": 2}, \"size\": [1773, 10558, 2111, 1739, 2519, 3669, 1617, 3039, 2308, 1671], \"sizemode\": \"area\", \"sizeref\": 6.59875, \"symbol\": \"circle\"}, \"mode\": \"markers\", \"name\": \"\", \"orientation\": \"v\", \"showlegend\": false, \"type\": \"scatter\", \"x\": [18.52634620666504, 19.03793716430664, 5.694147109985352, 17.38655662536621, 17.812593460083008, -4.4167609214782715, -4.57442569732666, 18.547100067138672, 6.264012813568115, 5.886972427368164], \"xaxis\": \"x\", \"y\": [-5.111987113952637, -4.266286849975586, 3.6168625354766846, -4.203350067138672, -4.42681360244751, -0.816444456577301, -0.9741172790527344, -4.657245635986328, 3.0473039150238037, 3.424159049987793], \"yaxis\": \"y\"}],                        {\"annotations\": [{\"showarrow\": false, \"text\": \"D1\", \"x\": -5.260589551925659, \"y\": -0.8596966326236726, \"yshift\": 10}, {\"showarrow\": false, \"text\": \"D2\", \"x\": 8.31651909351349, \"xshift\": 10, \"y\": 4.159391915798187}], \"height\": 650, \"hoverlabel\": {\"bgcolor\": \"white\", \"font\": {\"family\": \"Rockwell\", \"size\": 16}}, \"legend\": {\"itemsizing\": \"constant\", \"tracegroupgap\": 0}, \"margin\": {\"t\": 60}, \"shapes\": [{\"line\": {\"color\": \"#CFD8DC\", \"width\": 2}, \"type\": \"line\", \"x0\": 8.31651909351349, \"x1\": 8.31651909351349, \"y0\": -5.878785181045532, \"y1\": 4.159391915798187}, {\"line\": {\"color\": \"#9E9E9E\", \"width\": 2}, \"type\": \"line\", \"x0\": -5.260589551925659, \"x1\": 21.893627738952638, \"y0\": -0.8596966326236726, \"y1\": -0.8596966326236726}], \"sliders\": [{\"active\": 0, \"pad\": {\"t\": 50}, \"steps\": [{\"args\": [{\"marker.color\": [[\"red\", \"#B0BEC5\", \"#B0BEC5\", \"#B0BEC5\", \"#B0BEC5\", \"#B0BEC5\", \"#B0BEC5\", \"#B0BEC5\", \"#B0BEC5\", \"#B0BEC5\"]]}], \"label\": \"Topic 4\", \"method\": \"update\"}, {\"args\": [{\"marker.color\": [[\"#B0BEC5\", \"red\", \"#B0BEC5\", \"#B0BEC5\", \"#B0BEC5\", \"#B0BEC5\", \"#B0BEC5\", \"#B0BEC5\", \"#B0BEC5\", \"#B0BEC5\"]]}], \"label\": \"Topic 157\", \"method\": \"update\"}, {\"args\": [{\"marker.color\": [[\"#B0BEC5\", \"#B0BEC5\", \"red\", \"#B0BEC5\", \"#B0BEC5\", \"#B0BEC5\", \"#B0BEC5\", \"#B0BEC5\", \"#B0BEC5\", \"#B0BEC5\"]]}], \"label\": \"Topic 176\", \"method\": \"update\"}, {\"args\": [{\"marker.color\": [[\"#B0BEC5\", \"#B0BEC5\", \"#B0BEC5\", \"red\", \"#B0BEC5\", \"#B0BEC5\", \"#B0BEC5\", \"#B0BEC5\", \"#B0BEC5\", \"#B0BEC5\"]]}], \"label\": \"Topic 224\", \"method\": \"update\"}, {\"args\": [{\"marker.color\": [[\"#B0BEC5\", \"#B0BEC5\", \"#B0BEC5\", \"#B0BEC5\", \"red\", \"#B0BEC5\", \"#B0BEC5\", \"#B0BEC5\", \"#B0BEC5\", \"#B0BEC5\"]]}], \"label\": \"Topic 416\", \"method\": \"update\"}, {\"args\": [{\"marker.color\": [[\"#B0BEC5\", \"#B0BEC5\", \"#B0BEC5\", \"#B0BEC5\", \"#B0BEC5\", \"red\", \"#B0BEC5\", \"#B0BEC5\", \"#B0BEC5\", \"#B0BEC5\"]]}], \"label\": \"Topic 418\", \"method\": \"update\"}, {\"args\": [{\"marker.color\": [[\"#B0BEC5\", \"#B0BEC5\", \"#B0BEC5\", \"#B0BEC5\", \"#B0BEC5\", \"#B0BEC5\", \"red\", \"#B0BEC5\", \"#B0BEC5\", \"#B0BEC5\"]]}], \"label\": \"Topic 475\", \"method\": \"update\"}, {\"args\": [{\"marker.color\": [[\"#B0BEC5\", \"#B0BEC5\", \"#B0BEC5\", \"#B0BEC5\", \"#B0BEC5\", \"#B0BEC5\", \"#B0BEC5\", \"red\", \"#B0BEC5\", \"#B0BEC5\"]]}], \"label\": \"Topic 500\", \"method\": \"update\"}, {\"args\": [{\"marker.color\": [[\"#B0BEC5\", \"#B0BEC5\", \"#B0BEC5\", \"#B0BEC5\", \"#B0BEC5\", \"#B0BEC5\", \"#B0BEC5\", \"#B0BEC5\", \"red\", \"#B0BEC5\"]]}], \"label\": \"Topic 677\", \"method\": \"update\"}, {\"args\": [{\"marker.color\": [[\"#B0BEC5\", \"#B0BEC5\", \"#B0BEC5\", \"#B0BEC5\", \"#B0BEC5\", \"#B0BEC5\", \"#B0BEC5\", \"#B0BEC5\", \"#B0BEC5\", \"red\"]]}], \"label\": \"Topic 685\", \"method\": \"update\"}]}], \"template\": {\"data\": {\"bar\": [{\"error_x\": {\"color\": \"rgb(36,36,36)\"}, \"error_y\": {\"color\": \"rgb(36,36,36)\"}, \"marker\": {\"line\": {\"color\": \"white\", \"width\": 0.5}}, \"type\": \"bar\"}], \"barpolar\": [{\"marker\": {\"line\": {\"color\": \"white\", \"width\": 0.5}}, \"type\": \"barpolar\"}], \"carpet\": [{\"aaxis\": {\"endlinecolor\": \"rgb(36,36,36)\", \"gridcolor\": \"white\", \"linecolor\": \"white\", \"minorgridcolor\": \"white\", \"startlinecolor\": \"rgb(36,36,36)\"}, \"baxis\": {\"endlinecolor\": \"rgb(36,36,36)\", \"gridcolor\": \"white\", \"linecolor\": \"white\", \"minorgridcolor\": \"white\", \"startlinecolor\": \"rgb(36,36,36)\"}, \"type\": \"carpet\"}], \"choropleth\": [{\"colorbar\": {\"outlinewidth\": 1, \"tickcolor\": \"rgb(36,36,36)\", \"ticks\": \"outside\"}, \"type\": \"choropleth\"}], \"contour\": [{\"colorbar\": {\"outlinewidth\": 1, \"tickcolor\": \"rgb(36,36,36)\", \"ticks\": \"outside\"}, \"colorscale\": [[0.0, \"#440154\"], [0.1111111111111111, \"#482878\"], [0.2222222222222222, \"#3e4989\"], [0.3333333333333333, \"#31688e\"], [0.4444444444444444, \"#26828e\"], [0.5555555555555556, \"#1f9e89\"], [0.6666666666666666, \"#35b779\"], [0.7777777777777778, \"#6ece58\"], [0.8888888888888888, \"#b5de2b\"], [1.0, \"#fde725\"]], \"type\": \"contour\"}], \"contourcarpet\": [{\"colorbar\": {\"outlinewidth\": 1, \"tickcolor\": \"rgb(36,36,36)\", \"ticks\": \"outside\"}, \"type\": \"contourcarpet\"}], \"heatmap\": [{\"colorbar\": {\"outlinewidth\": 1, \"tickcolor\": \"rgb(36,36,36)\", \"ticks\": \"outside\"}, \"colorscale\": [[0.0, \"#440154\"], [0.1111111111111111, \"#482878\"], [0.2222222222222222, \"#3e4989\"], [0.3333333333333333, \"#31688e\"], [0.4444444444444444, \"#26828e\"], [0.5555555555555556, \"#1f9e89\"], [0.6666666666666666, \"#35b779\"], [0.7777777777777778, \"#6ece58\"], [0.8888888888888888, \"#b5de2b\"], [1.0, \"#fde725\"]], \"type\": \"heatmap\"}], \"heatmapgl\": [{\"colorbar\": {\"outlinewidth\": 1, \"tickcolor\": \"rgb(36,36,36)\", \"ticks\": \"outside\"}, \"colorscale\": [[0.0, \"#440154\"], [0.1111111111111111, \"#482878\"], [0.2222222222222222, \"#3e4989\"], [0.3333333333333333, \"#31688e\"], [0.4444444444444444, \"#26828e\"], [0.5555555555555556, \"#1f9e89\"], [0.6666666666666666, \"#35b779\"], [0.7777777777777778, \"#6ece58\"], [0.8888888888888888, \"#b5de2b\"], [1.0, \"#fde725\"]], \"type\": \"heatmapgl\"}], \"histogram\": [{\"marker\": {\"line\": {\"color\": \"white\", \"width\": 0.6}}, \"type\": \"histogram\"}], \"histogram2d\": [{\"colorbar\": {\"outlinewidth\": 1, \"tickcolor\": \"rgb(36,36,36)\", \"ticks\": \"outside\"}, \"colorscale\": [[0.0, \"#440154\"], [0.1111111111111111, \"#482878\"], [0.2222222222222222, \"#3e4989\"], [0.3333333333333333, \"#31688e\"], [0.4444444444444444, \"#26828e\"], [0.5555555555555556, \"#1f9e89\"], [0.6666666666666666, \"#35b779\"], [0.7777777777777778, \"#6ece58\"], [0.8888888888888888, \"#b5de2b\"], [1.0, \"#fde725\"]], \"type\": \"histogram2d\"}], \"histogram2dcontour\": [{\"colorbar\": {\"outlinewidth\": 1, \"tickcolor\": \"rgb(36,36,36)\", \"ticks\": \"outside\"}, \"colorscale\": [[0.0, \"#440154\"], [0.1111111111111111, \"#482878\"], [0.2222222222222222, \"#3e4989\"], [0.3333333333333333, \"#31688e\"], [0.4444444444444444, \"#26828e\"], [0.5555555555555556, \"#1f9e89\"], [0.6666666666666666, \"#35b779\"], [0.7777777777777778, \"#6ece58\"], [0.8888888888888888, \"#b5de2b\"], [1.0, \"#fde725\"]], \"type\": \"histogram2dcontour\"}], \"mesh3d\": [{\"colorbar\": {\"outlinewidth\": 1, \"tickcolor\": \"rgb(36,36,36)\", \"ticks\": \"outside\"}, \"type\": \"mesh3d\"}], \"parcoords\": [{\"line\": {\"colorbar\": {\"outlinewidth\": 1, \"tickcolor\": \"rgb(36,36,36)\", \"ticks\": \"outside\"}}, \"type\": \"parcoords\"}], \"pie\": [{\"automargin\": true, \"type\": \"pie\"}], \"scatter\": [{\"marker\": {\"colorbar\": {\"outlinewidth\": 1, \"tickcolor\": \"rgb(36,36,36)\", \"ticks\": \"outside\"}}, \"type\": \"scatter\"}], \"scatter3d\": [{\"line\": {\"colorbar\": {\"outlinewidth\": 1, \"tickcolor\": \"rgb(36,36,36)\", \"ticks\": \"outside\"}}, \"marker\": {\"colorbar\": {\"outlinewidth\": 1, \"tickcolor\": \"rgb(36,36,36)\", \"ticks\": \"outside\"}}, \"type\": \"scatter3d\"}], \"scattercarpet\": [{\"marker\": {\"colorbar\": {\"outlinewidth\": 1, \"tickcolor\": \"rgb(36,36,36)\", \"ticks\": \"outside\"}}, \"type\": \"scattercarpet\"}], \"scattergeo\": [{\"marker\": {\"colorbar\": {\"outlinewidth\": 1, \"tickcolor\": \"rgb(36,36,36)\", \"ticks\": \"outside\"}}, \"type\": \"scattergeo\"}], \"scattergl\": [{\"marker\": {\"colorbar\": {\"outlinewidth\": 1, \"tickcolor\": \"rgb(36,36,36)\", \"ticks\": \"outside\"}}, \"type\": \"scattergl\"}], \"scattermapbox\": [{\"marker\": {\"colorbar\": {\"outlinewidth\": 1, \"tickcolor\": \"rgb(36,36,36)\", \"ticks\": \"outside\"}}, \"type\": \"scattermapbox\"}], \"scatterpolar\": [{\"marker\": {\"colorbar\": {\"outlinewidth\": 1, \"tickcolor\": \"rgb(36,36,36)\", \"ticks\": \"outside\"}}, \"type\": \"scatterpolar\"}], \"scatterpolargl\": [{\"marker\": {\"colorbar\": {\"outlinewidth\": 1, \"tickcolor\": \"rgb(36,36,36)\", \"ticks\": \"outside\"}}, \"type\": \"scatterpolargl\"}], \"scatterternary\": [{\"marker\": {\"colorbar\": {\"outlinewidth\": 1, \"tickcolor\": \"rgb(36,36,36)\", \"ticks\": \"outside\"}}, \"type\": \"scatterternary\"}], \"surface\": [{\"colorbar\": {\"outlinewidth\": 1, \"tickcolor\": \"rgb(36,36,36)\", \"ticks\": \"outside\"}, \"colorscale\": [[0.0, \"#440154\"], [0.1111111111111111, \"#482878\"], [0.2222222222222222, \"#3e4989\"], [0.3333333333333333, \"#31688e\"], [0.4444444444444444, \"#26828e\"], [0.5555555555555556, \"#1f9e89\"], [0.6666666666666666, \"#35b779\"], [0.7777777777777778, \"#6ece58\"], [0.8888888888888888, \"#b5de2b\"], [1.0, \"#fde725\"]], \"type\": \"surface\"}], \"table\": [{\"cells\": {\"fill\": {\"color\": \"rgb(237,237,237)\"}, \"line\": {\"color\": \"white\"}}, \"header\": {\"fill\": {\"color\": \"rgb(217,217,217)\"}, \"line\": {\"color\": \"white\"}}, \"type\": \"table\"}]}, \"layout\": {\"annotationdefaults\": {\"arrowhead\": 0, \"arrowwidth\": 1}, \"autotypenumbers\": \"strict\", \"coloraxis\": {\"colorbar\": {\"outlinewidth\": 1, \"tickcolor\": \"rgb(36,36,36)\", \"ticks\": \"outside\"}}, \"colorscale\": {\"diverging\": [[0.0, \"rgb(103,0,31)\"], [0.1, \"rgb(178,24,43)\"], [0.2, \"rgb(214,96,77)\"], [0.3, \"rgb(244,165,130)\"], [0.4, \"rgb(253,219,199)\"], [0.5, \"rgb(247,247,247)\"], [0.6, \"rgb(209,229,240)\"], [0.7, \"rgb(146,197,222)\"], [0.8, \"rgb(67,147,195)\"], [0.9, \"rgb(33,102,172)\"], [1.0, \"rgb(5,48,97)\"]], \"sequential\": [[0.0, \"#440154\"], [0.1111111111111111, \"#482878\"], [0.2222222222222222, \"#3e4989\"], [0.3333333333333333, \"#31688e\"], [0.4444444444444444, \"#26828e\"], [0.5555555555555556, \"#1f9e89\"], [0.6666666666666666, \"#35b779\"], [0.7777777777777778, \"#6ece58\"], [0.8888888888888888, \"#b5de2b\"], [1.0, \"#fde725\"]], \"sequentialminus\": [[0.0, \"#440154\"], [0.1111111111111111, \"#482878\"], [0.2222222222222222, \"#3e4989\"], [0.3333333333333333, \"#31688e\"], [0.4444444444444444, \"#26828e\"], [0.5555555555555556, \"#1f9e89\"], [0.6666666666666666, \"#35b779\"], [0.7777777777777778, \"#6ece58\"], [0.8888888888888888, \"#b5de2b\"], [1.0, \"#fde725\"]]}, \"colorway\": [\"#1F77B4\", \"#FF7F0E\", \"#2CA02C\", \"#D62728\", \"#9467BD\", \"#8C564B\", \"#E377C2\", \"#7F7F7F\", \"#BCBD22\", \"#17BECF\"], \"font\": {\"color\": \"rgb(36,36,36)\"}, \"geo\": {\"bgcolor\": \"white\", \"lakecolor\": \"white\", \"landcolor\": \"white\", \"showlakes\": true, \"showland\": true, \"subunitcolor\": \"white\"}, \"hoverlabel\": {\"align\": \"left\"}, \"hovermode\": \"closest\", \"mapbox\": {\"style\": \"light\"}, \"paper_bgcolor\": \"white\", \"plot_bgcolor\": \"white\", \"polar\": {\"angularaxis\": {\"gridcolor\": \"rgb(232,232,232)\", \"linecolor\": \"rgb(36,36,36)\", \"showgrid\": false, \"showline\": true, \"ticks\": \"outside\"}, \"bgcolor\": \"white\", \"radialaxis\": {\"gridcolor\": \"rgb(232,232,232)\", \"linecolor\": \"rgb(36,36,36)\", \"showgrid\": false, \"showline\": true, \"ticks\": \"outside\"}}, \"scene\": {\"xaxis\": {\"backgroundcolor\": \"white\", \"gridcolor\": \"rgb(232,232,232)\", \"gridwidth\": 2, \"linecolor\": \"rgb(36,36,36)\", \"showbackground\": true, \"showgrid\": false, \"showline\": true, \"ticks\": \"outside\", \"zeroline\": false, \"zerolinecolor\": \"rgb(36,36,36)\"}, \"yaxis\": {\"backgroundcolor\": \"white\", \"gridcolor\": \"rgb(232,232,232)\", \"gridwidth\": 2, \"linecolor\": \"rgb(36,36,36)\", \"showbackground\": true, \"showgrid\": false, \"showline\": true, \"ticks\": \"outside\", \"zeroline\": false, \"zerolinecolor\": \"rgb(36,36,36)\"}, \"zaxis\": {\"backgroundcolor\": \"white\", \"gridcolor\": \"rgb(232,232,232)\", \"gridwidth\": 2, \"linecolor\": \"rgb(36,36,36)\", \"showbackground\": true, \"showgrid\": false, \"showline\": true, \"ticks\": \"outside\", \"zeroline\": false, \"zerolinecolor\": \"rgb(36,36,36)\"}}, \"shapedefaults\": {\"fillcolor\": \"black\", \"line\": {\"width\": 0}, \"opacity\": 0.3}, \"ternary\": {\"aaxis\": {\"gridcolor\": \"rgb(232,232,232)\", \"linecolor\": \"rgb(36,36,36)\", \"showgrid\": false, \"showline\": true, \"ticks\": \"outside\"}, \"baxis\": {\"gridcolor\": \"rgb(232,232,232)\", \"linecolor\": \"rgb(36,36,36)\", \"showgrid\": false, \"showline\": true, \"ticks\": \"outside\"}, \"bgcolor\": \"white\", \"caxis\": {\"gridcolor\": \"rgb(232,232,232)\", \"linecolor\": \"rgb(36,36,36)\", \"showgrid\": false, \"showline\": true, \"ticks\": \"outside\"}}, \"title\": {\"x\": 0.05}, \"xaxis\": {\"automargin\": true, \"gridcolor\": \"rgb(232,232,232)\", \"linecolor\": \"rgb(36,36,36)\", \"showgrid\": false, \"showline\": true, \"ticks\": \"outside\", \"title\": {\"standoff\": 15}, \"zeroline\": false, \"zerolinecolor\": \"rgb(36,36,36)\"}, \"yaxis\": {\"automargin\": true, \"gridcolor\": \"rgb(232,232,232)\", \"linecolor\": \"rgb(36,36,36)\", \"showgrid\": false, \"showline\": true, \"ticks\": \"outside\", \"title\": {\"standoff\": 15}, \"zeroline\": false, \"zerolinecolor\": \"rgb(36,36,36)\"}}}, \"title\": {\"font\": {\"color\": \"Black\", \"size\": 22}, \"text\": \"<b>Intertopic Distance Map\", \"x\": 0.5, \"xanchor\": \"center\", \"y\": 0.95, \"yanchor\": \"top\"}, \"width\": 650, \"xaxis\": {\"anchor\": \"y\", \"domain\": [0.0, 1.0], \"range\": [-5.260589551925659, 21.893627738952638], \"title\": {\"text\": \"\"}, \"visible\": false}, \"yaxis\": {\"anchor\": \"x\", \"domain\": [0.0, 1.0], \"range\": [-5.878785181045532, 4.159391915798187], \"title\": {\"text\": \"\"}, \"visible\": false}},                        {\"responsive\": true}                    ).then(function(){\n",
              "                            \n",
              "var gd = document.getElementById('7ba8bc71-b8db-4a65-a930-4d7da8ac3566');\n",
              "var x = new MutationObserver(function (mutations, observer) {{\n",
              "        var display = window.getComputedStyle(gd).display;\n",
              "        if (!display || display === 'none') {{\n",
              "            console.log([gd, 'removed!']);\n",
              "            Plotly.purge(gd);\n",
              "            observer.disconnect();\n",
              "        }}\n",
              "}});\n",
              "\n",
              "// Listen for the removal of the full notebook cells\n",
              "var notebookContainer = gd.closest('#notebook-container');\n",
              "if (notebookContainer) {{\n",
              "    x.observe(notebookContainer, {childList: true});\n",
              "}}\n",
              "\n",
              "// Listen for the clearing of the current output cell\n",
              "var outputEl = gd.closest('.output');\n",
              "if (outputEl) {{\n",
              "    x.observe(outputEl, {childList: true});\n",
              "}}\n",
              "\n",
              "                        })                };                            </script>        </div>\n",
              "</body>\n",
              "</html>"
            ]
          },
          "metadata": {
            "tags": []
          }
        }
      ]
    },
    {
      "cell_type": "code",
      "metadata": {
        "id": "YzZEoHXTjLvf"
      },
      "source": [
        "topics_over_time = fasttext.topics_over_time(new_tokens, ftop, clean_times, nr_bins=20, global_tuning=False)"
      ],
      "execution_count": 137,
      "outputs": []
    },
    {
      "cell_type": "code",
      "metadata": {
        "colab": {
          "base_uri": "https://localhost:8080/",
          "height": 467
        },
        "id": "8pp2kgbfn7ov",
        "outputId": "21a8e59d-5ef4-41f6-fd18-fd7673d078d8"
      },
      "source": [
        "fasttext.visualize_topics_over_time(topics_over_time, top_n=10)"
      ],
      "execution_count": 138,
      "outputs": [
        {
          "output_type": "display_data",
          "data": {
            "text/html": [
              "<html>\n",
              "<head><meta charset=\"utf-8\" /></head>\n",
              "<body>\n",
              "    <div>            <script src=\"https://cdnjs.cloudflare.com/ajax/libs/mathjax/2.7.5/MathJax.js?config=TeX-AMS-MML_SVG\"></script><script type=\"text/javascript\">if (window.MathJax) {MathJax.Hub.Config({SVG: {font: \"STIX-Web\"}});}</script>                <script type=\"text/javascript\">window.PlotlyConfig = {MathJaxConfig: 'local'};</script>\n",
              "        <script src=\"https://cdn.plot.ly/plotly-latest.min.js\"></script>                <div id=\"cfc92253-7d0d-47a2-823f-477e78c288fe\" class=\"plotly-graph-div\" style=\"height:450px; width:1250px;\"></div>            <script type=\"text/javascript\">                                    window.PLOTLYENV=window.PLOTLYENV || {};                                    if (document.getElementById(\"cfc92253-7d0d-47a2-823f-477e78c288fe\")) {                    Plotly.newPlot(                        \"cfc92253-7d0d-47a2-823f-477e78c288fe\",                        [{\"hoverinfo\": \"text\", \"hovertext\": [\"<b>Topic 4</b><br>Words: bengal, area, intensify, imd, southeast\", \"<b>Topic 4</b><br>Words: monsoon, rainfall, lakshadweep, meteorological, imd\", \"<b>Topic 4</b><br>Words: bengal, rainfall, north, monsoon, imd\", \"<b>Topic 4</b><br>Words: bengal, monsoon, rain, rainfall, odisha\", \"<b>Topic 4</b><br>Words: sea, rainfall, north, east, coast\", \"<b>Topic 4</b><br>Words: sea, bengal, imd, cyclonic, coast\", \"<b>Topic 4</b><br>Words: sea, east, lakshadweep, coast, north\", \"<b>Topic 4</b><br>Words: prevailing, countywednesday, rainamounts, rainfall, arabian\", \"<b>Topic 4</b><br>Words: sea, area, imd, bengal, cyclonic\", \"<b>Topic 4</b><br>Words: sea, monsoon, east, cyclone, southeast\", \"<b>Topic 4</b><br>Words: bengal, northwest, coasts, coast, monsoon\", \"<b>Topic 4</b><br>Words: bengal, rainfall, north, odisha, imd\", \"<b>Topic 4</b><br>Words: area, rainfall, bengal, rain, monsoon\", \"<b>Topic 4</b><br>Words: bengal, north, sea, odisha, rainfall\", \"<b>Topic 4</b><br>Words: bengal, imd, sea, cyclonic, rains\", \"<b>Topic 4</b><br>Words: weather, rainfall, arabian, sea, december\", \"<b>Topic 4</b><br>Words: monsoon, solar, outer, distant, sun\", \"<b>Topic 4</b><br>Words: air, low, mutating, fabulous, aquarius\"], \"marker\": {\"color\": \"#E69F00\"}, \"mode\": \"lines\", \"name\": \"4_bengal_imd_east_rainfall\", \"type\": \"scatter\", \"x\": [\"2019-03-30T06:28:48\", \"2019-05-06T12:00:00\", \"2019-06-12T00:00:00\", \"2019-07-18T12:00:00\", \"2019-08-24T00:00:00\", \"2019-09-29T12:00:00\", \"2019-11-05T00:00:00\", \"2019-12-11T12:00:00\", \"2020-03-30T00:00:00\", \"2020-05-05T12:00:00\", \"2020-06-11T00:00:00\", \"2020-07-17T12:00:00\", \"2020-08-23T00:00:00\", \"2020-09-28T12:00:00\", \"2020-11-04T00:00:00\", \"2020-12-10T12:00:00\", \"2021-01-16T00:00:00\", \"2021-02-21T12:00:00\"], \"y\": [80, 56, 84, 53, 35, 185, 71, 3, 42, 403, 7, 76, 18, 308, 333, 10, 2, 7]}, {\"hoverinfo\": \"text\", \"hovertext\": [\"<b>Topic 157</b><br>Words: anxiety, lonely, time, anxious, really\", \"<b>Topic 157</b><br>Words: life, day, days, know, time\", \"<b>Topic 157</b><br>Words: lonely, time, feel, think, felt\", \"<b>Topic 157</b><br>Words: feel, anxious, little, just, time\", \"<b>Topic 157</b><br>Words: feel, think, time, things, anxious\", \"<b>Topic 157</b><br>Words: time, feel, think, just, anxious\", \"<b>Topic 157</b><br>Words: lonely, think, time, feel, ve\", \"<b>Topic 157</b><br>Words: loneliness, feelings, diets, think, going\", \"<b>Topic 157</b><br>Words: time, know, feel, think, going\", \"<b>Topic 157</b><br>Words: anxious, time, think, feel, going\", \"<b>Topic 157</b><br>Words: time, anxious, feel, think, times\", \"<b>Topic 157</b><br>Words: feel, time, think, anxious, lot\", \"<b>Topic 157</b><br>Words: time, anxious, feel, know, going\", \"<b>Topic 157</b><br>Words: time, feel, know, anxious, think\", \"<b>Topic 157</b><br>Words: feel, time, think, felt, anxious\", \"<b>Topic 157</b><br>Words: think, know, time, anxious, feel\", \"<b>Topic 157</b><br>Words: think, really, know, feel, anxious\", \"<b>Topic 157</b><br>Words: think, time, anxious, feel, need\", \"<b>Topic 157</b><br>Words: feel, time, just, think, really\", \"<b>Topic 157</b><br>Words: feel, really, going, think, lot\"], \"marker\": {\"color\": \"#56B4E9\"}, \"mode\": \"lines\", \"name\": \"157_feel_time_think_anxious\", \"type\": \"scatter\", \"x\": [\"2019-03-30T06:28:48\", \"2019-05-06T12:00:00\", \"2019-06-12T00:00:00\", \"2019-07-18T12:00:00\", \"2019-08-24T00:00:00\", \"2019-09-29T12:00:00\", \"2019-11-05T00:00:00\", \"2019-12-11T12:00:00\", \"2020-01-17T00:00:00\", \"2020-02-22T12:00:00\", \"2020-03-30T00:00:00\", \"2020-05-05T12:00:00\", \"2020-06-11T00:00:00\", \"2020-07-17T12:00:00\", \"2020-08-23T00:00:00\", \"2020-09-28T12:00:00\", \"2020-11-04T00:00:00\", \"2020-12-10T12:00:00\", \"2021-01-16T00:00:00\", \"2021-02-21T12:00:00\"], \"y\": [290, 214, 283, 348, 373, 340, 415, 346, 405, 607, 885, 843, 811, 604, 624, 709, 654, 609, 577, 621]}, {\"hoverinfo\": \"text\", \"hovertext\": [\"<b>Topic 176</b><br>Words: gases, services, diseases, properties, solutions\", \"<b>Topic 176</b><br>Words: management, disorders, depression, communicable, diseases\", \"<b>Topic 176</b><br>Words: health, vyleesi, mental, diabetes, depression\", \"<b>Topic 176</b><br>Words: riskier, recession, assets, economies, stimulus\", \"<b>Topic 176</b><br>Words: heart, diabetes, metamorphic, factors, disease\", \"<b>Topic 176</b><br>Words: sheeran, ed, prince, harry, embed\", \"<b>Topic 176</b><br>Words: health, mental, disorders, disease, conditions\", \"<b>Topic 176</b><br>Words: mental, health, emotional, children, support\", \"<b>Topic 176</b><br>Words: vitamin, mental, promotion, deficiency, prevention\", \"<b>Topic 176</b><br>Words: health, anxiety, stress, emotional, diabetes\", \"<b>Topic 176</b><br>Words: health, mental, risk, issues, problems\", \"<b>Topic 176</b><br>Words: anxiety, stress, physical, hypertension, disorders\", \"<b>Topic 176</b><br>Words: health, mental, region, issues, attention\", \"<b>Topic 176</b><br>Words: health, mental, management, resources, wellness\", \"<b>Topic 176</b><br>Words: depression, stress, disorders, inhibitors, medications\", \"<b>Topic 176</b><br>Words: health, mental, anxiety, stress, physical\", \"<b>Topic 176</b><br>Words: facilities, substance, health, mental, segmentation\", \"<b>Topic 176</b><br>Words: health, mental, treatment, disorders, issues\", \"<b>Topic 176</b><br>Words: depression, obesity, issues, diabetes, disease\", \"<b>Topic 176</b><br>Words: services, communicable, diseases, functionality, disorders\"], \"marker\": {\"color\": \"#009E73\"}, \"mode\": \"lines\", \"name\": \"176_stress_issues_physical_depression\", \"type\": \"scatter\", \"x\": [\"2019-03-30T06:28:48\", \"2019-05-06T12:00:00\", \"2019-06-12T00:00:00\", \"2019-07-18T12:00:00\", \"2019-08-24T00:00:00\", \"2019-09-29T12:00:00\", \"2019-11-05T00:00:00\", \"2019-12-11T12:00:00\", \"2020-01-17T00:00:00\", \"2020-02-22T12:00:00\", \"2020-03-30T00:00:00\", \"2020-05-05T12:00:00\", \"2020-06-11T00:00:00\", \"2020-07-17T12:00:00\", \"2020-08-23T00:00:00\", \"2020-09-28T12:00:00\", \"2020-11-04T00:00:00\", \"2020-12-10T12:00:00\", \"2021-01-16T00:00:00\", \"2021-02-21T12:00:00\"], \"y\": [65, 56, 57, 64, 82, 107, 71, 62, 64, 95, 164, 134, 157, 96, 132, 172, 150, 120, 128, 135]}, {\"hoverinfo\": \"text\", \"hovertext\": [\"<b>Topic 224</b><br>Words: earnings, global, economic, outlook, reuters\", \"<b>Topic 224</b><br>Words: trade, china, markets, chinese, tensions\", \"<b>Topic 224</b><br>Words: trade, china, yields, investor, stocks\", \"<b>Topic 224</b><br>Words: kong, hong, trade, travel, china\", \"<b>Topic 224</b><br>Words: nrc, assam, verification, bachelet, trade\", \"<b>Topic 224</b><br>Words: trade, stocks, oil, china, prices\", \"<b>Topic 224</b><br>Words: oil, china, trade, chinese, investor\", \"<b>Topic 224</b><br>Words: iran, prices, beijing, investor, stock\", \"<b>Topic 224</b><br>Words: china, markets, stocks, benchmark, trade\", \"<b>Topic 224</b><br>Words: steel, prices, demand, dads, tonne\", \"<b>Topic 224</b><br>Words: prices, oil, stocks, futures, global\", \"<b>Topic 224</b><br>Words: march, prices, stocks, supply, cent\", \"<b>Topic 224</b><br>Words: africa, covid, board, coronavirus, exams\", \"<b>Topic 224</b><br>Words: alleging, provisions, complaint, sought, family\", \"<b>Topic 224</b><br>Words: opec, prices, oil, tensions, firming\", \"<b>Topic 224</b><br>Words: president, macron, erdogan, trump, turkey\", \"<b>Topic 224</b><br>Words: stimulus, stocks, economic, vaccines, investors\", \"<b>Topic 224</b><br>Words: ferocity, charred, blackened, milled, barricaded\", \"<b>Topic 224</b><br>Words: russian, protesters, volatility, president, biden\", \"<b>Topic 224</b><br>Words: yields, inflation, steel, stimulus, dollar\"], \"marker\": {\"color\": \"#F0E442\"}, \"mode\": \"lines\", \"name\": \"224_trade_china_prices_stocks\", \"type\": \"scatter\", \"x\": [\"2019-03-30T06:28:48\", \"2019-05-06T12:00:00\", \"2019-06-12T00:00:00\", \"2019-07-18T12:00:00\", \"2019-08-24T00:00:00\", \"2019-09-29T12:00:00\", \"2019-11-05T00:00:00\", \"2019-12-11T12:00:00\", \"2020-01-17T00:00:00\", \"2020-02-22T12:00:00\", \"2020-03-30T00:00:00\", \"2020-05-05T12:00:00\", \"2020-06-11T00:00:00\", \"2020-07-17T12:00:00\", \"2020-08-23T00:00:00\", \"2020-09-28T12:00:00\", \"2020-11-04T00:00:00\", \"2020-12-10T12:00:00\", \"2021-01-16T00:00:00\", \"2021-02-21T12:00:00\"], \"y\": [33, 77, 79, 142, 95, 91, 57, 62, 110, 153, 138, 90, 109, 71, 54, 124, 102, 52, 51, 49]}, {\"hoverinfo\": \"text\", \"hovertext\": [\"<b>Topic 416</b><br>Words: umpires, umpire, ipl, pakistanis, azhar\", \"<b>Topic 416</b><br>Words: fiscal, pollution, china, companies, dysregulation\", \"<b>Topic 416</b><br>Words: pregnancy, stress, pregnant, child, children\", \"<b>Topic 416</b><br>Words: anxiety, students, veterinarians, risk, exposure\", \"<b>Topic 416</b><br>Words: pollution, exposure, disorders, study, exacerbations\", \"<b>Topic 416</b><br>Words: anxiety, pressure, time, adp, slippages\", \"<b>Topic 416</b><br>Words: anxiety, need, inexcusable, time, probation\", \"<b>Topic 416</b><br>Words: study, anxiety, smoking, differing, students\", \"<b>Topic 416</b><br>Words: board, exam, cbse, tips, students\", \"<b>Topic 416</b><br>Words: coronavirus, anxiety, people, virus, outbreak\", \"<b>Topic 416</b><br>Words: lockdown, secular, hugs, israeli, telegram\", \"<b>Topic 416</b><br>Words: anxiety, pressure, mother, health, lockdown\", \"<b>Topic 416</b><br>Words: anxiety, health, students, covid, pandemic\", \"<b>Topic 416</b><br>Words: cbi, initiate, enquiry, prompted, pressure\", \"<b>Topic 416</b><br>Words: anxiety, covid, important, neet, workplaces\", \"<b>Topic 416</b><br>Words: work, anxiety, health, impacting, linkedin\", \"<b>Topic 416</b><br>Words: brahmaputra, china, dam, river, tibet\", \"<b>Topic 416</b><br>Words: charges, assange, wikileaks, julian, extradited\", \"<b>Topic 416</b><br>Words: anxiety, government, pressure, inflation, administration\", \"<b>Topic 416</b><br>Words: pregnancy, player, maxwell, game, risk\"], \"marker\": {\"color\": \"#D55E00\"}, \"mode\": \"lines\", \"name\": \"416_lockdown_rakshit_hugs_backseat\", \"type\": \"scatter\", \"x\": [\"2019-03-30T06:28:48\", \"2019-05-06T12:00:00\", \"2019-06-12T00:00:00\", \"2019-07-18T12:00:00\", \"2019-08-24T00:00:00\", \"2019-09-29T12:00:00\", \"2019-11-05T00:00:00\", \"2019-12-11T12:00:00\", \"2020-01-17T00:00:00\", \"2020-02-22T12:00:00\", \"2020-03-30T00:00:00\", \"2020-05-05T12:00:00\", \"2020-06-11T00:00:00\", \"2020-07-17T12:00:00\", \"2020-08-23T00:00:00\", \"2020-09-28T12:00:00\", \"2020-11-04T00:00:00\", \"2020-12-10T12:00:00\", \"2021-01-16T00:00:00\", \"2021-02-21T12:00:00\"], \"y\": [61, 60, 62, 75, 95, 80, 57, 87, 96, 165, 387, 248, 184, 136, 136, 159, 119, 110, 76, 126]}, {\"hoverinfo\": \"text\", \"hovertext\": [\"<b>Topic 418</b><br>Words: mental, health, healthcare, sciences, behavioural\", \"<b>Topic 418</b><br>Words: health, mental, sciences, department, behavioural\", \"<b>Topic 418</b><br>Words: kya, hai, title, intention, act\", \"<b>Topic 418</b><br>Words: mental, health, institute, behavioural, sciences\", \"<b>Topic 418</b><br>Words: mental, institute, national, director, research\", \"<b>Topic 418</b><br>Words: health, mental, october, awareness, suicide\", \"<b>Topic 418</b><br>Words: mental, health, issues, associated, addiction\", \"<b>Topic 418</b><br>Words: mental, health, awareness, padukone, sciences\", \"<b>Topic 418</b><br>Words: forum, crystal, award, contribution, padukone\", \"<b>Topic 418</b><br>Words: health, department, sciences, behavioural, institute\", \"<b>Topic 418</b><br>Words: health, mental, medical, institute, sciences\", \"<b>Topic 418</b><br>Words: mental, health, pandemic, duration, covid\", \"<b>Topic 418</b><br>Words: mental, health, sushant, singh, institute\", \"<b>Topic 418</b><br>Words: mental, health, covid, actor, australia\", \"<b>Topic 418</b><br>Words: sushant, rhea, singh, suicide, lawyer\", \"<b>Topic 418</b><br>Words: mental, health, day, world, october\", \"<b>Topic 418</b><br>Words: mental, facilities, outpatient, residential, specialists\", \"<b>Topic 418</b><br>Words: institute, national, biology, centre, genomics\", \"<b>Topic 418</b><br>Words: health, institute, national, nimhans, standards\", \"<b>Topic 418</b><br>Words: mental, health, pandemic, harry, impact\"], \"marker\": {\"color\": \"#0072B2\"}, \"mode\": \"lines\", \"name\": \"418_mental_health_institute_national\", \"type\": \"scatter\", \"x\": [\"2019-03-30T06:28:48\", \"2019-05-06T12:00:00\", \"2019-06-12T00:00:00\", \"2019-07-18T12:00:00\", \"2019-08-24T00:00:00\", \"2019-09-29T12:00:00\", \"2019-11-05T00:00:00\", \"2019-12-11T12:00:00\", \"2020-01-17T00:00:00\", \"2020-02-22T12:00:00\", \"2020-03-30T00:00:00\", \"2020-05-05T12:00:00\", \"2020-06-11T00:00:00\", \"2020-07-17T12:00:00\", \"2020-08-23T00:00:00\", \"2020-09-28T12:00:00\", \"2020-11-04T00:00:00\", \"2020-12-10T12:00:00\", \"2021-01-16T00:00:00\", \"2021-02-21T12:00:00\"], \"y\": [75, 108, 148, 104, 133, 198, 109, 114, 154, 152, 215, 220, 307, 199, 286, 365, 286, 180, 152, 164]}, {\"hoverinfo\": \"text\", \"hovertext\": [\"<b>Topic 475</b><br>Words: spears, britney, checked, jamie, singer\", \"<b>Topic 475</b><br>Words: spears, health, britney, awareness, pop\", \"<b>Topic 475</b><br>Words: mental, health, ciaran, adau, prevention\", \"<b>Topic 475</b><br>Words: mental, health, mass, local, topiwala\", \"<b>Topic 475</b><br>Words: mental, health, facebook, struggles, program\", \"<b>Topic 475</b><br>Words: health, advisory, mental, services, national\", \"<b>Topic 475</b><br>Words: artificial, intelligence, health, app, ai\", \"<b>Topic 475</b><br>Words: mental, health, issues, care, teens\", \"<b>Topic 475</b><br>Words: com, awareness, timesofindia, bieber, justin\", \"<b>Topic 475</b><br>Words: coronavirus, outbreak, mental, pandemic, health\", \"<b>Topic 475</b><br>Words: mental, health, provide, helpline, services\", \"<b>Topic 475</b><br>Words: mental, health, tips, support, crises\", \"<b>Topic 475</b><br>Words: mental, health, foundation, support, resources\", \"<b>Topic 475</b><br>Words: support, mental, health, provide, initiative\", \"<b>Topic 475</b><br>Words: health, mental, helpline, suicide, services\", \"<b>Topic 475</b><br>Words: health, mental, judgementall, kya, support\", \"<b>Topic 475</b><br>Words: mental, health, resources, access, community\", \"<b>Topic 475</b><br>Words: health, mental, services, centene, magellan\", \"<b>Topic 475</b><br>Words: mental, health, care, support, access\", \"<b>Topic 475</b><br>Words: health, mental, support, care, services\"], \"marker\": {\"color\": \"#CC79A7\"}, \"mode\": \"lines\", \"name\": \"475_mental_health_support_services\", \"type\": \"scatter\", \"x\": [\"2019-03-30T06:28:48\", \"2019-05-06T12:00:00\", \"2019-06-12T00:00:00\", \"2019-07-18T12:00:00\", \"2019-08-24T00:00:00\", \"2019-09-29T12:00:00\", \"2019-11-05T00:00:00\", \"2019-12-11T12:00:00\", \"2020-01-17T00:00:00\", \"2020-02-22T12:00:00\", \"2020-03-30T00:00:00\", \"2020-05-05T12:00:00\", \"2020-06-11T00:00:00\", \"2020-07-17T12:00:00\", \"2020-08-23T00:00:00\", \"2020-09-28T12:00:00\", \"2020-11-04T00:00:00\", \"2020-12-10T12:00:00\", \"2021-01-16T00:00:00\", \"2021-02-21T12:00:00\"], \"y\": [46, 46, 46, 41, 58, 97, 70, 50, 72, 96, 121, 120, 148, 67, 85, 133, 86, 78, 76, 81]}, {\"hoverinfo\": \"text\", \"hovertext\": [\"<b>Topic 500</b><br>Words: anxiety, loneliness, samples, years, mental\", \"<b>Topic 500</b><br>Words: anxiety, fear, pressure, disease, parts\", \"<b>Topic 500</b><br>Words: gulf, mexico, tropical, storm, low\", \"<b>Topic 500</b><br>Words: kashmir, anxiety, fear, dangling, sealing\", \"<b>Topic 500</b><br>Words: anxiety, lonely, loneliness, assam, chandrayaan\", \"<b>Topic 500</b><br>Words: jojo, lonely, rabbit, tropical, loneliness\", \"<b>Topic 500</b><br>Words: nanak, guru, dev, book, singh\", \"<b>Topic 500</b><br>Words: anxiety, charging, inflammatory, potentially, language\", \"<b>Topic 500</b><br>Words: lonely, girl, johansson, german, boy\", \"<b>Topic 500</b><br>Words: anxiety, coronavirus, fear, covid, virus\", \"<b>Topic 500</b><br>Words: anxiety, lockdown, covid, fear, stress\", \"<b>Topic 500</b><br>Words: anxiety, lockdown, pandemic, loneliness, increased\", \"<b>Topic 500</b><br>Words: anxiety, covid, pandemic, students, stress\", \"<b>Topic 500</b><br>Words: anxiety, cyclone, uncertainty, covid, fear\", \"<b>Topic 500</b><br>Words: pandemic, lockdown, extradition, health, affected\", \"<b>Topic 500</b><br>Words: bieber, justin, jacob, music, blanco\", \"<b>Topic 500</b><br>Words: bieber, holy, justin, mendes, singing\", \"<b>Topic 500</b><br>Words: extradition, assange, oppressive, grounds, deteriorating\", \"<b>Topic 500</b><br>Words: extradition, pandemic, wikileaks, world, grounds\", \"<b>Topic 500</b><br>Words: extradition, anxiety, pandemic, fear, covid\"], \"marker\": {\"color\": \"#E69F00\"}, \"mode\": \"lines\", \"name\": \"500_anxiety_loneliness_fear_pandemic\", \"type\": \"scatter\", \"x\": [\"2019-03-30T06:28:48\", \"2019-05-06T12:00:00\", \"2019-06-12T00:00:00\", \"2019-07-18T12:00:00\", \"2019-08-24T00:00:00\", \"2019-09-29T12:00:00\", \"2019-11-05T00:00:00\", \"2019-12-11T12:00:00\", \"2020-01-17T00:00:00\", \"2020-02-22T12:00:00\", \"2020-03-30T00:00:00\", \"2020-05-05T12:00:00\", \"2020-06-11T00:00:00\", \"2020-07-17T12:00:00\", \"2020-08-23T00:00:00\", \"2020-09-28T12:00:00\", \"2020-11-04T00:00:00\", \"2020-12-10T12:00:00\", \"2021-01-16T00:00:00\", \"2021-02-21T12:00:00\"], \"y\": [62, 77, 80, 134, 133, 110, 129, 150, 123, 201, 291, 207, 205, 137, 187, 218, 167, 154, 123, 151]}, {\"hoverinfo\": \"text\", \"hovertext\": [\"<b>Topic 677</b><br>Words: anxiety, body, help, muscles, helps\", \"<b>Topic 677</b><br>Words: anxiety, help, morning, stress, sleep\", \"<b>Topic 677</b><br>Words: anxiety, sleep, stress, help, depression\", \"<b>Topic 677</b><br>Words: anxiety, help, digestive, work, sleep\", \"<b>Topic 677</b><br>Words: stress, anxiety, help, relaxed, calm\", \"<b>Topic 677</b><br>Words: anxiety, help, good, work, weight\", \"<b>Topic 677</b><br>Words: anxiety, medication, foods, stress, prescribed\", \"<b>Topic 677</b><br>Words: anxiety, help, stress, anxious, gymnasium\", \"<b>Topic 677</b><br>Words: anxiety, body, stress, mood, stressful\", \"<b>Topic 677</b><br>Words: anxious, help, feeling, stress, feel\", \"<b>Topic 677</b><br>Words: stress, yoga, meditation, exercises, stressful\", \"<b>Topic 677</b><br>Words: anxiety, stress, sleep, feeling, thoughts\", \"<b>Topic 677</b><br>Words: anxiety, help, stress, things, feeling\", \"<b>Topic 677</b><br>Words: work, anxiety, stress, mood, help\", \"<b>Topic 677</b><br>Words: anxiety, help, sleep, stress, stressful\", \"<b>Topic 677</b><br>Words: confusing, really, going, things, stressful\", \"<b>Topic 677</b><br>Words: anxiety, stress, anxious, feeling, things\", \"<b>Topic 677</b><br>Words: anxiety, help, stress, work, weight\", \"<b>Topic 677</b><br>Words: feel, stress, things, work, feeling\", \"<b>Topic 677</b><br>Words: anxiety, help, readmore, stress, helps\"], \"marker\": {\"color\": \"#56B4E9\"}, \"mode\": \"lines\", \"name\": \"677_anxiety_stress_anxious_time\", \"type\": \"scatter\", \"x\": [\"2019-03-30T06:28:48\", \"2019-05-06T12:00:00\", \"2019-06-12T00:00:00\", \"2019-07-18T12:00:00\", \"2019-08-24T00:00:00\", \"2019-09-29T12:00:00\", \"2019-11-05T00:00:00\", \"2019-12-11T12:00:00\", \"2020-01-17T00:00:00\", \"2020-02-22T12:00:00\", \"2020-03-30T00:00:00\", \"2020-05-05T12:00:00\", \"2020-06-11T00:00:00\", \"2020-07-17T12:00:00\", \"2020-08-23T00:00:00\", \"2020-09-28T12:00:00\", \"2020-11-04T00:00:00\", \"2020-12-10T12:00:00\", \"2021-01-16T00:00:00\", \"2021-02-21T12:00:00\"], \"y\": [68, 71, 76, 64, 62, 63, 94, 92, 97, 185, 176, 177, 146, 117, 124, 154, 141, 119, 129, 153]}, {\"hoverinfo\": \"text\", \"hovertext\": [\"<b>Topic 685</b><br>Words: adults, disorder, people, prone, feelings\", \"<b>Topic 685</b><br>Words: sleep, people, health, anxiety, children\", \"<b>Topic 685</b><br>Words: anxiety, rear, apple, factors, people\", \"<b>Topic 685</b><br>Words: people, changing, simien, exercise, health\", \"<b>Topic 685</b><br>Words: likely, sex, asthma, people, anxiety\", \"<b>Topic 685</b><br>Words: disorder, anxiety, diabetes, women, substance\", \"<b>Topic 685</b><br>Words: problems, anxiety, health, loneliness, relationship\", \"<b>Topic 685</b><br>Words: anxiety, work, drinking, stress, behaviour\", \"<b>Topic 685</b><br>Words: dental, anxiety, people, issues, patients\", \"<b>Topic 685</b><br>Words: anxiety, people, panic, need, fear\", \"<b>Topic 685</b><br>Words: time, loneliness, stressful, feeling, experience\", \"<b>Topic 685</b><br>Words: anxiety, anxious, stress, sleeping, feelings\", \"<b>Topic 685</b><br>Words: mental, anxiety, sleep, help, work\", \"<b>Topic 685</b><br>Words: people, anxiety, health, stress, probiotics\", \"<b>Topic 685</b><br>Words: anxiety, eating, disorder, issues, disorders\", \"<b>Topic 685</b><br>Words: anxiety, feeling, refueling, stress, connection\", \"<b>Topic 685</b><br>Words: anxiety, people, health, symptoms, stress\", \"<b>Topic 685</b><br>Words: anxiety, depression, isolation, stress, feeling\", \"<b>Topic 685</b><br>Words: people, anxiety, issues, fear, children\", \"<b>Topic 685</b><br>Words: mental, stress, anxiety, physical, time\"], \"marker\": {\"color\": \"#009E73\"}, \"mode\": \"lines\", \"name\": \"685_anxiety_stress_sleep_feeling\", \"type\": \"scatter\", \"x\": [\"2019-03-30T06:28:48\", \"2019-05-06T12:00:00\", \"2019-06-12T00:00:00\", \"2019-07-18T12:00:00\", \"2019-08-24T00:00:00\", \"2019-09-29T12:00:00\", \"2019-11-05T00:00:00\", \"2019-12-11T12:00:00\", \"2020-01-17T00:00:00\", \"2020-02-22T12:00:00\", \"2020-03-30T00:00:00\", \"2020-05-05T12:00:00\", \"2020-06-11T00:00:00\", \"2020-07-17T12:00:00\", \"2020-08-23T00:00:00\", \"2020-09-28T12:00:00\", \"2020-11-04T00:00:00\", \"2020-12-10T12:00:00\", \"2021-01-16T00:00:00\", \"2021-02-21T12:00:00\"], \"y\": [44, 47, 51, 60, 47, 63, 61, 58, 75, 96, 156, 124, 148, 90, 87, 114, 89, 102, 80, 79]}],                        {\"height\": 450, \"hoverlabel\": {\"bgcolor\": \"white\", \"font\": {\"family\": \"Rockwell\", \"size\": 16}}, \"legend\": {\"title\": {\"text\": \"<b>Global Topic Representation\"}}, \"template\": {\"data\": {\"bar\": [{\"error_x\": {\"color\": \"rgb(36,36,36)\"}, \"error_y\": {\"color\": \"rgb(36,36,36)\"}, \"marker\": {\"line\": {\"color\": \"white\", \"width\": 0.5}}, \"type\": \"bar\"}], \"barpolar\": [{\"marker\": {\"line\": {\"color\": \"white\", \"width\": 0.5}}, \"type\": \"barpolar\"}], \"carpet\": [{\"aaxis\": {\"endlinecolor\": \"rgb(36,36,36)\", \"gridcolor\": \"white\", \"linecolor\": \"white\", \"minorgridcolor\": \"white\", \"startlinecolor\": \"rgb(36,36,36)\"}, \"baxis\": {\"endlinecolor\": \"rgb(36,36,36)\", \"gridcolor\": \"white\", \"linecolor\": \"white\", \"minorgridcolor\": \"white\", \"startlinecolor\": \"rgb(36,36,36)\"}, \"type\": \"carpet\"}], \"choropleth\": [{\"colorbar\": {\"outlinewidth\": 1, \"tickcolor\": \"rgb(36,36,36)\", \"ticks\": \"outside\"}, \"type\": \"choropleth\"}], \"contour\": [{\"colorbar\": {\"outlinewidth\": 1, \"tickcolor\": \"rgb(36,36,36)\", \"ticks\": \"outside\"}, \"colorscale\": [[0.0, \"#440154\"], [0.1111111111111111, \"#482878\"], [0.2222222222222222, \"#3e4989\"], [0.3333333333333333, \"#31688e\"], [0.4444444444444444, \"#26828e\"], [0.5555555555555556, \"#1f9e89\"], [0.6666666666666666, \"#35b779\"], [0.7777777777777778, \"#6ece58\"], [0.8888888888888888, \"#b5de2b\"], [1.0, \"#fde725\"]], \"type\": \"contour\"}], \"contourcarpet\": [{\"colorbar\": {\"outlinewidth\": 1, \"tickcolor\": \"rgb(36,36,36)\", \"ticks\": \"outside\"}, \"type\": \"contourcarpet\"}], \"heatmap\": [{\"colorbar\": {\"outlinewidth\": 1, \"tickcolor\": \"rgb(36,36,36)\", \"ticks\": \"outside\"}, \"colorscale\": [[0.0, \"#440154\"], [0.1111111111111111, \"#482878\"], [0.2222222222222222, \"#3e4989\"], [0.3333333333333333, \"#31688e\"], [0.4444444444444444, \"#26828e\"], [0.5555555555555556, \"#1f9e89\"], [0.6666666666666666, \"#35b779\"], [0.7777777777777778, \"#6ece58\"], [0.8888888888888888, \"#b5de2b\"], [1.0, \"#fde725\"]], \"type\": \"heatmap\"}], \"heatmapgl\": [{\"colorbar\": {\"outlinewidth\": 1, \"tickcolor\": \"rgb(36,36,36)\", \"ticks\": \"outside\"}, \"colorscale\": [[0.0, \"#440154\"], [0.1111111111111111, \"#482878\"], [0.2222222222222222, \"#3e4989\"], [0.3333333333333333, \"#31688e\"], [0.4444444444444444, \"#26828e\"], [0.5555555555555556, \"#1f9e89\"], [0.6666666666666666, \"#35b779\"], [0.7777777777777778, \"#6ece58\"], [0.8888888888888888, \"#b5de2b\"], [1.0, \"#fde725\"]], \"type\": \"heatmapgl\"}], \"histogram\": [{\"marker\": {\"line\": {\"color\": \"white\", \"width\": 0.6}}, \"type\": \"histogram\"}], \"histogram2d\": [{\"colorbar\": {\"outlinewidth\": 1, \"tickcolor\": \"rgb(36,36,36)\", \"ticks\": \"outside\"}, \"colorscale\": [[0.0, \"#440154\"], [0.1111111111111111, \"#482878\"], [0.2222222222222222, \"#3e4989\"], [0.3333333333333333, \"#31688e\"], [0.4444444444444444, \"#26828e\"], [0.5555555555555556, \"#1f9e89\"], [0.6666666666666666, \"#35b779\"], [0.7777777777777778, \"#6ece58\"], [0.8888888888888888, \"#b5de2b\"], [1.0, \"#fde725\"]], \"type\": \"histogram2d\"}], \"histogram2dcontour\": [{\"colorbar\": {\"outlinewidth\": 1, \"tickcolor\": \"rgb(36,36,36)\", \"ticks\": \"outside\"}, \"colorscale\": [[0.0, \"#440154\"], [0.1111111111111111, \"#482878\"], [0.2222222222222222, \"#3e4989\"], [0.3333333333333333, \"#31688e\"], [0.4444444444444444, \"#26828e\"], [0.5555555555555556, \"#1f9e89\"], [0.6666666666666666, \"#35b779\"], [0.7777777777777778, \"#6ece58\"], [0.8888888888888888, \"#b5de2b\"], [1.0, \"#fde725\"]], \"type\": \"histogram2dcontour\"}], \"mesh3d\": [{\"colorbar\": {\"outlinewidth\": 1, \"tickcolor\": \"rgb(36,36,36)\", \"ticks\": \"outside\"}, \"type\": \"mesh3d\"}], \"parcoords\": [{\"line\": {\"colorbar\": {\"outlinewidth\": 1, \"tickcolor\": \"rgb(36,36,36)\", \"ticks\": \"outside\"}}, \"type\": \"parcoords\"}], \"pie\": [{\"automargin\": true, \"type\": \"pie\"}], \"scatter\": [{\"marker\": {\"colorbar\": {\"outlinewidth\": 1, \"tickcolor\": \"rgb(36,36,36)\", \"ticks\": \"outside\"}}, \"type\": \"scatter\"}], \"scatter3d\": [{\"line\": {\"colorbar\": {\"outlinewidth\": 1, \"tickcolor\": \"rgb(36,36,36)\", \"ticks\": \"outside\"}}, \"marker\": {\"colorbar\": {\"outlinewidth\": 1, \"tickcolor\": \"rgb(36,36,36)\", \"ticks\": \"outside\"}}, \"type\": \"scatter3d\"}], \"scattercarpet\": [{\"marker\": {\"colorbar\": {\"outlinewidth\": 1, \"tickcolor\": \"rgb(36,36,36)\", \"ticks\": \"outside\"}}, \"type\": \"scattercarpet\"}], \"scattergeo\": [{\"marker\": {\"colorbar\": {\"outlinewidth\": 1, \"tickcolor\": \"rgb(36,36,36)\", \"ticks\": \"outside\"}}, \"type\": \"scattergeo\"}], \"scattergl\": [{\"marker\": {\"colorbar\": {\"outlinewidth\": 1, \"tickcolor\": \"rgb(36,36,36)\", \"ticks\": \"outside\"}}, \"type\": \"scattergl\"}], \"scattermapbox\": [{\"marker\": {\"colorbar\": {\"outlinewidth\": 1, \"tickcolor\": \"rgb(36,36,36)\", \"ticks\": \"outside\"}}, \"type\": \"scattermapbox\"}], \"scatterpolar\": [{\"marker\": {\"colorbar\": {\"outlinewidth\": 1, \"tickcolor\": \"rgb(36,36,36)\", \"ticks\": \"outside\"}}, \"type\": \"scatterpolar\"}], \"scatterpolargl\": [{\"marker\": {\"colorbar\": {\"outlinewidth\": 1, \"tickcolor\": \"rgb(36,36,36)\", \"ticks\": \"outside\"}}, \"type\": \"scatterpolargl\"}], \"scatterternary\": [{\"marker\": {\"colorbar\": {\"outlinewidth\": 1, \"tickcolor\": \"rgb(36,36,36)\", \"ticks\": \"outside\"}}, \"type\": \"scatterternary\"}], \"surface\": [{\"colorbar\": {\"outlinewidth\": 1, \"tickcolor\": \"rgb(36,36,36)\", \"ticks\": \"outside\"}, \"colorscale\": [[0.0, \"#440154\"], [0.1111111111111111, \"#482878\"], [0.2222222222222222, \"#3e4989\"], [0.3333333333333333, \"#31688e\"], [0.4444444444444444, \"#26828e\"], [0.5555555555555556, \"#1f9e89\"], [0.6666666666666666, \"#35b779\"], [0.7777777777777778, \"#6ece58\"], [0.8888888888888888, \"#b5de2b\"], [1.0, \"#fde725\"]], \"type\": \"surface\"}], \"table\": [{\"cells\": {\"fill\": {\"color\": \"rgb(237,237,237)\"}, \"line\": {\"color\": \"white\"}}, \"header\": {\"fill\": {\"color\": \"rgb(217,217,217)\"}, \"line\": {\"color\": \"white\"}}, \"type\": \"table\"}]}, \"layout\": {\"annotationdefaults\": {\"arrowhead\": 0, \"arrowwidth\": 1}, \"autotypenumbers\": \"strict\", \"coloraxis\": {\"colorbar\": {\"outlinewidth\": 1, \"tickcolor\": \"rgb(36,36,36)\", \"ticks\": \"outside\"}}, \"colorscale\": {\"diverging\": [[0.0, \"rgb(103,0,31)\"], [0.1, \"rgb(178,24,43)\"], [0.2, \"rgb(214,96,77)\"], [0.3, \"rgb(244,165,130)\"], [0.4, \"rgb(253,219,199)\"], [0.5, \"rgb(247,247,247)\"], [0.6, \"rgb(209,229,240)\"], [0.7, \"rgb(146,197,222)\"], [0.8, \"rgb(67,147,195)\"], [0.9, \"rgb(33,102,172)\"], [1.0, \"rgb(5,48,97)\"]], \"sequential\": [[0.0, \"#440154\"], [0.1111111111111111, \"#482878\"], [0.2222222222222222, \"#3e4989\"], [0.3333333333333333, \"#31688e\"], [0.4444444444444444, \"#26828e\"], [0.5555555555555556, \"#1f9e89\"], [0.6666666666666666, \"#35b779\"], [0.7777777777777778, \"#6ece58\"], [0.8888888888888888, \"#b5de2b\"], [1.0, \"#fde725\"]], \"sequentialminus\": [[0.0, \"#440154\"], [0.1111111111111111, \"#482878\"], [0.2222222222222222, \"#3e4989\"], [0.3333333333333333, \"#31688e\"], [0.4444444444444444, \"#26828e\"], [0.5555555555555556, \"#1f9e89\"], [0.6666666666666666, \"#35b779\"], [0.7777777777777778, \"#6ece58\"], [0.8888888888888888, \"#b5de2b\"], [1.0, \"#fde725\"]]}, \"colorway\": [\"#1F77B4\", \"#FF7F0E\", \"#2CA02C\", \"#D62728\", \"#9467BD\", \"#8C564B\", \"#E377C2\", \"#7F7F7F\", \"#BCBD22\", \"#17BECF\"], \"font\": {\"color\": \"rgb(36,36,36)\"}, \"geo\": {\"bgcolor\": \"white\", \"lakecolor\": \"white\", \"landcolor\": \"white\", \"showlakes\": true, \"showland\": true, \"subunitcolor\": \"white\"}, \"hoverlabel\": {\"align\": \"left\"}, \"hovermode\": \"closest\", \"mapbox\": {\"style\": \"light\"}, \"paper_bgcolor\": \"white\", \"plot_bgcolor\": \"white\", \"polar\": {\"angularaxis\": {\"gridcolor\": \"rgb(232,232,232)\", \"linecolor\": \"rgb(36,36,36)\", \"showgrid\": false, \"showline\": true, \"ticks\": \"outside\"}, \"bgcolor\": \"white\", \"radialaxis\": {\"gridcolor\": \"rgb(232,232,232)\", \"linecolor\": \"rgb(36,36,36)\", \"showgrid\": false, \"showline\": true, \"ticks\": \"outside\"}}, \"scene\": {\"xaxis\": {\"backgroundcolor\": \"white\", \"gridcolor\": \"rgb(232,232,232)\", \"gridwidth\": 2, \"linecolor\": \"rgb(36,36,36)\", \"showbackground\": true, \"showgrid\": false, \"showline\": true, \"ticks\": \"outside\", \"zeroline\": false, \"zerolinecolor\": \"rgb(36,36,36)\"}, \"yaxis\": {\"backgroundcolor\": \"white\", \"gridcolor\": \"rgb(232,232,232)\", \"gridwidth\": 2, \"linecolor\": \"rgb(36,36,36)\", \"showbackground\": true, \"showgrid\": false, \"showline\": true, \"ticks\": \"outside\", \"zeroline\": false, \"zerolinecolor\": \"rgb(36,36,36)\"}, \"zaxis\": {\"backgroundcolor\": \"white\", \"gridcolor\": \"rgb(232,232,232)\", \"gridwidth\": 2, \"linecolor\": \"rgb(36,36,36)\", \"showbackground\": true, \"showgrid\": false, \"showline\": true, \"ticks\": \"outside\", \"zeroline\": false, \"zerolinecolor\": \"rgb(36,36,36)\"}}, \"shapedefaults\": {\"fillcolor\": \"black\", \"line\": {\"width\": 0}, \"opacity\": 0.3}, \"ternary\": {\"aaxis\": {\"gridcolor\": \"rgb(232,232,232)\", \"linecolor\": \"rgb(36,36,36)\", \"showgrid\": false, \"showline\": true, \"ticks\": \"outside\"}, \"baxis\": {\"gridcolor\": \"rgb(232,232,232)\", \"linecolor\": \"rgb(36,36,36)\", \"showgrid\": false, \"showline\": true, \"ticks\": \"outside\"}, \"bgcolor\": \"white\", \"caxis\": {\"gridcolor\": \"rgb(232,232,232)\", \"linecolor\": \"rgb(36,36,36)\", \"showgrid\": false, \"showline\": true, \"ticks\": \"outside\"}}, \"title\": {\"x\": 0.05}, \"xaxis\": {\"automargin\": true, \"gridcolor\": \"rgb(232,232,232)\", \"linecolor\": \"rgb(36,36,36)\", \"showgrid\": false, \"showline\": true, \"ticks\": \"outside\", \"title\": {\"standoff\": 15}, \"zeroline\": false, \"zerolinecolor\": \"rgb(36,36,36)\"}, \"yaxis\": {\"automargin\": true, \"gridcolor\": \"rgb(232,232,232)\", \"linecolor\": \"rgb(36,36,36)\", \"showgrid\": false, \"showline\": true, \"ticks\": \"outside\", \"title\": {\"standoff\": 15}, \"zeroline\": false, \"zerolinecolor\": \"rgb(36,36,36)\"}}}, \"title\": {\"font\": {\"color\": \"Black\", \"size\": 22}, \"text\": \"<b>Topics over Time\", \"x\": 0.4, \"xanchor\": \"center\", \"y\": 0.95, \"yanchor\": \"top\"}, \"width\": 1250, \"xaxis\": {\"showgrid\": true}, \"yaxis\": {\"showgrid\": true, \"title\": {\"text\": \"Frequency\"}}},                        {\"responsive\": true}                    ).then(function(){\n",
              "                            \n",
              "var gd = document.getElementById('cfc92253-7d0d-47a2-823f-477e78c288fe');\n",
              "var x = new MutationObserver(function (mutations, observer) {{\n",
              "        var display = window.getComputedStyle(gd).display;\n",
              "        if (!display || display === 'none') {{\n",
              "            console.log([gd, 'removed!']);\n",
              "            Plotly.purge(gd);\n",
              "            observer.disconnect();\n",
              "        }}\n",
              "}});\n",
              "\n",
              "// Listen for the removal of the full notebook cells\n",
              "var notebookContainer = gd.closest('#notebook-container');\n",
              "if (notebookContainer) {{\n",
              "    x.observe(notebookContainer, {childList: true});\n",
              "}}\n",
              "\n",
              "// Listen for the clearing of the current output cell\n",
              "var outputEl = gd.closest('.output');\n",
              "if (outputEl) {{\n",
              "    x.observe(outputEl, {childList: true});\n",
              "}}\n",
              "\n",
              "                        })                };                            </script>        </div>\n",
              "</body>\n",
              "</html>"
            ]
          },
          "metadata": {
            "tags": []
          }
        }
      ]
    },
    {
      "cell_type": "code",
      "metadata": {
        "id": "9csoV9d1mU6H"
      },
      "source": [
        "w2v = BERTopic.load('/content/drive/My Drive/indian_w2v10')\n",
        "topw2v = np.load('/content/drive/My Drive/topic_india10.npy')"
      ],
      "execution_count": 49,
      "outputs": []
    },
    {
      "cell_type": "code",
      "metadata": {
        "colab": {
          "base_uri": "https://localhost:8080/",
          "height": 667
        },
        "id": "OxxC05WCeE5B",
        "outputId": "0270ebda-bef7-421a-cfd9-6bfa6bef31aa"
      },
      "source": [
        "w2v.visualize_topics()"
      ],
      "execution_count": 50,
      "outputs": [
        {
          "output_type": "display_data",
          "data": {
            "text/html": [
              "<html>\n",
              "<head><meta charset=\"utf-8\" /></head>\n",
              "<body>\n",
              "    <div>            <script src=\"https://cdnjs.cloudflare.com/ajax/libs/mathjax/2.7.5/MathJax.js?config=TeX-AMS-MML_SVG\"></script><script type=\"text/javascript\">if (window.MathJax) {MathJax.Hub.Config({SVG: {font: \"STIX-Web\"}});}</script>                <script type=\"text/javascript\">window.PlotlyConfig = {MathJaxConfig: 'local'};</script>\n",
              "        <script src=\"https://cdn.plot.ly/plotly-latest.min.js\"></script>                <div id=\"6249d6ce-d4b8-4245-a2b2-a0f1f700012b\" class=\"plotly-graph-div\" style=\"height:650px; width:650px;\"></div>            <script type=\"text/javascript\">                                    window.PLOTLYENV=window.PLOTLYENV || {};                                    if (document.getElementById(\"6249d6ce-d4b8-4245-a2b2-a0f1f700012b\")) {                    Plotly.newPlot(                        \"6249d6ce-d4b8-4245-a2b2-a0f1f700012b\",                        [{\"customdata\": [[14.726694107055664, -0.4519585967063904, 200, \"low | south | rain | coast | rainfall\", 4858], [14.860753059387207, 0.4359145164489746, 331, \"anxiety | loneliness | covid | pandemic | fear\", 2403], [14.494406700134277, -0.8479124307632446, 428, \"anxiety | lockdown | time | loneliness | lonely\", 3108], [-3.7488338947296143, 12.107542037963867, 536, \"mental | health | issue | healthcare | support\", 3313], [-4.312198162078857, 12.020173072814941, 541, \"issue | cricket | break | people | pandemic\", 4536], [14.116109848022461, 0.09657806158065796, 581, \"price | market | trade | stock | economy\", 3980], [-3.3088767528533936, 12.314847946166992, 582, \"health | mental | physical | care | important\", 3280], [-4.68447732925415, 12.141603469848633, 639, \"institute | court | pandemic | government | medical\", 2568], [16.073694229125977, -1.1626204252243042, 708, \"anxiety | stress | help | disorder | depression\", 2584], [15.62585735321045, -0.8814082145690918, 792, \"anxiety | symptom | stress | anxious | feeling\", 3662]], \"hovertemplate\": \"<b>Topic %{customdata[2]}</b><br>Words: %{customdata[3]}<br>Size: %{customdata[4]}\", \"legendgroup\": \"\", \"marker\": {\"color\": \"#B0BEC5\", \"line\": {\"color\": \"DarkSlateGrey\", \"width\": 2}, \"size\": [4858, 2403, 3108, 3313, 4536, 3980, 3280, 2568, 2584, 3662], \"sizemode\": \"area\", \"sizeref\": 3.03625, \"symbol\": \"circle\"}, \"mode\": \"markers\", \"name\": \"\", \"orientation\": \"v\", \"showlegend\": false, \"type\": \"scatter\", \"x\": [14.726694107055664, 14.860753059387207, 14.494406700134277, -3.7488338947296143, -4.312198162078857, 14.116109848022461, -3.3088767528533936, -4.68447732925415, 16.073694229125977, 15.62585735321045], \"xaxis\": \"x\", \"y\": [-0.4519585967063904, 0.4359145164489746, -0.8479124307632446, 12.107542037963867, 12.020173072814941, 0.09657806158065796, 12.314847946166992, 12.141603469848633, -1.1626204252243042, -0.8814082145690918], \"yaxis\": \"y\"}],                        {\"annotations\": [{\"showarrow\": false, \"text\": \"D1\", \"x\": -5.387148928642273, \"y\": 6.412530824542046, \"yshift\": 10}, {\"showarrow\": false, \"text\": \"D2\", \"x\": 6.5487997174263, \"xshift\": 10, \"y\": 14.16207513809204}], \"height\": 650, \"hoverlabel\": {\"bgcolor\": \"white\", \"font\": {\"family\": \"Rockwell\", \"size\": 16}}, \"legend\": {\"itemsizing\": \"constant\", \"tracegroupgap\": 0}, \"margin\": {\"t\": 60}, \"shapes\": [{\"line\": {\"color\": \"#CFD8DC\", \"width\": 2}, \"type\": \"line\", \"x0\": 6.5487997174263, \"x1\": 6.5487997174263, \"y0\": -1.33701348900795, \"y1\": 14.16207513809204}, {\"line\": {\"color\": \"#9E9E9E\", \"width\": 2}, \"type\": \"line\", \"x0\": -5.387148928642273, \"x1\": 18.484748363494873, \"y0\": 6.412530824542046, \"y1\": 6.412530824542046}], \"sliders\": [{\"active\": 0, \"pad\": {\"t\": 50}, \"steps\": [{\"args\": [{\"marker.color\": [[\"red\", \"#B0BEC5\", \"#B0BEC5\", \"#B0BEC5\", \"#B0BEC5\", \"#B0BEC5\", \"#B0BEC5\", \"#B0BEC5\", \"#B0BEC5\", \"#B0BEC5\"]]}], \"label\": \"Topic 200\", \"method\": \"update\"}, {\"args\": [{\"marker.color\": [[\"#B0BEC5\", \"red\", \"#B0BEC5\", \"#B0BEC5\", \"#B0BEC5\", \"#B0BEC5\", \"#B0BEC5\", \"#B0BEC5\", \"#B0BEC5\", \"#B0BEC5\"]]}], \"label\": \"Topic 331\", \"method\": \"update\"}, {\"args\": [{\"marker.color\": [[\"#B0BEC5\", \"#B0BEC5\", \"red\", \"#B0BEC5\", \"#B0BEC5\", \"#B0BEC5\", \"#B0BEC5\", \"#B0BEC5\", \"#B0BEC5\", \"#B0BEC5\"]]}], \"label\": \"Topic 428\", \"method\": \"update\"}, {\"args\": [{\"marker.color\": [[\"#B0BEC5\", \"#B0BEC5\", \"#B0BEC5\", \"red\", \"#B0BEC5\", \"#B0BEC5\", \"#B0BEC5\", \"#B0BEC5\", \"#B0BEC5\", \"#B0BEC5\"]]}], \"label\": \"Topic 536\", \"method\": \"update\"}, {\"args\": [{\"marker.color\": [[\"#B0BEC5\", \"#B0BEC5\", \"#B0BEC5\", \"#B0BEC5\", \"red\", \"#B0BEC5\", \"#B0BEC5\", \"#B0BEC5\", \"#B0BEC5\", \"#B0BEC5\"]]}], \"label\": \"Topic 541\", \"method\": \"update\"}, {\"args\": [{\"marker.color\": [[\"#B0BEC5\", \"#B0BEC5\", \"#B0BEC5\", \"#B0BEC5\", \"#B0BEC5\", \"red\", \"#B0BEC5\", \"#B0BEC5\", \"#B0BEC5\", \"#B0BEC5\"]]}], \"label\": \"Topic 581\", \"method\": \"update\"}, {\"args\": [{\"marker.color\": [[\"#B0BEC5\", \"#B0BEC5\", \"#B0BEC5\", \"#B0BEC5\", \"#B0BEC5\", \"#B0BEC5\", \"red\", \"#B0BEC5\", \"#B0BEC5\", \"#B0BEC5\"]]}], \"label\": \"Topic 582\", \"method\": \"update\"}, {\"args\": [{\"marker.color\": [[\"#B0BEC5\", \"#B0BEC5\", \"#B0BEC5\", \"#B0BEC5\", \"#B0BEC5\", \"#B0BEC5\", \"#B0BEC5\", \"red\", \"#B0BEC5\", \"#B0BEC5\"]]}], \"label\": \"Topic 639\", \"method\": \"update\"}, {\"args\": [{\"marker.color\": [[\"#B0BEC5\", \"#B0BEC5\", \"#B0BEC5\", \"#B0BEC5\", \"#B0BEC5\", \"#B0BEC5\", \"#B0BEC5\", \"#B0BEC5\", \"red\", \"#B0BEC5\"]]}], \"label\": \"Topic 708\", \"method\": \"update\"}, {\"args\": [{\"marker.color\": [[\"#B0BEC5\", \"#B0BEC5\", \"#B0BEC5\", \"#B0BEC5\", \"#B0BEC5\", \"#B0BEC5\", \"#B0BEC5\", \"#B0BEC5\", \"#B0BEC5\", \"red\"]]}], \"label\": \"Topic 792\", \"method\": \"update\"}]}], \"template\": {\"data\": {\"bar\": [{\"error_x\": {\"color\": \"rgb(36,36,36)\"}, \"error_y\": {\"color\": \"rgb(36,36,36)\"}, \"marker\": {\"line\": {\"color\": \"white\", \"width\": 0.5}}, \"type\": \"bar\"}], \"barpolar\": [{\"marker\": {\"line\": {\"color\": \"white\", \"width\": 0.5}}, \"type\": \"barpolar\"}], \"carpet\": [{\"aaxis\": {\"endlinecolor\": \"rgb(36,36,36)\", \"gridcolor\": \"white\", \"linecolor\": \"white\", \"minorgridcolor\": \"white\", \"startlinecolor\": \"rgb(36,36,36)\"}, \"baxis\": {\"endlinecolor\": \"rgb(36,36,36)\", \"gridcolor\": \"white\", \"linecolor\": \"white\", \"minorgridcolor\": \"white\", \"startlinecolor\": \"rgb(36,36,36)\"}, \"type\": \"carpet\"}], \"choropleth\": [{\"colorbar\": {\"outlinewidth\": 1, \"tickcolor\": \"rgb(36,36,36)\", \"ticks\": \"outside\"}, \"type\": \"choropleth\"}], \"contour\": [{\"colorbar\": {\"outlinewidth\": 1, \"tickcolor\": \"rgb(36,36,36)\", \"ticks\": \"outside\"}, \"colorscale\": [[0.0, \"#440154\"], [0.1111111111111111, \"#482878\"], [0.2222222222222222, \"#3e4989\"], [0.3333333333333333, \"#31688e\"], [0.4444444444444444, \"#26828e\"], [0.5555555555555556, \"#1f9e89\"], [0.6666666666666666, \"#35b779\"], [0.7777777777777778, \"#6ece58\"], [0.8888888888888888, \"#b5de2b\"], [1.0, \"#fde725\"]], \"type\": \"contour\"}], \"contourcarpet\": [{\"colorbar\": {\"outlinewidth\": 1, \"tickcolor\": \"rgb(36,36,36)\", \"ticks\": \"outside\"}, \"type\": \"contourcarpet\"}], \"heatmap\": [{\"colorbar\": {\"outlinewidth\": 1, \"tickcolor\": \"rgb(36,36,36)\", \"ticks\": \"outside\"}, \"colorscale\": [[0.0, \"#440154\"], [0.1111111111111111, \"#482878\"], [0.2222222222222222, \"#3e4989\"], [0.3333333333333333, \"#31688e\"], [0.4444444444444444, \"#26828e\"], [0.5555555555555556, \"#1f9e89\"], [0.6666666666666666, \"#35b779\"], [0.7777777777777778, \"#6ece58\"], [0.8888888888888888, \"#b5de2b\"], [1.0, \"#fde725\"]], \"type\": \"heatmap\"}], \"heatmapgl\": [{\"colorbar\": {\"outlinewidth\": 1, \"tickcolor\": \"rgb(36,36,36)\", \"ticks\": \"outside\"}, \"colorscale\": [[0.0, \"#440154\"], [0.1111111111111111, \"#482878\"], [0.2222222222222222, \"#3e4989\"], [0.3333333333333333, \"#31688e\"], [0.4444444444444444, \"#26828e\"], [0.5555555555555556, \"#1f9e89\"], [0.6666666666666666, \"#35b779\"], [0.7777777777777778, \"#6ece58\"], [0.8888888888888888, \"#b5de2b\"], [1.0, \"#fde725\"]], \"type\": \"heatmapgl\"}], \"histogram\": [{\"marker\": {\"line\": {\"color\": \"white\", \"width\": 0.6}}, \"type\": \"histogram\"}], \"histogram2d\": [{\"colorbar\": {\"outlinewidth\": 1, \"tickcolor\": \"rgb(36,36,36)\", \"ticks\": \"outside\"}, \"colorscale\": [[0.0, \"#440154\"], [0.1111111111111111, \"#482878\"], [0.2222222222222222, \"#3e4989\"], [0.3333333333333333, \"#31688e\"], [0.4444444444444444, \"#26828e\"], [0.5555555555555556, \"#1f9e89\"], [0.6666666666666666, \"#35b779\"], [0.7777777777777778, \"#6ece58\"], [0.8888888888888888, \"#b5de2b\"], [1.0, \"#fde725\"]], \"type\": \"histogram2d\"}], \"histogram2dcontour\": [{\"colorbar\": {\"outlinewidth\": 1, \"tickcolor\": \"rgb(36,36,36)\", \"ticks\": \"outside\"}, \"colorscale\": [[0.0, \"#440154\"], [0.1111111111111111, \"#482878\"], [0.2222222222222222, \"#3e4989\"], [0.3333333333333333, \"#31688e\"], [0.4444444444444444, \"#26828e\"], [0.5555555555555556, \"#1f9e89\"], [0.6666666666666666, \"#35b779\"], [0.7777777777777778, \"#6ece58\"], [0.8888888888888888, \"#b5de2b\"], [1.0, \"#fde725\"]], \"type\": \"histogram2dcontour\"}], \"mesh3d\": [{\"colorbar\": {\"outlinewidth\": 1, \"tickcolor\": \"rgb(36,36,36)\", \"ticks\": \"outside\"}, \"type\": \"mesh3d\"}], \"parcoords\": [{\"line\": {\"colorbar\": {\"outlinewidth\": 1, \"tickcolor\": \"rgb(36,36,36)\", \"ticks\": \"outside\"}}, \"type\": \"parcoords\"}], \"pie\": [{\"automargin\": true, \"type\": \"pie\"}], \"scatter\": [{\"marker\": {\"colorbar\": {\"outlinewidth\": 1, \"tickcolor\": \"rgb(36,36,36)\", \"ticks\": \"outside\"}}, \"type\": \"scatter\"}], \"scatter3d\": [{\"line\": {\"colorbar\": {\"outlinewidth\": 1, \"tickcolor\": \"rgb(36,36,36)\", \"ticks\": \"outside\"}}, \"marker\": {\"colorbar\": {\"outlinewidth\": 1, \"tickcolor\": \"rgb(36,36,36)\", \"ticks\": \"outside\"}}, \"type\": \"scatter3d\"}], \"scattercarpet\": [{\"marker\": {\"colorbar\": {\"outlinewidth\": 1, \"tickcolor\": \"rgb(36,36,36)\", \"ticks\": \"outside\"}}, \"type\": \"scattercarpet\"}], \"scattergeo\": [{\"marker\": {\"colorbar\": {\"outlinewidth\": 1, \"tickcolor\": \"rgb(36,36,36)\", \"ticks\": \"outside\"}}, \"type\": \"scattergeo\"}], \"scattergl\": [{\"marker\": {\"colorbar\": {\"outlinewidth\": 1, \"tickcolor\": \"rgb(36,36,36)\", \"ticks\": \"outside\"}}, \"type\": \"scattergl\"}], \"scattermapbox\": [{\"marker\": {\"colorbar\": {\"outlinewidth\": 1, \"tickcolor\": \"rgb(36,36,36)\", \"ticks\": \"outside\"}}, \"type\": \"scattermapbox\"}], \"scatterpolar\": [{\"marker\": {\"colorbar\": {\"outlinewidth\": 1, \"tickcolor\": \"rgb(36,36,36)\", \"ticks\": \"outside\"}}, \"type\": \"scatterpolar\"}], \"scatterpolargl\": [{\"marker\": {\"colorbar\": {\"outlinewidth\": 1, \"tickcolor\": \"rgb(36,36,36)\", \"ticks\": \"outside\"}}, \"type\": \"scatterpolargl\"}], \"scatterternary\": [{\"marker\": {\"colorbar\": {\"outlinewidth\": 1, \"tickcolor\": \"rgb(36,36,36)\", \"ticks\": \"outside\"}}, \"type\": \"scatterternary\"}], \"surface\": [{\"colorbar\": {\"outlinewidth\": 1, \"tickcolor\": \"rgb(36,36,36)\", \"ticks\": \"outside\"}, \"colorscale\": [[0.0, \"#440154\"], [0.1111111111111111, \"#482878\"], [0.2222222222222222, \"#3e4989\"], [0.3333333333333333, \"#31688e\"], [0.4444444444444444, \"#26828e\"], [0.5555555555555556, \"#1f9e89\"], [0.6666666666666666, \"#35b779\"], [0.7777777777777778, \"#6ece58\"], [0.8888888888888888, \"#b5de2b\"], [1.0, \"#fde725\"]], \"type\": \"surface\"}], \"table\": [{\"cells\": {\"fill\": {\"color\": \"rgb(237,237,237)\"}, \"line\": {\"color\": \"white\"}}, \"header\": {\"fill\": {\"color\": \"rgb(217,217,217)\"}, \"line\": {\"color\": \"white\"}}, \"type\": \"table\"}]}, \"layout\": {\"annotationdefaults\": {\"arrowhead\": 0, \"arrowwidth\": 1}, \"autotypenumbers\": \"strict\", \"coloraxis\": {\"colorbar\": {\"outlinewidth\": 1, \"tickcolor\": \"rgb(36,36,36)\", \"ticks\": \"outside\"}}, \"colorscale\": {\"diverging\": [[0.0, \"rgb(103,0,31)\"], [0.1, \"rgb(178,24,43)\"], [0.2, \"rgb(214,96,77)\"], [0.3, \"rgb(244,165,130)\"], [0.4, \"rgb(253,219,199)\"], [0.5, \"rgb(247,247,247)\"], [0.6, \"rgb(209,229,240)\"], [0.7, \"rgb(146,197,222)\"], [0.8, \"rgb(67,147,195)\"], [0.9, \"rgb(33,102,172)\"], [1.0, \"rgb(5,48,97)\"]], \"sequential\": [[0.0, \"#440154\"], [0.1111111111111111, \"#482878\"], [0.2222222222222222, \"#3e4989\"], [0.3333333333333333, \"#31688e\"], [0.4444444444444444, \"#26828e\"], [0.5555555555555556, \"#1f9e89\"], [0.6666666666666666, \"#35b779\"], [0.7777777777777778, \"#6ece58\"], [0.8888888888888888, \"#b5de2b\"], [1.0, \"#fde725\"]], \"sequentialminus\": [[0.0, \"#440154\"], [0.1111111111111111, \"#482878\"], [0.2222222222222222, \"#3e4989\"], [0.3333333333333333, \"#31688e\"], [0.4444444444444444, \"#26828e\"], [0.5555555555555556, \"#1f9e89\"], [0.6666666666666666, \"#35b779\"], [0.7777777777777778, \"#6ece58\"], [0.8888888888888888, \"#b5de2b\"], [1.0, \"#fde725\"]]}, \"colorway\": [\"#1F77B4\", \"#FF7F0E\", \"#2CA02C\", \"#D62728\", \"#9467BD\", \"#8C564B\", \"#E377C2\", \"#7F7F7F\", \"#BCBD22\", \"#17BECF\"], \"font\": {\"color\": \"rgb(36,36,36)\"}, \"geo\": {\"bgcolor\": \"white\", \"lakecolor\": \"white\", \"landcolor\": \"white\", \"showlakes\": true, \"showland\": true, \"subunitcolor\": \"white\"}, \"hoverlabel\": {\"align\": \"left\"}, \"hovermode\": \"closest\", \"mapbox\": {\"style\": \"light\"}, \"paper_bgcolor\": \"white\", \"plot_bgcolor\": \"white\", \"polar\": {\"angularaxis\": {\"gridcolor\": \"rgb(232,232,232)\", \"linecolor\": \"rgb(36,36,36)\", \"showgrid\": false, \"showline\": true, \"ticks\": \"outside\"}, \"bgcolor\": \"white\", \"radialaxis\": {\"gridcolor\": \"rgb(232,232,232)\", \"linecolor\": \"rgb(36,36,36)\", \"showgrid\": false, \"showline\": true, \"ticks\": \"outside\"}}, \"scene\": {\"xaxis\": {\"backgroundcolor\": \"white\", \"gridcolor\": \"rgb(232,232,232)\", \"gridwidth\": 2, \"linecolor\": \"rgb(36,36,36)\", \"showbackground\": true, \"showgrid\": false, \"showline\": true, \"ticks\": \"outside\", \"zeroline\": false, \"zerolinecolor\": \"rgb(36,36,36)\"}, \"yaxis\": {\"backgroundcolor\": \"white\", \"gridcolor\": \"rgb(232,232,232)\", \"gridwidth\": 2, \"linecolor\": \"rgb(36,36,36)\", \"showbackground\": true, \"showgrid\": false, \"showline\": true, \"ticks\": \"outside\", \"zeroline\": false, \"zerolinecolor\": \"rgb(36,36,36)\"}, \"zaxis\": {\"backgroundcolor\": \"white\", \"gridcolor\": \"rgb(232,232,232)\", \"gridwidth\": 2, \"linecolor\": \"rgb(36,36,36)\", \"showbackground\": true, \"showgrid\": false, \"showline\": true, \"ticks\": \"outside\", \"zeroline\": false, \"zerolinecolor\": \"rgb(36,36,36)\"}}, \"shapedefaults\": {\"fillcolor\": \"black\", \"line\": {\"width\": 0}, \"opacity\": 0.3}, \"ternary\": {\"aaxis\": {\"gridcolor\": \"rgb(232,232,232)\", \"linecolor\": \"rgb(36,36,36)\", \"showgrid\": false, \"showline\": true, \"ticks\": \"outside\"}, \"baxis\": {\"gridcolor\": \"rgb(232,232,232)\", \"linecolor\": \"rgb(36,36,36)\", \"showgrid\": false, \"showline\": true, \"ticks\": \"outside\"}, \"bgcolor\": \"white\", \"caxis\": {\"gridcolor\": \"rgb(232,232,232)\", \"linecolor\": \"rgb(36,36,36)\", \"showgrid\": false, \"showline\": true, \"ticks\": \"outside\"}}, \"title\": {\"x\": 0.05}, \"xaxis\": {\"automargin\": true, \"gridcolor\": \"rgb(232,232,232)\", \"linecolor\": \"rgb(36,36,36)\", \"showgrid\": false, \"showline\": true, \"ticks\": \"outside\", \"title\": {\"standoff\": 15}, \"zeroline\": false, \"zerolinecolor\": \"rgb(36,36,36)\"}, \"yaxis\": {\"automargin\": true, \"gridcolor\": \"rgb(232,232,232)\", \"linecolor\": \"rgb(36,36,36)\", \"showgrid\": false, \"showline\": true, \"ticks\": \"outside\", \"title\": {\"standoff\": 15}, \"zeroline\": false, \"zerolinecolor\": \"rgb(36,36,36)\"}}}, \"title\": {\"font\": {\"color\": \"Black\", \"size\": 22}, \"text\": \"<b>Intertopic Distance Map\", \"x\": 0.5, \"xanchor\": \"center\", \"y\": 0.95, \"yanchor\": \"top\"}, \"width\": 650, \"xaxis\": {\"anchor\": \"y\", \"domain\": [0.0, 1.0], \"range\": [-5.387148928642273, 18.484748363494873], \"title\": {\"text\": \"\"}, \"visible\": false}, \"yaxis\": {\"anchor\": \"x\", \"domain\": [0.0, 1.0], \"range\": [-1.33701348900795, 14.16207513809204], \"title\": {\"text\": \"\"}, \"visible\": false}},                        {\"responsive\": true}                    ).then(function(){\n",
              "                            \n",
              "var gd = document.getElementById('6249d6ce-d4b8-4245-a2b2-a0f1f700012b');\n",
              "var x = new MutationObserver(function (mutations, observer) {{\n",
              "        var display = window.getComputedStyle(gd).display;\n",
              "        if (!display || display === 'none') {{\n",
              "            console.log([gd, 'removed!']);\n",
              "            Plotly.purge(gd);\n",
              "            observer.disconnect();\n",
              "        }}\n",
              "}});\n",
              "\n",
              "// Listen for the removal of the full notebook cells\n",
              "var notebookContainer = gd.closest('#notebook-container');\n",
              "if (notebookContainer) {{\n",
              "    x.observe(notebookContainer, {childList: true});\n",
              "}}\n",
              "\n",
              "// Listen for the clearing of the current output cell\n",
              "var outputEl = gd.closest('.output');\n",
              "if (outputEl) {{\n",
              "    x.observe(outputEl, {childList: true});\n",
              "}}\n",
              "\n",
              "                        })                };                            </script>        </div>\n",
              "</body>\n",
              "</html>"
            ]
          },
          "metadata": {
            "tags": []
          }
        }
      ]
    },
    {
      "cell_type": "code",
      "metadata": {
        "id": "Jic7pza0dcxv"
      },
      "source": [
        "topics_over_time = w2v.topics_over_time(new_tokens, topw2v, clean_times, nr_bins=20, global_tuning=False)"
      ],
      "execution_count": 141,
      "outputs": []
    },
    {
      "cell_type": "code",
      "metadata": {
        "colab": {
          "base_uri": "https://localhost:8080/",
          "height": 467
        },
        "id": "9ysJomPmdcxv",
        "outputId": "23f0898c-8550-4c26-e65b-828a609aa0e0"
      },
      "source": [
        "w2v.visualize_topics_over_time(topics_over_time, top_n=10)"
      ],
      "execution_count": 142,
      "outputs": [
        {
          "output_type": "display_data",
          "data": {
            "text/html": [
              "<html>\n",
              "<head><meta charset=\"utf-8\" /></head>\n",
              "<body>\n",
              "    <div>            <script src=\"https://cdnjs.cloudflare.com/ajax/libs/mathjax/2.7.5/MathJax.js?config=TeX-AMS-MML_SVG\"></script><script type=\"text/javascript\">if (window.MathJax) {MathJax.Hub.Config({SVG: {font: \"STIX-Web\"}});}</script>                <script type=\"text/javascript\">window.PlotlyConfig = {MathJaxConfig: 'local'};</script>\n",
              "        <script src=\"https://cdn.plot.ly/plotly-latest.min.js\"></script>                <div id=\"69986aa3-0667-4788-bef0-73068fe0c8c1\" class=\"plotly-graph-div\" style=\"height:450px; width:1250px;\"></div>            <script type=\"text/javascript\">                                    window.PLOTLYENV=window.PLOTLYENV || {};                                    if (document.getElementById(\"69986aa3-0667-4788-bef0-73068fe0c8c1\")) {                    Plotly.newPlot(                        \"69986aa3-0667-4788-bef0-73068fe0c8c1\",                        [{\"hoverinfo\": \"text\", \"hovertext\": [\"<b>Topic 200</b><br>Words: low, equatorial, intensify, area, southeast\", \"<b>Topic 200</b><br>Words: sea, low, monsoon, area, rainfall\", \"<b>Topic 200</b><br>Words: low, rainfall, north, area, monsoon\", \"<b>Topic 200</b><br>Words: low, monsoon, heavy, rain, rainfall\", \"<b>Topic 200</b><br>Words: range, low, electric, pressure, sea\", \"<b>Topic 200</b><br>Words: low, sea, cyclonic, east, coast\", \"<b>Topic 200</b><br>Words: sea, low, area, south, east\", \"<b>Topic 200</b><br>Words: range, electric, charging, battery, pressure\", \"<b>Topic 200</b><br>Words: range, electric, anxiety, battery, exam\", \"<b>Topic 200</b><br>Words: anxiety, jealous, jealousy, baby, anxious\", \"<b>Topic 200</b><br>Words: low, anxiety, sea, pressure, south\", \"<b>Topic 200</b><br>Words: low, sea, area, monsoon, east\", \"<b>Topic 200</b><br>Words: anxiety, covid, board, examination, fear\", \"<b>Topic 200</b><br>Words: low, heavy, rainfall, north, coastal\", \"<b>Topic 200</b><br>Words: anxiety, range, charging, exam, battery\", \"<b>Topic 200</b><br>Words: low, north, heavy, sea, west\", \"<b>Topic 200</b><br>Words: low, south, marked, sea, heavy\", \"<b>Topic 200</b><br>Words: electric, range, anxiety, pressure, judicious\", \"<b>Topic 200</b><br>Words: range, battery, charging, electric, anxiety\", \"<b>Topic 200</b><br>Words: range, charging, electric, battery, adoption\"], \"marker\": {\"color\": \"#E69F00\"}, \"mode\": \"lines\", \"name\": \"200_low_south_rain_coast\", \"type\": \"scatter\", \"x\": [\"2019-03-30T06:28:48\", \"2019-05-06T12:00:00\", \"2019-06-12T00:00:00\", \"2019-07-18T12:00:00\", \"2019-08-24T00:00:00\", \"2019-09-29T12:00:00\", \"2019-11-05T00:00:00\", \"2019-12-11T12:00:00\", \"2020-01-17T00:00:00\", \"2020-02-22T12:00:00\", \"2020-03-30T00:00:00\", \"2020-05-05T12:00:00\", \"2020-06-11T00:00:00\", \"2020-07-17T12:00:00\", \"2020-08-23T00:00:00\", \"2020-09-28T12:00:00\", \"2020-11-04T00:00:00\", \"2020-12-10T12:00:00\", \"2021-01-16T00:00:00\", \"2021-02-21T12:00:00\"], \"y\": [169, 143, 178, 168, 149, 324, 177, 143, 130, 223, 268, 624, 268, 247, 193, 512, 527, 121, 140, 154]}, {\"hoverinfo\": \"text\", \"hovertext\": [\"<b>Topic 331</b><br>Words: loneliness, love, film, lonely, anxiety\", \"<b>Topic 331</b><br>Words: lonely, anxiety, loneliness, tiger, fear\", \"<b>Topic 331</b><br>Words: tropical, storm, moon, drifting, loneliness\", \"<b>Topic 331</b><br>Words: anxiety, political, curtailment, panic, shutdown\", \"<b>Topic 331</b><br>Words: verification, translated, loneliness, uncertainty, excluded\", \"<b>Topic 331</b><br>Words: lonely, translated, cooperative, anxiety, silence\", \"<b>Topic 331</b><br>Words: lonely, loneliness, book, illustrator, life\", \"<b>Topic 331</b><br>Words: loneliness, lonely, story, senior, old\", \"<b>Topic 331</b><br>Words: loneliness, lonely, drama, anxiety, love\", \"<b>Topic 331</b><br>Words: anxiety, coronavirus, virus, pandemic, fear\", \"<b>Topic 331</b><br>Words: anxiety, lockdown, coronavirus, pandemic, fear\", \"<b>Topic 331</b><br>Words: anxiety, covid, pandemic, uncertainty, fear\", \"<b>Topic 331</b><br>Words: anxiety, covid, fear, pandemic, virus\", \"<b>Topic 331</b><br>Words: anxiety, chance, cyclone, pandemic, fear\", \"<b>Topic 331</b><br>Words: prescription, forgery, sister, complaint, filed\", \"<b>Topic 331</b><br>Words: cent, anxiety, lonely, pandemic, covid\", \"<b>Topic 331</b><br>Words: anxiety, lonely, loneliness, covid, taxi\", \"<b>Topic 331</b><br>Words: immune, loneliness, virus, covid, anxiety\", \"<b>Topic 331</b><br>Words: vaccine, classified, reaction, diagnosed, anaphylaxis\", \"<b>Topic 331</b><br>Words: extradition, loneliness, lonely, anxiety, year\"], \"marker\": {\"color\": \"#56B4E9\"}, \"mode\": \"lines\", \"name\": \"331_anxiety_loneliness_covid_pandemic\", \"type\": \"scatter\", \"x\": [\"2019-03-30T06:28:48\", \"2019-05-06T12:00:00\", \"2019-06-12T00:00:00\", \"2019-07-18T12:00:00\", \"2019-08-24T00:00:00\", \"2019-09-29T12:00:00\", \"2019-11-05T00:00:00\", \"2019-12-11T12:00:00\", \"2020-01-17T00:00:00\", \"2020-02-22T12:00:00\", \"2020-03-30T00:00:00\", \"2020-05-05T12:00:00\", \"2020-06-11T00:00:00\", \"2020-07-17T12:00:00\", \"2020-08-23T00:00:00\", \"2020-09-28T12:00:00\", \"2020-11-04T00:00:00\", \"2020-12-10T12:00:00\", \"2021-01-16T00:00:00\", \"2021-02-21T12:00:00\"], \"y\": [54, 60, 91, 95, 111, 109, 88, 90, 77, 171, 167, 176, 180, 111, 168, 153, 121, 148, 138, 95]}, {\"hoverinfo\": \"text\", \"hovertext\": [\"<b>Topic 428</b><br>Words: blood, time, anxiety, doesn, know\", \"<b>Topic 428</b><br>Words: pressure, heart, day, anxiety, time\", \"<b>Topic 428</b><br>Words: school, pressure, anxiety, child, time\", \"<b>Topic 428</b><br>Words: pressure, harassment, equity, crunch, cafe\", \"<b>Topic 428</b><br>Words: pressure, acupressure, work, point, feel\", \"<b>Topic 428</b><br>Words: dependency, smartphone, loneliness, directly, time\", \"<b>Topic 428</b><br>Words: computer, viewing, television, loneliness, lonely\", \"<b>Topic 428</b><br>Words: food, restriction, restricted, loneliness, people\", \"<b>Topic 428</b><br>Words: internet, loneliness, technology, motivation, use\", \"<b>Topic 428</b><br>Words: people, loneliness, anxiety, home, lonely\", \"<b>Topic 428</b><br>Words: lockdown, subscribe, angst, backseat, snack\", \"<b>Topic 428</b><br>Words: anxiety, people, lockdown, younger, time\", \"<b>Topic 428</b><br>Words: pressure, loneliness, time, people, anxiety\", \"<b>Topic 428</b><br>Words: pressure, prompted, understand, folded, step\", \"<b>Topic 428</b><br>Words: anxiety, anxious, family, work, loved\", \"<b>Topic 428</b><br>Words: pressure, anxiety, immersion, anxious, loneliness\", \"<b>Topic 428</b><br>Words: dam, river, riparian, lower, heart\", \"<b>Topic 428</b><br>Words: pressure, social, lonely, anxiety, loneliness\", \"<b>Topic 428</b><br>Words: pressure, people, anxiety, loneliness, feeling\", \"<b>Topic 428</b><br>Words: anxiety, stress, loneliness, pandemic, time\"], \"marker\": {\"color\": \"#009E73\"}, \"mode\": \"lines\", \"name\": \"428_anxiety_lockdown_time_loneliness\", \"type\": \"scatter\", \"x\": [\"2019-03-30T06:28:48\", \"2019-05-06T12:00:00\", \"2019-06-12T00:00:00\", \"2019-07-18T12:00:00\", \"2019-08-24T00:00:00\", \"2019-09-29T12:00:00\", \"2019-11-05T00:00:00\", \"2019-12-11T12:00:00\", \"2020-01-17T00:00:00\", \"2020-02-22T12:00:00\", \"2020-03-30T00:00:00\", \"2020-05-05T12:00:00\", \"2020-06-11T00:00:00\", \"2020-07-17T12:00:00\", \"2020-08-23T00:00:00\", \"2020-09-28T12:00:00\", \"2020-11-04T00:00:00\", \"2020-12-10T12:00:00\", \"2021-01-16T00:00:00\", \"2021-02-21T12:00:00\"], \"y\": [48, 53, 83, 157, 86, 105, 130, 99, 103, 195, 477, 266, 208, 157, 174, 174, 160, 154, 125, 154]}, {\"hoverinfo\": \"text\", \"hovertext\": [\"<b>Topic 536</b><br>Words: mental, health, ordered, undergo, killing\", \"<b>Topic 536</b><br>Words: health, mental, behavioural, healthcare, telemental\", \"<b>Topic 536</b><br>Words: mental, health, social, behavioural, healthcare\", \"<b>Topic 536</b><br>Words: mental, health, care, behavioural, healthcare\", \"<b>Topic 536</b><br>Words: mental, health, awareness, series, healthcare\", \"<b>Topic 536</b><br>Words: health, mental, advisory, national, awareness\", \"<b>Topic 536</b><br>Words: mental, health, awareness, people, foundation\", \"<b>Topic 536</b><br>Words: mental, health, behavioural, healthcare, foundation\", \"<b>Topic 536</b><br>Words: health, mental, awareness, foundation, public\", \"<b>Topic 536</b><br>Words: mental, health, behavioural, healthcare, help\", \"<b>Topic 536</b><br>Words: health, mental, helplines, lockdown, address\", \"<b>Topic 536</b><br>Words: mental, health, feel, social, support\", \"<b>Topic 536</b><br>Words: mental, health, support, help, talk\", \"<b>Topic 536</b><br>Words: health, mental, social, support, psychosocial\", \"<b>Topic 536</b><br>Words: health, mental, help, care, healthcare\", \"<b>Topic 536</b><br>Words: health, mental, need, care, pandemic\", \"<b>Topic 536</b><br>Words: health, mental, telemental, pandemic, help\", \"<b>Topic 536</b><br>Words: health, mental, help, physical, need\", \"<b>Topic 536</b><br>Words: mental, health, physical, good, help\", \"<b>Topic 536</b><br>Words: mental, health, help, royal, told\"], \"marker\": {\"color\": \"#F0E442\"}, \"mode\": \"lines\", \"name\": \"536_mental_health_issue_healthcare\", \"type\": \"scatter\", \"x\": [\"2019-03-30T06:28:48\", \"2019-05-06T12:00:00\", \"2019-06-12T00:00:00\", \"2019-07-18T12:00:00\", \"2019-08-24T00:00:00\", \"2019-09-29T12:00:00\", \"2019-11-05T00:00:00\", \"2019-12-11T12:00:00\", \"2020-01-17T00:00:00\", \"2020-02-22T12:00:00\", \"2020-03-30T00:00:00\", \"2020-05-05T12:00:00\", \"2020-06-11T00:00:00\", \"2020-07-17T12:00:00\", \"2020-08-23T00:00:00\", \"2020-09-28T12:00:00\", \"2020-11-04T00:00:00\", \"2020-12-10T12:00:00\", \"2021-01-16T00:00:00\", \"2021-02-21T12:00:00\"], \"y\": [85, 72, 105, 95, 121, 128, 99, 110, 168, 163, 240, 260, 323, 171, 180, 289, 187, 178, 143, 196]}, {\"hoverinfo\": \"text\", \"hovertext\": [\"<b>Topic 541</b><br>Words: mental, health, problems, issues, global\", \"<b>Topic 541</b><br>Words: mental, health, billion, institute, awareness\", \"<b>Topic 541</b><br>Words: health, mental, youth, study, suicide\", \"<b>Topic 541</b><br>Words: health, mental, speaking, treatment, gender\", \"<b>Topic 541</b><br>Words: mental, health, cricket, awareness, research\", \"<b>Topic 541</b><br>Words: cricket, mental, health, break, rounder\", \"<b>Topic 541</b><br>Words: cricket, break, health, game, batsman\", \"<b>Topic 541</b><br>Words: mental, health, break, cricket, study\", \"<b>Topic 541</b><br>Words: mental, health, young, break, award\", \"<b>Topic 541</b><br>Words: mental, health, counselling, district, break\", \"<b>Topic 541</b><br>Words: health, mental, pandemic, general, helpline\", \"<b>Topic 541</b><br>Words: mental, health, cricket, pandemic, coronavirus\", \"<b>Topic 541</b><br>Words: mental, health, death, actor, demise\", \"<b>Topic 541</b><br>Words: mental, health, actor, death, awareness\", \"<b>Topic 541</b><br>Words: mental, health, actor, family, lawyer\", \"<b>Topic 541</b><br>Words: mental, health, covid, people, cent\", \"<b>Topic 541</b><br>Words: health, cricket, bio, covid, pandemic\", \"<b>Topic 541</b><br>Words: mental, health, genetics, weaken, physical\", \"<b>Topic 541</b><br>Words: health, mental, market, people, covid\", \"<b>Topic 541</b><br>Words: mental, health, software, police, interview\"], \"marker\": {\"color\": \"#D55E00\"}, \"mode\": \"lines\", \"name\": \"541_issue_cricket_break_people\", \"type\": \"scatter\", \"x\": [\"2019-03-30T06:28:48\", \"2019-05-06T12:00:00\", \"2019-06-12T00:00:00\", \"2019-07-18T12:00:00\", \"2019-08-24T00:00:00\", \"2019-09-29T12:00:00\", \"2019-11-05T00:00:00\", \"2019-12-11T12:00:00\", \"2020-01-17T00:00:00\", \"2020-02-22T12:00:00\", \"2020-03-30T00:00:00\", \"2020-05-05T12:00:00\", \"2020-06-11T00:00:00\", \"2020-07-17T12:00:00\", \"2020-08-23T00:00:00\", \"2020-09-28T12:00:00\", \"2020-11-04T00:00:00\", \"2020-12-10T12:00:00\", \"2021-01-16T00:00:00\", \"2021-02-21T12:00:00\"], \"y\": [92, 115, 90, 123, 139, 231, 331, 245, 147, 134, 283, 218, 427, 317, 377, 367, 282, 191, 199, 228]}, {\"hoverinfo\": \"text\", \"hovertext\": [\"<b>Topic 581</b><br>Words: pressure, global, earnings, economy, economic\", \"<b>Topic 581</b><br>Words: trade, global, pressure, anxiety, growth\", \"<b>Topic 581</b><br>Words: trade, pressure, anxiety, year, growth\", \"<b>Topic 581</b><br>Words: trade, travel, pressure, global, economy\", \"<b>Topic 581</b><br>Words: pressure, trade, china, growth, policy\", \"<b>Topic 581</b><br>Words: trade, pressure, growth, dollar, week\", \"<b>Topic 581</b><br>Words: trade, growth, pressure, economic, bank\", \"<b>Topic 581</b><br>Words: pressure, year, anxiety, oil, growth\", \"<b>Topic 581</b><br>Words: market, virus, trade, bank, gold\", \"<b>Topic 581</b><br>Words: steel, pressure, demand, dollar, rupee\", \"<b>Topic 581</b><br>Words: oil, coronavirus, economic, economy, virus\", \"<b>Topic 581</b><br>Words: pressure, economy, government, economic, demand\", \"<b>Topic 581</b><br>Words: china, pressure, anxiety, backlash, coronavirus\", \"<b>Topic 581</b><br>Words: pressure, inflation, government, dollar, probe\", \"<b>Topic 581</b><br>Words: pressure, oil, market, pandemic, anxiety\", \"<b>Topic 581</b><br>Words: election, president, lonely, pressure, furrow\", \"<b>Topic 581</b><br>Words: stimulus, pressure, election, anxiety, lonely\", \"<b>Topic 581</b><br>Words: pressure, inflation, demand, percentage, year\", \"<b>Topic 581</b><br>Words: pressure, president, congress, government, lonely\", \"<b>Topic 581</b><br>Words: minister, suicide, country, cabinet, month\"], \"marker\": {\"color\": \"#0072B2\"}, \"mode\": \"lines\", \"name\": \"581_price_market_trade_stock\", \"type\": \"scatter\", \"x\": [\"2019-03-30T06:28:48\", \"2019-05-06T12:00:00\", \"2019-06-12T00:00:00\", \"2019-07-18T12:00:00\", \"2019-08-24T00:00:00\", \"2019-09-29T12:00:00\", \"2019-11-05T00:00:00\", \"2019-12-11T12:00:00\", \"2020-01-17T00:00:00\", \"2020-02-22T12:00:00\", \"2020-03-30T00:00:00\", \"2020-05-05T12:00:00\", \"2020-06-11T00:00:00\", \"2020-07-17T12:00:00\", \"2020-08-23T00:00:00\", \"2020-09-28T12:00:00\", \"2020-11-04T00:00:00\", \"2020-12-10T12:00:00\", \"2021-01-16T00:00:00\", \"2021-02-21T12:00:00\"], \"y\": [148, 186, 222, 232, 174, 217, 159, 161, 213, 278, 297, 220, 184, 161, 175, 243, 232, 160, 125, 193]}, {\"hoverinfo\": \"text\", \"hovertext\": [\"<b>Topic 582</b><br>Words: facility, checked, health, mental, father\", \"<b>Topic 582</b><br>Words: health, mental, facility, care, physical\", \"<b>Topic 582</b><br>Words: health, mental, care, duration, published\", \"<b>Topic 582</b><br>Words: health, mental, care, workplace, cycling\", \"<b>Topic 582</b><br>Words: health, mental, awareness, care, new\", \"<b>Topic 582</b><br>Words: mental, health, prince, petition, video\", \"<b>Topic 582</b><br>Words: tarnished, levelled, unverified, traumatised, ruined\", \"<b>Topic 582</b><br>Words: mental, health, physical, diet, awareness\", \"<b>Topic 582</b><br>Words: health, mental, eating, physical, important\", \"<b>Topic 582</b><br>Words: health, mental, important, physical, good\", \"<b>Topic 582</b><br>Words: health, physical, care, good, important\", \"<b>Topic 582</b><br>Words: health, mental, physical, pandemic, care\", \"<b>Topic 582</b><br>Words: health, mental, prevention, attention, physical\", \"<b>Topic 582</b><br>Words: health, mental, physical, important, care\", \"<b>Topic 582</b><br>Words: health, mental, eating, physical, happiness\", \"<b>Topic 582</b><br>Words: health, mental, care, physical, digital\", \"<b>Topic 582</b><br>Words: residential, mental, health, outpatient, substance\", \"<b>Topic 582</b><br>Words: health, mental, physical, care, provider\", \"<b>Topic 582</b><br>Words: health, mental, physical, improve, eating\", \"<b>Topic 582</b><br>Words: health, mental, care, physical, help\"], \"marker\": {\"color\": \"#CC79A7\"}, \"mode\": \"lines\", \"name\": \"582_health_mental_physical_care\", \"type\": \"scatter\", \"x\": [\"2019-03-30T06:28:48\", \"2019-05-06T12:00:00\", \"2019-06-12T00:00:00\", \"2019-07-18T12:00:00\", \"2019-08-24T00:00:00\", \"2019-09-29T12:00:00\", \"2019-11-05T00:00:00\", \"2019-12-11T12:00:00\", \"2020-01-17T00:00:00\", \"2020-02-22T12:00:00\", \"2020-03-30T00:00:00\", \"2020-05-05T12:00:00\", \"2020-06-11T00:00:00\", \"2020-07-17T12:00:00\", \"2020-08-23T00:00:00\", \"2020-09-28T12:00:00\", \"2020-11-04T00:00:00\", \"2020-12-10T12:00:00\", \"2021-01-16T00:00:00\", \"2021-02-21T12:00:00\"], \"y\": [127, 83, 88, 122, 133, 215, 110, 79, 124, 154, 179, 206, 221, 124, 150, 324, 331, 142, 181, 187]}, {\"hoverinfo\": \"text\", \"hovertext\": [\"<b>Topic 639</b><br>Words: mental, health, care, national, title\", \"<b>Topic 639</b><br>Words: healthcare, institute, centre, state, government\", \"<b>Topic 639</b><br>Words: film, title, plea, intend, intention\", \"<b>Topic 639</b><br>Words: mental, health, institute, court, youth\", \"<b>Topic 639</b><br>Words: mental, institute, health, pregnancy, suicide\", \"<b>Topic 639</b><br>Words: mental, health, suicide, prevention, theme\", \"<b>Topic 639</b><br>Words: mental, health, institute, court, actress\", \"<b>Topic 639</b><br>Words: award, awareness, mental, institute, national\", \"<b>Topic 639</b><br>Words: award, awareness, contribution, honoured, felicitated\", \"<b>Topic 639</b><br>Words: health, mental, institute, national, government\", \"<b>Topic 639</b><br>Words: institute, national, covid, pandemic, lockdown\", \"<b>Topic 639</b><br>Words: institute, hospital, court, government, covid\", \"<b>Topic 639</b><br>Words: health, insurance, institute, medical, petitioner\", \"<b>Topic 639</b><br>Words: covid, mental, health, hospital, coronavirus\", \"<b>Topic 639</b><br>Words: health, suicide, pandemic, covid, section\", \"<b>Topic 639</b><br>Words: mental, health, world, pandemic, covid\", \"<b>Topic 639</b><br>Words: minimum, institute, court, medical, national\", \"<b>Topic 639</b><br>Words: institute, national, biology, mental, health\", \"<b>Topic 639</b><br>Words: mental, notified, institute, minimum, national\", \"<b>Topic 639</b><br>Words: health, prince, royal, interview, destroying\"], \"marker\": {\"color\": \"#E69F00\"}, \"mode\": \"lines\", \"name\": \"639_institute_court_pandemic_government\", \"type\": \"scatter\", \"x\": [\"2019-03-30T06:28:48\", \"2019-05-06T12:00:00\", \"2019-06-12T00:00:00\", \"2019-07-18T12:00:00\", \"2019-08-24T00:00:00\", \"2019-09-29T12:00:00\", \"2019-11-05T00:00:00\", \"2019-12-11T12:00:00\", \"2020-01-17T00:00:00\", \"2020-02-22T12:00:00\", \"2020-03-30T00:00:00\", \"2020-05-05T12:00:00\", \"2020-06-11T00:00:00\", \"2020-07-17T12:00:00\", \"2020-08-23T00:00:00\", \"2020-09-28T12:00:00\", \"2020-11-04T00:00:00\", \"2020-12-10T12:00:00\", \"2021-01-16T00:00:00\", \"2021-02-21T12:00:00\"], \"y\": [70, 64, 146, 64, 66, 139, 79, 57, 103, 87, 127, 163, 164, 132, 159, 271, 121, 190, 119, 247]}, {\"hoverinfo\": \"text\", \"hovertext\": [\"<b>Topic 708</b><br>Words: stress, anxiety, people, depression, drug\", \"<b>Topic 708</b><br>Words: anxiety, stress, mood, insomnia, hypnotic\", \"<b>Topic 708</b><br>Words: anxiety, sleep, stress, used, depression\", \"<b>Topic 708</b><br>Words: anxiety, tempered, riskier, recession, stress\", \"<b>Topic 708</b><br>Words: anxiety, stress, depression, disorder, hair\", \"<b>Topic 708</b><br>Words: anxiety, stress, disorder, depression, help\", \"<b>Topic 708</b><br>Words: anxiety, stress, climate, medication, reduce\", \"<b>Topic 708</b><br>Words: anxiety, stress, bilateral, golden, exam\", \"<b>Topic 708</b><br>Words: board, stress, exam, class, examiner\", \"<b>Topic 708</b><br>Words: coronavirus, anxiety, quarantine, stress, outbreak\", \"<b>Topic 708</b><br>Words: anxiety, stress, fear, help, warehousing\", \"<b>Topic 708</b><br>Words: anxiety, medication, stress, help, therapy\", \"<b>Topic 708</b><br>Words: anxiety, stress, help, time, lead\", \"<b>Topic 708</b><br>Words: anxiety, stress, disorder, help, bipolar\", \"<b>Topic 708</b><br>Words: anxiety, stress, disorder, people, depression\", \"<b>Topic 708</b><br>Words: lot, anxiety, stress, confusing, stressful\", \"<b>Topic 708</b><br>Words: anxiety, stress, depression, sleep, disorder\", \"<b>Topic 708</b><br>Words: anxiety, stress, help, depression, sleep\", \"<b>Topic 708</b><br>Words: anxiety, stress, depression, disorder, grounding\", \"<b>Topic 708</b><br>Words: anxiety, stress, loneliness, sleep, isolation\"], \"marker\": {\"color\": \"#56B4E9\"}, \"mode\": \"lines\", \"name\": \"708_anxiety_stress_help_disorder\", \"type\": \"scatter\", \"x\": [\"2019-03-30T06:28:48\", \"2019-05-06T12:00:00\", \"2019-06-12T00:00:00\", \"2019-07-18T12:00:00\", \"2019-08-24T00:00:00\", \"2019-09-29T12:00:00\", \"2019-11-05T00:00:00\", \"2019-12-11T12:00:00\", \"2020-01-17T00:00:00\", \"2020-02-22T12:00:00\", \"2020-03-30T00:00:00\", \"2020-05-05T12:00:00\", \"2020-06-11T00:00:00\", \"2020-07-17T12:00:00\", \"2020-08-23T00:00:00\", \"2020-09-28T12:00:00\", \"2020-11-04T00:00:00\", \"2020-12-10T12:00:00\", \"2021-01-16T00:00:00\", \"2021-02-21T12:00:00\"], \"y\": [71, 56, 97, 94, 62, 88, 98, 66, 95, 225, 226, 205, 194, 165, 160, 175, 136, 122, 113, 136]}, {\"hoverinfo\": \"text\", \"hovertext\": [\"<b>Topic 792</b><br>Words: anxiety, vapour, pressure, energy, temperature\", \"<b>Topic 792</b><br>Words: anxiety, feel, stress, help, panic\", \"<b>Topic 792</b><br>Words: anxiety, comfortable, phobia, life, feel\", \"<b>Topic 792</b><br>Words: anxiety, feel, anxious, collapsed, performing\", \"<b>Topic 792</b><br>Words: anxiety, stress, lonely, anxious, people\", \"<b>Topic 792</b><br>Words: anxiety, lonely, stress, time, like\", \"<b>Topic 792</b><br>Words: anxiety, feel, anxious, loneliness, lonely\", \"<b>Topic 792</b><br>Words: anxiety, stress, lonely, feel, panic\", \"<b>Topic 792</b><br>Words: anxiety, feel, stressful, stress, cent\", \"<b>Topic 792</b><br>Words: anxiety, anxious, time, stress, feel\", \"<b>Topic 792</b><br>Words: anxiety, anxious, feel, panic, stress\", \"<b>Topic 792</b><br>Words: anxiety, anxious, feel, stress, panic\", \"<b>Topic 792</b><br>Words: anxiety, panic, anxious, stress, lonely\", \"<b>Topic 792</b><br>Words: anxiety, stress, people, anxious, mood\", \"<b>Topic 792</b><br>Words: anxiety, thyroid, endocrine, inflammation, gland\", \"<b>Topic 792</b><br>Words: anxiety, study, insomnia, body, associated\", \"<b>Topic 792</b><br>Words: anxiety, periodic, feel, cent, stress\", \"<b>Topic 792</b><br>Words: anxiety, depression, stress, sleep, depressive\", \"<b>Topic 792</b><br>Words: anxiety, sleep, feel, insomnia, feeling\", \"<b>Topic 792</b><br>Words: anxiety, feel, anxious, stress, fatigue\"], \"marker\": {\"color\": \"#009E73\"}, \"mode\": \"lines\", \"name\": \"792_anxiety_symptom_stress_anxious\", \"type\": \"scatter\", \"x\": [\"2019-03-30T06:28:48\", \"2019-05-06T12:00:00\", \"2019-06-12T00:00:00\", \"2019-07-18T12:00:00\", \"2019-08-24T00:00:00\", \"2019-09-29T12:00:00\", \"2019-11-05T00:00:00\", \"2019-12-11T12:00:00\", \"2020-01-17T00:00:00\", \"2020-02-22T12:00:00\", \"2020-03-30T00:00:00\", \"2020-05-05T12:00:00\", \"2020-06-11T00:00:00\", \"2020-07-17T12:00:00\", \"2020-08-23T00:00:00\", \"2020-09-28T12:00:00\", \"2020-11-04T00:00:00\", \"2020-12-10T12:00:00\", \"2021-01-16T00:00:00\", \"2021-02-21T12:00:00\"], \"y\": [117, 95, 126, 151, 129, 114, 134, 94, 151, 258, 285, 280, 262, 187, 211, 237, 248, 195, 193, 195]}],                        {\"height\": 450, \"hoverlabel\": {\"bgcolor\": \"white\", \"font\": {\"family\": \"Rockwell\", \"size\": 16}}, \"legend\": {\"title\": {\"text\": \"<b>Global Topic Representation\"}}, \"template\": {\"data\": {\"bar\": [{\"error_x\": {\"color\": \"rgb(36,36,36)\"}, \"error_y\": {\"color\": \"rgb(36,36,36)\"}, \"marker\": {\"line\": {\"color\": \"white\", \"width\": 0.5}}, \"type\": \"bar\"}], \"barpolar\": [{\"marker\": {\"line\": {\"color\": \"white\", \"width\": 0.5}}, \"type\": \"barpolar\"}], \"carpet\": [{\"aaxis\": {\"endlinecolor\": \"rgb(36,36,36)\", \"gridcolor\": \"white\", \"linecolor\": \"white\", \"minorgridcolor\": \"white\", \"startlinecolor\": \"rgb(36,36,36)\"}, \"baxis\": {\"endlinecolor\": \"rgb(36,36,36)\", \"gridcolor\": \"white\", \"linecolor\": \"white\", \"minorgridcolor\": \"white\", \"startlinecolor\": \"rgb(36,36,36)\"}, \"type\": \"carpet\"}], \"choropleth\": [{\"colorbar\": {\"outlinewidth\": 1, \"tickcolor\": \"rgb(36,36,36)\", \"ticks\": \"outside\"}, \"type\": \"choropleth\"}], \"contour\": [{\"colorbar\": {\"outlinewidth\": 1, \"tickcolor\": \"rgb(36,36,36)\", \"ticks\": \"outside\"}, \"colorscale\": [[0.0, \"#440154\"], [0.1111111111111111, \"#482878\"], [0.2222222222222222, \"#3e4989\"], [0.3333333333333333, \"#31688e\"], [0.4444444444444444, \"#26828e\"], [0.5555555555555556, \"#1f9e89\"], [0.6666666666666666, \"#35b779\"], [0.7777777777777778, \"#6ece58\"], [0.8888888888888888, \"#b5de2b\"], [1.0, \"#fde725\"]], \"type\": \"contour\"}], \"contourcarpet\": [{\"colorbar\": {\"outlinewidth\": 1, \"tickcolor\": \"rgb(36,36,36)\", \"ticks\": \"outside\"}, \"type\": \"contourcarpet\"}], \"heatmap\": [{\"colorbar\": {\"outlinewidth\": 1, \"tickcolor\": \"rgb(36,36,36)\", \"ticks\": \"outside\"}, \"colorscale\": [[0.0, \"#440154\"], [0.1111111111111111, \"#482878\"], [0.2222222222222222, \"#3e4989\"], [0.3333333333333333, \"#31688e\"], [0.4444444444444444, \"#26828e\"], [0.5555555555555556, \"#1f9e89\"], [0.6666666666666666, \"#35b779\"], [0.7777777777777778, \"#6ece58\"], [0.8888888888888888, \"#b5de2b\"], [1.0, \"#fde725\"]], \"type\": \"heatmap\"}], \"heatmapgl\": [{\"colorbar\": {\"outlinewidth\": 1, \"tickcolor\": \"rgb(36,36,36)\", \"ticks\": \"outside\"}, \"colorscale\": [[0.0, \"#440154\"], [0.1111111111111111, \"#482878\"], [0.2222222222222222, \"#3e4989\"], [0.3333333333333333, \"#31688e\"], [0.4444444444444444, \"#26828e\"], [0.5555555555555556, \"#1f9e89\"], [0.6666666666666666, \"#35b779\"], [0.7777777777777778, \"#6ece58\"], [0.8888888888888888, \"#b5de2b\"], [1.0, \"#fde725\"]], \"type\": \"heatmapgl\"}], \"histogram\": [{\"marker\": {\"line\": {\"color\": \"white\", \"width\": 0.6}}, \"type\": \"histogram\"}], \"histogram2d\": [{\"colorbar\": {\"outlinewidth\": 1, \"tickcolor\": \"rgb(36,36,36)\", \"ticks\": \"outside\"}, \"colorscale\": [[0.0, \"#440154\"], [0.1111111111111111, \"#482878\"], [0.2222222222222222, \"#3e4989\"], [0.3333333333333333, \"#31688e\"], [0.4444444444444444, \"#26828e\"], [0.5555555555555556, \"#1f9e89\"], [0.6666666666666666, \"#35b779\"], [0.7777777777777778, \"#6ece58\"], [0.8888888888888888, \"#b5de2b\"], [1.0, \"#fde725\"]], \"type\": \"histogram2d\"}], \"histogram2dcontour\": [{\"colorbar\": {\"outlinewidth\": 1, \"tickcolor\": \"rgb(36,36,36)\", \"ticks\": \"outside\"}, \"colorscale\": [[0.0, \"#440154\"], [0.1111111111111111, \"#482878\"], [0.2222222222222222, \"#3e4989\"], [0.3333333333333333, \"#31688e\"], [0.4444444444444444, \"#26828e\"], [0.5555555555555556, \"#1f9e89\"], [0.6666666666666666, \"#35b779\"], [0.7777777777777778, \"#6ece58\"], [0.8888888888888888, \"#b5de2b\"], [1.0, \"#fde725\"]], \"type\": \"histogram2dcontour\"}], \"mesh3d\": [{\"colorbar\": {\"outlinewidth\": 1, \"tickcolor\": \"rgb(36,36,36)\", \"ticks\": \"outside\"}, \"type\": \"mesh3d\"}], \"parcoords\": [{\"line\": {\"colorbar\": {\"outlinewidth\": 1, \"tickcolor\": \"rgb(36,36,36)\", \"ticks\": \"outside\"}}, \"type\": \"parcoords\"}], \"pie\": [{\"automargin\": true, \"type\": \"pie\"}], \"scatter\": [{\"marker\": {\"colorbar\": {\"outlinewidth\": 1, \"tickcolor\": \"rgb(36,36,36)\", \"ticks\": \"outside\"}}, \"type\": \"scatter\"}], \"scatter3d\": [{\"line\": {\"colorbar\": {\"outlinewidth\": 1, \"tickcolor\": \"rgb(36,36,36)\", \"ticks\": \"outside\"}}, \"marker\": {\"colorbar\": {\"outlinewidth\": 1, \"tickcolor\": \"rgb(36,36,36)\", \"ticks\": \"outside\"}}, \"type\": \"scatter3d\"}], \"scattercarpet\": [{\"marker\": {\"colorbar\": {\"outlinewidth\": 1, \"tickcolor\": \"rgb(36,36,36)\", \"ticks\": \"outside\"}}, \"type\": \"scattercarpet\"}], \"scattergeo\": [{\"marker\": {\"colorbar\": {\"outlinewidth\": 1, \"tickcolor\": \"rgb(36,36,36)\", \"ticks\": \"outside\"}}, \"type\": \"scattergeo\"}], \"scattergl\": [{\"marker\": {\"colorbar\": {\"outlinewidth\": 1, \"tickcolor\": \"rgb(36,36,36)\", \"ticks\": \"outside\"}}, \"type\": \"scattergl\"}], \"scattermapbox\": [{\"marker\": {\"colorbar\": {\"outlinewidth\": 1, \"tickcolor\": \"rgb(36,36,36)\", \"ticks\": \"outside\"}}, \"type\": \"scattermapbox\"}], \"scatterpolar\": [{\"marker\": {\"colorbar\": {\"outlinewidth\": 1, \"tickcolor\": \"rgb(36,36,36)\", \"ticks\": \"outside\"}}, \"type\": \"scatterpolar\"}], \"scatterpolargl\": [{\"marker\": {\"colorbar\": {\"outlinewidth\": 1, \"tickcolor\": \"rgb(36,36,36)\", \"ticks\": \"outside\"}}, \"type\": \"scatterpolargl\"}], \"scatterternary\": [{\"marker\": {\"colorbar\": {\"outlinewidth\": 1, \"tickcolor\": \"rgb(36,36,36)\", \"ticks\": \"outside\"}}, \"type\": \"scatterternary\"}], \"surface\": [{\"colorbar\": {\"outlinewidth\": 1, \"tickcolor\": \"rgb(36,36,36)\", \"ticks\": \"outside\"}, \"colorscale\": [[0.0, \"#440154\"], [0.1111111111111111, \"#482878\"], [0.2222222222222222, \"#3e4989\"], [0.3333333333333333, \"#31688e\"], [0.4444444444444444, \"#26828e\"], [0.5555555555555556, \"#1f9e89\"], [0.6666666666666666, \"#35b779\"], [0.7777777777777778, \"#6ece58\"], [0.8888888888888888, \"#b5de2b\"], [1.0, \"#fde725\"]], \"type\": \"surface\"}], \"table\": [{\"cells\": {\"fill\": {\"color\": \"rgb(237,237,237)\"}, \"line\": {\"color\": \"white\"}}, \"header\": {\"fill\": {\"color\": \"rgb(217,217,217)\"}, \"line\": {\"color\": \"white\"}}, \"type\": \"table\"}]}, \"layout\": {\"annotationdefaults\": {\"arrowhead\": 0, \"arrowwidth\": 1}, \"autotypenumbers\": \"strict\", \"coloraxis\": {\"colorbar\": {\"outlinewidth\": 1, \"tickcolor\": \"rgb(36,36,36)\", \"ticks\": \"outside\"}}, \"colorscale\": {\"diverging\": [[0.0, \"rgb(103,0,31)\"], [0.1, \"rgb(178,24,43)\"], [0.2, \"rgb(214,96,77)\"], [0.3, \"rgb(244,165,130)\"], [0.4, \"rgb(253,219,199)\"], [0.5, \"rgb(247,247,247)\"], [0.6, \"rgb(209,229,240)\"], [0.7, \"rgb(146,197,222)\"], [0.8, \"rgb(67,147,195)\"], [0.9, \"rgb(33,102,172)\"], [1.0, \"rgb(5,48,97)\"]], \"sequential\": [[0.0, \"#440154\"], [0.1111111111111111, \"#482878\"], [0.2222222222222222, \"#3e4989\"], [0.3333333333333333, \"#31688e\"], [0.4444444444444444, \"#26828e\"], [0.5555555555555556, \"#1f9e89\"], [0.6666666666666666, \"#35b779\"], [0.7777777777777778, \"#6ece58\"], [0.8888888888888888, \"#b5de2b\"], [1.0, \"#fde725\"]], \"sequentialminus\": [[0.0, \"#440154\"], [0.1111111111111111, \"#482878\"], [0.2222222222222222, \"#3e4989\"], [0.3333333333333333, \"#31688e\"], [0.4444444444444444, \"#26828e\"], [0.5555555555555556, \"#1f9e89\"], [0.6666666666666666, \"#35b779\"], [0.7777777777777778, \"#6ece58\"], [0.8888888888888888, \"#b5de2b\"], [1.0, \"#fde725\"]]}, \"colorway\": [\"#1F77B4\", \"#FF7F0E\", \"#2CA02C\", \"#D62728\", \"#9467BD\", \"#8C564B\", \"#E377C2\", \"#7F7F7F\", \"#BCBD22\", \"#17BECF\"], \"font\": {\"color\": \"rgb(36,36,36)\"}, \"geo\": {\"bgcolor\": \"white\", \"lakecolor\": \"white\", \"landcolor\": \"white\", \"showlakes\": true, \"showland\": true, \"subunitcolor\": \"white\"}, \"hoverlabel\": {\"align\": \"left\"}, \"hovermode\": \"closest\", \"mapbox\": {\"style\": \"light\"}, \"paper_bgcolor\": \"white\", \"plot_bgcolor\": \"white\", \"polar\": {\"angularaxis\": {\"gridcolor\": \"rgb(232,232,232)\", \"linecolor\": \"rgb(36,36,36)\", \"showgrid\": false, \"showline\": true, \"ticks\": \"outside\"}, \"bgcolor\": \"white\", \"radialaxis\": {\"gridcolor\": \"rgb(232,232,232)\", \"linecolor\": \"rgb(36,36,36)\", \"showgrid\": false, \"showline\": true, \"ticks\": \"outside\"}}, \"scene\": {\"xaxis\": {\"backgroundcolor\": \"white\", \"gridcolor\": \"rgb(232,232,232)\", \"gridwidth\": 2, \"linecolor\": \"rgb(36,36,36)\", \"showbackground\": true, \"showgrid\": false, \"showline\": true, \"ticks\": \"outside\", \"zeroline\": false, \"zerolinecolor\": \"rgb(36,36,36)\"}, \"yaxis\": {\"backgroundcolor\": \"white\", \"gridcolor\": \"rgb(232,232,232)\", \"gridwidth\": 2, \"linecolor\": \"rgb(36,36,36)\", \"showbackground\": true, \"showgrid\": false, \"showline\": true, \"ticks\": \"outside\", \"zeroline\": false, \"zerolinecolor\": \"rgb(36,36,36)\"}, \"zaxis\": {\"backgroundcolor\": \"white\", \"gridcolor\": \"rgb(232,232,232)\", \"gridwidth\": 2, \"linecolor\": \"rgb(36,36,36)\", \"showbackground\": true, \"showgrid\": false, \"showline\": true, \"ticks\": \"outside\", \"zeroline\": false, \"zerolinecolor\": \"rgb(36,36,36)\"}}, \"shapedefaults\": {\"fillcolor\": \"black\", \"line\": {\"width\": 0}, \"opacity\": 0.3}, \"ternary\": {\"aaxis\": {\"gridcolor\": \"rgb(232,232,232)\", \"linecolor\": \"rgb(36,36,36)\", \"showgrid\": false, \"showline\": true, \"ticks\": \"outside\"}, \"baxis\": {\"gridcolor\": \"rgb(232,232,232)\", \"linecolor\": \"rgb(36,36,36)\", \"showgrid\": false, \"showline\": true, \"ticks\": \"outside\"}, \"bgcolor\": \"white\", \"caxis\": {\"gridcolor\": \"rgb(232,232,232)\", \"linecolor\": \"rgb(36,36,36)\", \"showgrid\": false, \"showline\": true, \"ticks\": \"outside\"}}, \"title\": {\"x\": 0.05}, \"xaxis\": {\"automargin\": true, \"gridcolor\": \"rgb(232,232,232)\", \"linecolor\": \"rgb(36,36,36)\", \"showgrid\": false, \"showline\": true, \"ticks\": \"outside\", \"title\": {\"standoff\": 15}, \"zeroline\": false, \"zerolinecolor\": \"rgb(36,36,36)\"}, \"yaxis\": {\"automargin\": true, \"gridcolor\": \"rgb(232,232,232)\", \"linecolor\": \"rgb(36,36,36)\", \"showgrid\": false, \"showline\": true, \"ticks\": \"outside\", \"title\": {\"standoff\": 15}, \"zeroline\": false, \"zerolinecolor\": \"rgb(36,36,36)\"}}}, \"title\": {\"font\": {\"color\": \"Black\", \"size\": 22}, \"text\": \"<b>Topics over Time\", \"x\": 0.4, \"xanchor\": \"center\", \"y\": 0.95, \"yanchor\": \"top\"}, \"width\": 1250, \"xaxis\": {\"showgrid\": true}, \"yaxis\": {\"showgrid\": true, \"title\": {\"text\": \"Frequency\"}}},                        {\"responsive\": true}                    ).then(function(){\n",
              "                            \n",
              "var gd = document.getElementById('69986aa3-0667-4788-bef0-73068fe0c8c1');\n",
              "var x = new MutationObserver(function (mutations, observer) {{\n",
              "        var display = window.getComputedStyle(gd).display;\n",
              "        if (!display || display === 'none') {{\n",
              "            console.log([gd, 'removed!']);\n",
              "            Plotly.purge(gd);\n",
              "            observer.disconnect();\n",
              "        }}\n",
              "}});\n",
              "\n",
              "// Listen for the removal of the full notebook cells\n",
              "var notebookContainer = gd.closest('#notebook-container');\n",
              "if (notebookContainer) {{\n",
              "    x.observe(notebookContainer, {childList: true});\n",
              "}}\n",
              "\n",
              "// Listen for the clearing of the current output cell\n",
              "var outputEl = gd.closest('.output');\n",
              "if (outputEl) {{\n",
              "    x.observe(outputEl, {childList: true});\n",
              "}}\n",
              "\n",
              "                        })                };                            </script>        </div>\n",
              "</body>\n",
              "</html>"
            ]
          },
          "metadata": {
            "tags": []
          }
        }
      ]
    },
    {
      "cell_type": "markdown",
      "metadata": {
        "id": "G4UERwEgVsvz"
      },
      "source": [
        "# **EXTRA**"
      ]
    },
    {
      "cell_type": "code",
      "metadata": {
        "id": "2gNCbesxs5Q1"
      },
      "source": [
        "# Get the clusterer model, the clusters' tree and the clusters (topics ids)\n",
        "clusterer = topic_model.hdbscan_model\n",
        "tree = clusterer.condensed_tree_\n",
        "clusters = tree._select_clusters()\n",
        "\n",
        "# Get the ids of the most relevant documents (exemplars) associated with the topic at index idx\n",
        "c_exemplars = topic_model.get_most_relevant_documents(clusters[325], tree)"
      ],
      "execution_count": 50,
      "outputs": []
    },
    {
      "cell_type": "code",
      "metadata": {
        "id": "WewM22SAv29K"
      },
      "source": [
        "c_exemplars"
      ],
      "execution_count": null,
      "outputs": []
    },
    {
      "cell_type": "code",
      "metadata": {
        "id": "UbK3PVzBJ52T",
        "colab": {
          "base_uri": "https://localhost:8080/"
        },
        "outputId": "efcd3d38-3615-46be-ec1b-5e890d8a42f8"
      },
      "source": [
        "for i in c_exemplars:   \n",
        "    print(f\"Document: {docs[i]}\")\n",
        "    print(\"-----------\")\n",
        "   # print(new_tokens[found_docs[i]]) \n",
        "    print(\"-----------\")\n",
        "    print()\n"
      ],
      "execution_count": 52,
      "outputs": [
        {
          "output_type": "stream",
          "text": [
            "Document: It brings out the eternal conflict between human society and nature and deals with   loneliness, hopelessness   and optimism.\n",
            "-----------\n",
            "-----------\n",
            "\n",
            "Document: Lockdown,   loneliness , and love machines: Economist Noreena Hertz's new book unpicks our troubled relationship with tech.   \n",
            "-----------\n",
            "-----------\n",
            "\n",
            "Document: Khan brilliantly captures a range of still moments and emotions — from love and nostalgia to loss and   loneliness   — through her stunning black-and-white illustrations, enhanced by a few lines of narration.\n",
            "-----------\n",
            "-----------\n",
            "\n",
            "Document: Devised in collaboration with four artists, ‘Stories from my Living Room’ combines music, poetry and dance to explore human emotions like   anxiety, loneliness   and the comfort one derives from companionship..\n",
            "-----------\n",
            "-----------\n",
            "\n",
            "Document: An almost raw, unedited compilation of lived experiences and artists' encounters with joy,   loneliness   and creativity is presented through art forms such as the spoken word, movement, mime, burlesque and music.\n",
            "-----------\n",
            "-----------\n",
            "\n",
            "Document: An almost raw, unedited compilation of lived experiences and artists’ encounters with joy,   loneliness   and creativity is presented through art forms such as the spoken word, movement, mime, burlesque and music.\n",
            "-----------\n",
            "-----------\n",
            "\n",
            "Document: Our conversation ranges from love, Tagore, and Kannadasan, to alcohol, love lost, and   loneliness . Excerpts:    \n",
            "-----------\n",
            "-----------\n",
            "\n",
            "Document: In alignment with Ayushmann Khurrana’s repertoire of acting in social satires, which deal with various taboos like infertility ( Vicky Donor ), body positivity ( Dum Laga Ke Haisha ), older couples having a baby ( Badhaai Ho ), Raaj Shaandilyaa’s Dream Girl attempts to showcase how   loneliness   is crippling our lives, despite an illusion of solidarity generated by social media validation.\n",
            "-----------\n",
            "-----------\n",
            "\n",
            "Document: Lonely   in a crowd: Overcoming   loneliness   with acceptance and wisdom.\n",
            "-----------\n",
            "-----------\n",
            "\n",
            "Document: Gwen is also the author of the books Pillars of Success and Life Lessons of Success, and she strongly believes that people can overcome   depression, anxiety , numbness, and dissociation when they experience love and real connection. She completed her Bachelor of Arts from Purdue and M.Ed.\n",
            "-----------\n",
            "-----------\n",
            "\n",
            "Document: “A story of hope and resilience, it’s an unforgettable exploration of a fascinating woman; beckoning readers to reflect upon what it means to live and love passionately in the face of conformity and   social pressure ,\"the publishers said in a statement.    \n",
            "-----------\n",
            "-----------\n",
            "\n",
            "Document: It’s amply clear that Arthur’s homosexual explorations and the   social pressure   on Dana to have a child, is what’s straining their marriage but the film also questions the philosophies of companionship and the imagination of love.\n",
            "-----------\n",
            "-----------\n",
            "\n",
            "Document: \"AFI’s goal is to live in a world of art above   anxiety . We’re honoured to have Steven Spielberg, the greatest storyteller of our day, lead the way,\" said Bob Gazzale, president and CEO.\n",
            "-----------\n",
            "-----------\n",
            "\n",
            "Document: “A story of hope and resilience, it’s an unforgettable exploration of a fascinating woman; beckoning readers to reflect upon what it means to live and love passionately in the face of conformity and   social pressure ,” the publishers said in a statement.    \n",
            "-----------\n",
            "-----------\n",
            "\n",
            "Document: In fact, there is no heroine role in the Lucifer script, but keeping mega fans   anxiety   in mind, the mass song has been added in the film.\n",
            "-----------\n",
            "-----------\n",
            "\n",
            "Document: \"At a time when the world is consumed by doubts and   anxiety , the joys of shared narratives, of literature and philosophy, of music and poetry, provide deep solace and inspiration. We celebrate the arts, listen to writers and thinkers, and investigate and interrogate our ever-changing planet.\n",
            "-----------\n",
            "-----------\n",
            "\n",
            "Document: There is a world of   loneliness   behind bollywood's glam and charm?\n",
            "-----------\n",
            "-----------\n",
            "\n",
            "Document: “A story of hope and resilience, it's an unforgettable exploration of a fascinating woman; beckoning readers to reflect upon what it means to live and love passionately in the face of conformity and   social pressure ,” the publishers said in a statement.    \n",
            "-----------\n",
            "-----------\n",
            "\n",
            "Document: “AFI’s goal is to live in a world of art above   anxiety . We’re honoured to have Steven Spielberg, the greatest storyteller of our day, lead the way,” said Bob Gazzale, president and CEO.\n",
            "-----------\n",
            "-----------\n",
            "\n",
            "Document:     \"This is coercive diplomacy without the diplomacy - in other words maximum pressure not tethered to clear or realistic goals,\" said Burns, author of \"The Back Channel,\" a memoir that describes the secret talks he led that paved the way to the 2015 nuclear deal.    \n",
            "-----------\n",
            "-----------\n",
            "\n",
            "Document: Sara's mysterious string of illnesses, Rahil's baffling indulgence, and Mira's aching   loneliness   swirl with grief and philosophy, forming a hypnotic phantasmagoria.\n",
            "-----------\n",
            "-----------\n",
            "\n",
            "Document: Touching on themes of love and loss,   loneliness   and family and the inexorable passage of time, the documentary film evokes the American West—both the mythic and the hardscrabble—weaving archival footage and Springsteen’s personal narration with song to tell the story of Western Stars.\n",
            "-----------\n",
            "-----------\n",
            "\n",
            "Document: Goodmorning (with a heart emoji). \" On June 12, another forward from Bhatt reads, \" Loneliness   plays a key in nurturing the seed of personal creativity and birthing one's true self.\n",
            "-----------\n",
            "-----------\n",
            "\n",
            "Document: \"     Directed by Amar Kaushik, 'Bala'is a film set in Kanpur that revolves around a man suffering from premature balding and the lack of confidence and societal pressure which runs with it. The film also features    \n",
            "-----------\n",
            "-----------\n",
            "\n",
            "Document: One Good Thing: This animated miniseries perfectly captures the   loneliness   of autumn.\n",
            "-----------\n",
            "-----------\n",
            "\n",
            "Document: J.D.. Vance's self-selecting memoir about the “economic  anxiety ” of his Ohio hometown and Appalachian roots is a collection of personal anecdotes that repackage the myth of the welfare queen for the digi...    \n",
            "-----------\n",
            "-----------\n",
            "\n",
            "Document: The lyrical quality of Ranjan Palit’s lens, the sensitive dialogues of Shyamal Sengupta and a haunting sense of love in the times of   loneliness   that is partly reminiscent of Mira Nair’s “The Namesake”, saves the film from being a case of old wine in a new bottle.\n",
            "-----------\n",
            "-----------\n",
            "\n",
            "Document: In the book, the author writes of creating the duchess’s persona in a fog of grief and   loneliness . It’s hardly the first anonymous memoir, but the premise raises thought-provoking questions about authorship and identity.\n",
            "-----------\n",
            "-----------\n",
            "\n",
            "Document: Touching on themes of love and loss,   loneliness   and family and the inexorable passage of time, the documentary film evokes the American West—both the mythic and the hardscrabble—weaving archival footage and Springsteen’s personal narration with song to tell the story.\n",
            "-----------\n",
            "-----------\n",
            "\n",
            "Document: 3) Amazon Prime anthology Unpaused features a stirring ensemble of slice-of-life tales that dwell on the common themes of   loneliness , love and hope.    \n",
            "-----------\n",
            "-----------\n",
            "\n",
            "Document: \"   On June 12, Mahesh sent another message, \" Loneliness   plays a key in nurturing the seed of personal creativity and birthing one's true self\".\n",
            "-----------\n",
            "-----------\n",
            "\n",
            "Document: Goodmorning. \" On June 12, Mahesh sent another message: \" Loneliness   plays a key in nurturing the seed of personal creativity and birthing one's true self\".\n",
            "-----------\n",
            "-----------\n",
            "\n",
            "Document: So be it Acharya''s watercolour titled \"Lockdown\", which shows a single figure lost amid clouds as words, thoughts, and viruses blur together, creating confusion,   anxiety , and fear, or Patwardhan''s oil on canvas, \"Going back\", where he paints an image of a migrant worker trudging back to his village, majority of the artworks are artistic reflections of inner and outer worlds borne by the times unfamiliar.    \n",
            "-----------\n",
            "-----------\n",
            "\n",
            "Document: Three skeins run through the stories — the heavy toll that a conflict-torn Assam takes on everyday life; the   loneliness   of old age; and the intrusion of raucous modernity into a gentle land.\n",
            "-----------\n",
            "-----------\n",
            "\n",
            "Document: “Bhutan really taps into one of the themes of this year’s Best in Travel, which is the growing awareness in sustainability and in looking after the things that make our world so beautiful,” says Tom Hall, vice-president of experience at   Lonely   Planet.\n",
            "-----------\n",
            "-----------\n",
            "\n",
            "Document: Like Harold Bloom, the literary critic who passed away recently, said: “Literary culture was in the process of being sacrificed on the altar of social justice”, in our   anxiety   to fit a text into the ideologies we nurture, let’s not miss great theatre.\n",
            "-----------\n",
            "-----------\n",
            "\n",
            "Document: 'Avengers: Endgame'directors describe the pressure and grueling work of concluding this phase of the Marvel Cinematic Universe, and tease what's in store for the future.   Dave J Hogan/Getty Images; Samantha Lee/Business Insider. \"Avengers: Endgame\" directors Joe and Anthony Russo talked to Business Insider about the pressure of bringing this era of the Marvel Cinematic Universe to a satisfying conclusion. The Russos answered burning time travel questions, and addressed both Loki and Gamora's fates at the end of the movie.\n",
            "-----------\n",
            "-----------\n",
            "\n",
            "Document: “There's often a disconnect between the idealized portraits of what we might expect from the holiday season and what actually happens,” said Joshua Gordon, the director of the National Institute of   Mental Health   In American pop culture, this season is often depicted as a time of effortless cheer, a wonderland of snowmen and cozy fireplaces and skating in the park.\n",
            "-----------\n",
            "-----------\n",
            "\n",
            "Document: Shyama leaves the place out of   anxiety   and locks herself.\n",
            "-----------\n",
            "-----------\n",
            "\n",
            "Document: Her angst finds an echo in Olivia Laing's 2016 book The   Lonely   City: Adventures in the Art of Being Alone . “You can be  lonely  anywhere, but there is a particular flavour to the   loneliness   that comes from living in a city, surrounded by millions of people,” Laing writes.    Mental health   experts, too, affirm that   loneliness   is increasingly a disease of urban modern life.\n",
            "-----------\n",
            "-----------\n",
            "\n",
            "Document: “Bhutan really taps into one of the themes of this year's Best in Travel , which is the growing awareness in sustainability and in looking after the things that make our world so beautiful,” says Tom Hall, vice-president of experience at   Lonely   Planet.\n",
            "-----------\n",
            "-----------\n",
            "\n",
            "Document: “Obviously we understand the gravity of trying to do something right now, and we’re in a perpetual state of   anxiety ,” said Christopher Brazleton, executive director of the Elm Street Cultural Arts Village in Woodstock, Georgia, which is planning a short run of an open-air concert version of its annual Christmas Carol musical.    \n",
            "-----------\n",
            "-----------\n",
            "\n",
            "Document: This 14th-century work is set against the misty skies of Florence, and traces the ‘social isolation’ and   anxiety   of 10 young people who seek refuge in the countryside as others succumb to the plague.\n",
            "-----------\n",
            "-----------\n",
            "\n",
            "Document: Cry like a Boy: because being tough all the time hurts   From Burundi to Lesotho, travel with us to Africa to discover the stories of men suffering from pressure to fulfil traditional male roles, and those defying centuries of stereotypes. The hashtag is #CryLikeABoy  \n",
            "-----------\n",
            "-----------\n",
            "\n",
            "Document: The sensitive drawings, which are on display at the solo show titled ‘Boarder’, captures the pain and helplessness of   lonely   men and women who are on the move along with time.\n",
            "-----------\n",
            "-----------\n",
            "\n",
            "Document: The encampments of the weary and wounded, the histrionic violence of the battlefield, the other-worldly characters, their jealousies and rivalries and ruminations, their contracts with the gods, who watch them with pleasure and   anxiety , Krishna with his beatific smiles — and dharma with its exacting tolls: these are the elements of the epic, and these are also the elements of the book. The reader who is interested in something more modern and critical, perhaps regarding the social or gender relations of the epic, will not find it in Sasidharan’s telling.\n",
            "-----------\n",
            "-----------\n",
            "\n",
            "Document: Speaking of   loneliness   in the Western world, we can speak of a message of tradition and liberalism co-existing with each other.\n",
            "-----------\n",
            "-----------\n",
            "\n",
            "Document: \"The issue that that then creates is that sometimes viewers will feel some sort of ownership over the creator and the content,\" Arienne Ferchaud, an assistant professor in the School of Communication at Florida State University who studies the relationships between online personalities and the public, told The Verge's Megan Farokhmanesh When celebrities give into their fandom's pull, the aftermath can be devastating for their   mental health   because their public and private lives become blurred and they can lose their sense of self, according to Sat Nam.\n",
            "-----------\n",
            "-----------\n",
            "\n",
            "Document: They illustrate the many ways an individual deals with   loneliness , and negotiates failed relationships or the absences left in the wake of divorce or death. Glück, who won the Pulitzer Prize for The Wild Iris (1993) and the National Book Awards for Faithful and Virtuous Night (2014), is not afraid to confront the horrors of our existence.\n",
            "-----------\n",
            "-----------\n",
            "\n",
            "Document: The other big triumph of Mindhunter season 2 is the nuance it brings in racial discrimination and how it affects ongoing cases because of the perceived notions of both the assailants and the communities affected by the death of the victims. Ford essentially becomes the audience surrogate as he navigates the most complex case of his life, rendered helpless by the pressure and guilt from an oppressed community and its inability to believe that one of their own, and not their oppressor could cause harm to them. It is also nice to see Ford’s character not being reduced to the white saviour archetype that Hollywood tends to gravitate towards.\n",
            "-----------\n",
            "-----------\n",
            "\n",
            "Document: Some of the women being \"exposed\" seem vulnerable – in one filmed police encounter, the officers and the \"Karen\" have a back-and-forth about her   mental health   medication – and the frenzied mob waiting in the comments represents the best and worst of human reactions to each other's perceived flaws.\n",
            "-----------\n",
            "-----------\n",
            "\n",
            "Document: Some of the themes that have emerged are to do with fighting   loneliness , and of doctors as superheroes. One of the works depicts a hand supporting the world, with doctors and nurses standing around it.\n",
            "-----------\n",
            "-----------\n",
            "\n"
          ],
          "name": "stdout"
        }
      ]
    },
    {
      "cell_type": "code",
      "metadata": {
        "id": "ZWBgKf5hJum9"
      },
      "source": [
        "def find_docs(topic_id):\n",
        "    x = []\n",
        "    for idx, item in enumerate(top2):\n",
        "        if top2[idx]==topic_id:\n",
        "            x.append(idx)\n",
        "    return x"
      ],
      "execution_count": null,
      "outputs": []
    },
    {
      "cell_type": "code",
      "metadata": {
        "id": "ZobAVmsEJ0hv"
      },
      "source": [
        "found_docs = find_docs(3)"
      ],
      "execution_count": null,
      "outputs": []
    },
    {
      "cell_type": "code",
      "metadata": {
        "id": "moS4MM5UaKCO"
      },
      "source": [
        "import umap.umap_ as umap\n",
        "import hdbscan\n",
        "umap_model = umap.UMAP(n_neighbors=15,\n",
        "                       n_components=10,\n",
        "                       min_dist=0.0,\n",
        "                       metric='cosine',\n",
        "                       low_memory=False)\n",
        "\n",
        "# Define HDBSCAN model to perform documents clustering\n",
        "hdbscan_model = hdbscan.HDBSCAN(min_cluster_size=10,\n",
        "                                min_samples=1,\n",
        "                                metric='euclidean',\n",
        "                                cluster_selection_method='eom',\n",
        "                                prediction_data=True)"
      ],
      "execution_count": 9,
      "outputs": []
    }
  ]
}